{
 "cells": [
  {
   "cell_type": "code",
   "execution_count": 15,
   "metadata": {},
   "outputs": [],
   "source": [
    "import re\n",
    "import requests"
   ]
  },
  {
   "cell_type": "code",
   "execution_count": 62,
   "metadata": {},
   "outputs": [],
   "source": [
    "ssid = 'd12721b3%2C1735532229%2C2e02e%2A71CjA9iLMwHC4Ela21mLwYXvp-3IHwpmS_mrwdU7OcqYdhPsdRPGvZCj9xUOWOZg1dnTgSVjZHdjNzYlVEbF9odmViaVg0SkkyRl80VFhvVnlIazJYb0J5clVtRzg3U1NFWmZuR0tOVzkzTFJjdzVFaUp3QlpmN3g3SmtYd1BlSng2YmhhcVZycmFBIIEC'"
   ]
  },
  {
   "cell_type": "code",
   "execution_count": 63,
   "metadata": {},
   "outputs": [],
   "source": [
    "headers = {\n",
    "    \"Accept\": \"application/json\",\n",
    "    \"Content-Type\": \"application/json\",\n",
    "    \"User-Agent\": \"Mozilla/5.0 (Macintosh; Intel Mac OS X 10_15_7) AppleWebKit/537.36 (KHTML, like Gecko) Chrome/110.0.0.0 Safari/537.36\",\n",
    "    \"Host\": \"api.bilibili.com\",\n",
    "    \"Cookie\": f\"SESSDATA={ssid}\",\n",
    "}\n"
   ]
  },
  {
   "cell_type": "code",
   "execution_count": 64,
   "metadata": {},
   "outputs": [
    {
     "name": "stdout",
     "output_type": "stream",
     "text": [
      "Extracted segment: 1tB4y1v75E\n"
     ]
    }
   ],
   "source": [
    "url = \"https://www.bilibili.com/video/BV1tB4y1v75E/?spm_id_from=333.337.search-card.all.click&vd_source=a18eed1269e9c25a2f240886ba1baae3\"\n",
    "\n",
    "pattern = r\"BV[\\w]+\"\n",
    "\n",
    "# Search for the pattern in the URL\n",
    "match = re.search(pattern, url)\n",
    "requested_url = \"https://api.bilibili.com/x/web-interface/view?bvid=\"\n",
    "\n",
    "# Check if a match was found\n",
    "if match:\n",
    "    bv_segment = match.group(0)[2:]\n",
    "    requested_url += bv_segment\n",
    "    print(f\"Extracted segment: {bv_segment}\")\n",
    "else:\n",
    "    print(\"No matching segment found.\")"
   ]
  },
  {
   "cell_type": "code",
   "execution_count": 65,
   "metadata": {},
   "outputs": [
    {
     "name": "stdout",
     "output_type": "stream",
     "text": [
      "https://api.bilibili.com/x/web-interface/view?bvid=1tB4y1v75E\n"
     ]
    }
   ],
   "source": [
    "print(requested_url)"
   ]
  },
  {
   "cell_type": "code",
   "execution_count": 66,
   "metadata": {},
   "outputs": [
    {
     "name": "stdout",
     "output_type": "stream",
     "text": [
      "200\n"
     ]
    }
   ],
   "source": [
    "response = requests.get(requested_url, headers=headers)\n",
    "\n",
    "print(response.status_code)"
   ]
  },
  {
   "cell_type": "code",
   "execution_count": 67,
   "metadata": {},
   "outputs": [
    {
     "name": "stdout",
     "output_type": "stream",
     "text": [
      "{'code': 0, 'message': '0', 'ttl': 1, 'data': {'bvid': 'BV1tB4y1v75E', 'aid': 598461137, 'videos': 1, 'tid': 208, 'tname': '校园学习', 'copyright': 1, 'pic': 'http://i1.hdslb.com/bfs/archive/b7f0bf185f17d87d1052f4b162e288d4e4f66e66.jpg', 'title': '三升四暑假作业重点题目讲解：必学的三年级数学拓展题', 'pubdate': 1657961016, 'ctime': 1657961016, 'desc': '', 'desc_v2': None, 'state': 0, 'duration': 297, 'rights': {'bp': 0, 'elec': 0, 'download': 1, 'movie': 0, 'pay': 0, 'hd5': 1, 'no_reprint': 1, 'autoplay': 1, 'ugc_pay': 0, 'is_cooperation': 0, 'ugc_pay_preview': 0, 'no_background': 0, 'clean_mode': 0, 'is_stein_gate': 0, 'is_360': 0, 'no_share': 0, 'arc_pay': 0, 'free_watch': 0}, 'owner': {'mid': 523772889, 'name': '小学数学蒋老师', 'face': 'https://i0.hdslb.com/bfs/face/d549b9235a56234fe810f0a9415e50f76c2e904c.jpg'}, 'stat': {'aid': 598461137, 'view': 4343, 'danmaku': 8, 'reply': 2, 'favorite': 87, 'coin': 22, 'share': 48, 'now_rank': 0, 'his_rank': 0, 'like': 67, 'dislike': 0, 'evaluation': '', 'vt': 0}, 'argue_info': {'argue_msg': '', 'argue_type': 0, 'argue_link': ''}, 'dynamic': '', 'cid': 774978222, 'dimension': {'width': 1920, 'height': 1080, 'rotate': 0}, 'premiere': None, 'teenage_mode': 0, 'is_chargeable_season': False, 'is_story': False, 'is_upower_exclusive': False, 'is_upower_play': False, 'is_upower_preview': False, 'enable_vt': 0, 'vt_display': '', 'no_cache': False, 'pages': [{'cid': 774978222, 'page': 1, 'from': 'vupload', 'part': '三升四暑假作业重点题目讲解：必学的三年级数学拓展题', 'duration': 297, 'vid': '', 'weblink': '', 'dimension': {'width': 1920, 'height': 1080, 'rotate': 0}, 'first_frame': 'http://i0.hdslb.com/bfs/storyff/n220716a23p95ewoxvjbwn2s40g77hki_firsti.jpg'}], 'subtitle': {'allow_submit': True, 'list': [{'id': 1005241317229741568, 'lan': 'ai-zh', 'lan_doc': '中文（自动生成）', 'is_lock': False, 'subtitle_url': '', 'type': 1, 'id_str': '1005241317229741568', 'ai_type': 0, 'ai_status': 2, 'author': {'mid': 0, 'name': '', 'sex': '', 'face': '', 'sign': '', 'rank': 0, 'birthday': 0, 'is_fake_account': 0, 'is_deleted': 0, 'in_reg_audit': 0, 'is_senior_member': 0, 'name_render': None}}]}, 'is_season_display': False, 'user_garb': {'url_image_ani_cut': ''}, 'honor_reply': {}, 'like_icon': '', 'need_jump_bv': False, 'disable_show_up_info': False, 'is_story_play': 1}}\n"
     ]
    }
   ],
   "source": [
    "print(response.json())"
   ]
  },
  {
   "cell_type": "code",
   "execution_count": 68,
   "metadata": {},
   "outputs": [],
   "source": [
    "response_json = response.json()\n",
    "aid = response_json['data']['aid']\n",
    "cid = response_json['data']['cid']"
   ]
  },
  {
   "cell_type": "code",
   "execution_count": 69,
   "metadata": {},
   "outputs": [
    {
     "name": "stdout",
     "output_type": "stream",
     "text": [
      "https://api.bilibili.com/x/player/v2?cid=774978222&aid=598461137\n"
     ]
    }
   ],
   "source": [
    "subtitle_url = f'https://api.bilibili.com/x/player/v2?cid={cid}&aid={aid}'\n",
    "print(subtitle_url)"
   ]
  },
  {
   "cell_type": "code",
   "execution_count": 70,
   "metadata": {},
   "outputs": [
    {
     "name": "stdout",
     "output_type": "stream",
     "text": [
      "200\n"
     ]
    }
   ],
   "source": [
    "response_sub = requests.get(subtitle_url, headers=headers)\n",
    "print(response_sub.status_code)"
   ]
  },
  {
   "cell_type": "code",
   "execution_count": 72,
   "metadata": {},
   "outputs": [],
   "source": [
    "response_sub_json = response_sub.json()\n",
    "subtitles = response_sub_json['data']['subtitle']['subtitles']"
   ]
  },
  {
   "cell_type": "code",
   "execution_count": 73,
   "metadata": {},
   "outputs": [
    {
     "data": {
      "text/plain": [
       "[{'id': 1005241317229741568,\n",
       "  'lan': 'ai-zh',\n",
       "  'lan_doc': '中文（自动生成）',\n",
       "  'is_lock': False,\n",
       "  'subtitle_url': '//aisubtitle.hdslb.com/bfs/ai_subtitle/prod/598461137774978222f18eb23aba729a4383febb372968d9b2?auth_key=1719993239-fcd8aac2a7584022b9fa5a2347227174-0-3f50f4d4b5d663cb7eea2128e94e8316',\n",
       "  'type': 1,\n",
       "  'id_str': '1005241317229741568',\n",
       "  'ai_type': 0,\n",
       "  'ai_status': 2}]"
      ]
     },
     "execution_count": 73,
     "metadata": {},
     "output_type": "execute_result"
    }
   ],
   "source": [
    "subtitles"
   ]
  },
  {
   "cell_type": "code",
   "execution_count": 78,
   "metadata": {},
   "outputs": [
    {
     "name": "stdout",
     "output_type": "stream",
     "text": [
      "https://aisubtitle.hdslb.com/bfs/ai_subtitle/prod/598461137774978222f18eb23aba729a4383febb372968d9b2?auth_key=1719993239-fcd8aac2a7584022b9fa5a2347227174-0-3f50f4d4b5d663cb7eea2128e94e8316\n"
     ]
    }
   ],
   "source": [
    "subtitle_url = \"https:\" + subtitles[0]['subtitle_url']\n",
    "print(subtitle_url)"
   ]
  },
  {
   "cell_type": "code",
   "execution_count": 79,
   "metadata": {},
   "outputs": [
    {
     "name": "stdout",
     "output_type": "stream",
     "text": [
      "<Response [200]>\n"
     ]
    }
   ],
   "source": [
    "subtitle_list = requests.get(subtitle_url)\n",
    "print(subtitle_list)"
   ]
  },
  {
   "cell_type": "code",
   "execution_count": 80,
   "metadata": {},
   "outputs": [],
   "source": [
    "subtitle_list = subtitle_list.json()"
   ]
  },
  {
   "cell_type": "code",
   "execution_count": 82,
   "metadata": {},
   "outputs": [
    {
     "data": {
      "text/plain": [
       "list"
      ]
     },
     "execution_count": 82,
     "metadata": {},
     "output_type": "execute_result"
    }
   ],
   "source": [
    "subtitle_list = subtitle_list['body']\n",
    "type(subtitle_list) "
   ]
  },
  {
   "cell_type": "code",
   "execution_count": 83,
   "metadata": {},
   "outputs": [
    {
     "name": "stdout",
     "output_type": "stream",
     "text": [
      "[{'from': 1.02, 'to': 2.28, 'sid': 1, 'location': 2, 'content': '小孩子能记住文科', 'music': 0.0}, {'from': 2.28, 'to': 3.84, 'sid': 2, 'location': 2, 'content': '帮家长实实在在的吗', 'music': 0.0}, {'from': 3.84, 'to': 4.62, 'sid': 3, 'location': 2, 'content': '各位大家好', 'music': 0.0}, {'from': 4.62, 'to': 5.82, 'sid': 4, 'location': 2, 'content': '我是蒋老师', 'music': 0.0}, {'from': 5.82, 'to': 7.74, 'sid': 5, 'location': 2, 'content': '您身边的私人辅导老师', 'music': 0.0}, {'from': 7.74, 'to': 10.56, 'sid': 6, 'location': 2, 'content': '最近的假期左右条遇到了这样的题', 'music': 0.0}, {'from': 10.56, 'to': 12.0, 'sid': 7, 'location': 2, 'content': '很多同学没有思路', 'music': 0.0}, {'from': 12.0, 'to': 14.82, 'sid': 8, 'location': 2, 'content': '今天的蒋老师分享一下这道题', 'music': 0.0}, {'from': 14.82, 'to': 16.64, 'sid': 9, 'location': 2, 'content': '我们的做法来看', 'music': 0.0}, {'from': 16.74, 'to': 19.41, 'sid': 10, 'location': 2, 'content': '小宝和小贝一共30岁', 'music': 0.0}, {'from': 19.41, 'to': 22.54, 'sid': 11, 'location': 2, 'content': '小贝和小珠一共50岁', 'music': 0.0}, {'from': 22.54, 'to': 26.05, 'sid': 12, 'location': 2, 'content': '小宝和小珠一共40岁', 'music': 0.0}, {'from': 26.05, 'to': 29.76, 'sid': 13, 'location': 2, 'content': '问他们三个人各多少岁', 'music': 0.0}, {'from': 29.919, 'to': 31.659, 'sid': 14, 'location': 2, 'content': '通过分析以及条件', 'music': 0.0}, {'from': 31.659, 'to': 32.439, 'sid': 15, 'location': 2, 'content': '你们知道了', 'music': 0.0}, {'from': 32.439, 'to': 35.73, 'sid': 16, 'location': 2, 'content': '他给了三个什么样三个关系式', 'music': 0.03507541090580862}, {'from': 35.73, 'to': 38.34, 'sid': 17, 'location': 2, 'content': '那我们把这三个关系式先写出来', 'music': 0.1316872373791262}, {'from': 38.34, 'to': 39.72, 'sid': 18, 'location': 2, 'content': '第一个关系式', 'music': 0.0}, {'from': 39.72, 'to': 42.99, 'sid': 19, 'location': 2, 'content': '小宝的年龄加小贝的年龄等于30岁', 'music': 0.0}, {'from': 42.99, 'to': 44.94, 'sid': 20, 'location': 2, 'content': '让我们写到这里来', 'music': 0.0}, {'from': 46.48, 'to': 55.44, 'sid': 21, 'location': 2, 'content': '小宝加小贝等于30对吗', 'music': 0.0}, {'from': 55.44, 'to': 59.199, 'sid': 22, 'location': 2, 'content': '小贝和小珠一共是50岁', 'music': 0.0}, {'from': 61.78, 'to': 68.68, 'sid': 23, 'location': 2, 'content': '小贝加上小珠等于50', 'music': 0.0}, {'from': 69.82, 'to': 74.78, 'sid': 24, 'location': 2, 'content': '第三个小宝和小珠一共40小宝', 'music': 0.0}, {'from': 77.36, 'to': 79.78, 'sid': 25, 'location': 2, 'content': '加上小珠', 'music': 0.0}, {'from': 81.64, 'to': 83.7, 'sid': 26, 'location': 2, 'content': '等于40', 'music': 0.0}, {'from': 83.7, 'to': 84.96, 'sid': 27, 'location': 2, 'content': '那各位同学看一下', 'music': 0.0}, {'from': 84.96, 'to': 87.66, 'sid': 28, 'location': 2, 'content': '当你们把三个关系式写出来之后', 'music': 0.0}, {'from': 87.66, 'to': 88.86, 'sid': 29, 'location': 2, 'content': '依然没有办法解决', 'music': 0.0}, {'from': 88.86, 'to': 89.4, 'sid': 30, 'location': 2, 'content': '各位同学', 'music': 0.0}, {'from': 89.4, 'to': 90.2, 'sid': 31, 'location': 2, 'content': '你发现了没', 'music': 0.0}, {'from': 90.2, 'to': 91.43, 'sid': 32, 'location': 2, 'content': '我们需要怎么样', 'music': 0.0}, {'from': 91.43, 'to': 96.36, 'sid': 33, 'location': 2, 'content': '我们需要把这三个关系式进行一个组合', 'music': 0.05603448155098209}, {'from': 96.36, 'to': 97.47, 'sid': 34, 'location': 2, 'content': '什么意思', 'music': 0.0}, {'from': 97.47, 'to': 101.97, 'sid': 35, 'location': 2, 'content': '把所有等式左边的我们合到一起', 'music': 0.0}, {'from': 101.97, 'to': 103.29, 'sid': 36, 'location': 2, 'content': '看等号', 'music': 0.0}, {'from': 103.29, 'to': 104.43, 'sid': 37, 'location': 2, 'content': '左边的等号', 'music': 0.0}, {'from': 104.43, 'to': 105.63, 'sid': 38, 'location': 2, 'content': '左边的等号', 'music': 0.0}, {'from': 105.63, 'to': 107.37, 'sid': 39, 'location': 2, 'content': '左边的是它合在一起', 'music': 0.0}, {'from': 107.37, 'to': 111.2, 'sid': 40, 'location': 2, 'content': '你们会发现小宝出现了几次呀', 'music': 0.0}, {'from': 111.34, 'to': 114.82, 'sid': 41, 'location': 2, 'content': '两次小贝出现了几次呀', 'music': 0.0}, {'from': 114.82, 'to': 119.25, 'sid': 42, 'location': 2, 'content': '两次小珠出现了几次两次', 'music': 0.0}, {'from': 119.25, 'to': 124.14, 'sid': 43, 'location': 2, 'content': '那我们等号的左边可以写成小宝', 'music': 0.0}, {'from': 126.86, 'to': 127.78, 'sid': 44, 'location': 2, 'content': '小珠', 'music': 0.0}, {'from': 130.78, 'to': 138.68, 'sid': 45, 'location': 2, 'content': '加小贝他们三个的和每个人都出现两次乘二', 'music': 0.0}, {'from': 139.8, 'to': 141.65, 'sid': 46, 'location': 2, 'content': '停下来两次对吗', 'music': 0.0}, {'from': 141.65, 'to': 144.8, 'sid': 47, 'location': 2, 'content': '等号右边全部也加到一起', 'music': 0.0}, {'from': 144.8, 'to': 147.05, 'sid': 48, 'location': 2, 'content': '30+50', 'music': 0.0}, {'from': 147.05, 'to': 151.26, 'sid': 49, 'location': 2, 'content': '加上一个40等于120', 'music': 0.0}, {'from': 151.519, 'to': 153.799, 'sid': 50, 'location': 2, 'content': '何同学能看懂吗', 'music': 0.0}, {'from': 153.799, 'to': 159.17, 'sid': 51, 'location': 2, 'content': '通过整体思维来乘以二等于120', 'music': 0.0}, {'from': 159.17, 'to': 162.92, 'sid': 52, 'location': 2, 'content': '你们能不能算出小宝加小珠加小贝等于多少啊', 'music': 0.0}, {'from': 162.92, 'to': 163.64, 'sid': 53, 'location': 2, 'content': '可以的', 'music': 0.0}, {'from': 163.64, 'to': 165.02, 'sid': 54, 'location': 2, 'content': '我们得出结论', 'music': 0.0}, {'from': 165.02, 'to': 176.22, 'sid': 55, 'location': 2, 'content': '小宝加小珠再加小贝等于说啥呀', 'music': 0.0}, {'from': 176.22, 'to': 179.669, 'sid': 56, 'location': 2, 'content': '60知道这个六是怎么来的吗', 'music': 0.0}, {'from': 179.669, 'to': 186.27, 'sid': 57, 'location': 2, 'content': '这个60就是我们用来120÷2', 'music': 0.0}, {'from': 186.27, 'to': 188.19, 'sid': 58, 'location': 2, 'content': '等于多少的', 'music': 0.0}, {'from': 188.19, 'to': 189.64, 'sid': 59, 'location': 2, 'content': '60岁', 'music': 0.0}, {'from': 191.76, 'to': 193.76, 'sid': 60, 'location': 2, 'content': '小数学能看懂吗', 'music': 0.0}, {'from': 193.76, 'to': 195.41, 'sid': 61, 'location': 2, 'content': '接下来很容易', 'music': 0.0}, {'from': 195.41, 'to': 199.799, 'sid': 62, 'location': 2, 'content': '我们把这个式子和下面的第三个式子', 'music': 0.0}, {'from': 199.799, 'to': 201.089, 'sid': 63, 'location': 2, 'content': '分别做比较', 'music': 0.0}, {'from': 201.089, 'to': 205.349, 'sid': 64, 'location': 2, 'content': '来小宝加小珠加小贝等于60', 'music': 0.0}, {'from': 205.349, 'to': 208.49, 'sid': 65, 'location': 2, 'content': '这里小宝加小贝等于30', 'music': 0.0}, {'from': 208.49, 'to': 210.68, 'sid': 66, 'location': 2, 'content': '你比较比较一下这两个式子', 'music': 0.0}, {'from': 210.68, 'to': 212.24, 'sid': 67, 'location': 2, 'content': '我们把手指切', 'music': 0.0}, {'from': 212.459, 'to': 215.369, 'sid': 68, 'location': 2, 'content': '是不是把小珠不见了对吗', 'music': 0.0}, {'from': 215.369, 'to': 217.4, 'sid': 69, 'location': 2, 'content': '那小珠怎么算呢', 'music': 0.0}, {'from': 217.519, 'to': 222.439, 'sid': 70, 'location': 2, 'content': '小珠我用60-30就可以了啊', 'music': 0.0}, {'from': 222.439, 'to': 223.339, 'sid': 71, 'location': 2, 'content': '写到这里', 'music': 0.0}, {'from': 223.339, 'to': 224.56, 'sid': 72, 'location': 2, 'content': '小珠的', 'music': 0.0}, {'from': 226.32, 'to': 228.95, 'sid': 73, 'location': 2, 'content': '我们用60-30', 'music': 0.0}, {'from': 228.95, 'to': 231.02, 'sid': 74, 'location': 2, 'content': '因为加上小图以后是60', 'music': 0.0}, {'from': 231.02, 'to': 232.4, 'sid': 75, 'location': 2, 'content': '没有加上30', 'music': 0.0}, {'from': 232.4, 'to': 237.14, 'sid': 76, 'location': 2, 'content': '中间相差的这种小图的等于30岁', 'music': 0.0}, {'from': 239.339, 'to': 240.199, 'sid': 77, 'location': 2, 'content': '对吧', 'music': 0.0}, {'from': 240.199, 'to': 241.459, 'sid': 78, 'location': 2, 'content': '第二个式子', 'music': 0.0}, {'from': 241.459, 'to': 244.009, 'sid': 79, 'location': 2, 'content': '小贝加小珠等于50', 'music': 0.0}, {'from': 244.009, 'to': 248.21, 'sid': 80, 'location': 2, 'content': '这里呢小贝加小珠有了对吧', 'music': 0.0}, {'from': 248.21, 'to': 250.31, 'sid': 81, 'location': 2, 'content': '然后之前小宝等于60', 'music': 0.0}, {'from': 250.31, 'to': 251.51, 'sid': 82, 'location': 2, 'content': '那大家想一想', 'music': 0.0}, {'from': 251.51, 'to': 253.61, 'sid': 83, 'location': 2, 'content': '哎变成60是为什么', 'music': 0.0}, {'from': 253.61, 'to': 254.78, 'sid': 84, 'location': 2, 'content': '你们多了一个小宝', 'music': 0.0}, {'from': 254.78, 'to': 256.13, 'sid': 85, 'location': 2, 'content': '小宝有多少岁呀', 'music': 0.0}, {'from': 256.13, 'to': 265.5, 'sid': 86, 'location': 2, 'content': '哎小宝我们用60-50=10岁', 'music': 0.0}, {'from': 267.3, 'to': 270.49, 'sid': 87, 'location': 2, 'content': '同理小宝加小珠等于40', 'music': 0.0}, {'from': 270.49, 'to': 273.98, 'sid': 88, 'location': 2, 'content': '这里呢小宝加小珠加小贝等于60', 'music': 0.0}, {'from': 273.98, 'to': 276.17, 'sid': 89, 'location': 2, 'content': '由40变成60', 'music': 0.0}, {'from': 276.17, 'to': 278.54, 'sid': 90, 'location': 2, 'content': '是因为多了一个小贝对吗', 'music': 0.0}, {'from': 278.54, 'to': 280.74, 'sid': 91, 'location': 2, 'content': '那小贝的你们可以用', 'music': 0.0}, {'from': 282.78, 'to': 287.1, 'sid': 92, 'location': 2, 'content': '60-40=24', 'music': 0.0}, {'from': 290.04, 'to': 291.02, 'sid': 93, 'location': 2, 'content': '各位同学', 'music': 0.0}, {'from': 291.02, 'to': 293.39, 'sid': 94, 'location': 2, 'content': '这道题目你听懂了吗', 'music': 0.0}, {'from': 293.39, 'to': 294.44, 'sid': 95, 'location': 2, 'content': '关注蒋老师', 'music': 0.0}, {'from': 294.44, 'to': 296.86, 'sid': 96, 'location': 2, 'content': '更多的解题技巧分享给各位同学', 'music': 0.0}]\n"
     ]
    }
   ],
   "source": [
    "print(subtitle_list)"
   ]
  },
  {
   "cell_type": "code",
   "execution_count": 84,
   "metadata": {},
   "outputs": [],
   "source": [
    "subtitle_all = \"\"\n",
    "for subtitle in subtitle_list:\n",
    "    subtitle_all += subtitle['content']"
   ]
  },
  {
   "cell_type": "code",
   "execution_count": 85,
   "metadata": {},
   "outputs": [
    {
     "data": {
      "text/plain": [
       "'小孩子能记住文科帮家长实实在在的吗各位大家好我是蒋老师您身边的私人辅导老师最近的假期左右条遇到了这样的题很多同学没有思路今天的蒋老师分享一下这道题我们的做法来看小宝和小贝一共30岁小贝和小珠一共50岁小宝和小珠一共40岁问他们三个人各多少岁通过分析以及条件你们知道了他给了三个什么样三个关系式那我们把这三个关系式先写出来第一个关系式小宝的年龄加小贝的年龄等于30岁让我们写到这里来小宝加小贝等于30对吗小贝和小珠一共是50岁小贝加上小珠等于50第三个小宝和小珠一共40小宝加上小珠等于40那各位同学看一下当你们把三个关系式写出来之后依然没有办法解决各位同学你发现了没我们需要怎么样我们需要把这三个关系式进行一个组合什么意思把所有等式左边的我们合到一起看等号左边的等号左边的等号左边的是它合在一起你们会发现小宝出现了几次呀两次小贝出现了几次呀两次小珠出现了几次两次那我们等号的左边可以写成小宝小珠加小贝他们三个的和每个人都出现两次乘二停下来两次对吗等号右边全部也加到一起30+50加上一个40等于120何同学能看懂吗通过整体思维来乘以二等于120你们能不能算出小宝加小珠加小贝等于多少啊可以的我们得出结论小宝加小珠再加小贝等于说啥呀60知道这个六是怎么来的吗这个60就是我们用来120÷2等于多少的60岁小数学能看懂吗接下来很容易我们把这个式子和下面的第三个式子分别做比较来小宝加小珠加小贝等于60这里小宝加小贝等于30你比较比较一下这两个式子我们把手指切是不是把小珠不见了对吗那小珠怎么算呢小珠我用60-30就可以了啊写到这里小珠的我们用60-30因为加上小图以后是60没有加上30中间相差的这种小图的等于30岁对吧第二个式子小贝加小珠等于50这里呢小贝加小珠有了对吧然后之前小宝等于60那大家想一想哎变成60是为什么你们多了一个小宝小宝有多少岁呀哎小宝我们用60-50=10岁同理小宝加小珠等于40这里呢小宝加小珠加小贝等于60由40变成60是因为多了一个小贝对吗那小贝的你们可以用60-40=24各位同学这道题目你听懂了吗关注蒋老师更多的解题技巧分享给各位同学'"
      ]
     },
     "execution_count": 85,
     "metadata": {},
     "output_type": "execute_result"
    }
   ],
   "source": [
    "subtitle_all"
   ]
  },
  {
   "cell_type": "code",
   "execution_count": 87,
   "metadata": {},
   "outputs": [
    {
     "name": "stdout",
     "output_type": "stream",
     "text": [
      "Extracted segment: 1tB4y1v75E\n",
      "initial url fetch success!\n",
      "https://aisubtitle.hdslb.com/bfs/ai_subtitle/prod/598461137774978222f18eb23aba729a4383febb372968d9b2?auth_key=1719994275-989203c093af4e15a6b74da8bbabf987-0-5041b5c061b2fc78facc8e4cf54b8cc6\n",
      "小孩子能记住文科帮家长实实在在的吗各位大家好我是蒋老师您身边的私人辅导老师最近的假期左右条遇到了这样的题很多同学没有思路今天的蒋老师分享一下这道题我们的做法来看小宝和小贝一共30岁小贝和小珠一共50岁小宝和小珠一共40岁问他们三个人各多少岁通过分析以及条件你们知道了他给了三个什么样三个关系式那我们把这三个关系式先写出来第一个关系式小宝的年龄加小贝的年龄等于30岁让我们写到这里来小宝加小贝等于30对吗小贝和小珠一共是50岁小贝加上小珠等于50第三个小宝和小珠一共40小宝加上小珠等于40那各位同学看一下当你们把三个关系式写出来之后依然没有办法解决各位同学你发现了没我们需要怎么样我们需要把这三个关系式进行一个组合什么意思把所有等式左边的我们合到一起看等号左边的等号左边的等号左边的是它合在一起你们会发现小宝出现了几次呀两次小贝出现了几次呀两次小珠出现了几次两次那我们等号的左边可以写成小宝小珠加小贝他们三个的和每个人都出现两次乘二停下来两次对吗等号右边全部也加到一起30+50加上一个40等于120何同学能看懂吗通过整体思维来乘以二等于120你们能不能算出小宝加小珠加小贝等于多少啊可以的我们得出结论小宝加小珠再加小贝等于说啥呀60知道这个六是怎么来的吗这个60就是我们用来120÷2等于多少的60岁小数学能看懂吗接下来很容易我们把这个式子和下面的第三个式子分别做比较来小宝加小珠加小贝等于60这里小宝加小贝等于30你比较比较一下这两个式子我们把手指切是不是把小珠不见了对吗那小珠怎么算呢小珠我用60-30就可以了啊写到这里小珠的我们用60-30因为加上小图以后是60没有加上30中间相差的这种小图的等于30岁对吧第二个式子小贝加小珠等于50这里呢小贝加小珠有了对吧然后之前小宝等于60那大家想一想哎变成60是为什么你们多了一个小宝小宝有多少岁呀哎小宝我们用60-50=10岁同理小宝加小珠等于40这里呢小宝加小珠加小贝等于60由40变成60是因为多了一个小贝对吗那小贝的你们可以用60-40=24各位同学这道题目你听懂了吗关注蒋老师更多的解题技巧分享给各位同学\n"
     ]
    }
   ],
   "source": [
    "from subtitle_process import fetch_subtitle\n",
    "\n",
    "print(fetch_subtitle(\"https://www.bilibili.com/video/BV1tB4y1v75E/?spm_id_from=333.337.search-card.all.click&vd_source=a18eed1269e9c25a2f240886ba1baae3\"))"
   ]
  },
  {
   "cell_type": "code",
   "execution_count": 88,
   "metadata": {},
   "outputs": [
    {
     "name": "stdout",
     "output_type": "stream",
     "text": [
      "Extracted segment: 1JR4y1B7Rj\n",
      "initial url fetch success!\n",
      "https://aisubtitle.hdslb.com/bfs/ai_subtitle/prod/35170967710031206068917fd9720414f1e617035a803f2d904?auth_key=1719994631-93031f0ad68642ef9b612b045d71e887-0-27ac5419fc138d60809fc8612e42d0e5\n",
      "各位家长各位同学大家好我是数学蒋老师您身边的私人辅导老师4年级下册第二课你学懂了吗那运用这一课的知识点你能做这道题吗我们来挑战一下来根据下面的算式求出三角形和五角星各是多少第一个算式三角形除以五角星等于15余18第二个式子三角形加五角星等于322入手点在第一个式子我们的第二课所学的知识点是乘除法的各部分的关系那在这一道有余数除法里边你能知道他的关系是什么吗哎我们知道了被除数三角形应该等于商15乘以除数五角星再加18个同学能看懂吗三角形等于这一部分那可不可以等量代换呢等量代换到第二个式子里边我们的这个式子就会变成15×5角星再加18再加五角星等于322那各位同学我们来考虑一下那到这一步我们来观察左边的式子15×5角星什么意思呀表示15个五角星对吗加上18再加五角星那就等于再加上一个五角星能看懂吗那我们把它整理一下会发现我们的左边其实有多少个五角星啊唉16×5角星再加18等于322各位同学能看懂吗那把它作为一个整体谁加上18等于322可不可以算的诶322-18=304能看懂吗那16×5角星就等于304五角星可以算吗用304÷16来答案来计算一下304÷1个16一个十644144里边多少个16啊9695 14进五一九得九进54等于多少19所以我们首先计算出来的我们的五角星就应该等于19当五角星等于19的时候三角形可以算吗我们三角形加上五角星等于322那我们把这个一减是不是就可以了322-19等于多少呀等于303各位同学这道题目用我们所学的知识您会做了吗关注蒋老师每天分享更多的解题技巧\n"
     ]
    }
   ],
   "source": [
    "print(fetch_subtitle(\"https://www.bilibili.com/video/BV1JR4y1B7Rj/?spm_id_from=333.337.search-card.all.click\"))"
   ]
  },
  {
   "cell_type": "code",
   "execution_count": null,
   "metadata": {},
   "outputs": [],
   "source": []
  }
 ],
 "metadata": {
  "kernelspec": {
   "display_name": "compute",
   "language": "python",
   "name": "python3"
  },
  "language_info": {
   "codemirror_mode": {
    "name": "ipython",
    "version": 3
   },
   "file_extension": ".py",
   "mimetype": "text/x-python",
   "name": "python",
   "nbconvert_exporter": "python",
   "pygments_lexer": "ipython3",
   "version": "3.10.14"
  }
 },
 "nbformat": 4,
 "nbformat_minor": 2
}
