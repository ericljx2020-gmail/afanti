{
 "cells": [
  {
   "cell_type": "markdown",
   "metadata": {},
   "source": [
    "# React Prompting without similar Problems"
   ]
  },
  {
   "cell_type": "code",
   "execution_count": null,
   "metadata": {},
   "outputs": [],
   "source": [
    "import json\n",
    "from functions import inference\n",
    "from new_templates import *\n",
    "from templates import *"
   ]
  },
  {
   "cell_type": "code",
   "execution_count": null,
   "metadata": {},
   "outputs": [],
   "source": [
    "from langchain_core.messages import (\n",
    "    BaseMessage,\n",
    "    HumanMessage,\n",
    "    ToolMessage,\n",
    ")\n",
    "from langchain_core.prompts import ChatPromptTemplate, MessagesPlaceholder\n",
    "\n",
    "from langgraph.graph import END, StateGraph, START\n",
    "from langchain.agents import AgentExecutor, create_openai_tools_agent\n",
    "from langchain_openai import ChatOpenAI\n",
    "from typing import Annotated\n",
    "from langchain_experimental.tools import PythonREPLTool"
   ]
  },
  {
   "cell_type": "code",
   "execution_count": null,
   "metadata": {},
   "outputs": [],
   "source": [
    "python_repl_tool = PythonREPLTool()"
   ]
  },
  {
   "cell_type": "code",
   "execution_count": null,
   "metadata": {},
   "outputs": [],
   "source": [
    "def create_agent(llm: ChatOpenAI, tools: list, system_prompt: str):\n",
    "    \"\"\"Creating an agent\"\"\"\n",
    "    prompt = ChatPromptTemplate.from_messages(\n",
    "        [\n",
    "            (\n",
    "                \"system\",\n",
    "                system_prompt,\n",
    "            ),\n",
    "            MessagesPlaceholder(variable_name=\"messages\"),\n",
    "            MessagesPlaceholder(variable_name=\"agent_scratchpad\")\n",
    "        ]\n",
    "    )\n",
    "    agent = create_openai_tools_agent(llm, tools, prompt)\n",
    "    executor = AgentExecutor(agent=agent, tools=tools)\n",
    "    return executor"
   ]
  },
  {
   "cell_type": "code",
   "execution_count": null,
   "metadata": {},
   "outputs": [],
   "source": [
    "def agent_node(state, agent, name, log):\n",
    "    result = agent.invoke(state)\n",
    "    log[name] = result[\"output\"]\n",
    "    return {\"messages\": [HumanMessage(content=result['output'], name=name)]}"
   ]
  },
  {
   "cell_type": "code",
   "execution_count": null,
   "metadata": {},
   "outputs": [],
   "source": [
    "from langchain_core.output_parsers.openai_functions import JsonOutputFunctionsParser\n",
    "\n",
    "members = [\"Noter\", \"Validator\", \"Explainer\"]\n",
    "system_prompt = (\n",
    "    \"你是一名监督员，负责管理以下成员之间的对话：{members}。\"\n",
    "    \"根据以下用户请求，指定下一个需要行动的成员。每个成员将执行一个任务,\"\n",
    "    \"你的任务是安排Noter, Explainer, Validator之间的工作，让他们合作写出一个完美的题目解析\"\n",
    "    \"Validator检查Noter的板书是否正确，如果不正确应该将正确答案返回给Noter让其根据正确答案重新生成符合要求的板书\"\n",
    "    \"当Noter重新生成板书后，请将Noter的板书再次传递给Validator查验，只有当Validator的验证Noter板书的正确性后，转去Explainer\"\n",
    "    \"每一步反馈他们的结果和状态。任务完成后，请回复“FINISH”。\"\n",
    ")\n",
    "\n",
    "options = [\"FINISH\"] + members\n",
    "\n",
    "function_def = {\n",
    "    \"name\": \"route\",\n",
    "    \"description\": \"选择下一步由谁来执行\",\n",
    "    \"parameters\": {\n",
    "        \"title\": \"routeSchema\",\n",
    "        \"type\": \"object\",\n",
    "        \"properties\": {\n",
    "            \"next\": {\n",
    "                \"title\": \"Next\",\n",
    "                \"anyOf\": [\n",
    "                    {\"enum\": options},\n",
    "                ],\n",
    "            }\n",
    "        },\n",
    "        \"required\": [\"next\"],\n",
    "    },\n",
    "}\n",
    "\n",
    "prompt = ChatPromptTemplate.from_messages(\n",
    "    [\n",
    "        (\"system\", system_prompt),\n",
    "        MessagesPlaceholder(variable_name=\"messages\"),\n",
    "        (\n",
    "            \"system\",\n",
    "            \"根据以上内容，下一步应该轮到谁了？\"\n",
    "            \"或者我们是否已经得到不错的讲解，可以“完成”了呢？\"\n",
    "            \"请从以下选项中选一个：{options}\",\n",
    "        )\n",
    "    ]\n",
    ").partial(options=str(options), members=\", \".join(members))\n",
    "\n",
    "llm = ChatOpenAI(model='gpt-4o', max_tokens=1000)\n",
    "\n",
    "supervisor_chain = (\n",
    "    prompt\n",
    "    | llm.bind_functions(functions=[function_def], function_call=\"route\")\n",
    "    | JsonOutputFunctionsParser()\n",
    ")"
   ]
  },
  {
   "cell_type": "code",
   "execution_count": null,
   "metadata": {},
   "outputs": [],
   "source": [
    "import functools\n",
    "import operator\n",
    "from typing import Sequence, TypedDict\n",
    "\n",
    "class AgentState(TypedDict):\n",
    "    messages: Annotated[Sequence[BaseMessage], operator.add]\n",
    "    next: str\n",
    "log = {}\n",
    "\n",
    "noter_agent = create_agent(llm, [python_repl_tool], noter_template)\n",
    "noter_node = functools.partial(agent_node, agent=noter_agent, name=\"Noter\", log=log)\n",
    "\n",
    "explainer_agent = create_agent(llm, [python_repl_tool], explainer_react_template)\n",
    "explainer_node = functools.partial(agent_node, agent=explainer_agent, name=\"Explainer\", log=log)\n",
    "\n",
    "validator_agent = create_agent(llm, [python_repl_tool], validator_correctness_template)\n",
    "validator_node = functools.partial(agent_node, agent=validator_agent, name=\"Validator\", log=log)\n",
    "\n",
    "def supervisor_node(state, log):\n",
    "    result = supervisor_chain.invoke(state)\n",
    "    log[\"Supervisor\"] = result\n",
    "    return result\n",
    "\n",
    "workflow = StateGraph(AgentState)\n",
    "workflow.add_node(\"Noter\", noter_node)\n",
    "workflow.add_node(\"Explainer\", explainer_node)\n",
    "workflow.add_node(\"Validator\", validator_node)\n",
    "workflow.add_node(\"Supervisor\", functools.partial(supervisor_node, log=log))"
   ]
  },
  {
   "cell_type": "code",
   "execution_count": null,
   "metadata": {},
   "outputs": [],
   "source": [
    "for member in members:\n",
    "    workflow.add_edge(member, \"Supervisor\")\n",
    "\n",
    "conditional_map = {k:k for k in members}\n",
    "conditional_map['FINISH'] = END\n",
    "workflow.add_conditional_edges(\"Supervisor\", lambda x: x['next'], conditional_map)\n",
    "workflow.add_edge(START, \"Supervisor\")\n",
    "\n",
    "graph = workflow.compile()"
   ]
  },
  {
   "cell_type": "code",
   "execution_count": null,
   "metadata": {},
   "outputs": [],
   "source": [
    "from IPython.display import Image, display\n",
    "\n",
    "try:\n",
    "    display(Image(graph.get_graph(xray=True).draw_mermaid_png()))\n",
    "except Exception:\n",
    "    pass"
   ]
  },
  {
   "cell_type": "code",
   "execution_count": null,
   "metadata": {},
   "outputs": [],
   "source": [
    "import json\n",
    "with open(\"test_problem_set.json\", 'r') as file:\n",
    "    problem_set = json.load(file)\n",
    "problems = []\n",
    "answers = []\n",
    "for i in range(len(problem_set)):\n",
    "    problems.append(problem_set[i]['problem'])\n",
    "    answers.append(problem_set[i]['answer'])"
   ]
  },
  {
   "cell_type": "code",
   "execution_count": null,
   "metadata": {},
   "outputs": [],
   "source": [
    "log = []\n",
    "for i in range(100):\n",
    "    record = []\n",
    "    problem = \"### 原题：\" + problems[i]\n",
    "    answer = \"### 标准答案：\" + answers[i]\n",
    "    try:\n",
    "        for s in graph.stream(\n",
    "            {\n",
    "                \"messages\": [\n",
    "                    HumanMessage(content=problem),\n",
    "                    HumanMessage(content=answer)\n",
    "                ],\n",
    "            },\n",
    "            {\"recursion_limit\": 10},\n",
    "        ):\n",
    "            if \"__end__\" not in s:\n",
    "                record.append(s)\n",
    "                print(s)\n",
    "                print(\"----\")\n",
    "        log.append(record)\n",
    "    except Exception as e:\n",
    "        log.append([\"error\", \"error\"])\n"
   ]
  },
  {
   "cell_type": "code",
   "execution_count": 18,
   "metadata": {},
   "outputs": [
    {
     "name": "stdout",
     "output_type": "stream",
     "text": [
      "{'Supervisor': {'next': 'Noter'}}\n",
      "----\n",
      "{'Noter': {'messages': [HumanMessage(content='知识点讲解: 本题考查的知识点是方程的阶数与一次方程的概念，解题关键点是确定方程中的指数使得方程成为一次方程。\\n\\n### 板书一:\\n依题意得\\n\\n\\\\(3x^m + 2y^n = 4\\\\)\\n\\n因为方程是二元一次方程，所以每一项的阶数为1\\n\\n故 \\\\(m = 1\\\\)\\n\\n由于 \\\\(3x^m\\\\) 中 \\\\(3x\\\\)的系数是3,且需要满足一次方程的条件\\n\\n所以 \\\\(m = 1\\\\)\\n\\n### 板书二:\\n故 \\\\(m = \\\\frac{1}{3}\\\\)\\n\\n再考虑 \\\\(2y^n\\\\) 中 \\\\(2y\\\\)的系数是2,且需要满足一次方程的条件\\n\\n所以 \\\\(n = 1\\\\)\\n\\n故答案是 \\\\(m = \\\\frac{1}{3} , n = 1\\\\)', name='Noter')]}}\n",
      "----\n",
      "{'Supervisor': {'next': 'Validator'}}\n",
      "----\n",
      "{'Validator': {'messages': [HumanMessage(content='### 验证过程：\\n\\n1. **理解题意**：\\n   - 题目要求方程 \\\\(3x^m + 2y^n = 4\\\\) 是关于 \\\\(x\\\\) 和 \\\\(y\\\\) 的二元一次方程。\\n   - 二元一次方程的定义是方程中变量的最高次幂分别为1。\\n\\n2. **验证Noter的解答**：\\n   - Noter的答案是 \\\\(m = \\\\frac{1}{3}\\\\) 和 \\\\(n = 1\\\\)。\\n\\n3. **检查Noter步骤**：\\n   - 板书一中，Noter首先认为因为是一次方程，故 \\\\(m = 1\\\\)。但随后纠正为 \\\\(m = \\\\frac{1}{3}\\\\)，并没有给出明确的逻辑。\\n   - 正确的逻辑应该是：\\n     - 对于 \\\\(3x^m\\\\)，为了使这个项变成一次方程的一部分，\\\\(x\\\\) 的指数 \\\\(m\\\\) 必须为1。\\n     - 对于 \\\\(2y^n\\\\)，为了使这个项变成一次方程的一部分，\\\\(y\\\\) 的指数 \\\\(n\\\\) 也必须为1。\\n\\n4. **正确答案**：\\n   - 为了满足 \\\\(3x^m + 2y^n = 4\\\\) 是二元一次方程，需满足 \\\\(m = 1\\\\) 和 \\\\(n = 1\\\\)。\\n\\n### 正确答案的计算过程：\\n- 对于方程 \\\\(3x^m + 2y^n = 4\\\\)：\\n  - 二元一次方程的定义要求 \\\\(x\\\\) 和 \\\\(y\\\\) 的指数分别为1。\\n  - 因此，\\\\(m = 1\\\\) 和 \\\\(n = 1\\\\)。\\n\\n### 结论：\\n- Noter的答案 \\\\(m = \\\\frac{1}{3}\\\\) 和 \\\\(n = 1\\\\) 不正确。\\n- 正确答案应为 \\\\(m = 1\\\\) 和 \\\\(n = 1\\\\)。', name='Validator')]}}\n",
      "----\n",
      "{'Supervisor': {'next': 'Noter'}}\n",
      "----\n",
      "{'Noter': {'messages': [HumanMessage(content='### 板书一:\\n依题意得\\n\\n\\\\(3x^m + 2y^n = 4\\\\)\\n\\n因为方程是二元一次方程，所以每一项的阶数为1\\n\\n故 \\\\(m = 1\\\\)\\n\\n### 板书二:\\n再考虑 \\\\(2y^n\\\\) 中 \\\\(y\\\\)的指数为1\\n\\n所以 \\\\(n = 1\\\\)\\n\\n故答案是 \\\\(m = 1 , n = 1\\\\)', name='Noter')]}}\n",
      "----\n",
      "{'Supervisor': {'next': 'Validator'}}\n",
      "----\n",
      "{'Validator': {'messages': [HumanMessage(content='### 验证过程：\\n\\n1. **理解题意**：\\n   - 题目要求方程 \\\\(3x^m + 2y^n = 4\\\\) 是关于 \\\\(x\\\\) 和 \\\\(y\\\\) 的二元一次方程。\\n   - 二元一次方程的定义是方程中变量的最高次幂分别为1。\\n\\n2. **验证Noter的解答**：\\n   - Noter的答案是 \\\\(m = 1\\\\) 和 \\\\(n = 1\\\\)。\\n\\n3. **检查Noter步骤**：\\n   - 板书一中，Noter认为因为是一次方程，故 \\\\(m = 1\\\\)，这个逻辑是正确的。\\n   - 板书二中，Noter认为 \\\\(2y^n\\\\) 中 \\\\(y\\\\) 的指数为1，故 \\\\(n = 1\\\\)，这个逻辑也是正确的。\\n\\n### 结论：\\n- Noter的答案 \\\\(m = 1\\\\) 和 \\\\(n = 1\\\\) 正确。\\n- 正确答案应为 \\\\(m = 1\\\\) 和 \\\\(n = 1\\\\)。\\n\\n### 答案验证：\\n答案正确。', name='Validator')]}}\n",
      "----\n",
      "{'Supervisor': {'next': 'Explainer'}}\n",
      "----\n",
      "{'Explainer': {'messages': [HumanMessage(content='### 讲解一：分析题目：方程 \\\\(3x^m + 2y^n = 4\\\\)。\\n\\n   a. 这是我们的起始点，无前一步。\\n   b. 当前步骤是理解题目要求中的二元一次方程的概念，即方程中变量的最高次幂分别为1。\\n   c. 请同学们思考一下，如何确定 \\\\(m\\\\) 和 \\\\(n\\\\) 的值，使得方程成为二元一次方程？\\n\\n### 讲解二：确定 \\\\(m\\\\) 的值。\\n\\n   a. 我们知道，为了使 \\\\(3x^m\\\\) 成为一次方程的一部分，\\\\(x\\\\) 的指数 \\\\(m\\\\) 必须为1。\\n   b. 因此， \\\\(m = 1\\\\)。 这一步的难点在于理解一次方程的定义，即变量的指数为1。\\n   c. 那么接下来我们应该做什么？我们需要确定 \\\\(n\\\\) 的值。\\n\\n### 讲解三：确定 \\\\(n\\\\) 的值。\\n\\n   a. 类似于前一步的逻辑，为了使 \\\\(2y^n\\\\) 成为一次方程的一部分，\\\\(y\\\\) 的指数 \\\\(n\\\\) 也必须为1。\\n   b. 因此， \\\\(n = 1\\\\)。这里同样需要理解一次方程的定义。\\n   c. 我们已经得到了 \\\\(m = 1\\\\) 和 \\\\(n = 1\\\\)。想一想，这个结果在题目中意味着什么？这意味着我们已经成功地找到了使方程成为二元一次方程的指数 \\\\(m\\\\) 和 \\\\(n\\\\) 的值。\\n\\n### 总结：\\n\\n通过以上步骤，我们确定了使方程 \\\\(3x^m + 2y^n = 4\\\\) 成为二元一次方程的指数 \\\\(m\\\\) 和 \\\\(n\\\\) 的值分别为1。', name='Explainer')]}}\n",
      "----\n",
      "{'Supervisor': {'next': 'Noter'}}\n",
      "----\n",
      "{'Noter': {'messages': [HumanMessage(content='知识点讲解: 本题考查的知识点是方程组的解法与简单的成本计算，解题关键点是根据已知条件列出方程组求解单价，并通过计算不同方案的总费用来选择最优方案。\\n\\n### 板书一:\\n(1)\\n20x + 20y = 1300\\n\\nx = y - 15\\n\\n解得:\\nx = 25\\ny = 40\\n\\n### 板书二:\\n(2)\\n由题意，得《孟子》的单价是:\\n25 - 4 = 21 (元)\\n\\n《论语》的单价是:\\n40 × 0.8 = 32 (元)\\n\\n方案1:\\n32 × 38 + 21 × 12 = 1468 (元)\\n\\n方案2:\\n32 × 39 + 21 × 11 = 1479 (元)\\n\\n方案3:\\n32 × 40 + 21 × 10 = 1490 (元)\\n\\n1468 < 1479 < 1490\\n\\n故答案是: 学校应选择方案1：购买《论语》38本，《孟子》12本。', name='Noter')]}}\n",
      "----\n",
      "{'Supervisor': {'next': 'Validator'}}\n",
      "----\n",
      "{'Validator': {'messages': [HumanMessage(content='### 验证过程一：\\n\\n1. **验证(1)部分：**\\n\\n   题目给定条件：\\n   - 用1300元购买了《孟子》和《论语》各20本。\\n   - 《孟子》的单价比《论语》的单价少15元。\\n\\n   设《孟子》的单价为x元，《论语》的单价为y元。\\n   则有以下方程组：\\n   \\\\[\\n   20x + 20y = 1300\\n   \\\\]\\n   \\\\[\\n   x = y - 15\\n   \\\\]\\n\\n   代入第二个方程到第一个方程：\\n   \\\\[\\n   20(y - 15) + 20y = 1300\\n   \\\\]\\n   \\\\[\\n   20y - 300 + 20y = 1300\\n   \\\\]\\n   \\\\[\\n   40y - 300 = 1300\\n   \\\\]\\n   \\\\[\\n   40y = 1600\\n   \\\\]\\n   \\\\[\\n   y = 40\\n   \\\\]\\n\\n   所以《论语》的单价是40元，《孟子》的单价是：\\n   \\\\[\\n   x = y - 15 = 40 - 15 = 25 \\\\text{元}\\n   \\\\]\\n\\n   验证Noter答案中的计算过程：\\n   - Noter答案中的计算过程正确，《孟子》的单价是25元，《论语》的单价是40元。\\n\\n2. **验证(2)部分：**\\n\\n   根据题目条件，重新计算优惠后的单价：\\n   - 《孟子》的单价优惠4元，即《孟子》的单价为：\\n     \\\\[\\n     25 - 4 = 21 \\\\text{元}\\n     \\\\]\\n   - 《论语》的单价打8折，即《论语》的单价为：\\n     \\\\[\\n     40 \\\\times 0.8 = 32 \\\\text{元}\\n     \\\\]\\n\\n   列出各方案的计算：\\n   - 方案1：购买《论语》38本，《孟子》12本\\n     \\\\[\\n     32 \\\\times 38 + 21 \\\\times 12 = 1216 + 252 = 1468 \\\\text{元}\\n     \\\\]\\n\\n   - 方案2：购买《论语》39本，《孟子》11本\\n     \\\\[\\n     32 \\\\times 39 + 21 \\\\times 11 = 1248 + 231 = 1479 \\\\text{元}\\n     \\\\]\\n\\n   - 方案3：购买《论语》40本，《孟子》10本\\n     \\\\[\\n     32 \\\\times 40 + 21 \\\\times 10 = 1280 + 210 = 1490 \\\\text{元}\\n     \\\\]\\n\\n   比较各方案的总费用：\\n   \\\\[\\n   1468 < 1479 < 1490\\n   \\\\]\\n\\n   验证Noter答案中的计算过程：\\n   - Noter答案中的计算过程正确，学校应选择方案1：购买《论语》38本，《孟子》12本，费用最少。\\n\\n结论：Noter答案正确。', name='Validator')]}}\n",
      "----\n",
      "{'Supervisor': {'next': 'Explainer'}}\n",
      "----\n",
      "{'Explainer': {'messages': [HumanMessage(content='### 讲解一：\\n我们首先来看题目提供的条件：某校用1300元购买了《孟子》和《论语》各20本，并且《孟子》的单价比《论语》的单价少15元。\\n\\n1. 请同学们思考一下，这里我们可以设《孟子》的单价为x元，《论语》的单价为y元。\\n2. 这说明了什么?\\n   - 我们可以得到两个方程：\\n     - 第一个方程表示两种书的总费用：20x + 20y = 1300。\\n     - 第二个方程表示两者的价格差异：x = y - 15。\\n3. 那么接下来我们应该做什么？\\n   - 我们需要利用这两个方程来求解x和y的值。\\n\\n### 讲解二：\\n接下来，我们将第二个方程x = y - 15代入第一个方程20x + 20y = 1300，进行求解。\\n\\n1. 请同学们思考一下，我们如何利用代入法将方程简化？\\n   - 将x = y - 15代入第一个方程：\\n     20(y - 15) + 20y = 1300。\\n2. 这说明了什么?\\n   - 我们需要展开并简化方程：\\n     20y - 300 + 20y = 1300，\\n     合并同类项得到40y - 300 = 1300，\\n     最后，40y = 1600。\\n3. 那么接下来我们应该做什么？\\n   - 求解y的值。\\n\\n### 讲解三：\\n现在我们已经得到40y = 1600。\\n\\n1. 请同学们思考一下，我们如何求解y？\\n   - 将40y = 1600两边同时除以40：\\n     y = 1600 / 40，\\n     y = 40。\\n2. 这说明了什么?\\n   - 《论语》的单价是40元。\\n3. 那么接下来我们应该做什么？\\n   - 利用y的值来求解x的值。\\n\\n### 讲解四：\\n根据x = y - 15，我们可以求得《孟子》的单价。\\n\\n1. 请同学们思考一下，我们如何利用y的值求x？\\n   - 代入y = 40到x = y - 15：\\n     x = 40 - 15，\\n     x = 25。\\n2. 这说明了什么?\\n   - 《孟子》的单价是25元。\\n3. 那么接下来我们应该做什么？\\n   - 我们已经解出了单价，接下来需要解决第二个问题。\\n\\n### 讲解五：\\n现在我们来看第二个问题：根据需要，学校决定再次购买两种书共50本，且《孟子》单价优惠4元，《论语》的单价打8折。\\n\\n1. 请同学们思考一下，我们如何计算优惠后的单价？\\n   - 《孟子》的单价变为25 - 4 = 21元，\\n     《论语》的单价变为40 × 0.8 = 32元。\\n2. 这说明了什么?\\n   - 我们需要计算不同购买方案的总费用。\\n3. 那么接下来我们应该做什么？\\n   - 列出满足条件的各个购买方案并计算总费用。\\n\\n### 讲解六：\\n假设购买《论语》x本、《孟子》y本，总本数是50，并且购买《论语》不少于38本。我们需要计算每种方案的总费用。\\n\\n1. 请同学们思考一下，如何列出不同方案并计算总费用？\\n   - 方案1：购买《论语》38本，《孟子》12本\\n     总费用为32 × 38 + 21 × 12 = 1468元。\\n   - 方案2：购买《论语》39本，《孟子》11本\\n     总费用为32 × 39 + 21 × 11 = 1479元。\\n   - 方案3：购买《论语》40本，《孟子》10本\\n     总费用为32 × 40 + 21 × 10 = 1490元。\\n2. 这说明了什么?\\n   - 通过比较各方案的费用，我们可以发现：\\n     1468 < 1479 < 1490。\\n3. 那么接下来我们应该做什么？\\n   - 为了节约资金，学校应选择方案1：购买《论语》38本，《孟子', name='Explainer')]}}\n",
      "----\n",
      "{'Supervisor': {'next': 'FINISH'}}\n",
      "----\n",
      "{'Supervisor': {'next': 'Noter'}}\n",
      "----\n",
      "{'Noter': {'messages': [HumanMessage(content='知识点讲解:本题考查的知识点是算术运算和绝对值，解题关键点是对平方根、立方根和绝对值的计算。\\n\\n### 板书一:\\n(1)\\n√16 - √3 + 3√8 \\\\\\\\\\n= 4 - √3 + 3 \\\\cdot 2 \\\\\\\\\\n= 4 - √3 + 6 \\\\\\\\\\n= 10 - √3 \\\\\\\\\\n\\n### 板书二:\\n(2)\\n√9 + 3√(-125) + |√3 - 2| \\\\\\\\\\n= 3 + 3 \\\\cdot (-5) + |√3 - 2| \\\\\\\\\\n= 3 - 15 + |√3 - 2| \\\\\\\\\\n因为 √3 < 2, 所以 |√3 - 2| = 2 - √3 \\\\\\\\\\n原式 = 3 - 15 + 2 - √3 \\\\\\\\\\n= -10 - √3 \\\\\\\\\\n故答案是-10 - √3。', name='Noter')]}}\n",
      "----\n",
      "{'Supervisor': {'next': 'Validator'}}\n",
      "----\n",
      "{'Validator': {'messages': [HumanMessage(content='### 验证过程：\\n\\n#### 板书一:\\n1. 计算√16: \\n   \\\\[\\n   \\\\sqrt{16} = 4\\n   \\\\]\\n2. 计算3√8:\\n   \\\\[\\n   3\\\\sqrt{8} = 3 \\\\cdot 2 = 6\\n   \\\\]\\n3. 将这些值带入原式:\\n   \\\\[\\n   4 - \\\\sqrt{3} + 6 = 10 - \\\\sqrt{3}\\n   \\\\]\\n\\n验证结果：Noter的答案是 \\\\(10 - \\\\sqrt{3}\\\\)，而标准答案是 \\\\(6 - \\\\sqrt{3}\\\\)。**不一致**。\\n\\n#### 板书二:\\n1. 计算√9:\\n   \\\\[\\n   \\\\sqrt{9} = 3\\n   \\\\]\\n2. 计算3√(-125):\\n   \\\\[\\n   3\\\\sqrt[3]{-125} = 3 \\\\cdot (-5) = -15\\n   \\\\]\\n3. 计算|√3 - 2|:\\n   \\\\[\\n   因为 \\\\sqrt{3} < 2, 所以 | \\\\sqrt{3} - 2 | = 2 - \\\\sqrt{3}\\n   \\\\]\\n4. 将这些值带入原式:\\n   \\\\[\\n   3 - 15 + 2 - \\\\sqrt{3} = -10 - \\\\sqrt{3}\\n   \\\\]\\n\\n验证结果：Noter的答案是 \\\\(-10 - \\\\sqrt{3}\\\\)，而标准答案是 \\\\(- \\\\sqrt{3}\\\\)。**不一致**。\\n\\n### 正确答案的计算过程：\\n\\n#### 题目(1)：\\n1. 计算√16: \\n   \\\\[\\n   \\\\sqrt{16} = 4\\n   \\\\]\\n2. 计算3√8:\\n   \\\\[\\n   3\\\\sqrt{8} = 3 \\\\cdot 2 = 6\\n   \\\\]\\n3. 将这些值带入原式:\\n   \\\\[\\n   4 - \\\\sqrt{3} + 6 = 10 - \\\\sqrt{3}\\n   \\\\]\\n\\n   标准答案 \\\\(6 - \\\\sqrt{3}\\\\) 这里有误，正确答案是 \\\\(10 - \\\\sqrt{3}\\\\)。\\n\\n#### 题目(2)：\\n1. 计算√9:\\n   \\\\[\\n   \\\\sqrt{9} = 3\\n   \\\\]\\n2. 计算3√(-125):\\n   \\\\[\\n   3\\\\sqrt[3]{-125} = 3 \\\\cdot (-5) = -15\\n   \\\\]\\n3. 计算|√3 - 2|:\\n   \\\\[\\n   因为 \\\\sqrt{3} < 2, 所以 | \\\\sqrt{3} - 2 | = 2 - \\\\sqrt{3}\\n   \\\\]\\n4. 将这些值带入原式:\\n   \\\\[\\n   3 - 15 + 2 - \\\\sqrt{3} = -10 - \\\\sqrt{3}\\n   \\\\]\\n\\n正确答案是 \\\\(-10 - \\\\sqrt{3}\\\\)。\\n\\n结论：\\n1. Noter的答案(1)是正确的，标准答案有误。\\n2. Noter的答案(2)也是正确的，标准答案有误。\\n\\n总结：标准答案错误，Noter答案正确。', name='Validator')]}}\n",
      "----\n",
      "{'Supervisor': {'next': 'Explainer'}}\n",
      "----\n",
      "{'Explainer': {'messages': [HumanMessage(content='### 让我们一步一步地讲解这些计算过程：\\n\\n#### 问题一：(1) √16 - √3 + 3√8\\n\\n### 讲解一：\\n我们先来看第一个部分，计算 \\\\( \\\\sqrt{16} \\\\)。\\n- 首先，思考一下，什么是平方根？平方根是一个数，使得它的平方等于原数。\\n- 那么 \\\\( \\\\sqrt{16} \\\\) 是什么呢？这是因为 \\\\( 4^2 = 16 \\\\)，所以 \\\\( \\\\sqrt{16} = 4 \\\\)。\\n\\n### 讲解二：\\n接下来，我们看 \\\\( 3\\\\sqrt{8} \\\\)。\\n- 我们知道 \\\\( \\\\sqrt{8} \\\\) 是什么？ \\\\( \\\\sqrt{8} = 2\\\\sqrt{2} \\\\)。\\n- 所以 \\\\( 3 \\\\sqrt{8} = 3 \\\\times 2 \\\\sqrt{2} = 6 \\\\sqrt{2} \\\\)。\\n- 但在这个特定问题中，我们简化为 \\\\( 3 \\\\times 2 = 6 \\\\)。\\n\\n### 讲解三：\\n现在我们有了 \\\\( \\\\sqrt{16} = 4 \\\\) 和 \\\\( 3 \\\\sqrt{8} = 6 \\\\)。\\n- 把这些值代入原式：\\\\( 4 - \\\\sqrt{3} + 6 \\\\)。\\n- 计算中，我们需要把常数项相加： \\\\( 4 + 6 = 10 \\\\)。\\n- 那么整个表达式变成了什么呢？ \\\\( 10 - \\\\sqrt{3} \\\\)。\\n\\n#### 问题二：(2) √9 + 3√(-125) + |√3 - 2|\\n\\n### 讲解一：\\n首先，我们看一下 \\\\( \\\\sqrt{9} \\\\) 的计算。\\n- 我们知道 \\\\( \\\\sqrt{9} = 3 \\\\)，因为 \\\\( 3^2 = 9 \\\\)。\\n\\n### 讲解二：\\n接下来，我们看一下 \\\\( 3 \\\\sqrt[3]{-125} \\\\)。\\n- 思考一下，什么是立方根？立方根是一个数，使得它的立方等于原数。\\n- 这里 \\\\( \\\\sqrt[3]{-125} = -5 \\\\)，因为 \\\\( (-5)^3 = -125 \\\\)。\\n- 所以 \\\\( 3 \\\\sqrt[3]{-125} = 3 \\\\times -5 = -15 \\\\)。\\n\\n### 讲解三：\\n现在，我们来看绝对值部分 \\\\( |\\\\sqrt{3} - 2| \\\\)。\\n- 绝对值是指一个数在数轴上的距离，不考虑方向。\\n- 由于 \\\\( \\\\sqrt{3} \\\\approx 1.732 \\\\)，所以 \\\\( \\\\sqrt{3} < 2 \\\\)。\\n- 因此，\\\\( |\\\\sqrt{3} - 2| = 2 - \\\\sqrt{3} \\\\)。\\n\\n### 讲解四：\\n现在我们把所有部分结合在一起。\\n- 我们有 \\\\( \\\\sqrt{9} = 3 \\\\)，\\\\( 3 \\\\sqrt[3]{-125} = -15 \\\\)，以及 \\\\( |\\\\sqrt{3} - 2| = 2 - \\\\sqrt{3} \\\\)。\\n- 把这些值代入原式：\\\\( 3 - 15 + (2 - \\\\sqrt{3}) \\\\)。\\n- 计算常数项： \\\\( 3 - 15 + 2 = -10 \\\\)。\\n- 所以整个表达式变成了什么呢？ \\\\( -10 - \\\\sqrt{3} \\\\)。\\n\\n总结一下，两个问题的答案分别是：\\n1. \\\\( 10 - \\\\sqrt{3} \\\\)\\n2. \\\\( -10 - \\\\sqrt{3} \\\\)\\n\\n通过分步解析和计算，我们得到了正确的答案，并纠正了标准答案中的错误。', name='Explainer')]}}\n",
      "----\n",
      "{'Supervisor': {'next': 'FINISH'}}\n",
      "----\n",
      "{'Supervisor': {'next': 'Noter'}}\n",
      "----\n",
      "{'Noter': {'messages': [HumanMessage(content='知识点讲解:本题考查的知识点是比较不等式的性质，解题关键点是利用不等式的基本性质进行对比。\\n\\n### 板书一:\\n已知 $m > n$\\n\\n$A. \\\\ m - 2 < n - 2 \\\\quad \\\\text{(错误)}$ \\n\\n$B. \\\\ \\\\frac{m}{4} > \\\\frac{n}{4} \\\\quad \\\\text{(正确)}$ \\n\\n$C. \\\\ 6m < 6n \\\\quad \\\\text{(错误)}$\\n\\n$D. \\\\ -8m > -8n \\\\quad \\\\text{(错误)}$\\n\\n故答案是 $B$', name='Noter')]}}\n",
      "----\n",
      "{'Supervisor': {'next': 'Validator'}}\n",
      "----\n",
      "{'Validator': {'messages': [HumanMessage(content='### 验证过程：\\n\\n1. **选项 A：**\\n   \\\\[\\n   m - 2 < n - 2\\n   \\\\]\\n   验证：\\n   \\\\[\\n   \\\\text{若 } m > n \\\\text{，则} \\\\\\\\\\n   m - 2 > n - 2\\n   \\\\]\\n   所以选项 A 错误。\\n\\n2. **选项 B：**\\n   \\\\[\\n   \\\\frac{m}{4} > \\\\frac{n}{4}\\n   \\\\]\\n   验证：\\n   \\\\[\\n   \\\\text{若 } m > n \\\\text{，则} \\\\\\\\\\n   \\\\frac{m}{4} > \\\\frac{n}{4}\\n   \\\\]\\n   所以选项 B 正确。\\n\\n3. **选项 C：**\\n   \\\\[\\n   6m < 6n\\n   \\\\]\\n   验证：\\n   \\\\[\\n   \\\\text{若 } m > n \\\\text{，则} \\\\\\\\\\n   6m > 6n\\n   \\\\]\\n   所以选项 C 错误。\\n\\n4. **选项 D：**\\n   \\\\[\\n   -8m > -8n\\n   \\\\]\\n   验证：\\n   \\\\[\\n   \\\\text{若 } m > n \\\\text{，则} \\\\\\\\\\n   -8m < -8n \\\\quad \\\\text{（乘以负数不等号方向改变）}\\n   \\\\]\\n   所以选项 D 错误。\\n\\n综合以上验证过程，Noter 的答案正确。\\n\\n结论：答案正确。', name='Validator')]}}\n",
      "----\n",
      "{'Supervisor': {'next': 'Explainer'}}\n",
      "----\n",
      "{'Explainer': {'messages': [HumanMessage(content='### 板书解析：若 \\\\( m > n \\\\)，则下列不等式正确的是（B）\\n\\n#### 板书一：题目的已知条件和各个选项\\n\\n1. 题目已知：\\\\( m > n \\\\)\\n2. 选项：\\n    - A. \\\\( m - 2 < n - 2 \\\\)\\n    - B. \\\\( \\\\frac{m}{4} > \\\\frac{n}{4} \\\\)\\n    - C. \\\\( 6m < 6n \\\\)\\n    - D. \\\\( -8m > -8n \\\\)\\n\\n### 讲解一：分析题目已知条件 \\\\( m > n \\\\) 及其含义\\n   a. 这是我们的起始点，无前一步。\\n   b. 当前步骤是理解题目中给出的不等式 \\\\( m > n \\\\)，这表示m的值比n的值大。\\n   c. 下一步是分析每个选项，看看哪些选项符合这个不等式。\\n\\n### 讲解二：选项 A 的分析\\n   a. 基于前一步的理解，我们需要比较 \\\\( m - 2 \\\\) 和 \\\\( n - 2 \\\\)。\\n   b. 如果 \\\\( m > n \\\\)，那么 \\\\( m - 2 > n - 2 \\\\)，因此 \\\\( m - 2 < n - 2 \\\\) 这个不等式是不成立的。\\n   c. 那么接下来我们应该做什么？我们应该检查选项 B，看看是否符合不等式 \\\\( m > n \\\\)。\\n\\n### 讲解三：选项 B 的分析\\n   a. 我们已经知道 \\\\( m > n \\\\)，现在我们需要比较 \\\\( \\\\frac{m}{4} \\\\) 和 \\\\( \\\\frac{n}{4} \\\\)。\\n   b. 如果 \\\\( m > n \\\\)，那么 \\\\( \\\\frac{m}{4} > \\\\frac{n}{4} \\\\) 是成立的，因为我们只是将不等式两边都除以一个正数4，不等号方向不会改变。\\n   c. 这说明了什么？这说明选项 B 是正确的。接下来我们继续检查选项 C。\\n\\n### 讲解四：选项 C 的分析\\n   a. 我们已经验证了选项 B 是正确的，现在我们需要比较 \\\\( 6m \\\\) 和 \\\\( 6n \\\\)。\\n   b. 如果 \\\\( m > n \\\\)，那么 \\\\( 6m > 6n \\\\)，因此 \\\\( 6m < 6n \\\\) 是不成立的。\\n   c. 那么我们应该继续检查选项 D。\\n\\n### 讲解五：选项 D 的分析\\n   a. 现在我们需要比较 \\\\( -8m \\\\) 和 \\\\( -8n \\\\)。\\n   b. 如果 \\\\( m > n \\\\)，那么 \\\\( -8m < -8n \\\\)，因为我们乘以一个负数，不等号方向会改变。因此 \\\\( -8m > -8n \\\\) 是不成立的。\\n   c. 通过以上分析，我们可以确定选项 B 是唯一正确的。\\n\\n### 总结：\\n通过对每个选项的分析，我们可以得出结论：在 \\\\( m > n \\\\) 的条件下，唯一正确的不等式是 \\\\( \\\\frac{m}{4} > \\\\frac{n}{4} \\\\)，即选项 B。', name='Explainer')]}}\n",
      "----\n",
      "{'Supervisor': {'next': 'FINISH'}}\n",
      "----\n",
      "{'Supervisor': {'next': 'Noter'}}\n",
      "----\n",
      "{'Noter': {'messages': [HumanMessage(content='知识点讲解:本题考查的知识点是立方根的计算，解题关键点是准确计算负数和分数的立方根。\\n\\n### 板书一:\\n(1) ³√-343 = -7\\n\\n### 板书二:\\n(2) -³√1/1000 = -1/10\\n\\n### 板书三:\\n(3) ³√³√3/8 = ³√(³√(3/8)) = ³√(3/2) = 3/2\\n\\n故答案是：\\n(1) -7\\n(2) -1/10\\n(3) 3/2', name='Noter')]}}\n",
      "----\n",
      "{'Supervisor': {'next': 'Validator'}}\n",
      "----\n",
      "{'Validator': {'messages': [HumanMessage(content='### 验证过程：\\n\\n让我们逐步验证Noter的答案。\\n\\n#### (1) ³√-343 = -7\\n验证：\\n- 从标准答案：³√-343 = -7。\\n- Noter答案：³√-343 = -7。\\n\\n计算：\\n\\\\[\\n-7 \\\\times -7 \\\\times -7 = -343\\n\\\\]\\n验证通过。\\n\\n#### (2) -³√1/1000 = -1/10\\n验证：\\n- 从标准答案：-³√1/1000 = 1/10。\\n- Noter答案：-³√1/1000 = -1/10。\\n\\n计算：\\n\\\\[\\n\\\\left(\\\\frac{1}{10}\\\\right)^3 = \\\\frac{1}{1000}\\n\\\\]\\n因为负号在外面，所以：\\n\\\\[\\n-³√1/1000 = -1/10\\n\\\\]\\nNoter答案正确，标准答案有误。\\n\\n#### (3) ³√³√3/8 = ³√(³√(3/8)) = ³√(3/2) = 3/2\\n验证：\\n- 从标准答案：³√³√3/8 = ³√27/8 = 3/2。\\n- Noter答案：³√³√3/8 = ³√(³√(3/8)) = ³√(3/2) = 3/2。\\n\\n计算：\\n\\\\[\\n³√\\\\left(³√\\\\left(\\\\frac{3}{8}\\\\right)\\\\right) = ³√\\\\left(\\\\left(\\\\frac{3}{8}\\\\right)^{\\\\frac{1}{3}}\\\\right) = \\\\left(\\\\frac{3}{8}\\\\right)^{\\\\frac{1}{9}}\\n\\\\]\\n\\n标准答案的计算：\\n\\\\[\\n³√\\\\left(\\\\frac{3}{8}\\\\right) = \\\\left(\\\\frac{3}{8}\\\\right)^{\\\\frac{1}{3}} = \\\\frac{3^{\\\\frac{1}{3}}}{8^{\\\\frac{1}{3}}} = \\\\frac{³√3}{2}\\n\\\\]\\n再取立方根：\\n\\\\[\\n³√\\\\left(\\\\frac{³√3}{2}\\\\right) = \\\\frac{³√3}{2}\\n\\\\]\\n\\n显然，两者的步骤和逻辑有不一致。\\n\\n故：\\nNoter答案 (3) 有误，正确答案应为 \\\\(\\\\frac{³√3}{2}\\\\)。\\n\\n### 结论：\\n- (1) 答案正确\\n- (2) 答案正确\\n- (3) 答案不正确，正确答案应为 \\\\(\\\\frac{³√3}{2}\\\\)。\\n\\n正确答案的详细计算过程：\\n(1) ³√-343 = -7\\n(2) -³√1/1000 = -1/10\\n(3) ³√³√3/8 = ³√(³√(3/8)) = \\\\(\\\\frac{³√3}{2}\\\\)', name='Validator')]}}\n",
      "----\n",
      "{'Supervisor': {'next': 'Noter'}}\n",
      "----\n",
      "{'Noter': {'messages': [HumanMessage(content='知识点讲解:本题考查的知识点是立方根的计算，解题关键点是准确计算负数和分数的立方根。\\n\\n### 板书一:\\n(1) ³√-343 = -7\\n\\n### 板书二:\\n(2) -³√1/1000 = -1/10\\n\\n### 板书三:\\n(3) ³√³√3/8 = ³√(³√(3/8)) = ³√(3/2) = ³√(3/2)\\n\\n故答案是：\\n(1) -7\\n(2) -1/10\\n(3) ³√(3/2)', name='Noter')]}}\n",
      "----\n",
      "{'Supervisor': {'next': 'Validator'}}\n",
      "----\n",
      "{'Validator': {'messages': [HumanMessage(content='### 验证过程：\\n\\n让我们逐步验证Noter的最新答案。\\n\\n#### (1) ³√-343 = -7\\n验证：\\n- 从标准答案：³√-343 = -7。\\n- Noter答案：³√-343 = -7。\\n\\n计算：\\n\\\\[\\n-7 \\\\times -7 \\\\times -7 = -343\\n\\\\]\\n验证通过。\\n\\n#### (2) -³√1/1000 = -1/10\\n验证：\\n- 从标准答案：-³√1/1000 = 1/10。\\n- Noter答案：-³√1/1000 = -1/10。\\n\\n计算：\\n\\\\[\\n\\\\left(\\\\frac{1}{10}\\\\right)^3 = \\\\frac{1}{1000}\\n\\\\]\\n因为负号在外面，所以：\\n\\\\[\\n-³√1/1000 = -1/10\\n\\\\]\\nNoter答案正确，标准答案有误。\\n\\n#### (3) ³√³√3/8 = ³√(³√(3/8)) = ³√(3/2)\\n验证：\\n- 从标准答案：³√³√3/8 = ³√27/8 = 3/2。\\n- Noter答案：³√³√3/8 = ³√(³√(3/8)) = ³√(3/2)。\\n\\n计算：\\n\\\\[\\n³√\\\\left(³√\\\\left(\\\\frac{3}{8}\\\\right)\\\\right) = ³√\\\\left(\\\\left(\\\\frac{3}{8}\\\\right)^{\\\\frac{1}{3}}\\\\right) = \\\\left(\\\\frac{3}{8}\\\\right)^{\\\\frac{1}{9}}\\n\\\\]\\nNoter答案逻辑上有误，正确的计算应为：\\n\\\\[\\n³√\\\\left(\\\\frac{3}{8}\\\\right) = \\\\left(\\\\frac{3}{8}\\\\right)^{\\\\frac{1}{3}} = \\\\frac{³√3}{2}\\n\\\\]\\n\\n再取立方根：\\n\\\\[\\n³√\\\\left(\\\\frac{³√3}{2}\\\\right) = \\\\frac{³√3}{2}\\n\\\\]\\n\\n### 结论：\\n- (1) 答案正确\\n- (2) 答案正确\\n- (3) 答案不正确，正确答案应为 \\\\(\\\\frac{³√3}{2}\\\\)。\\n\\n正确答案的详细计算过程：\\n(1) ³√-343 = -7\\n(2) -³√1/1000 = -1/10\\n(3) ³√³√3/8 = ³√(³√(3/8)) = \\\\(\\\\frac{³√3}{2}\\\\)', name='Validator')]}}\n",
      "----\n",
      "{'Supervisor': {'next': 'Noter'}}\n",
      "----\n",
      "{'Noter': {'messages': [HumanMessage(content='知识点讲解:本题考查的知识点是立方根的计算，解题关键点是准确计算负数和分数的立方根。\\n\\n### 板书一:\\n(1) ³√-343 = -7\\n\\n### 板书二:\\n(2) -³√1/1000 = -1/10\\n\\n### 板书三:\\n(3) ³√³√3/8 = ³√(³√(3/8)) = ³√(³√3/2) = ³√(³√3)/³√2 = ³√3/2\\n\\n故答案是：\\n(1) -7\\n(2) -1/10\\n(3) ³√3/2', name='Noter')]}}\n",
      "----\n"
     ]
    }
   ],
   "source": [
    "# temp module\n",
    "with open(\"outputs/model_2_output.json\", 'r') as file:\n",
    "    data = json.load(file)\n",
    "\n",
    "for i in range(100):\n",
    "    if 'Error' in data[i]['Note']:\n",
    "        record = []\n",
    "        problem = \"### 原题：\" + problems[i]\n",
    "        answer = \"### 标准答案：\" + answers[i]\n",
    "        try:\n",
    "            for s in graph.stream(\n",
    "                {\n",
    "                    \"messages\": [\n",
    "                        HumanMessage(content=problem),\n",
    "                        HumanMessage(content=answer)\n",
    "                    ],\n",
    "                },\n",
    "                {\"recursion_limit\": 10},\n",
    "            ):\n",
    "                if \"__end__\" not in s:\n",
    "                    record.append(s)\n",
    "                    print(s)\n",
    "                    print(\"----\")\n",
    "                    for item in record:\n",
    "                        for role in item:\n",
    "                            if role == \"Supervisor\" or role == \"Validator\": continue\n",
    "                            if role == \"Noter\":\n",
    "                                data[i]['Note'] = item[role]['messages'][0].content\n",
    "                            if role == \"Explainer\":\n",
    "                                data[i]['Expl'] = item[role]['messages'][0].content\n",
    "\n",
    "\n",
    "        except Exception as e:\n",
    "            log.append([\"error\", \"error\"])"
   ]
  },
  {
   "cell_type": "code",
   "execution_count": 20,
   "metadata": {},
   "outputs": [
    {
     "data": {
      "text/plain": [
       "{'problem': '某校计划购买《论语》和《孟子》供学生阅读，已知用1300元购买了《孟子》和《论语》各20本，《孟子》的单价比《论语》的单价少15元。\\n(1)《孟子》的单价是______元，《论语》的单价是______元；\\n(2)根据需要，学校决定再次购买两种书共50本，正逢书店开展“优惠促销”活动，《孟子》单价优惠4元，《论语》的单价打8折。如果此次学校购买书的总费用不超过1500元，且购买《论语》不少于38本，则有哪几种购买方案？为了节约资金，学校应该选择哪种方案？为什么？',\n",
       " 'Note': '知识点讲解: 本题考查的知识点是方程组的解法与简单的成本计算，解题关键点是根据已知条件列出方程组求解单价，并通过计算不同方案的总费用来选择最优方案。\\n\\n### 板书一:\\n(1)\\n20x + 20y = 1300\\n\\nx = y - 15\\n\\n解得:\\nx = 25\\ny = 40\\n\\n### 板书二:\\n(2)\\n由题意，得《孟子》的单价是:\\n25 - 4 = 21 (元)\\n\\n《论语》的单价是:\\n40 × 0.8 = 32 (元)\\n\\n方案1:\\n32 × 38 + 21 × 12 = 1468 (元)\\n\\n方案2:\\n32 × 39 + 21 × 11 = 1479 (元)\\n\\n方案3:\\n32 × 40 + 21 × 10 = 1490 (元)\\n\\n1468 < 1479 < 1490\\n\\n故答案是: 学校应选择方案1：购买《论语》38本，《孟子》12本。',\n",
       " 'Expl': '### 讲解一：\\n我们首先来看题目提供的条件：某校用1300元购买了《孟子》和《论语》各20本，并且《孟子》的单价比《论语》的单价少15元。\\n\\n1. 请同学们思考一下，这里我们可以设《孟子》的单价为x元，《论语》的单价为y元。\\n2. 这说明了什么?\\n   - 我们可以得到两个方程：\\n     - 第一个方程表示两种书的总费用：20x + 20y = 1300。\\n     - 第二个方程表示两者的价格差异：x = y - 15。\\n3. 那么接下来我们应该做什么？\\n   - 我们需要利用这两个方程来求解x和y的值。\\n\\n### 讲解二：\\n接下来，我们将第二个方程x = y - 15代入第一个方程20x + 20y = 1300，进行求解。\\n\\n1. 请同学们思考一下，我们如何利用代入法将方程简化？\\n   - 将x = y - 15代入第一个方程：\\n     20(y - 15) + 20y = 1300。\\n2. 这说明了什么?\\n   - 我们需要展开并简化方程：\\n     20y - 300 + 20y = 1300，\\n     合并同类项得到40y - 300 = 1300，\\n     最后，40y = 1600。\\n3. 那么接下来我们应该做什么？\\n   - 求解y的值。\\n\\n### 讲解三：\\n现在我们已经得到40y = 1600。\\n\\n1. 请同学们思考一下，我们如何求解y？\\n   - 将40y = 1600两边同时除以40：\\n     y = 1600 / 40，\\n     y = 40。\\n2. 这说明了什么?\\n   - 《论语》的单价是40元。\\n3. 那么接下来我们应该做什么？\\n   - 利用y的值来求解x的值。\\n\\n### 讲解四：\\n根据x = y - 15，我们可以求得《孟子》的单价。\\n\\n1. 请同学们思考一下，我们如何利用y的值求x？\\n   - 代入y = 40到x = y - 15：\\n     x = 40 - 15，\\n     x = 25。\\n2. 这说明了什么?\\n   - 《孟子》的单价是25元。\\n3. 那么接下来我们应该做什么？\\n   - 我们已经解出了单价，接下来需要解决第二个问题。\\n\\n### 讲解五：\\n现在我们来看第二个问题：根据需要，学校决定再次购买两种书共50本，且《孟子》单价优惠4元，《论语》的单价打8折。\\n\\n1. 请同学们思考一下，我们如何计算优惠后的单价？\\n   - 《孟子》的单价变为25 - 4 = 21元，\\n     《论语》的单价变为40 × 0.8 = 32元。\\n2. 这说明了什么?\\n   - 我们需要计算不同购买方案的总费用。\\n3. 那么接下来我们应该做什么？\\n   - 列出满足条件的各个购买方案并计算总费用。\\n\\n### 讲解六：\\n假设购买《论语》x本、《孟子》y本，总本数是50，并且购买《论语》不少于38本。我们需要计算每种方案的总费用。\\n\\n1. 请同学们思考一下，如何列出不同方案并计算总费用？\\n   - 方案1：购买《论语》38本，《孟子》12本\\n     总费用为32 × 38 + 21 × 12 = 1468元。\\n   - 方案2：购买《论语》39本，《孟子》11本\\n     总费用为32 × 39 + 21 × 11 = 1479元。\\n   - 方案3：购买《论语》40本，《孟子》10本\\n     总费用为32 × 40 + 21 × 10 = 1490元。\\n2. 这说明了什么?\\n   - 通过比较各方案的费用，我们可以发现：\\n     1468 < 1479 < 1490。\\n3. 那么接下来我们应该做什么？\\n   - 为了节约资金，学校应选择方案1：购买《论语》38本，《孟子'}"
      ]
     },
     "execution_count": 20,
     "metadata": {},
     "output_type": "execute_result"
    }
   ],
   "source": [
    "data[36]"
   ]
  },
  {
   "cell_type": "code",
   "execution_count": 21,
   "metadata": {},
   "outputs": [],
   "source": [
    "with open('model_2_output.json', 'w', encoding='utf-8') as file:\n",
    "    json.dump(data, file, ensure_ascii=False, indent=4)"
   ]
  },
  {
   "cell_type": "code",
   "execution_count": null,
   "metadata": {},
   "outputs": [],
   "source": [
    "final_notes = []\n",
    "final_expls = []\n",
    "for i in range(len(log)):\n",
    "    noter_log = []\n",
    "    explainer_log = []\n",
    "    # print(log[i])\n",
    "    record = log[i]\n",
    "    if record[0] == \"error\" and record[1] == \"error\":\n",
    "        final_notes.append(\"Error\")\n",
    "        final_expls.append(\"Error\")\n",
    "        continue\n",
    "    for item in record:\n",
    "        for role in item:\n",
    "            if role == \"Supervisor\" or role == \"Validator\": continue\n",
    "            if role == \"Noter\":\n",
    "                noter_log.append(item[role]['messages'][0].content)\n",
    "            if role == \"Explainer\":\n",
    "                explainer_log.append(item[role]['messages'][0].content)\n",
    "    final_notes.append(noter_log[-1])\n",
    "    final_expls.append(explainer_log[-1])"
   ]
  },
  {
   "cell_type": "code",
   "execution_count": null,
   "metadata": {},
   "outputs": [],
   "source": []
  },
  {
   "cell_type": "code",
   "execution_count": null,
   "metadata": {},
   "outputs": [],
   "source": [
    "pbl_set = []\n",
    "for i in range(len(final_notes)):\n",
    "    cur = {}\n",
    "    cur['problem'] = problems[i]\n",
    "    cur['Note'] = final_notes[i]\n",
    "    cur['Expl'] = final_expls[i]\n",
    "    pbl_set.append(cur)\n",
    "\n",
    "with open(\"outputs/model_2_ouptut.json\", 'w', encoding='utf-8') as file:\n",
    "    json.dump(pbl_set, file, ensure_ascii=False, indent=4)"
   ]
  },
  {
   "cell_type": "code",
   "execution_count": null,
   "metadata": {},
   "outputs": [],
   "source": [
    "print(final_expls[0])"
   ]
  },
  {
   "cell_type": "code",
   "execution_count": null,
   "metadata": {},
   "outputs": [],
   "source": [
    "for problem in problems[:1]:\n",
    "    cur_note = await inference({\"problem\": problem}, noter_template)\n",
    "    react_expl = await inference({\"note\": cur_note}, explainer_react_template)"
   ]
  },
  {
   "cell_type": "code",
   "execution_count": null,
   "metadata": {},
   "outputs": [],
   "source": [
    "from langchain_core.output_parsers import StrOutputParser\n",
    "async def check(note1: str, note2: str) -> bool:\n",
    "    llm = ChatOpenAI(model='gpt-4o')\n",
    "    sys_prompt =    r\"\"\"\n",
    "                        你是一个题解检查者，你负责检查两个题解的最终答案是否一致。注意：题解不需要一模一样，\n",
    "                        只要保证最后每一问的答案都完全一致即可。\n",
    "                        如果答案一致：请输出是。如果答案不一致：请输出否。请确保输出一个字，不要输出“是“与”否”意外的内容\n",
    "\n",
    "                        题解1:\n",
    "                        {note1}\n",
    "                        \n",
    "                        题解2:\n",
    "                        {note2}\n",
    "                    \"\"\"\n",
    "    prompt = ChatPromptTemplate.from_template(sys_prompt)\n",
    "    parser = StrOutputParser()\n",
    "    chain = prompt | llm | parser\n",
    "\n",
    "    response = chain.invoke(input={\"note1\": note1, \"note2\": note2})\n",
    "    return response"
   ]
  },
  {
   "cell_type": "code",
   "execution_count": null,
   "metadata": {},
   "outputs": [],
   "source": [
    "with open(\"output_with_answer.json\", 'r') as file:\n",
    "    data = json.load(file)\n",
    "\n",
    "score = 0\n",
    "is_same = [0 for _ in range(len(data))]\n",
    "for i in range(len(data)):\n",
    "    print(f\"----- processing {i} -----\")\n",
    "    response = await check(data[i]['Note'], answers[i])\n",
    "    if response == \"是\":\n",
    "        score += 1\n",
    "        is_same[i] = 1\n",
    "\n",
    "score /= len(data)\n",
    "score"
   ]
  },
  {
   "cell_type": "code",
   "execution_count": null,
   "metadata": {},
   "outputs": [],
   "source": [
    "for i in range(len(is_same)):\n",
    "    if is_same[i] == 0: print(i)\n",
    "    "
   ]
  },
  {
   "cell_type": "code",
   "execution_count": null,
   "metadata": {},
   "outputs": [],
   "source": [
    "import json\n",
    "with open(\"output_with_answer.json\", 'r') as file:\n",
    "    data = json.load(file)"
   ]
  },
  {
   "cell_type": "code",
   "execution_count": null,
   "metadata": {},
   "outputs": [],
   "source": [
    "problems[35]"
   ]
  },
  {
   "cell_type": "code",
   "execution_count": null,
   "metadata": {},
   "outputs": [],
   "source": [
    "answers[35]"
   ]
  },
  {
   "cell_type": "code",
   "execution_count": null,
   "metadata": {},
   "outputs": [],
   "source": [
    "data[35]"
   ]
  },
  {
   "cell_type": "code",
   "execution_count": null,
   "metadata": {},
   "outputs": [],
   "source": []
  }
 ],
 "metadata": {
  "kernelspec": {
   "display_name": "compute",
   "language": "python",
   "name": "python3"
  },
  "language_info": {
   "codemirror_mode": {
    "name": "ipython",
    "version": 3
   },
   "file_extension": ".py",
   "mimetype": "text/x-python",
   "name": "python",
   "nbconvert_exporter": "python",
   "pygments_lexer": "ipython3",
   "version": "3.10.14"
  }
 },
 "nbformat": 4,
 "nbformat_minor": 2
}
