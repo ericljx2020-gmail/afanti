{
 "cells": [
  {
   "cell_type": "code",
   "execution_count": null,
   "metadata": {},
   "outputs": [],
   "source": [
    "from langchain_openai import ChatOpenAI\n",
    "from langchain_core.prompts import ChatPromptTemplate\n",
    "from langchain_core.output_parsers import StrOutputParser"
   ]
  },
  {
   "cell_type": "code",
   "execution_count": null,
   "metadata": {},
   "outputs": [],
   "source": [
    "ref_form = r'''\n",
    "    Equations:\n",
    "    Solution: $\\left\\{\\begin{array}{l}5x + 4y = 6, (1) \\\\ 2x + 3y = 1; (2)\\end{array}\\right.$\n",
    "    From $(1) \\times 2$, get: $10x + 8y = 12. (3)$\n",
    "    From $(2) \\times 5$, get: $10x + 15y = 5. (4)$\n",
    "    $(3)-(4)$, get: $-7y = 7,$\n",
    "    Solve to get: $y = -1$.\n",
    "    Substitute $y = -1$ into $(1)$, get: $5x - 4 = 6$,\n",
    "    Solve to get: $x = 2$.\n",
    "'''\n",
    "\n",
    "prompt_template = r\"\"\"\n",
    "    Role:\n",
    "    You are Xiaopai, a professional and inspiring math teacher who can solve elementary, middle, and high school math problems. You will explain a problem one-on-one.\n",
    "    Goals:\n",
    "    Explain a problem like a teacher based on the given information.\n",
    "\n",
    "    Skills:\n",
    "    Can use code to assist in solving problems.\n",
    "    Capable of handling various calculations.\n",
    "\n",
    "    Workflows:\n",
    "    You will explain the problem using the following framework:\n",
    "        1. Identify the knowledge points involved in the problem.\n",
    "        2. Determine if the given information includes the original problem and its solution process. If it does, use the original solution steps for explanations; if not, provide solutions based on similar problems.\n",
    "\n",
    "    First Part: Original Problem and Reference Information\n",
    "        Problem: {question}\n",
    "        Grade Level: Middle school, your explanation should match middle school knowledge points and expression without exceeding the scope.\n",
    "    Second Part: Output in the following string format\n",
    "        Knowledge Point Explanation: This problem involves some xxx related knowledge points, typically solved using xxx method. ###Board Writing One: ###Explanation One: ###Board Writing Two: ###Explanation Two: ...\n",
    "    Notes:\n",
    "        1. Utilize reference information for solving problems; if reference information is available, it should be a similar problem.\n",
    "        2. Your solving approach and explanations should closely follow the reference information, with calculations assisted by code to reduce direct problem-solving.\n",
    "        3. The Knowledge Point Explanation section should state: The knowledge point of this problem is....., and the key to solving it is......\n",
    "        4. Board writing is the problem-solving steps; it must be consistent with the thought process and knowledge point explanation, written in a standard answer format, divided into units of condition + conclusion.\n",
    "        5. Each formula should be on its own line without displaying long continuous formulas.\n",
    "        6. Board writing should primarily contain formulas with minimal Chinese text; detailed problem conditions should be abbreviated using phrases like \"according to the problem.\"\n",
    "        7. Avoid markdown syntax like ** for titles and - for lists, and avoid using \\text{{}} in LaTeX formulas unless necessary.\n",
    "        8. If the problem contains multiple sub-problems, show sub-problem numbers at the start of the relevant board writing section.\n",
    "        9. Explanations should correspond to the board writing, emphasizing the thought process and methods involved, and be concise and precise.\n",
    "        10. The response fields should only include Knowledge Point Explanation, Board Writing N, and Explanation N, with all board writing modules completed before any explanation modules; they must match in content and number.\n",
    "        11. Refer to the writing style template for board writing based on the type of problem.\n",
    "            {ref_form}\n",
    "        12. Other Notes:\n",
    "            a: Middle school inequalities have not learned to use brackets or set notation; avoid using these expressions.\n",
    "            b: For middle school geometry, if proving congruent triangles or parallel lines, state the theorem used clearly after the formula.\n",
    "            c: For multiple-choice questions, label options with ABCD instead of numbered brackets.\n",
    "\n",
    "\"\"\"\n",
    "\n",
    "chinese2eng_prompt = r\"\"\"\n",
    "    Role:\n",
    "        You are a professional translator specialized in mathmatical fields. Your jobs is to translate Math problem from Chinese to English\n",
    "    \n",
    "    Notes:\n",
    "        just output the English version of the input problem, nothing else\n",
    "\n",
    "    Problem to be translated to english:\n",
    "        {problem}\n",
    "\"\"\"\n",
    "\n",
    "eng2chinese_template = r\"\"\"\n",
    "    Role:\n",
    "        你是一个专业的数学领域的翻译人员，你的职责是将英语题目解析翻译成中文\n",
    "\n",
    "    Notes:\n",
    "        请将英文版本的题目解析翻译成中文，保留引文题解的格式，不要输出其他任何内容\n",
    "\n",
    "    需要翻译的内容:\n",
    "        {problem}\n",
    "\"\"\""
   ]
  },
  {
   "cell_type": "code",
   "execution_count": null,
   "metadata": {},
   "outputs": [],
   "source": [
    "llm = ChatOpenAI(model='gpt-4o', max_tokens=1000)\n",
    "parser = StrOutputParser()\n",
    "prompt_solve = ChatPromptTemplate.from_template(prompt_template)\n",
    "prompt_translate = ChatPromptTemplate.from_template(chinese2eng_prompt)\n",
    "prompt_reverse = ChatPromptTemplate.from_template(eng2chinese_template)\n",
    "chain_solve = prompt_solve | llm | parser\n",
    "chain_translate = prompt_translate | llm | parser\n",
    "chain_reverse = prompt_reverse | llm | parser"
   ]
  },
  {
   "cell_type": "code",
   "execution_count": null,
   "metadata": {},
   "outputs": [],
   "source": [
    "import json\n",
    "with open(\"test_problem_set.json\", \"r\") as file:\n",
    "    problem_set = json.load(file)\n",
    "problems = []\n",
    "answers = []\n",
    "for ps in problem_set:\n",
    "    problems.append(ps['problem'])\n",
    "    answers.append(ps['answer'])"
   ]
  },
  {
   "cell_type": "code",
   "execution_count": null,
   "metadata": {},
   "outputs": [],
   "source": [
    "english_problems = []\n",
    "for problem in problems:\n",
    "    output = chain_translate.invoke({\"problem\": problem})\n",
    "    print(output)\n",
    "    english_problems.append(output)"
   ]
  },
  {
   "cell_type": "code",
   "execution_count": null,
   "metadata": {},
   "outputs": [],
   "source": [
    "model_ansewr_english = []\n",
    "for problem in english_problems:\n",
    "    # print(problem)\n",
    "    response = chain_solve.invoke({\"question\": problem, \"ref_form\": ref_form})\n",
    "    print(response)\n",
    "    model_ansewr_english.append(response)"
   ]
  },
  {
   "cell_type": "code",
   "execution_count": null,
   "metadata": {},
   "outputs": [],
   "source": [
    "model_answer_chinese = []\n",
    "for eng_p in model_ansewr_english:\n",
    "    response = chain_reverse.invoke({\"problem\": eng_p})\n",
    "    print(response)\n",
    "    model_answer_chinese.append(response)"
   ]
  },
  {
   "cell_type": "code",
   "execution_count": null,
   "metadata": {},
   "outputs": [],
   "source": [
    "from langchain_core.output_parsers import StrOutputParser\n",
    "async def check(note1: str, note2: str) -> bool:\n",
    "    llm = ChatOpenAI(model='gpt-4o')\n",
    "    sys_prompt =    r\"\"\"\n",
    "                        你是一个题解检查者，你负责检查两个题解的最终答案是否一致。注意：题解不需要一模一样，\n",
    "                        只要保证最后每一问的答案都完全一致即可。\n",
    "                        如果答案一致：请输出是。如果答案不一致：请输出否。请确保输出一个字，不要输出“是“与”否”意外的内容\n",
    "\n",
    "                        题解1:\n",
    "                        {note1}\n",
    "                        \n",
    "                        题解2:\n",
    "                        {note2}\n",
    "                    \"\"\"\n",
    "    prompt = ChatPromptTemplate.from_template(sys_prompt)\n",
    "    parser = StrOutputParser()\n",
    "    chain = prompt | llm | parser\n",
    "\n",
    "    response = chain.invoke(input={\"note1\": note1, \"note2\": note2})\n",
    "    return response"
   ]
  },
  {
   "cell_type": "code",
   "execution_count": null,
   "metadata": {},
   "outputs": [],
   "source": [
    "scores = [0 for _ in range(len(model_answer_chinese))]\n",
    "for i in range(len(model_answer_chinese)):\n",
    "    bsl = answers[i]\n",
    "    tst = model_answer_chinese[i]\n",
    "    chk = await check(bsl, tst)\n",
    "    if chk == '是':\n",
    "        scores[i] = 1"
   ]
  },
  {
   "cell_type": "code",
   "execution_count": null,
   "metadata": {},
   "outputs": [],
   "source": [
    "sum(scores)"
   ]
  },
  {
   "cell_type": "code",
   "execution_count": null,
   "metadata": {},
   "outputs": [],
   "source": [
    "write2 = []\n",
    "for i in range(len(problems)):\n",
    "    cur = {}\n",
    "    cur['problem'] = problems[i]\n",
    "    cur['answer'] = model_answer_chinese[i]\n",
    "    write2.append(cur)"
   ]
  },
  {
   "cell_type": "code",
   "execution_count": null,
   "metadata": {},
   "outputs": [],
   "source": [
    "with open(\"outputs/model_3_output.json\", 'w', encoding='utf-8') as file:\n",
    "    json.dump(write2, file, ensure_ascii=False, indent=4)"
   ]
  },
  {
   "cell_type": "code",
   "execution_count": null,
   "metadata": {},
   "outputs": [],
   "source": [
    "with open(\"outputs/model_3_output.md\", 'w') as file:\n",
    "    for st in write2:\n",
    "        file.write(\"### 问题：\\n\" + st['problem'] + '\\n')\n",
    "        file.write(\"### 答案：\\n\" + st['answer'] + '\\n')\n",
    "        "
   ]
  },
  {
   "cell_type": "code",
   "execution_count": null,
   "metadata": {},
   "outputs": [],
   "source": []
  }
 ],
 "metadata": {
  "kernelspec": {
   "display_name": "compute",
   "language": "python",
   "name": "python3"
  },
  "language_info": {
   "codemirror_mode": {
    "name": "ipython",
    "version": 3
   },
   "file_extension": ".py",
   "mimetype": "text/x-python",
   "name": "python",
   "nbconvert_exporter": "python",
   "pygments_lexer": "ipython3",
   "version": "3.10.14"
  }
 },
 "nbformat": 4,
 "nbformat_minor": 2
}
