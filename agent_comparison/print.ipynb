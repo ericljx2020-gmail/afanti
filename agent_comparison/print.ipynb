{
 "cells": [
  {
   "cell_type": "code",
   "execution_count": 15,
   "metadata": {},
   "outputs": [],
   "source": [
    "import json\n",
    "from langchain_openai import ChatOpenAI\n",
    "from langchain_core.prompts import ChatPromptTemplate\n",
    "from langchain_core.output_parsers import StrOutputParser"
   ]
  },
  {
   "cell_type": "code",
   "execution_count": 2,
   "metadata": {},
   "outputs": [],
   "source": [
    "with open(\"outputs/model_0_output.json\", \"r\") as file:\n",
    "    model_0_output = json.load(file)"
   ]
  },
  {
   "cell_type": "code",
   "execution_count": 4,
   "metadata": {},
   "outputs": [],
   "source": [
    "with open(\"outputs/model_0_output.md\", 'w') as file:\n",
    "    for st in model_0_output:\n",
    "        file.write(\"### 问题：\\n\" + st['problem'] + '\\n')\n",
    "        file.write(\"### 答案：\\n\" + st['answer'] + '\\n')"
   ]
  },
  {
   "cell_type": "code",
   "execution_count": 6,
   "metadata": {},
   "outputs": [],
   "source": [
    "with open(\"outputs/model_1_output.json\", \"r\") as file:\n",
    "    model_1_output = json.load(file)"
   ]
  },
  {
   "cell_type": "code",
   "execution_count": 7,
   "metadata": {},
   "outputs": [],
   "source": [
    "with open(\"outputs/model_1_output.md\", 'w') as file:\n",
    "    for st in model_1_output:\n",
    "        file.write(\"### 问题：\\n\" + st['problem'] + '\\n')\n",
    "        file.write(\"### 板书：\\n\" + st['notes'] + '\\n')\n",
    "        file.write(\"### 解析：\\n\" + st['explanation'] + '\\n')"
   ]
  },
  {
   "cell_type": "code",
   "execution_count": 3,
   "metadata": {},
   "outputs": [],
   "source": [
    "with open(\"outputs/model_2_ouptut.json\", 'r') as file:\n",
    "    model_2_output = json.load(file)"
   ]
  },
  {
   "cell_type": "code",
   "execution_count": 5,
   "metadata": {},
   "outputs": [],
   "source": [
    "with open(\"outputs/model_2_output.md\", \"w\") as file:\n",
    "    for st in model_2_output:\n",
    "        file.write(\"### 问题：\\n\" + st['problem'] + '\\n')\n",
    "        file.write(\"### 板书：\\n\" + st['Note'] + '\\n')\n",
    "        file.write(\"### 解析：\\n\" + st['Expl'] + '\\n')"
   ]
  },
  {
   "cell_type": "code",
   "execution_count": 11,
   "metadata": {},
   "outputs": [],
   "source": [
    "async def check(note1: str, note2: str) -> bool:\n",
    "    llm = ChatOpenAI(model='gpt-4o')\n",
    "    sys_prompt =    r\"\"\"\n",
    "                        你是一个题解检查者，你负责检查两个题解的最终答案是否一致。注意：题解不需要一模一样，\n",
    "                        只要保证最后每一问的答案都完全一致即可。\n",
    "                        如果答案一致：请输出是。如果答案不一致：请输出否。请确保输出一个字，不要输出“是“与”否”意外的内容\n",
    "\n",
    "                        题解1:\n",
    "                        {note1}\n",
    "                        \n",
    "                        题解2:\n",
    "                        {note2}\n",
    "                    \"\"\"\n",
    "    prompt = ChatPromptTemplate.from_template(sys_prompt)\n",
    "    parser = StrOutputParser()\n",
    "    chain = prompt | llm | parser\n",
    "\n",
    "    response = chain.invoke(input={\"note1\": note1, \"note2\": note2})\n",
    "    return response"
   ]
  },
  {
   "cell_type": "markdown",
   "metadata": {},
   "source": [
    "### 正确率对比"
   ]
  },
  {
   "cell_type": "code",
   "execution_count": 6,
   "metadata": {},
   "outputs": [],
   "source": [
    "with open(\"outputs/model_0_output.json\", 'r') as file:\n",
    "    output_0 = json.load(file)"
   ]
  },
  {
   "cell_type": "code",
   "execution_count": 7,
   "metadata": {},
   "outputs": [],
   "source": [
    "with open(\"test_problem_set.json\", 'r') as file:\n",
    "    baseline = json.load(file)"
   ]
  },
  {
   "cell_type": "code",
   "execution_count": 8,
   "metadata": {},
   "outputs": [],
   "source": [
    "with open(\"outputs/model_1_output.json\", 'r') as file:\n",
    "    output_1 = json.load(file)"
   ]
  },
  {
   "cell_type": "code",
   "execution_count": 10,
   "metadata": {},
   "outputs": [],
   "source": [
    "with open(\"outputs/model_2_output.json\", 'r') as file:\n",
    "    output_2 = json.load(file)"
   ]
  },
  {
   "cell_type": "code",
   "execution_count": 16,
   "metadata": {},
   "outputs": [
    {
     "name": "stdout",
     "output_type": "stream",
     "text": [
      "----executing 0----\n",
      "----executing 1----\n",
      "----executing 2----\n",
      "----executing 3----\n",
      "----executing 4----\n",
      "----executing 5----\n",
      "----executing 6----\n",
      "----executing 7----\n",
      "----executing 8----\n",
      "----executing 9----\n",
      "----executing 10----\n",
      "----executing 11----\n",
      "----executing 12----\n",
      "----executing 13----\n",
      "----executing 14----\n",
      "----executing 15----\n",
      "----executing 16----\n",
      "----executing 17----\n",
      "----executing 18----\n",
      "----executing 19----\n",
      "----executing 20----\n",
      "----executing 21----\n",
      "----executing 22----\n",
      "----executing 23----\n",
      "----executing 24----\n",
      "----executing 25----\n",
      "----executing 26----\n",
      "----executing 27----\n",
      "----executing 28----\n",
      "----executing 29----\n",
      "----executing 30----\n",
      "----executing 31----\n",
      "----executing 32----\n",
      "----executing 33----\n",
      "----executing 34----\n",
      "----executing 35----\n",
      "----executing 36----\n",
      "----executing 37----\n",
      "----executing 38----\n",
      "----executing 39----\n",
      "----executing 40----\n",
      "----executing 41----\n",
      "----executing 42----\n",
      "----executing 43----\n",
      "----executing 44----\n",
      "----executing 45----\n",
      "----executing 46----\n",
      "----executing 47----\n",
      "----executing 48----\n",
      "----executing 49----\n",
      "----executing 50----\n",
      "----executing 51----\n",
      "----executing 52----\n",
      "----executing 53----\n",
      "----executing 54----\n",
      "----executing 55----\n",
      "----executing 56----\n",
      "----executing 57----\n",
      "----executing 58----\n",
      "----executing 59----\n",
      "----executing 60----\n",
      "----executing 61----\n",
      "----executing 62----\n",
      "----executing 63----\n",
      "----executing 64----\n",
      "----executing 65----\n",
      "----executing 66----\n",
      "----executing 67----\n",
      "----executing 68----\n",
      "----executing 69----\n",
      "----executing 70----\n",
      "----executing 71----\n",
      "----executing 72----\n",
      "----executing 73----\n",
      "----executing 74----\n",
      "----executing 75----\n",
      "----executing 76----\n",
      "----executing 77----\n",
      "----executing 78----\n",
      "----executing 79----\n",
      "----executing 80----\n",
      "----executing 81----\n",
      "----executing 82----\n",
      "----executing 83----\n",
      "----executing 84----\n",
      "----executing 85----\n",
      "----executing 86----\n",
      "----executing 87----\n",
      "----executing 88----\n",
      "----executing 89----\n",
      "----executing 90----\n",
      "----executing 91----\n",
      "----executing 92----\n",
      "----executing 93----\n",
      "----executing 94----\n",
      "----executing 95----\n",
      "----executing 96----\n",
      "----executing 97----\n",
      "----executing 98----\n",
      "----executing 99----\n"
     ]
    }
   ],
   "source": [
    "### checking model_0\n",
    "score_0 = [0 for _ in range(len(output_0))]\n",
    "for i in range(len(output_0)):\n",
    "    print(f\"----executing {i}----\")\n",
    "    answer = output_0[i]['answer']\n",
    "    baseline_answer = baseline[i]['answer']\n",
    "    response = await check(answer, baseline_answer)\n",
    "    if response == '是':\n",
    "        score_0[i] = 1"
   ]
  },
  {
   "cell_type": "code",
   "execution_count": 17,
   "metadata": {},
   "outputs": [
    {
     "data": {
      "text/plain": [
       "73"
      ]
     },
     "execution_count": 17,
     "metadata": {},
     "output_type": "execute_result"
    }
   ],
   "source": [
    "sum(score_0)"
   ]
  },
  {
   "cell_type": "code",
   "execution_count": 19,
   "metadata": {},
   "outputs": [
    {
     "name": "stdout",
     "output_type": "stream",
     "text": [
      "----executing 0----\n",
      "----executing 1----\n",
      "----executing 2----\n",
      "----executing 3----\n",
      "----executing 4----\n",
      "----executing 5----\n",
      "----executing 6----\n",
      "----executing 7----\n",
      "----executing 8----\n",
      "----executing 9----\n",
      "----executing 10----\n",
      "----executing 11----\n",
      "----executing 12----\n",
      "----executing 13----\n",
      "----executing 14----\n",
      "----executing 15----\n",
      "----executing 16----\n",
      "----executing 17----\n",
      "----executing 18----\n",
      "----executing 19----\n",
      "----executing 20----\n",
      "----executing 21----\n",
      "----executing 22----\n",
      "----executing 23----\n",
      "----executing 24----\n",
      "----executing 25----\n",
      "----executing 26----\n",
      "----executing 27----\n",
      "----executing 28----\n",
      "----executing 29----\n",
      "----executing 30----\n",
      "----executing 31----\n",
      "----executing 32----\n",
      "----executing 33----\n",
      "----executing 34----\n",
      "----executing 35----\n",
      "----executing 36----\n",
      "----executing 37----\n",
      "----executing 38----\n",
      "----executing 39----\n",
      "----executing 40----\n",
      "----executing 41----\n",
      "----executing 42----\n",
      "----executing 43----\n",
      "----executing 44----\n",
      "----executing 45----\n",
      "----executing 46----\n",
      "----executing 47----\n",
      "----executing 48----\n",
      "----executing 49----\n",
      "----executing 50----\n",
      "----executing 51----\n",
      "----executing 52----\n",
      "----executing 53----\n",
      "----executing 54----\n",
      "----executing 55----\n",
      "----executing 56----\n",
      "----executing 57----\n",
      "----executing 58----\n",
      "----executing 59----\n",
      "----executing 60----\n",
      "----executing 61----\n",
      "----executing 62----\n",
      "----executing 63----\n",
      "----executing 64----\n",
      "----executing 65----\n",
      "----executing 66----\n",
      "----executing 67----\n",
      "----executing 68----\n",
      "----executing 69----\n",
      "----executing 70----\n",
      "----executing 71----\n",
      "----executing 72----\n",
      "----executing 73----\n",
      "----executing 74----\n",
      "----executing 75----\n",
      "----executing 76----\n",
      "----executing 77----\n",
      "----executing 78----\n",
      "----executing 79----\n",
      "----executing 80----\n",
      "----executing 81----\n",
      "----executing 82----\n",
      "----executing 83----\n",
      "----executing 84----\n",
      "----executing 85----\n",
      "----executing 86----\n",
      "----executing 87----\n",
      "----executing 88----\n",
      "----executing 89----\n",
      "----executing 90----\n",
      "----executing 91----\n",
      "----executing 92----\n",
      "----executing 93----\n",
      "----executing 94----\n",
      "----executing 95----\n",
      "----executing 96----\n",
      "----executing 97----\n",
      "----executing 98----\n",
      "----executing 99----\n"
     ]
    }
   ],
   "source": [
    "### checking model_0\n",
    "score_1 = [0 for _ in range(len(output_0))]\n",
    "for i in range(len(output_1)):\n",
    "    print(f\"----executing {i}----\")\n",
    "    answer = output_1[i]['notes']\n",
    "    baseline_answer = baseline[i]['answer']\n",
    "    response = await check(answer, baseline_answer)\n",
    "    if response == '是':\n",
    "        score_1[i] = 1"
   ]
  },
  {
   "cell_type": "code",
   "execution_count": 20,
   "metadata": {},
   "outputs": [
    {
     "data": {
      "text/plain": [
       "75"
      ]
     },
     "execution_count": 20,
     "metadata": {},
     "output_type": "execute_result"
    }
   ],
   "source": [
    "sum(score_1)"
   ]
  },
  {
   "cell_type": "code",
   "execution_count": 23,
   "metadata": {},
   "outputs": [
    {
     "name": "stdout",
     "output_type": "stream",
     "text": [
      "----executing 0----\n",
      "----executing 1----\n",
      "----executing 2----\n",
      "----executing 3----\n",
      "----executing 4----\n",
      "----executing 5----\n",
      "----executing 6----\n",
      "----executing 7----\n",
      "----executing 8----\n",
      "----executing 9----\n",
      "----executing 10----\n",
      "----executing 11----\n",
      "----executing 12----\n",
      "----executing 13----\n",
      "----executing 14----\n",
      "----executing 15----\n",
      "----executing 16----\n",
      "----executing 17----\n",
      "----executing 18----\n",
      "----executing 19----\n",
      "----executing 20----\n",
      "----executing 21----\n",
      "----executing 22----\n",
      "----executing 23----\n",
      "----executing 24----\n",
      "----executing 25----\n",
      "----executing 26----\n",
      "----executing 27----\n",
      "----executing 28----\n",
      "----executing 29----\n",
      "----executing 30----\n",
      "----executing 31----\n",
      "----executing 32----\n",
      "----executing 33----\n",
      "----executing 34----\n",
      "----executing 35----\n",
      "----executing 36----\n",
      "----executing 37----\n",
      "----executing 38----\n",
      "----executing 39----\n",
      "----executing 40----\n",
      "----executing 41----\n",
      "----executing 42----\n",
      "----executing 43----\n",
      "----executing 44----\n",
      "----executing 45----\n",
      "----executing 46----\n",
      "----executing 47----\n",
      "----executing 48----\n",
      "----executing 49----\n",
      "----executing 50----\n",
      "----executing 51----\n",
      "----executing 52----\n",
      "----executing 53----\n",
      "----executing 54----\n",
      "----executing 55----\n",
      "----executing 56----\n",
      "----executing 57----\n",
      "----executing 58----\n",
      "----executing 59----\n",
      "----executing 60----\n",
      "----executing 61----\n",
      "----executing 62----\n",
      "----executing 63----\n",
      "----executing 64----\n",
      "----executing 65----\n",
      "----executing 66----\n",
      "----executing 67----\n",
      "----executing 68----\n",
      "----executing 69----\n",
      "----executing 70----\n",
      "----executing 71----\n",
      "----executing 72----\n",
      "----executing 73----\n",
      "----executing 74----\n",
      "----executing 75----\n",
      "----executing 76----\n",
      "----executing 77----\n",
      "----executing 78----\n",
      "----executing 79----\n",
      "----executing 80----\n",
      "----executing 81----\n",
      "----executing 82----\n",
      "----executing 83----\n",
      "----executing 84----\n",
      "----executing 85----\n",
      "----executing 86----\n",
      "----executing 87----\n",
      "----executing 88----\n",
      "----executing 89----\n",
      "----executing 90----\n",
      "----executing 91----\n",
      "----executing 92----\n",
      "----executing 93----\n",
      "----executing 94----\n",
      "----executing 95----\n",
      "----executing 96----\n",
      "----executing 97----\n",
      "----executing 98----\n",
      "----executing 99----\n"
     ]
    }
   ],
   "source": [
    "### checking model_0\n",
    "score_2 = [0 for _ in range(len(output_0))]\n",
    "for i in range(len(output_2)):\n",
    "    print(f\"----executing {i}----\")\n",
    "    answer = output_2[i]['Note']\n",
    "    baseline_answer = baseline[i]['answer']\n",
    "    response = await check(answer, baseline_answer)\n",
    "    if response == '是':\n",
    "        score_2[i] = 1"
   ]
  },
  {
   "cell_type": "code",
   "execution_count": 24,
   "metadata": {},
   "outputs": [
    {
     "data": {
      "text/plain": [
       "91"
      ]
     },
     "execution_count": 24,
     "metadata": {},
     "output_type": "execute_result"
    }
   ],
   "source": [
    "sum(score_2)"
   ]
  },
  {
   "cell_type": "code",
   "execution_count": null,
   "metadata": {},
   "outputs": [],
   "source": []
  }
 ],
 "metadata": {
  "kernelspec": {
   "display_name": "compute",
   "language": "python",
   "name": "python3"
  },
  "language_info": {
   "codemirror_mode": {
    "name": "ipython",
    "version": 3
   },
   "file_extension": ".py",
   "mimetype": "text/x-python",
   "name": "python",
   "nbconvert_exporter": "python",
   "pygments_lexer": "ipython3",
   "version": "3.10.14"
  }
 },
 "nbformat": 4,
 "nbformat_minor": 2
}
