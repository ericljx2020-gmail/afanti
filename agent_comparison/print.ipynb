{
 "cells": [
  {
   "cell_type": "code",
   "execution_count": 1,
   "metadata": {},
   "outputs": [],
   "source": [
    "import json"
   ]
  },
  {
   "cell_type": "code",
   "execution_count": 2,
   "metadata": {},
   "outputs": [],
   "source": [
    "with open(\"outputs/model_0_output.json\", \"r\") as file:\n",
    "    model_0_output = json.load(file)"
   ]
  },
  {
   "cell_type": "code",
   "execution_count": 4,
   "metadata": {},
   "outputs": [],
   "source": [
    "with open(\"outputs/model_0_output.md\", 'w') as file:\n",
    "    for st in model_0_output:\n",
    "        file.write(\"### 问题：\\n\" + st['problem'] + '\\n')\n",
    "        file.write(\"### 答案：\\n\" + st['answer'] + '\\n')"
   ]
  },
  {
   "cell_type": "code",
   "execution_count": 6,
   "metadata": {},
   "outputs": [],
   "source": [
    "with open(\"outputs/model_1_output.json\", \"r\") as file:\n",
    "    model_1_output = json.load(file)"
   ]
  },
  {
   "cell_type": "code",
   "execution_count": 7,
   "metadata": {},
   "outputs": [],
   "source": [
    "with open(\"outputs/model_1_output.md\", 'w') as file:\n",
    "    for st in model_1_output:\n",
    "        file.write(\"### 问题：\\n\" + st['problem'] + '\\n')\n",
    "        file.write(\"### 板书：\\n\" + st['notes'] + '\\n')\n",
    "        file.write(\"### 解析：\\n\" + st['explanation'] + '\\n')"
   ]
  },
  {
   "cell_type": "code",
   "execution_count": 3,
   "metadata": {},
   "outputs": [],
   "source": [
    "with open(\"outputs/model_2_ouptut.json\", 'r') as file:\n",
    "    model_2_output = json.load(file)"
   ]
  },
  {
   "cell_type": "code",
   "execution_count": 5,
   "metadata": {},
   "outputs": [],
   "source": [
    "with open(\"outputs/model_2_output.md\", \"w\") as file:\n",
    "    for st in model_2_output:\n",
    "        file.write(\"### 问题：\\n\" + st['problem'] + '\\n')\n",
    "        file.write(\"### 板书：\\n\" + st['Note'] + '\\n')\n",
    "        file.write(\"### 解析：\\n\" + st['Expl'] + '\\n')"
   ]
  },
  {
   "cell_type": "code",
   "execution_count": null,
   "metadata": {},
   "outputs": [],
   "source": []
  }
 ],
 "metadata": {
  "kernelspec": {
   "display_name": "compute",
   "language": "python",
   "name": "python3"
  },
  "language_info": {
   "codemirror_mode": {
    "name": "ipython",
    "version": 3
   },
   "file_extension": ".py",
   "mimetype": "text/x-python",
   "name": "python",
   "nbconvert_exporter": "python",
   "pygments_lexer": "ipython3",
   "version": "3.10.14"
  }
 },
 "nbformat": 4,
 "nbformat_minor": 2
}
