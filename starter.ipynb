{
 "cells": [
  {
   "cell_type": "code",
   "execution_count": 1,
   "metadata": {},
   "outputs": [],
   "source": [
    "from subtitle_process import fetch_subtitle\n",
    "import getpass\n",
    "import os\n",
    "import json\n",
    "import re\n",
    "from templates import *\n",
    "from functions import inference"
   ]
  },
  {
   "cell_type": "code",
   "execution_count": 2,
   "metadata": {},
   "outputs": [],
   "source": [
    "# 设置临时环境变量\n",
    "def _set_env(var: str):\n",
    "    if not os.environ.get(var):\n",
    "        os.environ[var] = getpass.getpass(f\"{var}: \")\n",
    "\n",
    "\n",
    "_set_env(\"bilibili_ssid\")"
   ]
  },
  {
   "cell_type": "code",
   "execution_count": 3,
   "metadata": {},
   "outputs": [],
   "source": [
    "with open(\"url.json\", 'r') as file:\n",
    "    data = json.load(file)"
   ]
  },
  {
   "cell_type": "code",
   "execution_count": 4,
   "metadata": {},
   "outputs": [
    {
     "data": {
      "text/plain": [
       "'BV1iT411q7GM'"
      ]
     },
     "execution_count": 4,
     "metadata": {},
     "output_type": "execute_result"
    }
   ],
   "source": [
    "data[0]"
   ]
  },
  {
   "cell_type": "code",
   "execution_count": 5,
   "metadata": {},
   "outputs": [
    {
     "name": "stdout",
     "output_type": "stream",
     "text": [
      "Extracted segment: 1iT411q7GM\n",
      "initial url fetch success!\n",
      "the length of subtitles is: 1\n",
      "https://aisubtitle.hdslb.com/bfs/ai_subtitle/prod/484220007107407896653ecb5f2122578ac2f3848cad97b7709?auth_key=1720582925-56ca178565ec4dd5b091ade3d0433c2f-0-433e276f10127a3e3e9c499892631fc3\n"
     ]
    }
   ],
   "source": [
    "problems = []\n",
    "for bv in data:\n",
    "    problems.append(fetch_subtitle(bv))"
   ]
  },
  {
   "cell_type": "code",
   "execution_count": 6,
   "metadata": {},
   "outputs": [],
   "source": [
    "def extract_question_explanations(responses):\n",
    "    questions_and_explanations = []\n",
    "    for response in responses:\n",
    "        pattern = re.compile(r\"### 原题：\\n(.+?)\\n\\n### 讲解：\\n(.+?)\\n\\n### 相似题一：\\n(.+?)\\n\\n### 相似题一讲解：\\n(.+?)\\n\\n\", re.DOTALL)\n",
    "        matches = pattern.findall(response)\n",
    "\n",
    "        for match in matches:\n",
    "            questions_and_explanations.append({\n",
    "                \"original_question\": match[0].strip(),\n",
    "                \"original_explanation\": match[1].strip(),\n",
    "                \"similar_question_1\": match[2].strip(),\n",
    "                \"similar_explanation_1\": match[3].strip(),\n",
    "            })\n",
    "\n",
    "    with open('casestudy_problem_answer.json', 'w', encoding='utf-8') as f:\n",
    "        json.dump(questions_and_explanations, f, ensure_ascii=False, indent=4)\n"
   ]
  },
  {
   "cell_type": "code",
   "execution_count": 9,
   "metadata": {},
   "outputs": [],
   "source": [
    "template_sub_1_similar = r\"\"\"\n",
    "以下是一段视频字幕，请提取出题目和老师对题目的讲解，同时构造一个相似题目并生成与老师讲解风格相似的讲解。请按如下格式输出：\n",
    "\n",
    "### 原题：\n",
    "（提取出的原题）\n",
    "\n",
    "### 讲解：\n",
    "（提取出的讲解）\n",
    "\n",
    "### 相似题一：\n",
    "（构造的相似题目一）\n",
    "\n",
    "### 相似题一讲解：\n",
    "（构造的相似题目一的讲解）\n",
    "\n",
    "视频字幕：\n",
    "{subtitle}\n",
    "\n",
    "注意事项：\n",
    "1. 对于每一道原题，仅构造一道相似题，对于每一题都当作是新题来讲解，不要出现任何类似于“根据我们刚才说的”这样的话，每一个讲解必须以答案结尾，不能够没有答案。\n",
    "2. 保留老师讲解风格但是把和讲解无关的内容过滤掉，比如自问自答的部分都要删除掉。\n",
    "\"\"\"\n",
    "\n",
    "template_expl = r\"\"\"\n",
    "    Role:\n",
    "        你是一位专业且循循善诱数学教师名为小派老师,可以解决小学、初中、高中的数学题目,你将一对一的讲解一个题目。 \n",
    "    Goals:\n",
    "        根据给定的板书内容像老师一样讲解板书内容，根据输入决定你正在输出的是讲解几，比如如果输入是板书一，那么输出就是讲解一，以此类推。\n",
    "\n",
    "    严格按照以下列字符串格式输出:\n",
    "        ### 讲解一:    ### 讲解二:      ...\n",
    "\n",
    "    原题和参考信息:\n",
    "        题目:{question}\n",
    "        参考信息:{ref}\n",
    "\n",
    "    注意事项:\n",
    "        1. 你的讲解要尽量贴合人类老师的讲解风格，言简意赅，清晰明了。\n",
    "        2. 讲解内容应针对板书的具体步骤进行详细说明，解释每一步的思路和方法。\n",
    "        3. 确保每一个讲解都对应一个板书。\n",
    "        4. 板书和讲解的编号必须一一对应，格式必须严格遵守。\n",
    "        5. 讲解内容应突出解题思路和方法，避免过多冗余信息。\n",
    "        6. 你的讲解对象是一位学生而不是一群学生，一定不要出现同学们这样的复数词汇\n",
    "        7. 其它注意事项：\n",
    "            a: 初中不等式还没有学到用方括号圆括号以及并集交集等表示范围，避免使用这些表达。\n",
    "            b: 初中几何题目如证明全等三角形，正面直线平行，板书中需要写上使用了什么定理，并且注意写法是定理短句加括号写在式子后面。\n",
    "            c: 对于选择题的问题，如果需要把各个选项铺陈，用ABCD作为列表标题，别用括号1234。\n",
    "            d: 初中还没有学过排列组合的问题，避免使用排列组合的知识点解答问题。\n",
    "            e: 对于所有题目尽可能有最简单的方式来进行解答，以最大限度上避免超纲的情况发生。\n",
    "\n",
    "    下面是板书的内容(请确保每一个讲解都对应一个板书)：\n",
    "    {notes}\n",
    "\n",
    "    下面是一些名师讲解的其他题目，请你学习他们的讲解风格，并运用到板书的讲解中(注意：你的讲解对象是一位学生而不是一群学生，一定不要出现同学们这样的复数词汇)。\n",
    "    注意：初中还没有学过排列组合的问题，避免使用排列组合的知识点解答问题。\n",
    "    {model_expl}\n",
    "\"\"\""
   ]
  },
  {
   "cell_type": "code",
   "execution_count": 10,
   "metadata": {},
   "outputs": [
    {
     "name": "stdout",
     "output_type": "stream",
     "text": [
      "executing\n",
      "### 原题：\n",
      "两个数相减的差是7.2。如果被减数增加8.6，减数减少2.7，则现在的差是多少？\n",
      "\n",
      "### 讲解：\n",
      "首先，我们要理解题目中的关键变化。被减数增加8.6，那么差也会增加8.6。减数减少2.7，那么差也会增加2.7。我们可以将这些变化逐步加到原来的差上。\n",
      "\n",
      "原来的差是7.2。被减数增加8.6，差也增加8.6，所以新的差是7.2 + 8.6。然后，减数减少2.7，差也增加2.7，所以新的差是7.2 + 8.6 + 2.7。\n",
      "\n",
      "我们来计算一下：\n",
      "7.2 + 8.6 = 15.8\n",
      "15.8 + 2.7 = 18.5\n",
      "\n",
      "所以，现在的差是18.5。\n",
      "\n",
      "### 相似题一：\n",
      "两个数相减的差是5.4。如果被减数增加6.3，减数减少1.8，则现在的差是多少？\n",
      "\n",
      "### 相似题一讲解：\n",
      "首先，我们要理解题目中的关键变化。被减数增加6.3，那么差也会增加6.3。减数减少1.8，那么差也会增加1.8。我们可以将这些变化逐步加到原来的差上。\n",
      "\n",
      "原来的差是5.4。被减数增加6.3，差也增加6.3，所以新的差是5.4 + 6.3。然后，减数减少1.8，差也增加1.8，所以新的差是5.4 + 6.3 + 1.8。\n",
      "\n",
      "我们来计算一下：\n",
      "5.4 + 6.3 = 11.7\n",
      "11.7 + 1.8 = 13.5\n",
      "\n",
      "所以，现在的差是13.5。"
     ]
    }
   ],
   "source": [
    "raw_problem_answer = []\n",
    "for problem in problems:\n",
    "    raw_problem_answer.append(await inference({\"subtitle\": problem}, template_sub_1_similar))\n"
   ]
  },
  {
   "cell_type": "code",
   "execution_count": 11,
   "metadata": {},
   "outputs": [
    {
     "name": "stdout",
     "output_type": "stream",
     "text": [
      "<class 'str'>\n",
      "[('两个数相减的差是7.2。如果被减数增加8.6，减数减少2.7，则现在的差是多少？', '首先，我们要理解题目中的关键变化。被减数增加8.6，那么差也会增加8.6。减数减少2.7，那么差也会增加2.7。我们可以将这些变化逐步加到原来的差上。\\n\\n原来的差是7.2。被减数增加8.6，差也增加8.6，所以新的差是7.2 + 8.6。然后，减数减少2.7，差也增加2.7，所以新的差是7.2 + 8.6 + 2.7。\\n\\n我们来计算一下：\\n7.2 + 8.6 = 15.8\\n15.8 + 2.7 = 18.5\\n\\n所以，现在的差是18.5。', '两个数相减的差是5.4。如果被减数增加6.3，减数减少1.8，则现在的差是多少？', '首先，我们要理解题目中的关键变化。被减数增加6.3，那么差也会增加6.3。减数减少1.8，那么差也会增加1.8。我们可以将这些变化逐步加到原来的差上。')]\n"
     ]
    }
   ],
   "source": [
    "responses = raw_problem_answer\n",
    "questions_and_explanations = []\n",
    "for response in responses:\n",
    "    print(type(response))\n",
    "    pattern = re.compile(r\"### 原题：\\n(.*?)\\n\\n### 讲解：\\n(.*?)\\n\\n### 相似题一：\\n(.*?)\\n\\n### 相似题一讲解：\\n(.*?)\\n\\n\", re.DOTALL)\n",
    "    matches = pattern.findall(response)\n",
    "    print(matches)\n",
    "    for match in matches:\n",
    "        questions_and_explanations.append({\n",
    "            \"original_question\": match[0].strip(),\n",
    "            \"original_explanation\": match[1].strip(),\n",
    "            \"similar_question_1\": match[2].strip(),\n",
    "            \"similar_explanation_1\": match[3].strip(),\n",
    "        })\n",
    "\n",
    "with open('casestudy_problem_answer.json', 'w', encoding='utf-8') as f:\n",
    "    json.dump(questions_and_explanations, f, ensure_ascii=False, indent=4)\n"
   ]
  },
  {
   "cell_type": "code",
   "execution_count": 12,
   "metadata": {},
   "outputs": [],
   "source": [
    "extract_question_explanations(raw_problem_answer)"
   ]
  },
  {
   "cell_type": "code",
   "execution_count": 13,
   "metadata": {},
   "outputs": [
    {
     "data": {
      "text/plain": [
       "[{'original_question': '两个数相减的差是7.2。如果被减数增加8.6，减数减少2.7，则现在的差是多少？',\n",
       "  'original_explanation': '首先，我们要理解题目中的关键变化。被减数增加8.6，那么差也会增加8.6。减数减少2.7，那么差也会增加2.7。我们可以将这些变化逐步加到原来的差上。\\n\\n原来的差是7.2。被减数增加8.6，差也增加8.6，所以新的差是7.2 + 8.6。然后，减数减少2.7，差也增加2.7，所以新的差是7.2 + 8.6 + 2.7。\\n\\n我们来计算一下：\\n7.2 + 8.6 = 15.8\\n15.8 + 2.7 = 18.5\\n\\n所以，现在的差是18.5。',\n",
       "  'similar_question_1': '两个数相减的差是5.4。如果被减数增加6.3，减数减少1.8，则现在的差是多少？',\n",
       "  'similar_explanation_1': '首先，我们要理解题目中的关键变化。被减数增加6.3，那么差也会增加6.3。减数减少1.8，那么差也会增加1.8。我们可以将这些变化逐步加到原来的差上。'}]"
      ]
     },
     "execution_count": 13,
     "metadata": {},
     "output_type": "execute_result"
    }
   ],
   "source": [
    "with open(\"casestudy_problem_answer.json\", 'r') as file:\n",
    "    data = json.load(file)\n",
    "\n",
    "data"
   ]
  },
  {
   "cell_type": "code",
   "execution_count": 14,
   "metadata": {},
   "outputs": [
    {
     "data": {
      "text/plain": [
       "'题目:\\n两个数相减的差是7.2。如果被减数增加8.6，减数减少2.7，则现在的差是多少？\\n\\n讲解:\\n首先，我们要理解题目中的关键变化。被减数增加8.6，那么差也会增加8.6。减数减少2.7，那么差也会增加2.7。我们可以将这些变化逐步加到原来的差上。\\n\\n原来的差是7.2。被减数增加8.6，差也增加8.6，所以新的差是7.2 + 8.6。然后，减数减少2.7，差也增加2.7，所以新的差是7.2 + 8.6 + 2.7。\\n\\n我们来计算一下：\\n7.2 + 8.6 = 15.8\\n15.8 + 2.7 = 18.5\\n\\n所以，现在的差是18.5。\\n\\n'"
      ]
     },
     "execution_count": 14,
     "metadata": {},
     "output_type": "execute_result"
    }
   ],
   "source": [
    "model_explanation = \"\"\n",
    "for ps in data[:3]:\n",
    "    model_explanation += \"题目:\\n\" + ps['original_question'] + '\\n\\n'\n",
    "    model_explanation += \"讲解:\\n\" + ps['original_explanation'] + '\\n\\n'\n",
    "    # model_explanation += \"题目:\\n\" + ps['similar_question_1'] + '\\n\\n'\n",
    "    # model_explanation += \"讲解:\\n\" + ps['similar_explanation_1'] + '\\n\\n'\n",
    "model_explanation"
   ]
  },
  {
   "cell_type": "code",
   "execution_count": 15,
   "metadata": {},
   "outputs": [],
   "source": [
    "orig_answers = []\n",
    "orig_notes = []\n",
    "orig_expls = []\n",
    "refined_explanation = []\n",
    "questions = []"
   ]
  },
  {
   "cell_type": "code",
   "execution_count": 16,
   "metadata": {},
   "outputs": [
    {
     "name": "stdout",
     "output_type": "stream",
     "text": [
      "executing\n",
      "知识点讲解:本题考查的知识点是代数中的加减法，解题关键点是理解被减数和减数的变化对差的影响。\n",
      "\n",
      "### 板书一:\n",
      "设原被减数为$x$，原减数为$y$，\n",
      "依题意得：\n",
      "$x - y = 5.4$\n",
      "\n",
      "### 板书二:\n",
      "被减数增加6.3，减数减少1.8，\n",
      "则新的被减数为$x + 6.3$，\n",
      "新的减数为$y - 1.8$，\n",
      "新的差为：\n",
      "$(x + 6.3) - (y - 1.8)$\n",
      "\n",
      "### 板书三:\n",
      "$\\because x - y = 5.4$\n",
      "$\\therefore (x + 6.3) - (y - 1.8) = (x - y) + 6.3 + 1.8$\n",
      "$= 5.4 + 6.3 + 1.8$\n",
      "$= 13.5$\n",
      "\n",
      "故答案是：13.5\n",
      "\n",
      "### 讲解一:\n",
      "首先设原被减数为$x$，原减数为$y$，根据题意可以得到方程$x - y = 5.4$。\n",
      "\n",
      "### 讲解二:\n",
      "接着，题目给出被减数增加6.3，减数减少1.8，因此新的被减数为$x + 6.3$，新的减数为$y - 1.8$，新的差为$(x + 6.3) - (y - 1.8)$。\n",
      "\n",
      "### 讲解三:\n",
      "利用已知的$x - y = 5.4$，我们可以将新的差表示为$(x - y) + 6.3 + 1.8$，计算得出新的差为13.5。故答案是13.5。executing\n",
      "### 讲解一:\n",
      "首先，我们需要设定一些变量来表示题目中的被减数和减数。设原被减数为$x$，原减数为$y$。根据题目中的信息，我们知道两个数相减的差是5.4，因此可以写出以下等式：\n",
      "\\[ x - y = 5.4 \\]\n",
      "这一步是为了明确题目给出的初始条件。\n",
      "\n",
      "### 讲解二:\n",
      "接下来，我们根据题目中的变化来调整被减数和减数。题目说被减数增加6.3，减数减少1.8。因此，新的被减数可以表示为$x + 6.3$，新的减数可以表示为$y - 1.8$。于是，新的差可以表示为：\n",
      "\\[ (x + 6.3) - (y - 1.8) \\]\n",
      "这一步是为了将题目中的变化具体化，方便后续计算。\n",
      "\n",
      "### 讲解三:\n",
      "现在，我们将新的差展开并进行计算。首先，根据之前的等式$x - y = 5.4$，我们可以将新的差表示为：\n",
      "\\[ (x + 6.3) - (y - 1.8) = (x - y) + 6.3 + 1.8 \\]\n",
      "因为$x - y = 5.4$，所以可以代入得到：\n",
      "\\[ (x - y) + 6.3 + 1.8 = 5.4 + 6.3 + 1.8 \\]\n",
      "接下来，我们进行简单的加法计算：\n",
      "\\[ 5.4 + 6.3 + 1.8 = 13.5 \\]\n",
      "因此，新的差是13.5。\n",
      "\n",
      "通过这几步，我们一步一步地将题目中的变化转化为数学表达式，并最终得到了答案。"
     ]
    }
   ],
   "source": [
    "'''\n",
    "对于每一个<原题,相似题>，用两个prompt来分别对相似题进行解答\n",
    "    1. 用original prompt对相似题直接进行解答\n",
    "    2. 将原题解答及相似题解答作为few shots examples喂给另一个prompt来对比两种的效果哪一个比较好\n",
    "'''\n",
    "\n",
    "with open(\"casestudy_problem_answer.json\", 'r') as file:\n",
    "    problem_set = json.load(file)\n",
    "\n",
    "\n",
    "for ps in problem_set:\n",
    "    orig_answers.append(await inference({\"question\": ps['similar_question_1'], \"ref_form\": ref_form, \"ref\": ref}, template_orig))\n",
    "    pattern1 = r\"### 板书一:[\\s\\S]*?(?:### 板书二:[\\s\\S]*?)?(?=### 讲解一)\"\n",
    "    orig_note = re.search(pattern1, orig_answers[-1]).group()\n",
    "    pattern2 = r\"### 讲解一:[\\s\\S]*\"\n",
    "    orig_expl = re.search(pattern2, orig_answers[-1]).group()\n",
    "    orig_notes.append(orig_note)\n",
    "    orig_expls.append(orig_expl)\n",
    "    questions.append(ps['similar_question_1'])\n",
    "    refined_explanation.append(await inference({\"question\": ps['similar_question_1'], \"ref\": ref, \"notes\": orig_note, \"model_expl\": model_explanation}, template_expl))\n",
    "\n",
    "# print(orig_notes)\n",
    "# print(refined_explanation)    "
   ]
  },
  {
   "cell_type": "code",
   "execution_count": 18,
   "metadata": {},
   "outputs": [],
   "source": [
    "with open(\"compare_results_2.md\", 'a') as file:\n",
    "    for i in range(len(questions)):\n",
    "        file.write(\"# 原题：\\n\" + questions[i] + '\\n\\n')\n",
    "        file.write(\"# 原本板书：\\n\" + orig_notes[i] + '\\n\\n')\n",
    "        file.write(\"# 原本解答：\\n\" + orig_expls[i] + '\\n\\n')\n",
    "        file.write(\"# 新解答：\\n\" + refined_explanation[i] + '\\n\\n')"
   ]
  },
  {
   "cell_type": "code",
   "execution_count": 31,
   "metadata": {},
   "outputs": [
    {
     "name": "stdout",
     "output_type": "stream",
     "text": [
      "12\n"
     ]
    }
   ],
   "source": [
    "print(len(orig_expls))"
   ]
  },
  {
   "cell_type": "code",
   "execution_count": 32,
   "metadata": {},
   "outputs": [
    {
     "name": "stdout",
     "output_type": "stream",
     "text": [
      "###讲解一:\n",
      "首先，我们将原式$(2a+2b+1)(2a+2b-1)=63$进行因式分解，利用平方差公式$(x+1)(x-1)=x^2-1$，设$x=2a+2b$，则原式变为$x^2-1=63$。\n",
      "\n",
      "###讲解二:\n",
      "接下来，我们解方程$x^2-1=63$，得到$x^2=64$，所以$x=±8$。然后将$x$代入$2a+2b=x$，分别得到$2a+2b=8$和$2a+2b=-8$，从而求得$a+b=4$或$a+b=-4$。故答案是$a+b=4$或$a+b=-4$。\n",
      "\n"
     ]
    }
   ],
   "source": [
    "import re\n",
    "\n",
    "text = \"\"\"\n",
    "知识点讲解:本题考查的知识点是因式分解与方程求解，解题关键点是利用平方差公式将原式化简并求解。\n",
    "\n",
    "###板书一:\n",
    "解：\n",
    "$(2a+2b+1)(2a+2b-1)=63$\n",
    "\n",
    "$设x=2a+2b$\n",
    "\n",
    "$则(x+1)(x-1)=63$\n",
    "\n",
    "$x^2-1=63$\n",
    "\n",
    "$x^2=64$\n",
    "\n",
    "$x=±8$\n",
    "\n",
    "$2a+2b=8$\n",
    "\n",
    "$a+b=4$\n",
    "\n",
    "$2a+2b=-8$\n",
    "\n",
    "$a+b=-4$\n",
    "\n",
    "故答案是$a+b=4$或$a+b=-4$\n",
    "\n",
    "###讲解一:\n",
    "首先，我们将原式$(2a+2b+1)(2a+2b-1)=63$进行因式分解，利用平方差公式$(x+1)(x-1)=x^2-1$，设$x=2a+2b$，则原式变为$x^2-1=63$。\n",
    "\n",
    "###讲解二:\n",
    "接下来，我们解方程$x^2-1=63$，得到$x^2=64$，所以$x=±8$。然后将$x$代入$2a+2b=x$，分别得到$2a+2b=8$和$2a+2b=-8$，从而求得$a+b=4$或$a+b=-4$。故答案是$a+b=4$或$a+b=-4$。\n",
    "\"\"\"\n",
    "\n",
    "pattern = r\"###讲解一:[\\s\\S]*\"\n",
    "match = re.search(pattern, text).group()\n",
    "\n",
    "if match:\n",
    "    print(match)\n",
    "else:\n",
    "    print(\"No match found\")\n"
   ]
  },
  {
   "cell_type": "code",
   "execution_count": null,
   "metadata": {},
   "outputs": [],
   "source": []
  }
 ],
 "metadata": {
  "kernelspec": {
   "display_name": "compute",
   "language": "python",
   "name": "python3"
  },
  "language_info": {
   "codemirror_mode": {
    "name": "ipython",
    "version": 3
   },
   "file_extension": ".py",
   "mimetype": "text/x-python",
   "name": "python",
   "nbconvert_exporter": "python",
   "pygments_lexer": "ipython3",
   "version": "3.10.14"
  }
 },
 "nbformat": 4,
 "nbformat_minor": 2
}
