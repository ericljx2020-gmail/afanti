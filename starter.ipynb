{
 "cells": [
  {
   "cell_type": "code",
   "execution_count": 1,
   "metadata": {},
   "outputs": [],
   "source": [
    "from subtitle_process import fetch_subtitle\n",
    "import getpass\n",
    "import os\n",
    "import json\n",
    "import re\n",
    "from templates import *\n",
    "from functions import inference"
   ]
  },
  {
   "cell_type": "code",
   "execution_count": 2,
   "metadata": {},
   "outputs": [],
   "source": [
    "# 设置临时环境变量\n",
    "def _set_env(var: str):\n",
    "    if not os.environ.get(var):\n",
    "        os.environ[var] = getpass.getpass(f\"{var}: \")\n",
    "\n",
    "\n",
    "_set_env(\"bilibili_ssid\")"
   ]
  },
  {
   "cell_type": "code",
   "execution_count": 3,
   "metadata": {},
   "outputs": [],
   "source": [
    "with open(\"url.json\", 'r') as file:\n",
    "    data = json.load(file)"
   ]
  },
  {
   "cell_type": "code",
   "execution_count": 4,
   "metadata": {},
   "outputs": [
    {
     "data": {
      "text/plain": [
       "'BV1FU411f7AX'"
      ]
     },
     "execution_count": 4,
     "metadata": {},
     "output_type": "execute_result"
    }
   ],
   "source": [
    "data[0]"
   ]
  },
  {
   "cell_type": "code",
   "execution_count": 5,
   "metadata": {},
   "outputs": [
    {
     "name": "stdout",
     "output_type": "stream",
     "text": [
      "Extracted segment: 1FU411f7AX\n",
      "initial url fetch success!\n",
      "the length of subtitles is: 1\n",
      "https://aisubtitle.hdslb.com/bfs/ai_subtitle/prod/190453309015469940094d5ad77763724ec3218b62ecfdcaee9d?auth_key=1720585368-ccfeba5022794bfabcdc7438cfacc005-0-48e149ba6e0f4c8d86629ea127119094\n",
      "Extracted segment: 1Hx4y167B2\n",
      "initial url fetch success!\n",
      "the length of subtitles is: 1\n",
      "https://aisubtitle.hdslb.com/bfs/ai_subtitle/prod/10036383521516886557971445b1fe1305ef022ff4db56987934?auth_key=1720585373-6349865ef0d24085b19743916a7b0b6d-0-58119b322f7d1e547b0278aa6d8dfa54\n",
      "Extracted segment: 1Ux4y187nS\n",
      "initial url fetch success!\n",
      "the length of subtitles is: 1\n",
      "https://aisubtitle.hdslb.com/bfs/ai_subtitle/prod/10033403111512448704033241eea1d30f40e89a16f05f3b79e0?auth_key=1720585377-bd509119df9a4553a77615728467259b-0-782713360e03998436f720c6d61c39af\n",
      "Extracted segment: 16z4y1w7h2\n",
      "initial url fetch success!\n",
      "the length of subtitles is: 1\n",
      "https://aisubtitle.hdslb.com/bfs/ai_subtitle/prod/5784052141332564220823b85ecf05bf46dfb7bacb0551e06a7?auth_key=1720585381-6ee8f5d6e33042c89e48ec62bc0aeb06-0-881b60a06401a77960297f732d3fe7c6\n"
     ]
    }
   ],
   "source": [
    "problems = []\n",
    "for bv in data:\n",
    "    problems.append(fetch_subtitle(bv))"
   ]
  },
  {
   "cell_type": "code",
   "execution_count": 6,
   "metadata": {},
   "outputs": [],
   "source": [
    "def extract_question_explanations(responses):\n",
    "    questions_and_explanations = []\n",
    "    for response in responses:\n",
    "        pattern = re.compile(r\"### 原题：\\n(.+?)\\n\\n### 讲解：\\n(.+?)\\n\\n### 相似题一：\\n(.+?)\\n\\n### 相似题一讲解：\\n(.+?)\\n\\n\", re.DOTALL)\n",
    "        matches = pattern.findall(response)\n",
    "\n",
    "        for match in matches:\n",
    "            questions_and_explanations.append({\n",
    "                \"original_question\": match[0].strip(),\n",
    "                \"original_explanation\": match[1].strip(),\n",
    "                \"similar_question_1\": match[2].strip(),\n",
    "                \"similar_explanation_1\": match[3].strip(),\n",
    "            })\n",
    "\n",
    "    with open('casestudy_problem_answer.json', 'w', encoding='utf-8') as f:\n",
    "        json.dump(questions_and_explanations, f, ensure_ascii=False, indent=4)\n"
   ]
  },
  {
   "cell_type": "code",
   "execution_count": 7,
   "metadata": {},
   "outputs": [],
   "source": [
    "template_sub_1_similar = r\"\"\"\n",
    "以下是一段视频字幕，请提取出题目和老师对题目的讲解，同时构造一个相似题目并生成与老师讲解风格相似的讲解。请按如下格式输出：\n",
    "\n",
    "### 原题：\n",
    "（提取出的原题）\n",
    "\n",
    "### 讲解：\n",
    "（提取出的讲解）\n",
    "\n",
    "### 相似题一：\n",
    "（构造的相似题目一）\n",
    "\n",
    "### 相似题一讲解：\n",
    "（构造的相似题目一的讲解）\n",
    "\n",
    "视频字幕：\n",
    "{subtitle}\n",
    "\n",
    "注意事项：\n",
    "1. 对于每一道原题，仅构造一道相似题，对于每一题都当作是新题来讲解，不要出现任何类似于“根据我们刚才说的”这样的话，每一个讲解必须以答案结尾，不能够没有答案。\n",
    "2. 保留老师讲解风格但是把和讲解无关的内容过滤掉，比如自问自答的部分都要删除掉。\n",
    "\"\"\"\n",
    "\n",
    "template_expl = r\"\"\"\n",
    "    Role:\n",
    "        你是一位专业且循循善诱数学教师名为小派老师,可以解决小学、初中、高中的数学题目,你将一对一的讲解一个题目。 \n",
    "    Goals:\n",
    "        根据给定的板书内容像老师一样讲解板书内容，根据输入决定你正在输出的是讲解几，比如如果输入是板书一，那么输出就是讲解一，以此类推。\n",
    "\n",
    "    严格按照以下列字符串格式输出:\n",
    "        ### 讲解一:    ### 讲解二:      ...\n",
    "\n",
    "    原题和参考信息:\n",
    "        题目:{question}\n",
    "        参考信息:{ref}\n",
    "\n",
    "    注意事项:\n",
    "        1. 你的讲解要尽量贴合人类老师的讲解风格，言简意赅，清晰明了。\n",
    "        2. 讲解内容应针对板书的具体步骤进行详细说明，解释每一步的思路和方法。\n",
    "        3. 确保每一个讲解都对应一个板书。\n",
    "        4. 板书和讲解的编号必须一一对应，格式必须严格遵守。\n",
    "        5. 讲解内容应突出解题思路和方法，避免过多冗余信息。\n",
    "        6. 你的讲解对象是一位学生而不是一群学生，一定不要出现同学们这样的复数词汇\n",
    "        7. 其它注意事项：\n",
    "            a: 初中不等式还没有学到用方括号圆括号以及并集交集等表示范围，避免使用这些表达。\n",
    "            b: 初中几何题目如证明全等三角形，正面直线平行，板书中需要写上使用了什么定理，并且注意写法是定理短句加括号写在式子后面。\n",
    "            c: 对于选择题的问题，如果需要把各个选项铺陈，用ABCD作为列表标题，别用括号1234。\n",
    "            d: 初中还没有学过排列组合的问题，避免使用排列组合的知识点解答问题。\n",
    "            e: 对于所有题目尽可能有最简单的方式来进行解答，以最大限度上避免超纲的情况发生。\n",
    "\n",
    "    下面是板书的内容(请确保每一个讲解都对应一个板书)：\n",
    "    {notes}\n",
    "\n",
    "    下面是一些名师讲解的其他题目，请你学习他们的讲解风格，并运用到板书的讲解中(注意：你的讲解对象是一位学生而不是一群学生，一定不要出现同学们这样的复数词汇)。\n",
    "    注意：初中还没有学过排列组合的问题，避免使用排列组合的知识点解答问题。\n",
    "    {model_expl}\n",
    "\"\"\""
   ]
  },
  {
   "cell_type": "code",
   "execution_count": 8,
   "metadata": {},
   "outputs": [
    {
     "name": "stdout",
     "output_type": "stream",
     "text": [
      "executing\n",
      "### 原题：\n",
      "两个质数的和为39，这两个质数分别是多少？\n",
      "\n",
      "### 讲解：\n",
      "我们假设这两个质数分别是A和B，且A + B = 39。首先，我们需要注意到39是一个奇数。根据数的性质，只有奇数加偶数才能等于奇数。因此，这两个质数中必须有一个是奇数，另一个是偶数。再满足第二个条件，即两个数都要是质数。我们知道唯一的偶质数是2。那么，A或B中有一个是2，另一个数就是37。因此，这两个质数分别是37和2。\n",
      "\n",
      "### 相似题一：\n",
      "两个质数的和为41，这两个质数分别是多少？\n",
      "\n",
      "### 相似题一讲解：\n",
      "我们假设这两个质数分别是A和B，且A + B = 41。首先，我们需要注意到41是一个奇数。根据数的性质，只有奇数加偶数才能等于奇数。因此，这两个质数中必须有一个是奇数，另一个是偶数。再满足第二个条件，即两个数都要是质数。我们知道唯一的偶质数是2。那么，A或B中有一个是2，另一个数就是41 - 2 = 39。但是39不是质数，所以我们需要重新考虑。我们可以尝试其他组合，最终发现41可以分解为两个质数的和，即5和36，但36不是质数。继续尝试，最终发现41可以分解为两个质数的和，即11和30，但30也不是质数。最后，我们发现41可以分解为两个质数的和，即3和38，但38也不是质数。经过多次尝试，我们发现41不能分解为两个质数的和。因此，这个题目没有符合条件的答案。executing\n",
      "### 原题：\n",
      "有五元、十元的人民币共14张，共100元。五元和十元各几张？\n",
      "\n",
      "### 讲解：\n",
      "这里总共有14张人民币。我们假设这14张人民币全是五元的，那么总金额就是14×5=70元。但实际总金额是100元，所以这里有一个差额。这个差额是因为我们把十元的人民币当成了五元的人民币。每张十元的人民币比五元的多5元，所以总金额会少掉5元。总共少掉的金额是100-70=30元。我们可以通过这个差额来计算十元的张数。十元的张数就是总共少掉的金额除以每张少掉的金额，即30÷5=6张。所以十元的有6张。五元的张数就是总数14减去十元的张数6，等于8张。\n",
      "\n",
      "### 相似题一：\n",
      "有两元、五元的人民币共20张，共60元。两元和五元各几张？\n",
      "\n",
      "### 相似题一讲解：\n",
      "这里总共有20张人民币。我们假设这20张人民币全是两元的，那么总金额就是20×2=40元。但实际总金额是60元，所以这里有一个差额。这个差额是因为我们把五元的人民币当成了两元的人民币。每张五元的人民币比两元的多3元，所以总金额会少掉3元。总共少掉的金额是60-40=20元。我们可以通过这个差额来计算五元的张数。五元的张数就是总共少掉的金额除以每张少掉的金额，即20÷3=6.67张。由于张数必须是整数，所以我们需要重新考虑假设。假设五元的张数为x，那么两元的张数为20-x。总金额为5x + 2(20-x) = 60。解这个方程，5x + 40 - 2x = 60，3x = 20，x = 6.67。显然这个假设不成立，我们需要重新审视题目条件。正确的解法是：假设五元的张数为x，那么两元的张数为20-x。总金额为5x + 2(20-x) = 60。解这个方程，5x + 40 - 2x = 60，3x = 20，x = 6.67。显然这个假设不成立，我们需要重新审视题目条件。正确的解法是：假设五元的张数为x，那么两元的张数为20-x。总金额为5x + 2(20-x) = 60。解这个方程，5x + 40 - 2x = 60，3x = 20，x = 6.67。显然这个假设不成立，我们需要重新审视题目条件。正确的解法是：假设五元的张数为x，那么两元的张数为20-x。总金额为5x + 2(20-x) = 60。解这个方程，5x + 40 - 2x = 60，3x = 20，x = 6.67。显然这个假设不成立，我们需要重新审视题目条件。正确的解法是：假设五元的张数为x，那么两元的张数为20-x。总金额为5x + 2(20-x) = 60。解这个方程，5x + 40 - 2x = 60，3x = 20，x = 6.67。显然这个假设不成立，我们需要重新审视题目条件。正确的解法是：假设五元的张数为x，那么两元的张数为20-x。总金额为5x + 2(20-x) = 60。解这个方程，5x + 40 - 2x = 60，3x = 20，x = 6.67。显然这个假设不成立，我们需要重新审视题目条件。正确的解法是：假设五元的张数为x，那么两元的张数为20-x。总金额为5x + 2(20-x) = 60。解这个方程，5x + 40 - 2x = 60，3x = 20，x = 6.67。显然这个假设不成立，我们需要executing\n",
      "### 原题：\n",
      "求这个大长方形的面积，这个长方形分成两个图形，阴影和这个正方形。阴影是已知的，那只需要求出它的面积等于多少一加就可以了吧。求它的面积的话我们要知道这个边长等于多少。好，我们看一下怎么去利用已知条件，这个已知条件都是关于这个阴影的。这个阴影部分它是一个不规则图形。好，我们去给它分割一下，把它分一分。好，那这里分成了三部分，这一部分和这部分，这部分三个长方形。那么看到哪一个长方形是可以求出面积来的。这一段移过来这里是不是3cm，这一段对下来这里是不是8cm，这个面积是不是可以求出来，对不对，那就3×8=24平方厘米。好，那么看到这两个分别去求的话都跟这个正方形的边长有关。我们本来就是要求这个正方形边长，不要去求。好，我们去先看到把这个给他算出来，这个是我们把它标上这个S1个S2这个S3。好，SR它就等于38等于24平方厘米，这是它的面积。那么看到S1和S3它们的和，因为整个面积是知道的，他们的和是可以知道了吧，那它们的和就是S1加上S3等于整个是九十，九十减去24等于66平方厘米，对不对。好，我们看到这里66平方厘米指的是他两个人相加，现在他们是分开的，对吧。好，他们俩有什么联系，他们都有一个边是跟这个正方形的边长对吧有关的，这是它的一条边，这是它的一条边啊，他们俩又相等的。那现在我们可以给它做一个什么变化，位置给它挪一挪啊，他们俩分开了，对不对。我们把它拼在一起去，把这里挪到这里来啊，给它挪到这个地方来，这样拼成一个大的长方形，对不对。好，我们看一下这个大长方这一段是3cm的吧，这个大长方形的长是一致的。面积我们俩这里又求出来等于66，面积知道长也知道，那宽是不是可以求出来，那这里就是66去除以括号3+8的和，算出来这里等于6平方厘米。6cm就是谁，就是这个框也是这个正方形的边长吧。好，边长求出来了，那面积一求算出来再加上这个一部分就是这个大长方形面积吧。好，那就6×6加上90，这里算出来36+90等于126平方厘米。\n",
      "\n",
      "### 讲解：\n",
      "首先，我们需要求出大长方形的面积。已知阴影部分的面积和正方形的边长。我们可以将阴影部分分割成三个长方形，其中一个长方形的面积可以直接求出：3cm × 8cm = 24平方厘米。接下来，我们标记三个部分的面积为S1、S2和S3，其中S2的面积为24平方厘米。已知整个大长方形的面积为90平方厘米，因此S1和S3的面积和为90 - 24 = 66平方厘米。由于S1和S3的边长与正方形的边长相等，我们可以将它们拼成一个新的长方形。这个新的长方形的长为3cm，面积为66平方厘米，因此宽为66 / (3 + 8) = 6cm。这个宽度即为正方形的边长。正方形的面积为6cm × 6cm = 36平方厘米。最后，大长方形的面积为正方形的面积加上阴影部分的面积，即36 + 90 = 126平方厘米。\n",
      "\n",
      "### 相似题一：\n",
      "求这个大长方形的面积，这个长方形分成两个图形，阴影和这个正方形。阴影是已知的，那只需要求出它的面积等于多少一加就可以了吧。求它的面积的话我们要知道这个边长等于多少。好，我们看一下怎么去利用已知条件，这个已知条件都是关于这个阴影的。这个阴影部分它是一个不规则图形。好，我们去给它分割一下，把它分一分。好，那这里分成了三部分，这一部分和这部分，这部分三个长方形。那么看到哪一个executing\n",
      "### 原题：\n",
      "一个数的小数点向右移动一位比原数就大135，求原数是多少？\n",
      "\n",
      "### 讲解：\n",
      "根据题意，小数点向右移动一位，数值会变成原数的十倍。我们可以举例子来看，比如2.5，小数点向右移动一位变成25，0.5向右移动一位变成5，前后对比，变化后的数字是原数的十倍。所有这样的数字都是这样，只要小数点向右移动一位，变化后的数是原数的十倍。\n",
      "\n",
      "根据题目，我们可以得到变化后的数是原数的十倍。变化后的数比原数多135，这就是差倍问题。我们假设原数是x，那么变化后的数就是10x。根据题意，10x比x多135，所以我们可以列出方程：\n",
      "\n",
      "10x - x = 135\n",
      "\n",
      "解这个方程：\n",
      "\n",
      "9x = 135\n",
      "\n",
      "x = 135 / 9\n",
      "\n",
      "x = 15\n",
      "\n",
      "所以，原数是15。我们可以验算一下，15小数点向右移动一位变成150，150比15大135，验证正确。\n",
      "\n",
      "### 相似题一：\n",
      "一个数的小数点向右移动两位比原数就大990，求原数是多少？\n",
      "\n",
      "### 相似题一讲解：\n",
      "根据题意，小数点向右移动两位，数值会变成原数的100倍。我们可以举例子来看，比如0.25，小数点向右移动两位变成25，0.05向右移动两位变成5，前后对比，变化后的数字是原数的100倍。所有这样的数字都是这样，只要小数点向右移动两位，变化后的数是原数的100倍。\n",
      "\n",
      "根据题目，我们可以得到变化后的数是原数的100倍。变化后的数比原数多990，这就是差倍问题。我们假设原数是y，那么变化后的数就是100y。根据题意，100y比y多990，所以我们可以列出方程：\n",
      "\n",
      "100y - y = 990\n",
      "\n",
      "解这个方程：\n",
      "\n",
      "99y = 990\n",
      "\n",
      "y = 990 / 99\n",
      "\n",
      "y = 10\n",
      "\n",
      "所以，原数是10。我们可以验算一下，10小数点向右移动两位变成1000，1000比10大990，验证正确。"
     ]
    }
   ],
   "source": [
    "raw_problem_answer = []\n",
    "for problem in problems:\n",
    "    raw_problem_answer.append(await inference({\"subtitle\": problem}, template_sub_1_similar))\n"
   ]
  },
  {
   "cell_type": "code",
   "execution_count": 9,
   "metadata": {},
   "outputs": [],
   "source": [
    "extract_question_explanations(raw_problem_answer)"
   ]
  },
  {
   "cell_type": "code",
   "execution_count": 10,
   "metadata": {},
   "outputs": [
    {
     "data": {
      "text/plain": [
       "[{'original_question': '一个数的小数点向右移动一位比原数就大135，求原数是多少？',\n",
       "  'original_explanation': '根据题意，小数点向右移动一位，数值会变成原数的十倍。我们可以举例子来看，比如2.5，小数点向右移动一位变成25，0.5向右移动一位变成5，前后对比，变化后的数字是原数的十倍。所有这样的数字都是这样，只要小数点向右移动一位，变化后的数是原数的十倍。\\n\\n根据题目，我们可以得到变化后的数是原数的十倍。变化后的数比原数多135，这就是差倍问题。我们假设原数是x，那么变化后的数就是10x。根据题意，10x比x多135，所以我们可以列出方程：\\n\\n10x - x = 135\\n\\n解这个方程：\\n\\n9x = 135\\n\\nx = 135 / 9\\n\\nx = 15\\n\\n所以，原数是15。我们可以验算一下，15小数点向右移动一位变成150，150比15大135，验证正确。',\n",
       "  'similar_question_1': '一个数的小数点向右移动两位比原数就大990，求原数是多少？',\n",
       "  'similar_explanation_1': '根据题意，小数点向右移动两位，数值会变成原数的100倍。我们可以举例子来看，比如0.25，小数点向右移动两位变成25，0.05向右移动两位变成5，前后对比，变化后的数字是原数的100倍。所有这样的数字都是这样，只要小数点向右移动两位，变化后的数是原数的100倍。'}]"
      ]
     },
     "execution_count": 10,
     "metadata": {},
     "output_type": "execute_result"
    }
   ],
   "source": [
    "with open(\"casestudy_problem_answer.json\", 'r') as file:\n",
    "    data = json.load(file)\n",
    "\n",
    "data"
   ]
  },
  {
   "cell_type": "code",
   "execution_count": 11,
   "metadata": {},
   "outputs": [
    {
     "data": {
      "text/plain": [
       "'题目:\\n一个数的小数点向右移动一位比原数就大135，求原数是多少？\\n\\n讲解:\\n根据题意，小数点向右移动一位，数值会变成原数的十倍。我们可以举例子来看，比如2.5，小数点向右移动一位变成25，0.5向右移动一位变成5，前后对比，变化后的数字是原数的十倍。所有这样的数字都是这样，只要小数点向右移动一位，变化后的数是原数的十倍。\\n\\n根据题目，我们可以得到变化后的数是原数的十倍。变化后的数比原数多135，这就是差倍问题。我们假设原数是x，那么变化后的数就是10x。根据题意，10x比x多135，所以我们可以列出方程：\\n\\n10x - x = 135\\n\\n解这个方程：\\n\\n9x = 135\\n\\nx = 135 / 9\\n\\nx = 15\\n\\n所以，原数是15。我们可以验算一下，15小数点向右移动一位变成150，150比15大135，验证正确。\\n\\n'"
      ]
     },
     "execution_count": 11,
     "metadata": {},
     "output_type": "execute_result"
    }
   ],
   "source": [
    "model_explanation = \"\"\n",
    "for ps in data[:3]:\n",
    "    model_explanation += \"题目:\\n\" + ps['original_question'] + '\\n\\n'\n",
    "    model_explanation += \"讲解:\\n\" + ps['original_explanation'] + '\\n\\n'\n",
    "    # model_explanation += \"题目:\\n\" + ps['similar_question_1'] + '\\n\\n'\n",
    "    # model_explanation += \"讲解:\\n\" + ps['similar_explanation_1'] + '\\n\\n'\n",
    "model_explanation"
   ]
  },
  {
   "cell_type": "code",
   "execution_count": 12,
   "metadata": {},
   "outputs": [],
   "source": [
    "orig_answers = []\n",
    "orig_notes = []\n",
    "orig_expls = []\n",
    "refined_explanation = []\n",
    "questions = []"
   ]
  },
  {
   "cell_type": "code",
   "execution_count": 13,
   "metadata": {},
   "outputs": [
    {
     "name": "stdout",
     "output_type": "stream",
     "text": [
      "executing\n",
      "知识点讲解:本题考查的知识点是方程的建立与解法，解题关键点是根据题意建立方程并求解。\n",
      "\n",
      "### 板书一:\n",
      "设原数为$x$，\n",
      "依题意得：\n",
      "$x \\times 100 = x + 990$\n",
      "\n",
      "### 板书二:\n",
      "$100x = x + 990$\n",
      "\n",
      "### 板书三:\n",
      "$100x - x = 990$\n",
      "\n",
      "### 板书四:\n",
      "$99x = 990$\n",
      "\n",
      "### 板书五:\n",
      "$x = \\frac{990}{99}$\n",
      "\n",
      "### 板书六:\n",
      "$x = 10$\n",
      "\n",
      "故答案是：原数是10。\n",
      "\n",
      "### 讲解一:\n",
      "首先设原数为$x$，根据题意，原数的小数点向右移动两位相当于乘以100，因此可以得到方程$x \\times 100 = x + 990$。\n",
      "\n",
      "### 讲解二:\n",
      "将方程整理为$100x = x + 990$，然后将$x$移到方程的一边，得到$100x - x = 990$。\n",
      "\n",
      "### 讲解三:\n",
      "合并同类项，得到$99x = 990$。\n",
      "\n",
      "### 讲解四:\n",
      "将方程两边同时除以99，得到$x = \\frac{990}{99}$。\n",
      "\n",
      "### 讲解五:\n",
      "计算得出$x = 10$。\n",
      "\n",
      "### 讲解六:\n",
      "因此，原数是10。故答案是：原数是10。executing\n",
      "### 讲解一:\n",
      "首先，我们设原数为$x$。根据题意，小数点向右移动两位意味着这个数会变成原数的100倍。题目告诉我们，这个新数比原数大990。因此，我们可以列出方程：\n",
      "\\[ x \\times 100 = x + 990 \\]\n",
      "这一步是为了将题目中的文字描述转化为数学表达式。\n",
      "\n",
      "### 讲解二:\n",
      "接下来，我们简化方程。将方程左边的$x \\times 100$写成$100x$，这样方程变为：\n",
      "\\[ 100x = x + 990 \\]\n",
      "这一步是为了让方程看起来更简洁，便于后续的计算。\n",
      "\n",
      "### 讲解三:\n",
      "为了进一步简化方程，我们将$x$从方程的右边移到左边。这样我们就得到了：\n",
      "\\[ 100x - x = 990 \\]\n",
      "这一步是通过移项来将所有含有$x$的项放在方程的一边，方便求解。\n",
      "\n",
      "### 讲解四:\n",
      "接下来，我们将左边的$100x - x$合并成$99x$，方程变为：\n",
      "\\[ 99x = 990 \\]\n",
      "这一步是将同类项合并，进一步简化方程。\n",
      "\n",
      "### 讲解五:\n",
      "为了求出$x$的值，我们将方程两边同时除以99，得到：\n",
      "\\[ x = \\frac{990}{99} \\]\n",
      "这一步是通过除法来解方程，求出$x$的具体数值。\n",
      "\n",
      "### 讲解六:\n",
      "最后，我们计算$\\frac{990}{99}$，得到：\n",
      "\\[ x = 10 \\]\n",
      "所以，原数是10。通过这些步骤，我们成功地找到了原数。"
     ]
    }
   ],
   "source": [
    "'''\n",
    "对于每一个<原题,相似题>，用两个prompt来分别对相似题进行解答\n",
    "    1. 用original prompt对相似题直接进行解答\n",
    "    2. 将原题解答及相似题解答作为few shots examples喂给另一个prompt来对比两种的效果哪一个比较好\n",
    "'''\n",
    "\n",
    "with open(\"casestudy_problem_answer.json\", 'r') as file:\n",
    "    problem_set = json.load(file)\n",
    "\n",
    "\n",
    "for ps in problem_set:\n",
    "    orig_answers.append(await inference({\"question\": ps['similar_question_1'], \"ref_form\": ref_form, \"ref\": ref}, template_orig))\n",
    "    pattern1 = r\"### 板书一:[\\s\\S]*?(?:### 板书二:[\\s\\S]*?)?(?=### 讲解一)\"\n",
    "    orig_note = re.search(pattern1, orig_answers[-1]).group()\n",
    "    pattern2 = r\"### 讲解一:[\\s\\S]*\"\n",
    "    orig_expl = re.search(pattern2, orig_answers[-1]).group()\n",
    "    orig_notes.append(orig_note)\n",
    "    orig_expls.append(orig_expl)\n",
    "    questions.append(ps['similar_question_1'])\n",
    "    refined_explanation.append(await inference({\"question\": ps['similar_question_1'], \"ref\": ref, \"notes\": orig_note, \"model_expl\": model_explanation}, template_expl))\n",
    "\n",
    "# print(orig_notes)\n",
    "# print(refined_explanation)    "
   ]
  },
  {
   "cell_type": "code",
   "execution_count": 14,
   "metadata": {},
   "outputs": [],
   "source": [
    "with open(\"compare_results_p5.md\", 'a') as file:\n",
    "    for i in range(len(questions)):\n",
    "        file.write(\"# 原题：\\n\" + questions[i] + '\\n\\n')\n",
    "        file.write(\"# 原本板书：\\n\" + orig_notes[i] + '\\n\\n')\n",
    "        file.write(\"# 原本解答：\\n\" + orig_expls[i] + '\\n\\n')\n",
    "        file.write(\"# 新解答：\\n\" + refined_explanation[i] + '\\n\\n')"
   ]
  },
  {
   "cell_type": "code",
   "execution_count": 31,
   "metadata": {},
   "outputs": [
    {
     "name": "stdout",
     "output_type": "stream",
     "text": [
      "12\n"
     ]
    }
   ],
   "source": [
    "print(len(orig_expls))"
   ]
  },
  {
   "cell_type": "code",
   "execution_count": 32,
   "metadata": {},
   "outputs": [
    {
     "name": "stdout",
     "output_type": "stream",
     "text": [
      "###讲解一:\n",
      "首先，我们将原式$(2a+2b+1)(2a+2b-1)=63$进行因式分解，利用平方差公式$(x+1)(x-1)=x^2-1$，设$x=2a+2b$，则原式变为$x^2-1=63$。\n",
      "\n",
      "###讲解二:\n",
      "接下来，我们解方程$x^2-1=63$，得到$x^2=64$，所以$x=±8$。然后将$x$代入$2a+2b=x$，分别得到$2a+2b=8$和$2a+2b=-8$，从而求得$a+b=4$或$a+b=-4$。故答案是$a+b=4$或$a+b=-4$。\n",
      "\n"
     ]
    }
   ],
   "source": [
    "import re\n",
    "\n",
    "text = \"\"\"\n",
    "知识点讲解:本题考查的知识点是因式分解与方程求解，解题关键点是利用平方差公式将原式化简并求解。\n",
    "\n",
    "###板书一:\n",
    "解：\n",
    "$(2a+2b+1)(2a+2b-1)=63$\n",
    "\n",
    "$设x=2a+2b$\n",
    "\n",
    "$则(x+1)(x-1)=63$\n",
    "\n",
    "$x^2-1=63$\n",
    "\n",
    "$x^2=64$\n",
    "\n",
    "$x=±8$\n",
    "\n",
    "$2a+2b=8$\n",
    "\n",
    "$a+b=4$\n",
    "\n",
    "$2a+2b=-8$\n",
    "\n",
    "$a+b=-4$\n",
    "\n",
    "故答案是$a+b=4$或$a+b=-4$\n",
    "\n",
    "###讲解一:\n",
    "首先，我们将原式$(2a+2b+1)(2a+2b-1)=63$进行因式分解，利用平方差公式$(x+1)(x-1)=x^2-1$，设$x=2a+2b$，则原式变为$x^2-1=63$。\n",
    "\n",
    "###讲解二:\n",
    "接下来，我们解方程$x^2-1=63$，得到$x^2=64$，所以$x=±8$。然后将$x$代入$2a+2b=x$，分别得到$2a+2b=8$和$2a+2b=-8$，从而求得$a+b=4$或$a+b=-4$。故答案是$a+b=4$或$a+b=-4$。\n",
    "\"\"\"\n",
    "\n",
    "pattern = r\"###讲解一:[\\s\\S]*\"\n",
    "match = re.search(pattern, text).group()\n",
    "\n",
    "if match:\n",
    "    print(match)\n",
    "else:\n",
    "    print(\"No match found\")\n"
   ]
  },
  {
   "cell_type": "code",
   "execution_count": null,
   "metadata": {},
   "outputs": [],
   "source": []
  }
 ],
 "metadata": {
  "kernelspec": {
   "display_name": "compute",
   "language": "python",
   "name": "python3"
  },
  "language_info": {
   "codemirror_mode": {
    "name": "ipython",
    "version": 3
   },
   "file_extension": ".py",
   "mimetype": "text/x-python",
   "name": "python",
   "nbconvert_exporter": "python",
   "pygments_lexer": "ipython3",
   "version": "3.10.14"
  }
 },
 "nbformat": 4,
 "nbformat_minor": 2
}
