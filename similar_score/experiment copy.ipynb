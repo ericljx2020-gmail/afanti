{
 "cells": [
  {
   "cell_type": "code",
   "execution_count": 1,
   "metadata": {},
   "outputs": [],
   "source": [
    "import getpass\n",
    "import os\n",
    "\n",
    "\n",
    "def _set_if_undefined(var: str):\n",
    "    if not os.environ.get(var):\n",
    "        os.environ[var] = getpass.getpass(f\"Please provide your {var}\")\n",
    "\n",
    "\n",
    "_set_if_undefined(\"OPENAI_API_KEY\")"
   ]
  },
  {
   "cell_type": "code",
   "execution_count": 2,
   "metadata": {},
   "outputs": [],
   "source": [
    "from langchain_openai import OpenAIEmbeddings\n",
    "\n",
    "import torch\n",
    "from torch import nn\n",
    "from functions import inference"
   ]
  },
  {
   "cell_type": "code",
   "execution_count": 3,
   "metadata": {},
   "outputs": [
    {
     "name": "stdout",
     "output_type": "stream",
     "text": [
      "mps\n"
     ]
    }
   ],
   "source": [
    "device = (\n",
    "    \"cuda\"\n",
    "    if torch.cuda.is_available()\n",
    "    else \"mps\"\n",
    "    if torch.backends.mps.is_available()\n",
    "    else \"cpu\"\n",
    ")\n",
    "print(device)"
   ]
  },
  {
   "cell_type": "code",
   "execution_count": 4,
   "metadata": {},
   "outputs": [],
   "source": [
    "def cosimilarity(p1, p2):\n",
    "    embedding_model = OpenAIEmbeddings(model=\"text-embedding-3-large\")\n",
    "    p1_emb = torch.tensor(embedding_model.embed_query(p1))\n",
    "    p2_emb = torch.tensor(embedding_model.embed_query(p2))\n",
    "    return torch.dot(p1_emb, p2_emb) / (torch.norm(p1_emb) * torch.norm(p2_emb))"
   ]
  },
  {
   "cell_type": "markdown",
   "metadata": {},
   "source": [
    "#### 对比实验，将problem_set.json中所有题目和相似题两两求相似度，看这个相似度是的浮动范围"
   ]
  },
  {
   "cell_type": "code",
   "execution_count": 5,
   "metadata": {},
   "outputs": [],
   "source": [
    "import json\n",
    "with open(\"problem_set.json\", 'r') as file:\n",
    "    data = json.load(file)"
   ]
  },
  {
   "cell_type": "code",
   "execution_count": 6,
   "metadata": {},
   "outputs": [
    {
     "data": {
      "text/plain": [
       "['两个数相减的差是7.2。如果被减数增加8.6，减数减少2.7，则现在的差是多少？',\n",
       " '甲、乙两个人的体重差是15公斤。如果甲的体重增加12.5公斤，乙的体重减少4.8公斤，那么现在甲、乙两个人的体重差是多少？',\n",
       " '2022年参加北京冬奥会的总人数为2892人，比第一届夏蒙尼冬奥会的12倍少204人，参加第一届冬奥会人数是多少人？',\n",
       " '张先生买了5本书和3支笔，共花费56元。如果每本书的价格是每支笔的3倍，并且书的单价比笔贵8元，那么每本书和每支笔的价格分别是多少元？',\n",
       " '6161 × 39 - 3939 × 61',\n",
       " '计算 98×102 的值',\n",
       " '一个等腰三角形其中一个角的度数为50度，求另外两个角的度数。',\n",
       " '在一个三角形ABC中，已知角A为30度，角B为45度，且边AC的长度为10厘米。求边AB的长度。',\n",
       " '两个质数的和为39，这两个质数分别是多少？',\n",
       " '找出两个不同的质数 p 和 q，使得 p+q 是质数，并且 p×q 是合数。']"
      ]
     },
     "execution_count": 6,
     "metadata": {},
     "output_type": "execute_result"
    }
   ],
   "source": [
    "problems = []\n",
    "for ds in data:\n",
    "    problems.append(ds['original_question'])\n",
    "    problems.append(ds['similar_question_1'])\n",
    "problems[:10]"
   ]
  },
  {
   "cell_type": "code",
   "execution_count": 55,
   "metadata": {},
   "outputs": [
    {
     "name": "stdout",
     "output_type": "stream",
     "text": [
      "----calculating 0 and 0----\n",
      "----calculating 0 and 1----\n",
      "----calculating 0 and 2----\n",
      "----calculating 0 and 3----\n",
      "----calculating 0 and 4----\n",
      "----calculating 0 and 5----\n",
      "----calculating 0 and 6----\n",
      "----calculating 0 and 7----\n",
      "----calculating 0 and 8----\n",
      "----calculating 0 and 9----\n",
      "----calculating 1 and 1----\n",
      "----calculating 1 and 2----\n",
      "----calculating 1 and 3----\n",
      "----calculating 1 and 4----\n",
      "----calculating 1 and 5----\n",
      "----calculating 1 and 6----\n",
      "----calculating 1 and 7----\n",
      "----calculating 1 and 8----\n",
      "----calculating 1 and 9----\n",
      "----calculating 2 and 2----\n",
      "----calculating 2 and 3----\n",
      "----calculating 2 and 4----\n",
      "----calculating 2 and 5----\n",
      "----calculating 2 and 6----\n",
      "----calculating 2 and 7----\n",
      "----calculating 2 and 8----\n",
      "----calculating 2 and 9----\n",
      "----calculating 3 and 3----\n",
      "----calculating 3 and 4----\n",
      "----calculating 3 and 5----\n",
      "----calculating 3 and 6----\n",
      "----calculating 3 and 7----\n",
      "----calculating 3 and 8----\n",
      "----calculating 3 and 9----\n",
      "----calculating 4 and 4----\n",
      "----calculating 4 and 5----\n",
      "----calculating 4 and 6----\n",
      "----calculating 4 and 7----\n",
      "----calculating 4 and 8----\n",
      "----calculating 4 and 9----\n",
      "----calculating 5 and 5----\n",
      "----calculating 5 and 6----\n",
      "----calculating 5 and 7----\n",
      "----calculating 5 and 8----\n",
      "----calculating 5 and 9----\n",
      "----calculating 6 and 6----\n",
      "----calculating 6 and 7----\n",
      "----calculating 6 and 8----\n",
      "----calculating 6 and 9----\n",
      "----calculating 7 and 7----\n",
      "----calculating 7 and 8----\n",
      "----calculating 7 and 9----\n",
      "----calculating 8 and 8----\n",
      "----calculating 8 and 9----\n",
      "----calculating 9 and 9----\n"
     ]
    },
    {
     "data": {
      "text/plain": [
       "[[1.0000003576278687,\n",
       "  0.4930083453655243,\n",
       "  0.1816679984331131,\n",
       "  0.2743418216705322,\n",
       "  0.25486132502555847,\n",
       "  0.2348862588405609,\n",
       "  0.20026186108589172,\n",
       "  0.21198856830596924,\n",
       "  0.34354642033576965,\n",
       "  0.24307794868946075],\n",
       " [0,\n",
       "  0.9999996423721313,\n",
       "  0.15886589884757996,\n",
       "  0.293432354927063,\n",
       "  0.22528862953186035,\n",
       "  0.21695031225681305,\n",
       "  0.22395560145378113,\n",
       "  0.29290980100631714,\n",
       "  0.28593963384628296,\n",
       "  0.17245733737945557],\n",
       " [0,\n",
       "  0,\n",
       "  0.9999873638153076,\n",
       "  0.05544416978955269,\n",
       "  0.11034207791090012,\n",
       "  0.15701983869075775,\n",
       "  0.05702918395400047,\n",
       "  0.030126644298434258,\n",
       "  0.1309421807527542,\n",
       "  0.08066099137067795],\n",
       " [0,\n",
       "  0,\n",
       "  0,\n",
       "  0.9999988079071045,\n",
       "  0.2103121131658554,\n",
       "  0.1794530302286148,\n",
       "  0.273135781288147,\n",
       "  0.25059497356414795,\n",
       "  0.25908732414245605,\n",
       "  0.17544710636138916],\n",
       " [0,\n",
       "  0,\n",
       "  0,\n",
       "  0,\n",
       "  0.9999980330467224,\n",
       "  0.26560619473457336,\n",
       "  0.17370668053627014,\n",
       "  0.12776802480220795,\n",
       "  0.506051778793335,\n",
       "  0.30795252323150635],\n",
       " [0,\n",
       "  0,\n",
       "  0,\n",
       "  0,\n",
       "  0,\n",
       "  1.000000238418579,\n",
       "  0.1848609745502472,\n",
       "  0.14732582867145538,\n",
       "  0.22826986014842987,\n",
       "  0.20154668390750885],\n",
       " [0,\n",
       "  0,\n",
       "  0,\n",
       "  0,\n",
       "  0,\n",
       "  0,\n",
       "  1.0,\n",
       "  0.468635618686676,\n",
       "  0.23787912726402283,\n",
       "  0.2333005964756012],\n",
       " [0,\n",
       "  0,\n",
       "  0,\n",
       "  0,\n",
       "  0,\n",
       "  0,\n",
       "  0,\n",
       "  0.999978244304657,\n",
       "  0.17327865958213806,\n",
       "  0.14370928704738617],\n",
       " [0, 0, 0, 0, 0, 0, 0, 0, 0.9999907612800598, 0.5109483599662781],\n",
       " [0, 0, 0, 0, 0, 0, 0, 0, 0, 1.0]]"
      ]
     },
     "execution_count": 55,
     "metadata": {},
     "output_type": "execute_result"
    }
   ],
   "source": [
    "n = len(problems[:10])\n",
    "htmap = [[0 for _ in range(n)] for _ in range(n)]\n",
    "\n",
    "for i in range(n):\n",
    "    for j in range(i, n):\n",
    "        print(f\"----calculating {i} and {j}----\")\n",
    "        htmap[i][j] = cosimilarity(problems[i], problems[j]).item()\n",
    "htmap"
   ]
  },
  {
   "cell_type": "code",
   "execution_count": 56,
   "metadata": {},
   "outputs": [
    {
     "data": {
      "image/png": "[encoded data removed]",
      "text/plain": [
       "<Figure size 640x480 with 2 Axes>"
      ]
     },
     "metadata": {},
     "output_type": "display_data"
    }
   ],
   "source": [
    "# importing the modules \n",
    "import numpy as np \n",
    "import seaborn as sns \n",
    "import matplotlib.pyplot as plt \n",
    "    \n",
    "# generating 2-D 10x10 matrix of random numbers \n",
    "# from 1 to 100 \n",
    "data = np.array(htmap) \n",
    "    \n",
    "# plotting the heatmap \n",
    "hm = sns.heatmap(data=data, \n",
    "                annot=True) \n",
    "    \n",
    "# displaying the plotted heatmap \n",
    "plt.show()"
   ]
  },
  {
   "cell_type": "markdown",
   "metadata": {},
   "source": [
    "#### 先用GPT抽取标签"
   ]
  },
  {
   "cell_type": "code",
   "execution_count": 10,
   "metadata": {},
   "outputs": [],
   "source": [
    "extract_prompt = r\"\"\"\n",
    "    请从以下数学题目中提取关键信息。请返回以下格式的信息：\n",
    "\n",
    "    1. 数学领域和类型（如代数、几何、微积分、统计等）\n",
    "    2. 核心概念和原理（列出题目所需要的数学概念，如比例、相似、函数性质等）\n",
    "    3. 解题方法和策略（列出用到特定的解题技巧，如配方法、换元法、归纳法等）\n",
    "    4. 问题背景和情境（指出题目问题情境，如工程问题、经济问题、自然现象解释）\n",
    "    5. 变量数量（题目所用到变量的数量，一定不要输出变量具体是什么）\n",
    "    6. 题目所属年级（列出这道题最可能出现在哪一年级的试卷上）\n",
    "\n",
    "    示例题目：\n",
    "    求解方程 2x + 3 = 7\n",
    "\n",
    "    示例输出：\n",
    "    1. 数学领域和类型: 代数\n",
    "    2. 核心概念和原理: 方程\n",
    "    3. 解题方法和策略: 移项\n",
    "    4. 问题背景和情境: 无\n",
    "    5. 变量数量: 1\n",
    "    6. 题目所属年级: 4\n",
    "\n",
    "    现在请处理以下题目：\n",
    "    {problem}\n",
    "\"\"\""
   ]
  },
  {
   "cell_type": "code",
   "execution_count": 11,
   "metadata": {},
   "outputs": [
    {
     "name": "stdout",
     "output_type": "stream",
     "text": [
      "executing\n",
      "1. 数学领域和类型: 代数\n",
      "2. 核心概念和原理: 差、加法、减法\n",
      "3. 解题方法和策略: 直接计算\n",
      "4. 问题背景和情境: 日常生活问题\n",
      "5. 变量数量: 2\n",
      "6. 题目所属年级: 5"
     ]
    },
    {
     "data": {
      "text/plain": [
       "'1. 数学领域和类型: 代数\\n2. 核心概念和原理: 差、加法、减法\\n3. 解题方法和策略: 直接计算\\n4. 问题背景和情境: 日常生活问题\\n5. 变量数量: 2\\n6. 题目所属年级: 5'"
      ]
     },
     "execution_count": 11,
     "metadata": {},
     "output_type": "execute_result"
    }
   ],
   "source": [
    "await inference({\"problem\": problems[1]}, extract_prompt)"
   ]
  },
  {
   "cell_type": "code",
   "execution_count": 13,
   "metadata": {},
   "outputs": [],
   "source": [
    "import re"
   ]
  },
  {
   "cell_type": "code",
   "execution_count": 14,
   "metadata": {},
   "outputs": [
    {
     "name": "stdout",
     "output_type": "stream",
     "text": [
      "executing\n",
      "1. 数学领域和类型: 代数\n",
      "2. 核心概念和原理: 数的运算、差\n",
      "3. 解题方法和策略: 直接计算\n",
      "4. 问题背景和情境: 无\n",
      "5. 变量数量: 2\n",
      "6. 题目所属年级: 5executing\n",
      "1. 数学领域和类型: 代数\n",
      "2. 核心概念和原理: 差、加法、减法\n",
      "3. 解题方法和策略: 直接计算\n",
      "4. 问题背景和情境: 日常生活问题\n",
      "5. 变量数量: 2\n",
      "6. 题目所属年级: 5executing\n",
      "1. 数学领域和类型: 代数\n",
      "2. 核心概念和原理: 方程、比例\n",
      "3. 解题方法和策略: 设未知数、列方程、解方程\n",
      "4. 问题背景和情境: 体育赛事统计\n",
      "5. 变量数量: 1\n",
      "6. 题目所属年级: 5executing\n",
      "1. 数学领域和类型: 代数\n",
      "2. 核心概念和原理: 方程、比例\n",
      "3. 解题方法和策略: 设未知数、列方程组、解方程\n",
      "4. 问题背景和情境: 购物问题\n",
      "5. 变量数量: 2\n",
      "6. 题目所属年级: 7executing\n",
      "1. 数学领域和类型: 算术\n",
      "2. 核心概念和原理: 乘法、减法、分配律\n",
      "3. 解题方法和策略: 分配律、简化计算\n",
      "4. 问题背景和情境: 无\n",
      "5. 变量数量: 0\n",
      "6. 题目所属年级: 6executing\n",
      "1. 数学领域和类型: 算术\n",
      "2. 核心概念和原理: 乘法\n",
      "3. 解题方法和策略: 拆分法（将数字拆分成易于计算的部分）\n",
      "4. 问题背景和情境: 无\n",
      "5. 变量数量: 0\n",
      "6. 题目所属年级: 5executing\n",
      "1. 数学领域和类型: 几何\n",
      "2. 核心概念和原理: 三角形内角和、等腰三角形性质\n",
      "3. 解题方法和策略: 角度计算\n",
      "4. 问题背景和情境: 无\n",
      "5. 变量数量: 2\n",
      "6. 题目所属年级: 7executing\n",
      "1. 数学领域和类型: 几何\n",
      "2. 核心概念和原理: 三角形内角和、正弦定理\n",
      "3. 解题方法和策略: 正弦定理\n",
      "4. 问题背景和情境: 无\n",
      "5. 变量数量: 3\n",
      "6. 题目所属年级: 8executing\n",
      "1. 数学领域和类型: 数论\n",
      "2. 核心概念和原理: 质数\n",
      "3. 解题方法和策略: 穷举法\n",
      "4. 问题背景和情境: 无\n",
      "5. 变量数量: 2\n",
      "6. 题目所属年级: 6executing\n",
      "1. 数学领域和类型: 数论\n",
      "2. 核心概念和原理: 质数、合数\n",
      "3. 解题方法和策略: 枚举法、质数判定\n",
      "4. 问题背景和情境: 无\n",
      "5. 变量数量: 2\n",
      "6. 题目所属年级: 8"
     ]
    },
    {
     "data": {
      "text/plain": [
       "[['代数', '数的运算、差', '直接计算', '无', '2', '5'],\n",
       " ['代数', '差、加法、减法', '直接计算', '日常生活问题', '2', '5'],\n",
       " ['代数', '方程、比例', '设未知数、列方程、解方程', '体育赛事统计', '1', '5'],\n",
       " ['代数', '方程、比例', '设未知数、列方程组、解方程', '购物问题', '2', '7'],\n",
       " ['算术', '乘法、减法、分配律', '分配律、简化计算', '无', '0', '6'],\n",
       " ['算术', '乘法', '拆分法（将数字拆分成易于计算的部分）', '无', '0', '5'],\n",
       " ['几何', '三角形内角和、等腰三角形性质', '角度计算', '无', '2', '7'],\n",
       " ['几何', '三角形内角和、正弦定理', '正弦定理', '无', '3', '8'],\n",
       " ['数论', '质数', '穷举法', '无', '2', '6'],\n",
       " ['数论', '质数、合数', '枚举法、质数判定', '无', '2', '8']]"
      ]
     },
     "execution_count": 14,
     "metadata": {},
     "output_type": "execute_result"
    }
   ],
   "source": [
    "problem_mat = []\n",
    "for p in problems[:10]:\n",
    "    cur = []\n",
    "    text = await inference({\"problem\":p}, extract_prompt)\n",
    "    pattern = r'\\d+\\.\\s.*?:\\s*(.*)'\n",
    "    matches = re.findall(pattern, text)\n",
    "    for i, match in enumerate(matches, 1):\n",
    "        cur.append(match)\n",
    "    problem_mat.append(cur)\n",
    "\n",
    "problem_mat"
   ]
  },
  {
   "cell_type": "code",
   "execution_count": 15,
   "metadata": {},
   "outputs": [],
   "source": [
    "weights = [0.4, 0.2, 0.15, 0.05, 0.05, 0.15]"
   ]
  },
  {
   "cell_type": "code",
   "execution_count": 16,
   "metadata": {},
   "outputs": [
    {
     "name": "stdout",
     "output_type": "stream",
     "text": [
      "-----calculating 0 and 0-----\n",
      "-----calculating 0 and 1-----\n",
      "-----calculating 0 and 2-----\n",
      "-----calculating 0 and 3-----\n",
      "-----calculating 0 and 4-----\n",
      "-----calculating 0 and 5-----\n",
      "-----calculating 1 and 1-----\n",
      "-----calculating 1 and 2-----\n",
      "-----calculating 1 and 3-----\n",
      "-----calculating 1 and 4-----\n",
      "-----calculating 1 and 5-----\n",
      "-----calculating 2 and 2-----\n",
      "-----calculating 2 and 3-----\n",
      "-----calculating 2 and 4-----\n",
      "-----calculating 2 and 5-----\n",
      "-----calculating 3 and 3-----\n",
      "-----calculating 3 and 4-----\n",
      "-----calculating 3 and 5-----\n",
      "-----calculating 4 and 4-----\n",
      "-----calculating 4 and 5-----\n",
      "-----calculating 5 and 5-----\n"
     ]
    }
   ],
   "source": [
    "htmap2 = [[0 for _ in range(6)] for _ in range(6)]\n",
    "for i in range(6):\n",
    "    for j in range(i, 6):\n",
    "        print(f\"-----calculating {i} and {j}-----\")\n",
    "        tot_similarity = 0\n",
    "        for k in range(6):\n",
    "            tot_similarity += weights[k] * cosimilarity(problem_mat[i][k], problem_mat[j][k]).item()\n",
    "        # avg_similarity = tot_similarity / 6\n",
    "        htmap2[i][j] = tot_similarity"
   ]
  },
  {
   "cell_type": "code",
   "execution_count": 25,
   "metadata": {},
   "outputs": [],
   "source": [
    "tmp = [[0 for _ in range(6)] for _ in range(6)]\n",
    "for i in range(6):\n",
    "    for j in range(6):\n",
    "        tmp[i][j] = htmap2[i][j]\n"
   ]
  },
  {
   "cell_type": "code",
   "execution_count": 26,
   "metadata": {},
   "outputs": [],
   "source": [
    "for i in range(6):\n",
    "    for j in range(i):\n",
    "        tmp[i][j] = tmp[j][i]"
   ]
  },
  {
   "cell_type": "code",
   "execution_count": 27,
   "metadata": {},
   "outputs": [],
   "source": [
    "for i in range(6):\n",
    "    tmp[i][i] = 0"
   ]
  },
  {
   "cell_type": "code",
   "execution_count": 34,
   "metadata": {},
   "outputs": [],
   "source": [
    "import torch\n",
    "import torch.nn.functional as F\n",
    "\n",
    "logits = torch.tensor(tmp)\n",
    "temperature = 0.5\n",
    "prob = F.softmax(logits, dim=1)"
   ]
  },
  {
   "cell_type": "code",
   "execution_count": 36,
   "metadata": {},
   "outputs": [
    {
     "data": {
      "image/png": "[encoded data removed]",
      "text/plain": [
       "<Figure size 640x480 with 2 Axes>"
      ]
     },
     "metadata": {},
     "output_type": "display_data"
    }
   ],
   "source": [
    "# importing the modules \n",
    "import numpy as np \n",
    "import seaborn as sns \n",
    "import matplotlib.pyplot as plt \n",
    "    \n",
    "# generating 2-D 10x10 matrix of random numbers \n",
    "# from 1 to 100 \n",
    "data = np.array(htmap2) \n",
    "    \n",
    "# plotting the heatmap \n",
    "hm = sns.heatmap(data=data, \n",
    "                annot=True) \n",
    "    \n",
    "# displaying the plotted heatmap \n",
    "plt.show()"
   ]
  },
  {
   "cell_type": "code",
   "execution_count": 39,
   "metadata": {},
   "outputs": [
    {
     "data": {
      "text/plain": [
       "['代数', '方程、比例', '设未知数、列方程、解方程', '体育赛事统计', '1', '5']"
      ]
     },
     "execution_count": 39,
     "metadata": {},
     "output_type": "execute_result"
    }
   ],
   "source": [
    "problem_mat[2]"
   ]
  },
  {
   "cell_type": "code",
   "execution_count": 38,
   "metadata": {},
   "outputs": [
    {
     "data": {
      "text/plain": [
       "['代数', '差、加法、减法', '直接计算', '日常生活问题', '2', '5']"
      ]
     },
     "execution_count": 38,
     "metadata": {},
     "output_type": "execute_result"
    }
   ],
   "source": [
    "problem_mat[1]"
   ]
  },
  {
   "cell_type": "code",
   "execution_count": null,
   "metadata": {},
   "outputs": [],
   "source": []
  }
 ],
 "metadata": {
  "kernelspec": {
   "display_name": "compute",
   "language": "python",
   "name": "python3"
  },
  "language_info": {
   "codemirror_mode": {
    "name": "ipython",
    "version": 3
   },
   "file_extension": ".py",
   "mimetype": "text/x-python",
   "name": "python",
   "nbconvert_exporter": "python",
   "pygments_lexer": "ipython3",
   "version": "3.10.14"
  }
 },
 "nbformat": 4,
 "nbformat_minor": 2
}
