{
 "cells": [
  {
   "cell_type": "code",
   "execution_count": 3,
   "metadata": {},
   "outputs": [],
   "source": [
    "from subtitle_process import fetch_subtitle\n",
    "import getpass\n",
    "import os\n",
    "\n",
    "# 设置临时环境变量\n",
    "def _set_env(var: str):\n",
    "    if not os.environ.get(var):\n",
    "        os.environ[var] = getpass.getpass(f\"{var}: \")\n",
    "\n",
    "\n",
    "_set_env(\"bilibili_ssid\")"
   ]
  },
  {
   "cell_type": "code",
   "execution_count": 5,
   "metadata": {},
   "outputs": [
    {
     "name": "stdout",
     "output_type": "stream",
     "text": [
      "Extracted segment: 13S411A73f\n",
      "initial url fetch success!\n",
      "the length of subtitles is: 1\n",
      "https://aisubtitle.hdslb.com/bfs/ai_subtitle/prod/19058691521601443768adce9ddfec737839346a06b339dd1f2a?auth_key=1720496166-56627b35ad474377b222d30e8893b525-0-f3ef29ebc849978f7a35d60e08853a98\n"
     ]
    },
    {
     "data": {
      "text/plain": [
       "'接下来看我们的练习五的第一题一在一次羽毛球赛中八个队进行循环赛需要比赛几场那根据我们刚才老师给大家说的那请问八个队如果你代表的是其中的一个对你需要比赛几场大家先考虑这个问题然后答出来把答案答出来来这八个队里边如果你是其中的一个队你需要和几个队比赛比几场考虑一下糖宝都对了嗯机场呀对七场你需要和其他七个队进行比赛所以是七就是我们开始的数字干嘛呀加嘛一直往后加加到一所以是7+6加5+4加3+2加一算一下你就知道等于多少了这个可以怎么算给我发一个来这个可以怎么算你可以起巧算的吧7+346+40再加五呢十五十五再加上一个二加上一个一等于多少呀哎28场来听懂的给老师打个一谢谢听懂的给老师打个一等差数列是也对但是它比较短一点我们可以用我们这个凑整法啊可以去快速的计算的O'"
      ]
     },
     "execution_count": 5,
     "metadata": {},
     "output_type": "execute_result"
    }
   ],
   "source": [
    "# 将要获取字幕的bv号放在这里即可获取完整字幕\n",
    "fetch_subtitle(\"BV13S411A73f\")"
   ]
  },
  {
   "cell_type": "code",
   "execution_count": 7,
   "metadata": {},
   "outputs": [],
   "source": [
    "import json\n",
    "with open(\"url.json\", 'r') as file:\n",
    "    data = json.load(file)"
   ]
  },
  {
   "cell_type": "code",
   "execution_count": 8,
   "metadata": {},
   "outputs": [
    {
     "name": "stdout",
     "output_type": "stream",
     "text": [
      "Extracted segment: 13S411A73f\n",
      "initial url fetch success!\n",
      "the length of subtitles is: 1\n",
      "https://aisubtitle.hdslb.com/bfs/ai_subtitle/prod/19058691521601443768adce9ddfec737839346a06b339dd1f2a?auth_key=1720496288-5e84407acb7a443bbc3ac571c49e1a27-0-8282e58a25ae0427acbb9ad5bebaa808\n",
      "Extracted segment: 1Jf421Q7dF\n",
      "initial url fetch success!\n",
      "the length of subtitles is: 1\n",
      "https://aisubtitle.hdslb.com/bfs/ai_subtitle/prod/12057938431597546258b9bb9856015fcb212780f97e227e686e?auth_key=1720496291-581728e95e6c4bd58c0fce153bb375c4-0-61dc721c5cfb10cb9f1359837f239f20\n",
      "Extracted segment: 1A1421k7JD\n",
      "initial url fetch success!\n",
      "the length of subtitles is: 1\n",
      "https://aisubtitle.hdslb.com/bfs/ai_subtitle/prod/15559570961597535412b584fccc48b0e4d25ed9edcd9f4b72aa?auth_key=1720496295-dd8df93dd47845779bbb577db86f2202-0-b49bc677747a631cf2bcfd6a4b5e4247\n",
      "Extracted segment: 17z421z7fx\n",
      "initial url fetch success!\n",
      "the length of subtitles is: 1\n",
      "https://aisubtitle.hdslb.com/bfs/ai_subtitle/prod/135595662015965277167223118aa84b5586baff6f4ea4d0a441?auth_key=1720496299-b025b4ec25c44a3e9941e48040b8d6b6-0-a6a97cc0ce01278e17fe49a5fa6986ee\n",
      "Extracted segment: 1s6421g74i\n",
      "initial url fetch success!\n",
      "the length of subtitles is: 1\n",
      "https://aisubtitle.hdslb.com/bfs/ai_subtitle/prod/1400635356143971825396cb120c1e7963601460d5db916436b0?auth_key=1720496302-c275916e415c4f37a9b0a1ca0c6e9179-0-1bf1bb840b679ad2f6d643bea74c9f2c\n",
      "Extracted segment: 1rj421X7n7\n",
      "initial url fetch success!\n",
      "the length of subtitles is: 1\n",
      "https://aisubtitle.hdslb.com/bfs/ai_subtitle/prod/165067444214397066168295bf3bcbaaf7c939e844f65385ed59?auth_key=1720496306-65e46cee16634905ba477fd4f1c6de82-0-5b545ed78c9b14cfc0a27a09f3584cfc\n",
      "Extracted segment: 1Zv421C7rU\n",
      "initial url fetch success!\n",
      "the length of subtitles is: 1\n",
      "https://aisubtitle.hdslb.com/bfs/ai_subtitle/prod/145053765214378458489000ad89288bce4adcbec121fbd595fe?auth_key=1720496309-089b22e1de4b4debba0f8667d876ccad-0-dbcf9c4bedb43f34926e3141cb919297\n",
      "Extracted segment: 1eu4m1P7ZD\n",
      "initial url fetch success!\n",
      "the length of subtitles is: 1\n",
      "https://aisubtitle.hdslb.com/bfs/ai_subtitle/prod/1300565038143784579053350d853c4dddf179c3600b836ca762?auth_key=1720496313-b385aca3d91d429bb245d24a16bbd13a-0-46aa53b4fe169934f2a553044a5a5feb\n",
      "Extracted segment: 1nx4y127zz\n",
      "initial url fetch success!\n",
      "the length of subtitles is: 1\n",
      "https://aisubtitle.hdslb.com/bfs/ai_subtitle/prod/100057864114378458553a59b1ca0db79051d71e0e962cff1fa1?auth_key=1720496316-02d157e6731146e6861f21acaa1efbf3-0-a70fc4f9bf3cafd5b2c52b8671704261\n",
      "Extracted segment: 1tt421a7Ws\n",
      "initial url fetch success!\n",
      "the length of subtitles is: 1\n",
      "https://aisubtitle.hdslb.com/bfs/ai_subtitle/prod/1800539801143784579843cc21ed30bd479dbd16e097499bf3c3?auth_key=1720496320-81ab30c8082548d9aa0bbed25476f8cf-0-f512a1bf4211bcd18fe1a3d3b3da2ff3\n"
     ]
    }
   ],
   "source": [
    "problems = []\n",
    "for bv in data[:10]:\n",
    "    problems.append(fetch_subtitle(bv))"
   ]
  },
  {
   "cell_type": "code",
   "execution_count": 9,
   "metadata": {},
   "outputs": [
    {
     "name": "stdout",
     "output_type": "stream",
     "text": [
      "8594b861%2C1735982075%2C567c3%2A71CjA-_aId7e5mgS6v_ZPZ6Rw1oRXZf6NZ64KrvXsVhO-y7CEK5_E2teH-5rxivJB8ZvoSVmcwOWplcW9STEtrd2V0T2ZZbnVRSmxSVmpIM3ZUNjVQVk5UcWstc05INENHdnVlWW1CdE5PRjUzbktJS04wVENDeURteVJwVEROLVhaTzRaMkFvLVJnIIEC\n"
     ]
    }
   ],
   "source": [
    "print(os.environ['bilibili_ssid'])"
   ]
  },
  {
   "cell_type": "code",
   "execution_count": null,
   "metadata": {},
   "outputs": [],
   "source": []
  }
 ],
 "metadata": {
  "kernelspec": {
   "display_name": "compute",
   "language": "python",
   "name": "python3"
  },
  "language_info": {
   "codemirror_mode": {
    "name": "ipython",
    "version": 3
   },
   "file_extension": ".py",
   "mimetype": "text/x-python",
   "name": "python",
   "nbconvert_exporter": "python",
   "pygments_lexer": "ipython3",
   "version": "3.10.14"
  }
 },
 "nbformat": 4,
 "nbformat_minor": 2
}
