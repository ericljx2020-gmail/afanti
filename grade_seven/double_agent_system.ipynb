{
 "cells": [
  {
   "cell_type": "code",
   "execution_count": 1,
   "metadata": {},
   "outputs": [],
   "source": [
    "import re\n",
    "import json"
   ]
  },
  {
   "cell_type": "code",
   "execution_count": 2,
   "metadata": {},
   "outputs": [],
   "source": [
    "from templates import extract_template"
   ]
  },
  {
   "cell_type": "code",
   "execution_count": 3,
   "metadata": {},
   "outputs": [],
   "source": [
    "with open(\"grade_7x_subtitle.json\", 'r') as f:\n",
    "    subtitles = json.load(f)"
   ]
  },
  {
   "cell_type": "code",
   "execution_count": 4,
   "metadata": {},
   "outputs": [],
   "source": [
    "from langchain_core.messages import (\n",
    "    BaseMessage,\n",
    "    HumanMessage,\n",
    "    ToolMessage,\n",
    ")\n",
    "from langchain_core.prompts import ChatPromptTemplate, MessagesPlaceholder\n",
    "\n",
    "from langgraph.graph import END, StateGraph, START\n",
    "from langchain.agents import AgentExecutor, create_openai_tools_agent\n",
    "from langchain_openai import ChatOpenAI\n",
    "from typing import Annotated"
   ]
  },
  {
   "cell_type": "code",
   "execution_count": 5,
   "metadata": {},
   "outputs": [],
   "source": [
    "from templates import *\n",
    "from langchain_experimental.tools import PythonREPLTool\n",
    "from langchain.tools import BaseTool, StructuredTool, tool"
   ]
  },
  {
   "cell_type": "code",
   "execution_count": 6,
   "metadata": {},
   "outputs": [],
   "source": [
    "python_repl_tool = PythonREPLTool()"
   ]
  },
  {
   "cell_type": "code",
   "execution_count": 7,
   "metadata": {},
   "outputs": [],
   "source": [
    "def create_agent(llm, tools, system_message: str):\n",
    "    \"\"\"Create an agent.\"\"\"\n",
    "    prompt = ChatPromptTemplate.from_messages(\n",
    "        [\n",
    "            (\n",
    "                \"system\",\n",
    "                \" {system_message}\",\n",
    "            ),\n",
    "            MessagesPlaceholder(variable_name=\"messages\"),\n",
    "        ]\n",
    "    )\n",
    "    prompt = prompt.partial(system_message=system_message)\n",
    "    # prompt = prompt.partial(tool_names=\", \".join([tool.name for tool in tools]))\n",
    "    return prompt | llm.bind_tools(tools)"
   ]
  },
  {
   "cell_type": "code",
   "execution_count": 8,
   "metadata": {},
   "outputs": [],
   "source": [
    "@tool\n",
    "def clean_up_response(\n",
    "    answer: Annotated[str, \"The problems and explanation pair for you to split them into separate pairs\"],\n",
    "):\n",
    "    \"\"\"Use this tool to extract problems-explanation pair from llm's response and store them in a list for clarity\"\"\"\n",
    "    problem_explanation = []\n",
    "    pattern = r\"###\\s*原题\\s*：?([\\s\\S]*?)###\\s*讲解\\s*：?([\\s\\S]*?)(?=###|$)\"\n",
    "    matches = re.findall(pattern, answer)\n",
    "\n",
    "    for i, match in enumerate(matches, 1):\n",
    "        original, explanation = match\n",
    "        problem_explanation.append([original, explanation])\n",
    "    return problem_explanation"
   ]
  },
  {
   "cell_type": "code",
   "execution_count": 9,
   "metadata": {},
   "outputs": [],
   "source": [
    "import operator\n",
    "from langchain_core.messages import AIMessage\n",
    "\n",
    "from langchain_openai import ChatOpenAI\n",
    "from typing import Annotated, Sequence, TypedDict\n",
    "\n",
    "\n",
    "class AgentState(TypedDict):\n",
    "    messages: Annotated[Sequence[BaseMessage], operator.add]\n",
    "    sender: str"
   ]
  },
  {
   "cell_type": "code",
   "execution_count": 10,
   "metadata": {},
   "outputs": [],
   "source": [
    "def agent_node(state, agent, name):\n",
    "    result = agent.invoke(state)\n",
    "\n",
    "    if isinstance(result, ToolMessage):\n",
    "        pass\n",
    "    else:\n",
    "        result = AIMessage(**result.dict(exclude={\"type\", \"name\"}), name=name)\n",
    "    return {\n",
    "        'messages': [result],\n",
    "        'sender': name,\n",
    "    }"
   ]
  },
  {
   "cell_type": "code",
   "execution_count": 11,
   "metadata": {},
   "outputs": [],
   "source": [
    "import functools\n",
    "llm = ChatOpenAI(model=\"gpt-4o\")\n",
    "\n",
    "extract_template = extract_template.format(subtitle=subtitles[22])\n",
    "extractor_agent = create_agent(llm, [python_repl_tool], system_message=extract_template)\n",
    "extractor_node = functools.partial(agent_node, agent=extractor_agent, name=\"Extractor\")\n",
    "\n",
    "validator_agent = create_agent(llm, [python_repl_tool], system_message=validator_template)\n",
    "validator_node = functools.partial(agent_node, agent=validator_agent, name=\"Validator\")"
   ]
  },
  {
   "cell_type": "code",
   "execution_count": 12,
   "metadata": {},
   "outputs": [],
   "source": [
    "from langgraph.prebuilt import ToolNode\n",
    "\n",
    "tools = [clean_up_response]\n",
    "tool_node = ToolNode(tools)"
   ]
  },
  {
   "cell_type": "code",
   "execution_count": 13,
   "metadata": {},
   "outputs": [],
   "source": [
    "from typing import Literal\n",
    "\n",
    "def router(state) -> Literal[\"call_tool\", \"__end__\", \"continue\"]:\n",
    "    messages = state['messages']\n",
    "    last_message = messages[-1]\n",
    "    if last_message.tool_calls:\n",
    "        return \"call_tool\"\n",
    "    if \"FINISH\" in last_message.content:\n",
    "        return \"__end__\"\n",
    "    return \"continue\""
   ]
  },
  {
   "cell_type": "code",
   "execution_count": 14,
   "metadata": {},
   "outputs": [],
   "source": [
    "workflow = StateGraph(AgentState)\n",
    "\n",
    "workflow.add_node(\"Extractor\", extractor_node)\n",
    "workflow.add_node(\"Validator\", validator_node)\n",
    "# workflow.add_node(\"call_tool\", tool_node)\n",
    "\n",
    "workflow.add_edge(\"Extractor\", \"Validator\")\n",
    "workflow.add_edge(\"Validator\", END)\n",
    "workflow.add_edge(START, \"Extractor\")\n",
    "\n",
    "graph = workflow.compile()"
   ]
  },
  {
   "cell_type": "code",
   "execution_count": 15,
   "metadata": {},
   "outputs": [
    {
     "data": {
      "image/jpeg": "[encoded data removed]",
      "text/plain": [
       "<IPython.core.display.Image object>"
      ]
     },
     "metadata": {},
     "output_type": "display_data"
    }
   ],
   "source": [
    "from IPython.display import Image, display\n",
    "\n",
    "try:\n",
    "    display(Image(graph.get_graph(xray=True).draw_mermaid_png()))\n",
    "except Exception:\n",
    "    # This requires some extra dependencies and is optional\n",
    "    pass"
   ]
  },
  {
   "cell_type": "code",
   "execution_count": 18,
   "metadata": {},
   "outputs": [
    {
     "name": "stdout",
     "output_type": "stream",
     "text": [
      "{'Extractor': {'messages': [AIMessage(content='### 原题一：\\n引力学校篮球联赛中每场比赛都要分出胜负，每队胜一场得二分一场得一分。某队在十场比赛中得到16分，那么这个队胜负场应分别是多少呢？\\n\\n### 讲解一：\\n依据引力的问题，你能列一元一次方程吗？因为这个队伍参加十场比赛，所以设胜X场，则十减X场。又由于共得16分，所以\\n\\\\[ 2X + (10 - X) = 16 \\\\]\\n\\n那你能不能根据题目直接设两个未知数使列方程变得容易呢？设这个队胜X场，负Y场。根据题意可以得：\\n\\\\[ X + Y = 10 \\\\]\\n\\\\[ 2X + Y = 16 \\\\]\\n\\n请大家观察这两个方程与一元一次方程有什么不同呢？它们有什么特点呢？每个方程都含有两个未知数，并含有未知数的项的次数都是一。像这样的方程称之为二元一次方程。\\n\\n类比一元一次方程的概念，我们得到二元一次方程的概念：含有两个未知数并且含有未知数的项的次数都是一的方程叫做二元一次方程。特别注意，含有未知数的项的次数都是一，即方程两边都是整式。\\n\\n### 原题二：\\n利用二元一次方程的概念，请大家完成例一。\\n\\n### 讲解二：\\n由于方程是关于X和Y的二元一次方程，所以X和Y是未知数，所以含有X或Y的项的次数应为一。因此，M加二应该等于一，所以M等于一。N减一应该等于一，所以N应该等于二。\\n\\n### 原题三：\\n请大家依据二元一次方程组的概念判断下列方程组中哪些是二元一次方程组并说明为什么。\\n\\n### 讲解三：\\n第一个方程组不是，因为它含有三个未知数。第二个方程组是，因为它含有两个未知数且含有每个未知数的项的次数都是一。同理，第三个也是。第四个方程组不是，因为在第二个方程中含未知数X的项的次数不是一，所以第四个不是二元一次方程组。因此B2应该选择二和三。\\n\\n### 原题四：\\n引力中满足方程X加Y等于十且符合问题的实际意义的值有哪些呢？\\n\\n### 讲解四：\\n因为XY为胜负场数，所以取值应该是0到10之间的非负整数。由表可知，X等于零，Y等于十；或X等于一，Y等于九等等，都是使方程X加Y等于十两边的值相等的解。它们都是方程的解。\\n\\n类比一元一次方程的解的概念，我们得到二元一次方程的解的概念：二元一次方程两边的值相等的两个未知数的值叫做二元一次方程的解。\\n\\n请思考在不考虑方程需满足的实际意义的条件下，此方程还有哪些解？它们是有限的吗？还有X等于一，Y等于十一；X等于0.5，Y等于9.5等等，显然是无穷多个解的。\\n\\n注意，二元一次方程的一个解不是指一个未知数的值，而是一对数值，记作X等于A，Y等于B。二元一次方程有无数多个解。\\n\\n### 原题五：\\n请大家根据二元一次方程的解的概念完成下面的题。\\n\\n### 讲解五：\\n由于X等于一，Y等于二是方程的解，所以把X等于一，Y等于二代入方程后方程两边的值相等，即A减二等于三，因此A等于五。\\n\\n从前面表格中我们还发现，X等于六，Y等于四既满足X加Y等于十也是方程2X加Y等于16的解。即X等于六，Y等于四是两个方程公共的解。一般的二元一次方程组的两个方程的公共解叫做二元一次方程组的解。\\n\\n### 原题六：\\n引力中问题的解是什么呢？\\n\\n### 讲解六：\\n引力中这个队伍在十场比赛中胜六场，负四场。\\n\\n### 原题七：\\n请大家依据二元一次方程组的解的概念判断下列选项中哪个是二元一次方程组的解。\\n\\n### 讲解七：\\n选项A：X等于三，Y等于五不是二元一次方程组的解，因为它不满足第二个方程。选项B：X等于十一，Y等于一也不是二元一次方程组的解，因为它不满足第一个方程。选项C：X等于九，Y等于一满足两个方程，因此它是二元一次方程组的解。', response_metadata={'token_usage': {'completion_tokens': 1136, 'prompt_tokens': 2042, 'total_tokens': 3178}, 'model_name': 'gpt-4o-2024-05-13', 'system_fingerprint': 'fp_400f27fa1f', 'finish_reason': 'stop', 'logprobs': None}, name='Extractor', id='run-3ac2c6ab-da37-4201-a17a-2e16216efd67-0', usage_metadata={'input_tokens': 2042, 'output_tokens': 1136, 'total_tokens': 3178})], 'sender': 'Extractor'}}----\n",
      "{'Validator': {'messages': [AIMessage(content='### 原题一：\\n引力学校篮球联赛中每场比赛都要分出胜负，每队胜一场得二分一场得一分。某队在十场比赛中得到16分，那么这个队胜负场应分别是多少呢？\\n\\n### 讲解一：\\n依据引力的问题，你能列一元一次方程吗？因为这个队伍参加十场比赛，所以设胜X场，则十减X场。又由于共得16分，所以\\n\\\\[ 2X + (10 - X) = 16 \\\\]\\n\\n那你能不能根据题目直接设两个未知数使列方程变得容易呢？设这个队胜X场，负Y场。根据题意可以得：\\n\\\\[ X + Y = 10 \\\\]\\n\\\\[ 2X + Y = 16 \\\\]\\n\\n请大家观察这两个方程与一元一次方程有什么不同呢？它们有什么特点呢？每个方程都含有两个未知数，并含有未知数的项的次数都是一。像这样的方程称之为二元一次方程。\\n\\n类比一元一次方程的概念，我们得到二元一次方程的概念：含有两个未知数并且含有未知数的项的次数都是一的方程叫做二元一次方程。特别注意，含有未知数的项的次数都是一，即方程两边都是整式。\\n\\n### 验证过程：\\n1. **完整性**：\\n   - **问题**：问题描述了每场比赛得分的规则以及总得分，提供了所有必要的细节。\\n   - **讲解**：讲解解释了如何设立方程并提供了完整的解题步骤。\\n2. **逻辑一致性**：\\n   - 讲解中列出的一元一次方程和二元一次方程是逻辑上相互衔接的，并且解释了二元一次方程的概念。\\n3. **问题和讲解的匹配**：\\n   - 讲解直接对应了问题，提供了解决方案。\\n\\n验证结果：**完整且逻辑一致**。\\n\\n### 原题二：\\n利用二元一次方程的概念，请大家完成例一。\\n\\n### 讲解二：\\n由于方程是关于X和Y的二元一次方程，所以X和Y是未知数，所以含有X或Y的项的次数应为一。因此，M加二应该等于一，所以M等于一。N减一应该等于一，所以N应该等于二。\\n\\n### 验证过程：\\n1. **完整性**：\\n   - **问题**：问题要求利用二元一次方程的概念完成例一，缺乏具体的例一内容。\\n   - **讲解**：讲解中缺少具体的方程和变量M、N的来源，无法判断其完整性。\\n2. **逻辑一致性**：\\n   - 由于缺乏具体例子，讲解中的逻辑无法验证。\\n3. **问题和讲解的匹配**：\\n   - 问题和讲解缺乏具体内容的匹配，无法判断其一致性。\\n\\n验证结果：**不完整且逻辑不清**。\\n\\n### 原题三：\\n请大家依据二元一次方程组的概念判断下列方程组中哪些是二元一次方程组并说明为什么。\\n\\n### 讲解三：\\n第一个方程组不是，因为它含有三个未知数。第二个方程组是，因为它含有两个未知数且含有每个未知数的项的次数都是一。同理，第三个也是。第四个方程组不是，因为在第二个方程中含未知数X的项的次数不是一，所以第四个不是二元一次方程组。因此B2应该选择二和三。\\n\\n### 验证过程：\\n1. **完整性**：\\n   - **问题**：问题要求判断哪些方程组是二元一次方程组，并说明原因，提供了判断标准。\\n   - **讲解**：讲解提供了对方程组的分析及其原因，完整无缺。\\n2. **逻辑一致性**：\\n   - 讲解中对每个方程组的分析是逻辑一致的，并且解释了为什么某些方程组不是二元一次方程组。\\n3. **问题和讲解的匹配**：\\n   - 讲解直接对应了问题，并提供了解决方案。\\n\\n验证结果：**完整且逻辑一致**。\\n\\n### 原题四：\\n引力中满足方程X加Y等于十且符合问题的实际意义的值有哪些呢？\\n\\n### 讲解四：\\n因为XY为胜负场数，所以取值应该是0到10之间的非负整数。由表可知，X等于零，Y等于十；或X等于一，Y等于九等等，都是使方程X加Y等于十两边的值相等的解。它们都是方程的解。\\n\\n类比一元一次方程的解的概念，我们得到二元一次方程的解的概念：二元一次方程两边的值相等的两个未知数的值叫做二元一次方程的解。\\n\\n请思考在不考虑方程需满足的实际意义的条件下，此方程还有哪些解？它们是有限的吗？还有X等于一，Y等于十一；X等于0.5，Y等于9.5等等，显然是无穷多个解的。\\n\\n注意，二元一次方程的一个解不是指一个未知数的值，而是一对数值，记作X等于A，Y等于B。二元一次方程有无数多个解。\\n\\n### 验证过程：\\n1. **完整性**：\\n   - **问题**：问题明确要求找出满足方程的实际意义的值。\\n   - **讲解**：讲解提供了符合实际意义的解，并进一步解释了二元一次方程的解的概念，非常详细。\\n2. **逻辑一致性**：\\n   - 讲解中的解释是逻辑一致且详细的，涵盖了所有可能的情况。\\n3. **问题和讲解的匹配**：\\n   - 讲解直接对应了问题，并提供了完整的解决方案。\\n\\n验证结果：**完整且逻辑一致**。\\n\\n### 原题五：\\n请大家根据二元一次方程的解的概念完成下面的题。\\n\\n### 讲解五：\\n由于X等于一，Y等于二是方程的解，所以把X等于一，Y等于二代入方程后方程两边的值相等，即A减二等于三，因此A等于五。\\n\\n从前面表格中我们还发现，X等于六，Y等于四既满足X加Y等于十也是方程2X加Y等于16的解。即X等于六，Y等于四是两个方程公共的解。一般的二元一次方程组的两个方程的公共解叫做二元一次方程组的解。\\n\\n### 验证过程：\\n1. **完整性**：\\n   - **问题**：问题要求根据二元一次方程的解的概念完成题目，但缺少具体题目内容。\\n   - **讲解**：讲解提供了解题思路，但由于缺少问题具体内容，无法判断完整性。\\n2. **逻辑一致性**：\\n   - 讲解中的解题思路是逻辑的，但缺少具体的题目内容，无法验证是否完全正确。\\n3. **问题和讲解的匹配**：\\n   - 问题和讲解缺乏具体内容的匹配，无法判断其一致性。\\n\\n验证结果：**不完整且逻辑不清**。\\n\\n### 原题六：\\n引力中问题的解是什么呢？\\n\\n### 讲解六：\\n引力中这个队伍在十场比赛中胜六场，负四场。\\n\\n### 验证过程：\\n1. **完整性**：\\n   - **问题**：问题询问引力中问题的解，具体问题已经在前面提供。\\n   - **讲解**：讲解直接给出了问题的解，完整无缺。\\n2. **逻辑一致性**：\\n   - 讲解中的解是基于前面提供的方程组解出的，逻辑一致。\\n3. **问题和讲解的匹配**：\\n   - 讲解直接对应了问题，并提供了解决方案。\\n\\n验证结果：**完整且逻辑一致**。\\n\\n### 原题七：\\n请大家依据二元一次方程组的解的概念判断下列选项中哪个是二元一次方程组的解。\\n\\n### 讲解七：\\n选项A：X等于三，Y等于五不是二元一次方程组的解，因为它不满足第二个方程。选项B：X等于十一，Y等于一也不是二元一次方程组的解，因为它不满足第一个方程。选项C：X等于九，Y等于一满足两个方程，因此它是二元一次方程组的解。\\n\\n### 验证过程：\\n1. **完整性**：\\n   - **问题**：问题要求判断哪个选项是二元一次方程组的解，提供了必要的选项。\\n   - **讲解**：讲解详细分析了每个选项，完整无缺。\\n2. **逻辑一致性**：\\n   - 讲解中的分析是逻辑一致且详细的。\\n3. **问题和讲解的匹配**：\\n   - 讲解直接对应了问题，并提供了解决方案。\\n\\n验证结果：**完整且逻辑一致**。', response_metadata={'token_usage': {'completion_tokens': 2139, 'prompt_tokens': 1612, 'total_tokens': 3751}, 'model_name': 'gpt-4o-2024-05-13', 'system_fingerprint': 'fp_400f27fa1f', 'finish_reason': 'stop', 'logprobs': None}, name='Validator', id='run-807e7ad5-8f25-4086-a270-4ca71794ef03-0', usage_metadata={'input_tokens': 1612, 'output_tokens': 2139, 'total_tokens': 3751})], 'sender': 'Validator'}}----\n"
     ]
    }
   ],
   "source": [
    "events = graph.astream(\n",
    "    {\n",
    "        \"messages\": [\n",
    "            HumanMessage(\n",
    "                content=\"请提取\"\n",
    "            )\n",
    "        ],\n",
    "    },\n",
    "    # Maximum number of steps to take in the graph\n",
    "    {\"recursion_limit\": 150},\n",
    ")\n",
    "\n",
    "async for s in events:\n",
    "    print(s, end=\"\", flush=True)\n",
    "    print(\"----\")"
   ]
  },
  {
   "cell_type": "code",
   "execution_count": null,
   "metadata": {},
   "outputs": [],
   "source": []
  }
 ],
 "metadata": {
  "kernelspec": {
   "display_name": "compute",
   "language": "python",
   "name": "python3"
  },
  "language_info": {
   "codemirror_mode": {
    "name": "ipython",
    "version": 3
   },
   "file_extension": ".py",
   "mimetype": "text/x-python",
   "name": "python",
   "nbconvert_exporter": "python",
   "pygments_lexer": "ipython3",
   "version": "3.10.14"
  }
 },
 "nbformat": 4,
 "nbformat_minor": 2
}
