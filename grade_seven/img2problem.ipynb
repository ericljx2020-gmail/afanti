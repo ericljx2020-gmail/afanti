{
 "cells": [
  {
   "cell_type": "code",
   "execution_count": 1,
   "metadata": {},
   "outputs": [],
   "source": [
    "import base64\n",
    "from langchain_openai import ChatOpenAI\n",
    "from langchain_core.messages import HumanMessage\n",
    "from langchain_core.prompts import ChatPromptTemplate\n",
    "import os\n",
    "import re"
   ]
  },
  {
   "cell_type": "code",
   "execution_count": 2,
   "metadata": {},
   "outputs": [],
   "source": [
    "etc_pmt = \"\"\"\n",
    "    你是一位先进的AI，能够处理并从图像中提取文本。图像中包含用黑色文本表示的问题和用红色文本表示的答案。你的任务是提取问题和答案，并按指定格式输出。\n",
    "\n",
    "    说明：\n",
    "    1. 从提供的图像中提取所有文本。\n",
    "    2. 将问题（黑色文本）与答案（红色文本）分开。\n",
    "    3. 按以下格式输出提取的内容：\n",
    "        ### 题目:\n",
    "        [问题文本]\n",
    "\n",
    "        ### 答案:\n",
    "        [答案文本]\n",
    "\"\"\""
   ]
  },
  {
   "cell_type": "code",
   "execution_count": 6,
   "metadata": {},
   "outputs": [
    {
     "name": "stdout",
     "output_type": "stream",
     "text": [
      "----processing slide_1817.png----\n",
      "----processing slide_2265.png----\n",
      "----processing slide_2259.png----\n",
      "----processing slide_1988.png----\n",
      "----processing slide_1989.png----\n",
      "----processing slide_2258.png----\n",
      "----processing slide_2264.png----\n",
      "----processing slide_2099.png----\n",
      "----processing slide_3387.png----\n",
      "----processing slide_1816.png----\n",
      "----processing slide_2104.png----\n",
      "----processing slide_1948.png----\n",
      "----processing slide_2272.png----\n",
      "----processing slide_2267.png----\n",
      "----processing slide_1949.png----\n",
      "----processing slide_2059.png----\n",
      "----processing slide_1815.png----\n",
      "----processing slide_2101.png----\n",
      "----processing slide_1971.png----\n",
      "----processing slide_1970.png----\n",
      "----processing slide_2060.png----\n",
      "----processing slide_1973.png----\n",
      "----processing slide_2414.png----\n",
      "----processing slide_1121.png----\n",
      "----processing slide_1135.png----\n",
      "----processing slide_1900.png----\n",
      "----processing slide_1928.png----\n",
      "----processing slide_2367.png----\n",
      "----processing slide_2415.png----\n",
      "----processing slide_1122.png----\n",
      "----processing slide_2358.png----\n",
      "----processing slide_1899.png----\n",
      "----processing slide_2360.png----\n",
      "----processing slide_2610.png----\n",
      "----processing slide_1906.png----\n",
      "----processing slide_1907.png----\n",
      "----processing slide_2361.png----\n",
      "----processing slide_1118.png----\n",
      "----processing slide_2405.png----\n",
      "----processing slide_1939.png----\n",
      "----processing slide_1905.png----\n",
      "----processing slide_1904.png----\n",
      "----processing slide_1938.png----\n",
      "----processing slide_2404.png----\n",
      "----processing slide_1131.png----\n",
      "----processing slide_2025.png----\n",
      "----processing slide_1935.png----\n",
      "----processing slide_1909.png----\n",
      "----processing slide_1908.png----\n",
      "----processing slide_2030.png----\n",
      "----processing slide_2024.png----\n",
      "----processing slide_2032.png----\n",
      "----processing slide_2026.png----\n",
      "----processing slide_1937.png----\n",
      "----processing slide_2355.png----\n",
      "----processing slide_1927.png----\n",
      "----processing slide_1933.png----\n",
      "----processing slide_1926.png----\n",
      "----processing slide_2354.png----\n",
      "----processing slide_1925.png----\n",
      "----processing slide_2357.png----\n",
      "----processing slide_2085.png----\n",
      "----processing slide_1956.png----\n",
      "----processing slide_1942.png----\n",
      "----processing slide_1943.png----\n",
      "----processing slide_1957.png----\n",
      "----processing slide_3365.png----\n",
      "----processing slide_2084.png----\n",
      "----processing slide_1941.png----\n",
      "----processing slide_1969.png----\n",
      "----processing slide_2253.png----\n",
      "----processing slide_2252.png----\n",
      "----processing slide_1983.png----\n",
      "----processing slide_1940.png----\n",
      "----processing slide_2087.png----\n",
      "----processing slide_1820.png----\n",
      "----processing slide_1818.png----\n",
      "----processing slide_1824.png----\n",
      "----processing slide_2083.png----\n",
      "----processing slide_1950.png----\n",
      "----processing slide_1005.png----\n",
      "----processing slide_1987.png----\n",
      "----processing slide_2256.png----\n",
      "----processing slide_1986.png----\n",
      "----processing slide_1004.png----\n",
      "----processing slide_1951.png----\n",
      "----processing slide_2082.png----\n",
      "----processing slide_2486.png----\n",
      "----processing slide_1819.png----\n",
      "----processing slide_2057.png----\n",
      "----processing slide_1953.png----\n",
      "----processing slide_1012.png----\n",
      "----processing slide_1990.png----\n",
      "----processing slide_1984.png----\n",
      "----processing slide_2255.png----\n",
      "----processing slide_1985.png----\n",
      "----processing slide_2268.png----\n",
      "----processing slide_1952.png----\n",
      "----processing slide_1615.png----\n",
      "----processing slide_2485.png----\n"
     ]
    }
   ],
   "source": [
    "path = \"./test_set/\"\n",
    "dir = os.listdir(path)\n",
    "record = []\n",
    "log = []\n",
    "problem_set = []\n",
    "for img in dir[:]:\n",
    "    if '.png' not in img: continue\n",
    "    print(f\"----processing {img}----\")\n",
    "    cur = {}\n",
    "    with open(path+img, 'rb') as file:\n",
    "        image_data = base64.b64encode(file.read()).decode(\"utf-8\")\n",
    "    llm = ChatOpenAI(model='gpt-4o', max_tokens=1000)\n",
    "    message = HumanMessage(\n",
    "        [\n",
    "            {\"type\": \"text\", \"text\": etc_pmt},\n",
    "            {\"type\": \"image_url\", \"image_url\": {\"url\": f\"data:image/jpeg;base64,{image_data}\"}},\n",
    "        ],\n",
    "    )\n",
    "    try:\n",
    "        raw_output = llm.invoke([message])\n",
    "    except Exception as e:\n",
    "        log.append(img+e)\n",
    "        continue\n",
    "    record.append(raw_output)\n",
    "    # 提取问题的正则表达式\n",
    "    question_pattern = re.compile(r\"### 题目:\\n(.*?)\\n\\n### 答案:\", re.S)\n",
    "\n",
    "    # 提取答案的正则表达式\n",
    "    answer_pattern = re.compile(r\"### 答案:\\n(.*)\", re.S)\n",
    "\n",
    "    question_match = question_pattern.search(raw_output.content)\n",
    "    if question_match:\n",
    "        question = question_match.group(1).strip()\n",
    "        cur['problem'] = question\n",
    "    \n",
    "    answer_match = answer_pattern.search(raw_output.content)\n",
    "    if answer_match:\n",
    "        answer = answer_match.group(1).strip()\n",
    "        cur['answer'] = answer\n",
    "    problem_set.append(cur)"
   ]
  },
  {
   "cell_type": "code",
   "execution_count": 7,
   "metadata": {},
   "outputs": [],
   "source": [
    "import json\n",
    "with open(\"temp.json\", \"w\", encoding='utf-8') as f:\n",
    "    json.dump(problem_set, f, ensure_ascii=False, indent=4)"
   ]
  },
  {
   "cell_type": "code",
   "execution_count": 8,
   "metadata": {},
   "outputs": [
    {
     "data": {
      "text/plain": [
       "100"
      ]
     },
     "execution_count": 8,
     "metadata": {},
     "output_type": "execute_result"
    }
   ],
   "source": [
    "len(problem_set)"
   ]
  },
  {
   "cell_type": "code",
   "execution_count": 18,
   "metadata": {},
   "outputs": [
    {
     "name": "stdout",
     "output_type": "stream",
     "text": [
      "### 题目:\n",
      "在甲处劳动的工人有35人，在乙处劳动的工人有19人。现在另调21人去支援，使得在甲处的人数为乙处人数的3/2倍，应调往甲、乙两处各多少人？\n",
      "\n",
      "### 答案:\n",
      "解：设调往甲处x人，调往乙处y人。\n",
      "依题意，得\n",
      "x + y = 21，\n",
      "35 + x = 3/2 (19 + y)，\n",
      "解得\n",
      "x = 10, \n",
      "y = 11。\n",
      "\n",
      "答：应调往甲处10人，调往乙处11人。\n"
     ]
    }
   ],
   "source": [
    "print(record[3].content[4:-4])"
   ]
  },
  {
   "cell_type": "code",
   "execution_count": 19,
   "metadata": {},
   "outputs": [
    {
     "name": "stdout",
     "output_type": "stream",
     "text": [
      "问题:\n",
      "在甲处劳动的工人有35人，在乙处劳动的工人有19人。现在另调21人去支援，使得在甲处的人数为乙处人数的3/2倍，应调往甲、乙两处各多少人？\n",
      "答案:\n",
      "解：设调往甲处x人，调往乙处y人。\n",
      "依题意，得\n",
      "x + y = 21，\n",
      "35 + x = 3/2 (19 + y)，\n",
      "解得\n",
      "x = 10, \n",
      "y = 11。\n",
      "\n",
      "答：应调往甲处10人，调往乙处11人。\n"
     ]
    }
   ],
   "source": [
    "import re\n",
    "\n",
    "text = \"\"\"\n",
    "### 题目:\n",
    "在甲处劳动的工人有35人，在乙处劳动的工人有19人。现在另调21人去支援，使得在甲处的人数为乙处人数的3/2倍，应调往甲、乙两处各多少人？\n",
    "\n",
    "### 答案:\n",
    "解：设调往甲处x人，调往乙处y人。\n",
    "依题意，得\n",
    "x + y = 21，\n",
    "35 + x = 3/2 (19 + y)，\n",
    "解得\n",
    "x = 10, \n",
    "y = 11。\n",
    "\n",
    "答：应调往甲处10人，调往乙处11人。\n",
    "\"\"\"\n",
    "\n",
    "# 提取问题的正则表达式\n",
    "question_pattern = re.compile(r\"### 题目:\\n(.*?)\\n\\n### 答案:\", re.S)\n",
    "\n",
    "# 提取答案的正则表达式\n",
    "answer_pattern = re.compile(r\"### 答案:\\n(.*)\", re.S)\n",
    "\n",
    "# 提取问题\n",
    "question_match = question_pattern.search(text)\n",
    "if question_match:\n",
    "    question = question_match.group(1).strip()\n",
    "    print(\"问题:\")\n",
    "    print(question)\n",
    "\n",
    "# 提取答案\n",
    "answer_match = answer_pattern.search(text)\n",
    "if answer_match:\n",
    "    answer = answer_match.group(1).strip()\n",
    "    print(\"答案:\")\n",
    "    print(answer)\n"
   ]
  },
  {
   "cell_type": "code",
   "execution_count": null,
   "metadata": {},
   "outputs": [],
   "source": []
  }
 ],
 "metadata": {
  "kernelspec": {
   "display_name": "compute",
   "language": "python",
   "name": "python3"
  },
  "language_info": {
   "codemirror_mode": {
    "name": "ipython",
    "version": 3
   },
   "file_extension": ".py",
   "mimetype": "text/x-python",
   "name": "python",
   "nbconvert_exporter": "python",
   "pygments_lexer": "ipython3",
   "version": "3.10.14"
  }
 },
 "nbformat": 4,
 "nbformat_minor": 2
}
