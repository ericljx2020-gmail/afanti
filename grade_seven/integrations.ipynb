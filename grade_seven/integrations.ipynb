{
 "cells": [
  {
   "cell_type": "code",
   "execution_count": 12,
   "metadata": {},
   "outputs": [],
   "source": [
    "from functions import search_similar\n",
    "from multiagent_func import run\n",
    "from langchain_openai import ChatOpenAI\n",
    "from langchain_core.messages import HumanMessage"
   ]
  },
  {
   "cell_type": "code",
   "execution_count": 2,
   "metadata": {},
   "outputs": [
    {
     "name": "stdout",
     "output_type": "stream",
     "text": [
      "executing\n",
      "1. 数学领域和类型: 数论\n",
      "2. 核心概念和原理: 平方根、整数估计\n",
      "3. 解题方法和策略: 近似估计、平方数比较\n",
      "4. 问题背景和情境: 无\n",
      "5. 变量数量: 1\n",
      "6. 题目所属年级: 6"
     ]
    }
   ],
   "source": [
    "# problem = \"估计与根号20最接近的一个整数是多少？\"\n",
    "# score, idx = await search_similar(problem)"
   ]
  },
  {
   "cell_type": "code",
   "execution_count": 10,
   "metadata": {},
   "outputs": [],
   "source": [
    "import base64\n",
    "\n",
    "image_path = \"./3_cropped/slide_1005.png\"\n",
    "with open(image_path, \"rb\") as f:\n",
    "    image_data = base64.b64encode(f.read()).decode(\"utf-8\")"
   ]
  },
  {
   "cell_type": "code",
   "execution_count": 18,
   "metadata": {},
   "outputs": [
    {
     "name": "stdout",
     "output_type": "stream",
     "text": [
      "2. 若 m > n, 则下列不等式正确的是 (    )\n",
      "\n",
      "A. m - 2 < n - 2\n",
      "\n",
      "B. \\(\\frac{m}{4} > \\frac{n}{4}\\)\n",
      "\n",
      "C. 6m < 6n\n",
      "\n",
      "D. -8m > -8n\n"
     ]
    }
   ],
   "source": [
    "llm = ChatOpenAI(model='gpt-4o', max_tokens=1000)\n",
    "message = HumanMessage(\n",
    "    content=[\n",
    "        {\"type\": \"text\", \"text\": \"请提取出图片中的题目，如果是选择题，请将选项也提取出来，不要输出题目以外的任何内容\"},\n",
    "        {\n",
    "            \"type\": \"image_url\",\n",
    "            \"image_url\": {\"url\": f\"data:image/jpeg;base64,{image_data}\"},\n",
    "        },\n",
    "    ],\n",
    ")\n",
    "problem = llm.invoke([message])\n",
    "print(problem.content)"
   ]
  },
  {
   "cell_type": "code",
   "execution_count": 19,
   "metadata": {},
   "outputs": [],
   "source": [
    "problem = problem.content"
   ]
  },
  {
   "cell_type": "code",
   "execution_count": 21,
   "metadata": {},
   "outputs": [
    {
     "name": "stdout",
     "output_type": "stream",
     "text": [
      "executing\n",
      "1. 数学领域和类型: 代数\n",
      "2. 核心概念和原理: 不等式\n",
      "3. 解题方法和策略: 不等式的性质（同向不等式的加减法、乘除法）\n",
      "4. 问题背景和情境: 无\n",
      "5. 变量数量: 2\n",
      "6. 题目所属年级: 7"
     ]
    }
   ],
   "source": [
    "score, idx = await search_similar(problem)"
   ]
  },
  {
   "cell_type": "code",
   "execution_count": 22,
   "metadata": {},
   "outputs": [
    {
     "data": {
      "text/plain": [
       "{'problem': '请按下暂停键认真思考：由X大于Y得ax大于AY的条件是？',\n",
       " 'answer': '观察前后两个不等式，我们发现后面的不等式是由前一个不等式两边同时乘以A得到的并且不等号方向没有发生变化，由此我们就知道乘的这个数A应该是一个正数，所以正确答案是AA大于零。'}"
      ]
     },
     "execution_count": 22,
     "metadata": {},
     "output_type": "execute_result"
    }
   ],
   "source": [
    "import json\n",
    "with open(\"problem_set_g7.json\", 'r') as f:\n",
    "    lookup_tab = json.load(f)\n",
    "similar_prob = lookup_tab[idx]\n",
    "similar_prob"
   ]
  },
  {
   "cell_type": "code",
   "execution_count": 23,
   "metadata": {},
   "outputs": [
    {
     "name": "stdout",
     "output_type": "stream",
     "text": [
      "{'Supervisor': {'next': 'Noter'}}\n",
      "----\n",
      "{'Noter': {'messages': [HumanMessage(content='知识点讲解:本题考查的知识点是不等式的性质，解题关键点是理解不等式两边同加、同减、同乘、同除一个数时不等号方向的变化。\\n\\n### 板书一:\\n(1) m > n \\n(2) A. m - 2 < n - 2\\n    m > n \\n\\\\(\\\\because m - 2 < n - 2\\\\)\\n    m - n < 0 \\n    这与m > n 矛盾\\n    故 A 错误\\n(3) B. \\\\(\\\\frac{m}{4} > \\\\frac{n}{4}\\\\)\\n    m > n \\n\\\\(\\\\because \\\\frac{m}{4} > \\\\frac{n}{4} \\\\) (两边同时除以正数4，不等号方向不变)\\n    故 B 正确\\n(4) C. 6m < 6n\\n    m > n \\n\\\\(\\\\because 6m < 6n\\\\)\\n    6(m - n) < 0 \\n    这与m > n 矛盾\\n    故 C 错误\\n(5) D. -8m > -8n\\n    m > n \\n\\\\(\\\\because -8m > -8n\\\\)\\n    -8(m - n) > 0 \\n    这与m > n 矛盾\\n    故 D 错误\\n\\n故答案是B.', name='Noter')]}}\n",
      "----\n",
      "{'Supervisor': {'next': 'Validator'}}\n",
      "----\n",
      "{'Validator': {'messages': [HumanMessage(content='### Noter使用的解题方法\\n1. 不等式的基本性质：\\n    - 不等式两边同时加、减同一个数，不等号方向不变。\\n    - 不等式两边同时乘、除以同一个正数，不等号方向不变。\\n    - 不等式两边同时乘、除以同一个负数，不等号方向相反。\\n\\n### 检查是否超纲\\n这些解题方法都在七年级数学课程标准的范围内，不涉及超纲内容。\\n\\n不需要修改。', name='Validator')]}}\n",
      "----\n",
      "{'Supervisor': {'next': 'Explainer'}}\n",
      "----\n",
      "{'Explainer': {'messages': [HumanMessage(content='### 讲解一:\\n我们来看第一个选项 A：m - 2 < n - 2。  \\n首先，题目给出的条件是 m > n。  \\n根据不等式的性质，如果我们在不等式两边同时减去一个相同的数，不等号的方向不会改变。  \\n所以，m - 2 > n - 2。而选项 A 说的是 m - 2 < n - 2，这是错误的。  \\n因此，选项 A 是错误的。\\n\\n### 讲解二:\\n接下来，我们看第二个选项 B：\\\\(\\\\frac{m}{4} > \\\\frac{n}{4}\\\\)。  \\n题目条件是 m > n。  \\n根据不等式的性质，如果我们在不等式两边同时除以一个相同的正数，不等号的方向不会改变。  \\n因为 4 是一个正数，所以 \\\\(\\\\frac{m}{4} > \\\\frac{n}{4}\\\\) 也成立。  \\n因此，选项 B 是正确的。\\n\\n### 讲解三:\\n然后，我们看第三个选项 C：6m < 6n。  \\n题目条件是 m > n。  \\n根据不等式的性质，如果我们在不等式两边同时乘以一个相同的正数，不等号的方向不会改变。  \\n因为 6 是一个正数，所以 6m > 6n。  \\n而选项 C 说的是 6m < 6n，这是错误的。  \\n因此，选项 C 是错误的。\\n\\n### 讲解四:\\n最后，我们看第四个选项 D：-8m > -8n。  \\n题目条件是 m > n。  \\n根据不等式的性质，如果我们在不等式两边同时乘以一个相同的负数，不等号的方向会反过来。  \\n因为 -8 是一个负数，所以 -8m < -8n。  \\n而选项 D 说的是 -8m > -8n，这是错误的。  \\n因此，选项 D 是错误的。\\n\\n总结：根据以上分析，正确答案是 B。', name='Explainer')]}}\n",
      "----\n",
      "{'Supervisor': {'next': 'FINISH'}}\n",
      "----\n"
     ]
    }
   ],
   "source": [
    "#将上面那一题作为相似题喂给模型\n",
    "note, explanaton = run(problem, similar_prob['problem'], similar_prob['answer'], grade_value=\"七年级\")"
   ]
  },
  {
   "cell_type": "code",
   "execution_count": 24,
   "metadata": {},
   "outputs": [
    {
     "name": "stdout",
     "output_type": "stream",
     "text": [
      "知识点讲解:本题考查的知识点是不等式的性质，解题关键点是理解不等式两边同加、同减、同乘、同除一个数时不等号方向的变化。\n",
      "\n",
      "### 板书一:\n",
      "(1) m > n \n",
      "(2) A. m - 2 < n - 2\n",
      "    m > n \n",
      "\\(\\because m - 2 < n - 2\\)\n",
      "    m - n < 0 \n",
      "    这与m > n 矛盾\n",
      "    故 A 错误\n",
      "(3) B. \\(\\frac{m}{4} > \\frac{n}{4}\\)\n",
      "    m > n \n",
      "\\(\\because \\frac{m}{4} > \\frac{n}{4} \\) (两边同时除以正数4，不等号方向不变)\n",
      "    故 B 正确\n",
      "(4) C. 6m < 6n\n",
      "    m > n \n",
      "\\(\\because 6m < 6n\\)\n",
      "    6(m - n) < 0 \n",
      "    这与m > n 矛盾\n",
      "    故 C 错误\n",
      "(5) D. -8m > -8n\n",
      "    m > n \n",
      "\\(\\because -8m > -8n\\)\n",
      "    -8(m - n) > 0 \n",
      "    这与m > n 矛盾\n",
      "    故 D 错误\n",
      "\n",
      "故答案是B.\n"
     ]
    }
   ],
   "source": [
    "print(note)"
   ]
  },
  {
   "cell_type": "code",
   "execution_count": null,
   "metadata": {},
   "outputs": [],
   "source": []
  },
  {
   "cell_type": "code",
   "execution_count": 25,
   "metadata": {},
   "outputs": [
    {
     "name": "stdout",
     "output_type": "stream",
     "text": [
      "### 讲解一:\n",
      "我们来看第一个选项 A：m - 2 < n - 2。  \n",
      "首先，题目给出的条件是 m > n。  \n",
      "根据不等式的性质，如果我们在不等式两边同时减去一个相同的数，不等号的方向不会改变。  \n",
      "所以，m - 2 > n - 2。而选项 A 说的是 m - 2 < n - 2，这是错误的。  \n",
      "因此，选项 A 是错误的。\n",
      "\n",
      "### 讲解二:\n",
      "接下来，我们看第二个选项 B：\\(\\frac{m}{4} > \\frac{n}{4}\\)。  \n",
      "题目条件是 m > n。  \n",
      "根据不等式的性质，如果我们在不等式两边同时除以一个相同的正数，不等号的方向不会改变。  \n",
      "因为 4 是一个正数，所以 \\(\\frac{m}{4} > \\frac{n}{4}\\) 也成立。  \n",
      "因此，选项 B 是正确的。\n",
      "\n",
      "### 讲解三:\n",
      "然后，我们看第三个选项 C：6m < 6n。  \n",
      "题目条件是 m > n。  \n",
      "根据不等式的性质，如果我们在不等式两边同时乘以一个相同的正数，不等号的方向不会改变。  \n",
      "因为 6 是一个正数，所以 6m > 6n。  \n",
      "而选项 C 说的是 6m < 6n，这是错误的。  \n",
      "因此，选项 C 是错误的。\n",
      "\n",
      "### 讲解四:\n",
      "最后，我们看第四个选项 D：-8m > -8n。  \n",
      "题目条件是 m > n。  \n",
      "根据不等式的性质，如果我们在不等式两边同时乘以一个相同的负数，不等号的方向会反过来。  \n",
      "因为 -8 是一个负数，所以 -8m < -8n。  \n",
      "而选项 D 说的是 -8m > -8n，这是错误的。  \n",
      "因此，选项 D 是错误的。\n",
      "\n",
      "总结：根据以上分析，正确答案是 B。\n"
     ]
    }
   ],
   "source": [
    "print(explanaton)"
   ]
  },
  {
   "cell_type": "code",
   "execution_count": 1,
   "metadata": {},
   "outputs": [
    {
     "name": "stdout",
     "output_type": "stream",
     "text": [
      "executing\n",
      "1. 数学领域和类型: 数论\n",
      "2. 核心概念和原理: 数集分类（整数、正实数、无理数）\n",
      "3. 解题方法和策略: 数集识别与分类\n",
      "4. 问题背景和情境: 无\n",
      "5. 变量数量: 9\n",
      "6. 题目所属年级: 7{'problem': '将下列个数按有理数与无理数分类：\\n\\\\[ \\\\sqrt{7}, -0.68, \\\\sqrt{4/9}, 0, -\\\\sqrt{5}, 3.1415926, \\\\frac{\\\\pi}{2}, \\\\frac{22}{7}, \\\\sqrt[3]{9} \\\\]', 'answer': '从左往右我们来看，第一个 \\\\(\\\\sqrt{7}\\\\) 写成小数是无限不循环小数，属于无理数。-0.68 是有限小数，属于有理数。 \\\\(\\\\sqrt{4/9}\\\\) 是4/9的算数平方根，是分数，等于2/3，属于有理数。0是整数，属于有理数。-\\\\(\\\\sqrt{5}\\\\) 含有无理数 \\\\(\\\\sqrt{5}\\\\)，写成小数之后依然是无限不循环小数，属于无理数。3.1415926 是无理数 \\\\(\\\\pi\\\\) 的一部分，它是有限小数，属于有理数。 \\\\(\\\\frac{\\\\pi}{2}\\\\) 含有无理数 \\\\(\\\\pi\\\\)，写成小数以后仍然是无限不循环小数，属于无理数。 \\\\(\\\\frac{22}{7}\\\\) 是分数，属于有理数。 \\\\(\\\\sqrt[3]{9}\\\\) 写成小数之后仍然是无限不循环小数，属于无理数。'}\n",
      "{'Supervisor': {'next': 'Noter'}}\n",
      "----\n",
      "{'Noter': {'messages': [HumanMessage(content='知识点讲解:本题考查的知识点是数集的分类，解题关键点是根据定义将各数分类到整数集合、正实数集合和无理数集合。\\n\\n### 板书一:\\n\\n(1) 整数集合：\\n{0, -10, -√9}\\n\\n### 板书二:\\n\\n(2) 正实数集合：\\n{2.022, π}\\n\\n### 板书三:\\n\\n(3) 无理数集合：\\n{π, -1.101 001 000 1⋯}\\n\\n故答案是：\\n整数集合：{0, -10, -√9}；\\n正实数集合：{2.022, π}；\\n无理数集合：{π, -1.101 001 000 1⋯}。', name='Noter')]}}\n",
      "----\n",
      "{'Supervisor': {'next': 'Validator'}}\n",
      "----\n",
      "{'Validator': {'messages': [HumanMessage(content='### 解题方法：\\n\\n1. **整数集合**：识别出所有整数，包括正整数、负整数和零。\\n2. **正实数集合**：识别出所有大于零的实数，包括有理数和无理数。\\n3. **无理数集合**：识别出所有不能表示为分数的小数，这些数的十进制表示是无限不循环小数。\\n\\n### 检查是否超纲：\\n\\n1. **整数集合**的定义和识别在七年级范围内。\\n2. **正实数集合**的定义和识别在七年级范围内。\\n3. **无理数集合**的定义和识别在七年级范围内。\\n\\n### 结论：\\n\\n板书中使用的解题方法均在七年级范围内，不需要修改。', name='Validator')]}}\n",
      "----\n",
      "{'Supervisor': {'next': 'Explainer'}}\n",
      "----\n",
      "{'Explainer': {'messages': [HumanMessage(content='### 讲解一:\\n\\n(1) 整数集合：整数包括正整数、负整数和零，不包括小数和分数。所以在给出的数中，整数有0, -10和-√9（因为-√9等于-3）。因此，整数集合是{0, -10, -√9}。\\n\\n### 讲解二:\\n\\n(2) 正实数集合：正实数是大于零的数，包括正有理数和正无理数。在给出的数中，正实数有2.022和π。因此，正实数集合是{2.022, π}。\\n\\n### 讲解三:\\n\\n(3) 无理数集合：无理数是不能表示为分数的小数，它们的十进制表示是无限不循环小数。在给出的数中，无理数有π和-1.101 001 000 1⋯。因此，无理数集合是{π, -1.101 001 000 1⋯}。\\n\\n总结：\\n整数集合：{0, -10, -√9}；\\n正实数集合：{2.022, π}；\\n无理数集合：{π, -1.101 001 000 1⋯}。', name='Explainer')]}}\n",
      "----\n",
      "{'Supervisor': {'next': 'FINISH'}}\n",
      "----\n",
      "executing\n",
      "1. 数学领域和类型: 代数\n",
      "2. 核心概念和原理: 立方根、幂运算\n",
      "3. 解题方法和策略: 直接计算\n",
      "4. 问题背景和情境: 无\n",
      "5. 变量数量: 0\n",
      "6. 题目所属年级: 8{'problem': '计算：三减根十的绝对值减二倍的括号二减根号六。', 'answer': '我们可以把这两部分先分别的化简，然后再去求和。第一部分，三和根号十比较而言根十略大，所以三减根十的绝对值等于根十减三，是三减根十的相反数。后面我们可以把二乘到括号里面一步一步的来，减去括号4减二倍的根号六，然后再去括号，等于根十减三减四加上二倍的根号六，这个时候三和四是可以合并的，其他的不能合并，因此等于根十加二倍的根号六减七。'}\n",
      "{'Supervisor': {'next': 'Noter'}}\n",
      "----\n",
      "{'Noter': {'messages': [HumanMessage(content='知识点讲解: 本题考查的知识点是立方根和立方的运算，解题关键点是正确计算每个立方根的值并求和。\\n\\n### 板书一:\\n∛((-8)²) + ∛((-2)³)\\n= ∛(64) + ∛(-8)\\n\\n### 板书二:\\n= 4 + (-2)\\n= 2\\n故答案是2。', name='Noter')]}}\n",
      "----\n",
      "{'Supervisor': {'next': 'Validator'}}\n",
      "----\n",
      "{'Validator': {'messages': [HumanMessage(content='Noter使用了以下解题方法：\\n1. 立方根的运算。\\n2. 立方的运算。\\n\\n经过检查，立方根和立方的运算在七年级的数学范围内，通常是没有超纲的。\\n\\n不需要修改。', name='Validator')]}}\n",
      "----\n",
      "{'Supervisor': {'next': 'Explainer'}}\n",
      "----\n",
      "{'Explainer': {'messages': [HumanMessage(content='### 讲解一:\\n首先，我们需要计算两个立方根。题目是 ∛((-8)²) + ∛((-2)³)。\\n\\n### 讲解二:\\n我们先看第一个部分 ∛((-8)²)。(-8)² 表示 -8 的平方，也就是 (-8) * (-8)，结果是 64。所以这个部分变成 ∛(64)。\\n\\n### 讲解三:\\n接下来我们看 ∛(64)。∛(64) 就是求 64 的立方根，也就是一个数的三次方等于 64。这个数是 4，因为 4³ = 64。所以 ∛(64) = 4。\\n\\n### 讲解四:\\n再看第二个部分 ∛((-2)³)。(-2)³ 表示 -2 的三次方，也就是 (-2) * (-2) * (-2)，结果是 -8。所以这个部分变成 ∛(-8)。\\n\\n### 讲解五:\\n接下来我们看 ∛(-8)。∛(-8) 就是求 -8 的立方根，也就是一个数的三次方等于 -8。这个数是 -2，因为 (-2)³ = -8。所以 ∛(-8) = -2。\\n\\n### 讲解六:\\n最后，我们把两个部分 ∛(64) 和 ∛(-8) 加起来，得到 4 + (-2)。\\n\\n### 讲解七:\\n4 + (-2) 就是 4 - 2，结果是 2。所以答案是 2。', name='Explainer')]}}\n",
      "----\n",
      "{'Supervisor': {'next': 'FINISH'}}\n",
      "----\n"
     ]
    }
   ],
   "source": [
    "import os\n",
    "from functions import image2sol\n",
    "path = \"./3_cropped/\"\n",
    "\n",
    "dir = os.listdir(path)\n",
    "with open(\"test_output_nosim.md\", 'w') as ff:\n",
    "    for file in dir[:2]:\n",
    "        img_path = path+file\n",
    "        note, explanation = await image2sol(img_path)\n",
    "        ff.write(f\"## 板书：{img_path} \\n {note} \\n\\n\")\n",
    "        ff.write(f\"## 讲解：{img_path} \\n {explanation} \\n\\n\")"
   ]
  },
  {
   "cell_type": "code",
   "execution_count": 1,
   "metadata": {},
   "outputs": [
    {
     "name": "stdout",
     "output_type": "stream",
     "text": [
      "executing\n",
      "1. 数学领域和类型: 代数\n",
      "2. 核心概念和原理: 不等式组、数轴表示\n",
      "3. 解题方法和策略: 解不等式、数轴表示法\n",
      "4. 问题背景和情境: 无\n",
      "5. 变量数量: 2\n",
      "6. 题目所属年级: 8{'Supervisor': {'next': 'Noter'}}\n",
      "----\n"
     ]
    },
    {
     "name": "stderr",
     "output_type": "stream",
     "text": [
      "Python REPL can execute arbitrary code. Use with caution.\n"
     ]
    },
    {
     "name": "stdout",
     "output_type": "stream",
     "text": [
      "{'Noter': {'messages': [HumanMessage(content='本题考查的知识点是解不等式组，解题关键点是逐个解出不等式并找出公共解。\\n\\n### 板书一:\\n\\\\[\\nx + 1 > 0\\n\\\\]\\n\\\\[\\nx > -1\\n\\\\]\\n\\n### 板书二:\\n\\\\[\\n\\\\frac{x + a}{2} \\\\leq 6\\n\\\\]\\n\\\\[\\nx + a \\\\leq 12\\n\\\\]\\n\\\\[\\nx \\\\leq 12 - a\\n\\\\]\\n\\n### 板书三:\\n依题意得\\n\\\\[\\nx > -1\\n\\\\]\\n\\\\[\\nx \\\\leq 12 - a\\n\\\\]\\n\\n### 板书四:\\n根据数轴上的表示，解集为：\\n\\\\[\\n-1 < x \\\\leq 4\\n\\\\]\\n\\\\[\\n12 - a = 4\\n\\\\]\\n\\\\[\\na = 8\\n\\\\]\\n\\n故答案是A.', name='Noter')]}}\n",
      "----\n",
      "{'Supervisor': {'next': 'Validator'}}\n",
      "----\n",
      "{'Validator': {'messages': [HumanMessage(content='Noter使用了以下解题方法：\\n1. 解不等式 \\\\( x + 1 > 0 \\\\) 和 \\\\( \\\\frac{x + a}{2} \\\\leq 6 \\\\)。\\n2. 解出两个不等式的范围 \\\\( x > -1 \\\\) 和 \\\\( x \\\\leq 12 - a \\\\)。\\n3. 根据数轴上的表示找到公共解集 \\\\( -1 < x \\\\leq 4 \\\\)。\\n4. 解方程 \\\\( 12 - a = 4 \\\\) 得出 \\\\( a = 8 \\\\)。\\n\\n这些解题方法包括：\\n- 解一元一次不等式。\\n- 解不等式组。\\n- 求公共解集。\\n\\n以上所有的方法和技巧都是七年级数学课程中通常会涉及的内容，因此这些解题方法对于七年级学生来说并不超纲。\\n\\n不需要修改。', name='Validator')]}}\n",
      "----\n",
      "{'Supervisor': {'next': 'Explainer'}}\n",
      "----\n",
      "{'Explainer': {'messages': [HumanMessage(content='### 讲解一:\\n我们先来看第一个不等式 \\\\( x + 1 > 0 \\\\)。为了找到 \\\\( x \\\\) 的值，我们需要将这个不等式解出来。将1移到不等式的另一边：\\n\\\\[\\nx > -1\\n\\\\]\\n这表示 \\\\( x \\\\) 必须大于 -1。\\n\\n### 讲解二:\\n接下来我们看第二个不等式 \\\\( \\\\frac{x + a}{2} \\\\leq 6 \\\\)。我们先将2乘到不等式两边：\\n\\\\[\\nx + a \\\\leq 12\\n\\\\]\\n然后将 \\\\( a \\\\) 移到不等式的另一边：\\n\\\\[\\nx \\\\leq 12 - a\\n\\\\]\\n这表示 \\\\( x \\\\) 不能大于 \\\\( 12 - a \\\\)。\\n\\n### 讲解三:\\n现在我们有两个不等式：\\n\\\\[\\nx > -1\\n\\\\]\\n\\\\[\\nx \\\\leq 12 - a\\n\\\\]\\n为了找到这两个不等式的公共解集，我们需要在数轴上找出两个不等式的交集。\\n\\n### 讲解四:\\n根据题目中的数轴表示，解集范围是：\\n\\\\[\\n-1 < x \\\\leq 4\\n\\\\]\\n这表示 \\\\( x \\\\) 必须大于 -1 并且小于等于4。\\n\\n我们知道 \\\\( x \\\\leq 12 - a \\\\)，并且解集的上限是4，所以我们可以得到：\\n\\\\[\\n12 - a = 4\\n\\\\]\\n解这个方程，我们可以得到 \\\\( a \\\\) 的值：\\n\\\\[\\na = 8\\n\\\\]\\n\\n因此，答案是A: 8。', name='Explainer')]}}\n",
      "----\n",
      "{'Supervisor': {'next': 'FINISH'}}\n",
      "----\n"
     ]
    }
   ],
   "source": [
    "from functions import image2sol\n",
    "\n",
    "note, explanaton = await image2sol(\"./3_cropped/slide_1010.png\")"
   ]
  },
  {
   "cell_type": "code",
   "execution_count": 2,
   "metadata": {},
   "outputs": [
    {
     "name": "stdout",
     "output_type": "stream",
     "text": [
      "本题考查的知识点是解不等式组，解题关键点是逐个解出不等式并找出公共解。\n",
      "\n",
      "### 板书一:\n",
      "\\[\n",
      "x + 1 > 0\n",
      "\\]\n",
      "\\[\n",
      "x > -1\n",
      "\\]\n",
      "\n",
      "### 板书二:\n",
      "\\[\n",
      "\\frac{x + a}{2} \\leq 6\n",
      "\\]\n",
      "\\[\n",
      "x + a \\leq 12\n",
      "\\]\n",
      "\\[\n",
      "x \\leq 12 - a\n",
      "\\]\n",
      "\n",
      "### 板书三:\n",
      "依题意得\n",
      "\\[\n",
      "x > -1\n",
      "\\]\n",
      "\\[\n",
      "x \\leq 12 - a\n",
      "\\]\n",
      "\n",
      "### 板书四:\n",
      "根据数轴上的表示，解集为：\n",
      "\\[\n",
      "-1 < x \\leq 4\n",
      "\\]\n",
      "\\[\n",
      "12 - a = 4\n",
      "\\]\n",
      "\\[\n",
      "a = 8\n",
      "\\]\n",
      "\n",
      "故答案是A.\n"
     ]
    }
   ],
   "source": [
    "print(note)"
   ]
  },
  {
   "cell_type": "code",
   "execution_count": 3,
   "metadata": {},
   "outputs": [
    {
     "name": "stdout",
     "output_type": "stream",
     "text": [
      "### 讲解一:\n",
      "我们先来看第一个不等式 \\( x + 1 > 0 \\)。为了找到 \\( x \\) 的值，我们需要将这个不等式解出来。将1移到不等式的另一边：\n",
      "\\[\n",
      "x > -1\n",
      "\\]\n",
      "这表示 \\( x \\) 必须大于 -1。\n",
      "\n",
      "### 讲解二:\n",
      "接下来我们看第二个不等式 \\( \\frac{x + a}{2} \\leq 6 \\)。我们先将2乘到不等式两边：\n",
      "\\[\n",
      "x + a \\leq 12\n",
      "\\]\n",
      "然后将 \\( a \\) 移到不等式的另一边：\n",
      "\\[\n",
      "x \\leq 12 - a\n",
      "\\]\n",
      "这表示 \\( x \\) 不能大于 \\( 12 - a \\)。\n",
      "\n",
      "### 讲解三:\n",
      "现在我们有两个不等式：\n",
      "\\[\n",
      "x > -1\n",
      "\\]\n",
      "\\[\n",
      "x \\leq 12 - a\n",
      "\\]\n",
      "为了找到这两个不等式的公共解集，我们需要在数轴上找出两个不等式的交集。\n",
      "\n",
      "### 讲解四:\n",
      "根据题目中的数轴表示，解集范围是：\n",
      "\\[\n",
      "-1 < x \\leq 4\n",
      "\\]\n",
      "这表示 \\( x \\) 必须大于 -1 并且小于等于4。\n",
      "\n",
      "我们知道 \\( x \\leq 12 - a \\)，并且解集的上限是4，所以我们可以得到：\n",
      "\\[\n",
      "12 - a = 4\n",
      "\\]\n",
      "解这个方程，我们可以得到 \\( a \\) 的值：\n",
      "\\[\n",
      "a = 8\n",
      "\\]\n",
      "\n",
      "因此，答案是A: 8。\n"
     ]
    }
   ],
   "source": [
    "print(explanaton)"
   ]
  },
  {
   "cell_type": "code",
   "execution_count": null,
   "metadata": {},
   "outputs": [],
   "source": []
  }
 ],
 "metadata": {
  "kernelspec": {
   "display_name": "compute",
   "language": "python",
   "name": "python3"
  },
  "language_info": {
   "codemirror_mode": {
    "name": "ipython",
    "version": 3
   },
   "file_extension": ".py",
   "mimetype": "text/x-python",
   "name": "python",
   "nbconvert_exporter": "python",
   "pygments_lexer": "ipython3",
   "version": "3.10.14"
  }
 },
 "nbformat": 4,
 "nbformat_minor": 2
}
