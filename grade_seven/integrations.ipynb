{
 "cells": [
  {
   "cell_type": "code",
   "execution_count": 12,
   "metadata": {},
   "outputs": [],
   "source": [
    "from functions import search_similar\n",
    "from multiagent_func import run\n",
    "from langchain_openai import ChatOpenAI\n",
    "from langchain_core.messages import HumanMessage"
   ]
  },
  {
   "cell_type": "code",
   "execution_count": 2,
   "metadata": {},
   "outputs": [
    {
     "name": "stdout",
     "output_type": "stream",
     "text": [
      "executing\n",
      "1. 数学领域和类型: 数论\n",
      "2. 核心概念和原理: 平方根、整数估计\n",
      "3. 解题方法和策略: 近似估计、平方数比较\n",
      "4. 问题背景和情境: 无\n",
      "5. 变量数量: 1\n",
      "6. 题目所属年级: 6"
     ]
    }
   ],
   "source": [
    "# problem = \"估计与根号20最接近的一个整数是多少？\"\n",
    "# score, idx = await search_similar(problem)"
   ]
  },
  {
   "cell_type": "code",
   "execution_count": 10,
   "metadata": {},
   "outputs": [],
   "source": [
    "import base64\n",
    "\n",
    "image_path = \"./3_cropped/slide_1005.png\"\n",
    "with open(image_path, \"rb\") as f:\n",
    "    image_data = base64.b64encode(f.read()).decode(\"utf-8\")"
   ]
  },
  {
   "cell_type": "code",
   "execution_count": 18,
   "metadata": {},
   "outputs": [
    {
     "name": "stdout",
     "output_type": "stream",
     "text": [
      "2. 若 m > n, 则下列不等式正确的是 (    )\n",
      "\n",
      "A. m - 2 < n - 2\n",
      "\n",
      "B. \\(\\frac{m}{4} > \\frac{n}{4}\\)\n",
      "\n",
      "C. 6m < 6n\n",
      "\n",
      "D. -8m > -8n\n"
     ]
    }
   ],
   "source": [
    "llm = ChatOpenAI(model='gpt-4o', max_tokens=1000)\n",
    "message = HumanMessage(\n",
    "    content=[\n",
    "        {\"type\": \"text\", \"text\": \"请提取出图片中的题目，如果是选择题，请将选项也提取出来，不要输出题目以外的任何内容\"},\n",
    "        {\n",
    "            \"type\": \"image_url\",\n",
    "            \"image_url\": {\"url\": f\"data:image/jpeg;base64,{image_data}\"},\n",
    "        },\n",
    "    ],\n",
    ")\n",
    "problem = llm.invoke([message])\n",
    "print(problem.content)"
   ]
  },
  {
   "cell_type": "code",
   "execution_count": 19,
   "metadata": {},
   "outputs": [],
   "source": [
    "problem = problem.content"
   ]
  },
  {
   "cell_type": "code",
   "execution_count": 21,
   "metadata": {},
   "outputs": [
    {
     "name": "stdout",
     "output_type": "stream",
     "text": [
      "executing\n",
      "1. 数学领域和类型: 代数\n",
      "2. 核心概念和原理: 不等式\n",
      "3. 解题方法和策略: 不等式的性质（同向不等式的加减法、乘除法）\n",
      "4. 问题背景和情境: 无\n",
      "5. 变量数量: 2\n",
      "6. 题目所属年级: 7"
     ]
    }
   ],
   "source": [
    "score, idx = await search_similar(problem)"
   ]
  },
  {
   "cell_type": "code",
   "execution_count": 22,
   "metadata": {},
   "outputs": [
    {
     "data": {
      "text/plain": [
       "{'problem': '请按下暂停键认真思考：由X大于Y得ax大于AY的条件是？',\n",
       " 'answer': '观察前后两个不等式，我们发现后面的不等式是由前一个不等式两边同时乘以A得到的并且不等号方向没有发生变化，由此我们就知道乘的这个数A应该是一个正数，所以正确答案是AA大于零。'}"
      ]
     },
     "execution_count": 22,
     "metadata": {},
     "output_type": "execute_result"
    }
   ],
   "source": [
    "import json\n",
    "with open(\"problem_set_g7.json\", 'r') as f:\n",
    "    lookup_tab = json.load(f)\n",
    "similar_prob = lookup_tab[idx]\n",
    "similar_prob"
   ]
  },
  {
   "cell_type": "code",
   "execution_count": 23,
   "metadata": {},
   "outputs": [
    {
     "name": "stdout",
     "output_type": "stream",
     "text": [
      "{'Supervisor': {'next': 'Noter'}}\n",
      "----\n",
      "{'Noter': {'messages': [HumanMessage(content='知识点讲解:本题考查的知识点是不等式的性质，解题关键点是理解不等式两边同加、同减、同乘、同除一个数时不等号方向的变化。\\n\\n### 板书一:\\n(1) m > n \\n(2) A. m - 2 < n - 2\\n    m > n \\n\\\\(\\\\because m - 2 < n - 2\\\\)\\n    m - n < 0 \\n    这与m > n 矛盾\\n    故 A 错误\\n(3) B. \\\\(\\\\frac{m}{4} > \\\\frac{n}{4}\\\\)\\n    m > n \\n\\\\(\\\\because \\\\frac{m}{4} > \\\\frac{n}{4} \\\\) (两边同时除以正数4，不等号方向不变)\\n    故 B 正确\\n(4) C. 6m < 6n\\n    m > n \\n\\\\(\\\\because 6m < 6n\\\\)\\n    6(m - n) < 0 \\n    这与m > n 矛盾\\n    故 C 错误\\n(5) D. -8m > -8n\\n    m > n \\n\\\\(\\\\because -8m > -8n\\\\)\\n    -8(m - n) > 0 \\n    这与m > n 矛盾\\n    故 D 错误\\n\\n故答案是B.', name='Noter')]}}\n",
      "----\n",
      "{'Supervisor': {'next': 'Validator'}}\n",
      "----\n",
      "{'Validator': {'messages': [HumanMessage(content='### Noter使用的解题方法\\n1. 不等式的基本性质：\\n    - 不等式两边同时加、减同一个数，不等号方向不变。\\n    - 不等式两边同时乘、除以同一个正数，不等号方向不变。\\n    - 不等式两边同时乘、除以同一个负数，不等号方向相反。\\n\\n### 检查是否超纲\\n这些解题方法都在七年级数学课程标准的范围内，不涉及超纲内容。\\n\\n不需要修改。', name='Validator')]}}\n",
      "----\n",
      "{'Supervisor': {'next': 'Explainer'}}\n",
      "----\n",
      "{'Explainer': {'messages': [HumanMessage(content='### 讲解一:\\n我们来看第一个选项 A：m - 2 < n - 2。  \\n首先，题目给出的条件是 m > n。  \\n根据不等式的性质，如果我们在不等式两边同时减去一个相同的数，不等号的方向不会改变。  \\n所以，m - 2 > n - 2。而选项 A 说的是 m - 2 < n - 2，这是错误的。  \\n因此，选项 A 是错误的。\\n\\n### 讲解二:\\n接下来，我们看第二个选项 B：\\\\(\\\\frac{m}{4} > \\\\frac{n}{4}\\\\)。  \\n题目条件是 m > n。  \\n根据不等式的性质，如果我们在不等式两边同时除以一个相同的正数，不等号的方向不会改变。  \\n因为 4 是一个正数，所以 \\\\(\\\\frac{m}{4} > \\\\frac{n}{4}\\\\) 也成立。  \\n因此，选项 B 是正确的。\\n\\n### 讲解三:\\n然后，我们看第三个选项 C：6m < 6n。  \\n题目条件是 m > n。  \\n根据不等式的性质，如果我们在不等式两边同时乘以一个相同的正数，不等号的方向不会改变。  \\n因为 6 是一个正数，所以 6m > 6n。  \\n而选项 C 说的是 6m < 6n，这是错误的。  \\n因此，选项 C 是错误的。\\n\\n### 讲解四:\\n最后，我们看第四个选项 D：-8m > -8n。  \\n题目条件是 m > n。  \\n根据不等式的性质，如果我们在不等式两边同时乘以一个相同的负数，不等号的方向会反过来。  \\n因为 -8 是一个负数，所以 -8m < -8n。  \\n而选项 D 说的是 -8m > -8n，这是错误的。  \\n因此，选项 D 是错误的。\\n\\n总结：根据以上分析，正确答案是 B。', name='Explainer')]}}\n",
      "----\n",
      "{'Supervisor': {'next': 'FINISH'}}\n",
      "----\n"
     ]
    }
   ],
   "source": [
    "#将上面那一题作为相似题喂给模型\n",
    "note, explanaton = run(problem, similar_prob['problem'], similar_prob['answer'], grade_value=\"七年级\")"
   ]
  },
  {
   "cell_type": "code",
   "execution_count": 24,
   "metadata": {},
   "outputs": [
    {
     "name": "stdout",
     "output_type": "stream",
     "text": [
      "知识点讲解:本题考查的知识点是不等式的性质，解题关键点是理解不等式两边同加、同减、同乘、同除一个数时不等号方向的变化。\n",
      "\n",
      "### 板书一:\n",
      "(1) m > n \n",
      "(2) A. m - 2 < n - 2\n",
      "    m > n \n",
      "\\(\\because m - 2 < n - 2\\)\n",
      "    m - n < 0 \n",
      "    这与m > n 矛盾\n",
      "    故 A 错误\n",
      "(3) B. \\(\\frac{m}{4} > \\frac{n}{4}\\)\n",
      "    m > n \n",
      "\\(\\because \\frac{m}{4} > \\frac{n}{4} \\) (两边同时除以正数4，不等号方向不变)\n",
      "    故 B 正确\n",
      "(4) C. 6m < 6n\n",
      "    m > n \n",
      "\\(\\because 6m < 6n\\)\n",
      "    6(m - n) < 0 \n",
      "    这与m > n 矛盾\n",
      "    故 C 错误\n",
      "(5) D. -8m > -8n\n",
      "    m > n \n",
      "\\(\\because -8m > -8n\\)\n",
      "    -8(m - n) > 0 \n",
      "    这与m > n 矛盾\n",
      "    故 D 错误\n",
      "\n",
      "故答案是B.\n"
     ]
    }
   ],
   "source": [
    "print(note)"
   ]
  },
  {
   "cell_type": "code",
   "execution_count": 25,
   "metadata": {},
   "outputs": [
    {
     "name": "stdout",
     "output_type": "stream",
     "text": [
      "### 讲解一:\n",
      "我们来看第一个选项 A：m - 2 < n - 2。  \n",
      "首先，题目给出的条件是 m > n。  \n",
      "根据不等式的性质，如果我们在不等式两边同时减去一个相同的数，不等号的方向不会改变。  \n",
      "所以，m - 2 > n - 2。而选项 A 说的是 m - 2 < n - 2，这是错误的。  \n",
      "因此，选项 A 是错误的。\n",
      "\n",
      "### 讲解二:\n",
      "接下来，我们看第二个选项 B：\\(\\frac{m}{4} > \\frac{n}{4}\\)。  \n",
      "题目条件是 m > n。  \n",
      "根据不等式的性质，如果我们在不等式两边同时除以一个相同的正数，不等号的方向不会改变。  \n",
      "因为 4 是一个正数，所以 \\(\\frac{m}{4} > \\frac{n}{4}\\) 也成立。  \n",
      "因此，选项 B 是正确的。\n",
      "\n",
      "### 讲解三:\n",
      "然后，我们看第三个选项 C：6m < 6n。  \n",
      "题目条件是 m > n。  \n",
      "根据不等式的性质，如果我们在不等式两边同时乘以一个相同的正数，不等号的方向不会改变。  \n",
      "因为 6 是一个正数，所以 6m > 6n。  \n",
      "而选项 C 说的是 6m < 6n，这是错误的。  \n",
      "因此，选项 C 是错误的。\n",
      "\n",
      "### 讲解四:\n",
      "最后，我们看第四个选项 D：-8m > -8n。  \n",
      "题目条件是 m > n。  \n",
      "根据不等式的性质，如果我们在不等式两边同时乘以一个相同的负数，不等号的方向会反过来。  \n",
      "因为 -8 是一个负数，所以 -8m < -8n。  \n",
      "而选项 D 说的是 -8m > -8n，这是错误的。  \n",
      "因此，选项 D 是错误的。\n",
      "\n",
      "总结：根据以上分析，正确答案是 B。\n"
     ]
    }
   ],
   "source": [
    "print(explanaton)"
   ]
  },
  {
   "cell_type": "code",
   "execution_count": null,
   "metadata": {},
   "outputs": [],
   "source": []
  }
 ],
 "metadata": {
  "kernelspec": {
   "display_name": "compute",
   "language": "python",
   "name": "python3"
  },
  "language_info": {
   "codemirror_mode": {
    "name": "ipython",
    "version": 3
   },
   "file_extension": ".py",
   "mimetype": "text/x-python",
   "name": "python",
   "nbconvert_exporter": "python",
   "pygments_lexer": "ipython3",
   "version": "3.10.14"
  }
 },
 "nbformat": 4,
 "nbformat_minor": 2
}
