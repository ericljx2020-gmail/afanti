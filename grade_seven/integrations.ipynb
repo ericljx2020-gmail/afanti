{
 "cells": [
  {
   "cell_type": "code",
   "execution_count": 12,
   "metadata": {},
   "outputs": [],
   "source": [
    "from functions import search_similar\n",
    "from multiagent_func import run\n",
    "from langchain_openai import ChatOpenAI\n",
    "from langchain_core.messages import HumanMessage"
   ]
  },
  {
   "cell_type": "code",
   "execution_count": 2,
   "metadata": {},
   "outputs": [
    {
     "name": "stdout",
     "output_type": "stream",
     "text": [
      "executing\n",
      "1. 数学领域和类型: 数论\n",
      "2. 核心概念和原理: 平方根、整数估计\n",
      "3. 解题方法和策略: 近似估计、平方数比较\n",
      "4. 问题背景和情境: 无\n",
      "5. 变量数量: 1\n",
      "6. 题目所属年级: 6"
     ]
    }
   ],
   "source": [
    "# problem = \"估计与根号20最接近的一个整数是多少？\"\n",
    "# score, idx = await search_similar(problem)"
   ]
  },
  {
   "cell_type": "code",
   "execution_count": 10,
   "metadata": {},
   "outputs": [],
   "source": [
    "import base64\n",
    "\n",
    "image_path = \"./3_cropped/slide_1005.png\"\n",
    "with open(image_path, \"rb\") as f:\n",
    "    image_data = base64.b64encode(f.read()).decode(\"utf-8\")"
   ]
  },
  {
   "cell_type": "code",
   "execution_count": 18,
   "metadata": {},
   "outputs": [
    {
     "name": "stdout",
     "output_type": "stream",
     "text": [
      "2. 若 m > n, 则下列不等式正确的是 (    )\n",
      "\n",
      "A. m - 2 < n - 2\n",
      "\n",
      "B. \\(\\frac{m}{4} > \\frac{n}{4}\\)\n",
      "\n",
      "C. 6m < 6n\n",
      "\n",
      "D. -8m > -8n\n"
     ]
    }
   ],
   "source": [
    "llm = ChatOpenAI(model='gpt-4o', max_tokens=1000)\n",
    "message = HumanMessage(\n",
    "    content=[\n",
    "        {\"type\": \"text\", \"text\": \"请提取出图片中的题目，如果是选择题，请将选项也提取出来，不要输出题目以外的任何内容\"},\n",
    "        {\n",
    "            \"type\": \"image_url\",\n",
    "            \"image_url\": {\"url\": f\"data:image/jpeg;base64,{image_data}\"},\n",
    "        },\n",
    "    ],\n",
    ")\n",
    "problem = llm.invoke([message])\n",
    "print(problem.content)"
   ]
  },
  {
   "cell_type": "code",
   "execution_count": 19,
   "metadata": {},
   "outputs": [],
   "source": [
    "problem = problem.content"
   ]
  },
  {
   "cell_type": "code",
   "execution_count": 21,
   "metadata": {},
   "outputs": [
    {
     "name": "stdout",
     "output_type": "stream",
     "text": [
      "executing\n",
      "1. 数学领域和类型: 代数\n",
      "2. 核心概念和原理: 不等式\n",
      "3. 解题方法和策略: 不等式的性质（同向不等式的加减法、乘除法）\n",
      "4. 问题背景和情境: 无\n",
      "5. 变量数量: 2\n",
      "6. 题目所属年级: 7"
     ]
    }
   ],
   "source": [
    "score, idx = await search_similar(problem)"
   ]
  },
  {
   "cell_type": "code",
   "execution_count": 22,
   "metadata": {},
   "outputs": [
    {
     "data": {
      "text/plain": [
       "{'problem': '请按下暂停键认真思考：由X大于Y得ax大于AY的条件是？',\n",
       " 'answer': '观察前后两个不等式，我们发现后面的不等式是由前一个不等式两边同时乘以A得到的并且不等号方向没有发生变化，由此我们就知道乘的这个数A应该是一个正数，所以正确答案是AA大于零。'}"
      ]
     },
     "execution_count": 22,
     "metadata": {},
     "output_type": "execute_result"
    }
   ],
   "source": [
    "import json\n",
    "with open(\"problem_set_g7.json\", 'r') as f:\n",
    "    lookup_tab = json.load(f)\n",
    "similar_prob = lookup_tab[idx]\n",
    "similar_prob"
   ]
  },
  {
   "cell_type": "code",
   "execution_count": 23,
   "metadata": {},
   "outputs": [
    {
     "name": "stdout",
     "output_type": "stream",
     "text": [
      "{'Supervisor': {'next': 'Noter'}}\n",
      "----\n",
      "{'Noter': {'messages': [HumanMessage(content='知识点讲解:本题考查的知识点是不等式的性质，解题关键点是理解不等式两边同加、同减、同乘、同除一个数时不等号方向的变化。\\n\\n### 板书一:\\n(1) m > n \\n(2) A. m - 2 < n - 2\\n    m > n \\n\\\\(\\\\because m - 2 < n - 2\\\\)\\n    m - n < 0 \\n    这与m > n 矛盾\\n    故 A 错误\\n(3) B. \\\\(\\\\frac{m}{4} > \\\\frac{n}{4}\\\\)\\n    m > n \\n\\\\(\\\\because \\\\frac{m}{4} > \\\\frac{n}{4} \\\\) (两边同时除以正数4，不等号方向不变)\\n    故 B 正确\\n(4) C. 6m < 6n\\n    m > n \\n\\\\(\\\\because 6m < 6n\\\\)\\n    6(m - n) < 0 \\n    这与m > n 矛盾\\n    故 C 错误\\n(5) D. -8m > -8n\\n    m > n \\n\\\\(\\\\because -8m > -8n\\\\)\\n    -8(m - n) > 0 \\n    这与m > n 矛盾\\n    故 D 错误\\n\\n故答案是B.', name='Noter')]}}\n",
      "----\n",
      "{'Supervisor': {'next': 'Validator'}}\n",
      "----\n",
      "{'Validator': {'messages': [HumanMessage(content='### Noter使用的解题方法\\n1. 不等式的基本性质：\\n    - 不等式两边同时加、减同一个数，不等号方向不变。\\n    - 不等式两边同时乘、除以同一个正数，不等号方向不变。\\n    - 不等式两边同时乘、除以同一个负数，不等号方向相反。\\n\\n### 检查是否超纲\\n这些解题方法都在七年级数学课程标准的范围内，不涉及超纲内容。\\n\\n不需要修改。', name='Validator')]}}\n",
      "----\n",
      "{'Supervisor': {'next': 'Explainer'}}\n",
      "----\n",
      "{'Explainer': {'messages': [HumanMessage(content='### 讲解一:\\n我们来看第一个选项 A：m - 2 < n - 2。  \\n首先，题目给出的条件是 m > n。  \\n根据不等式的性质，如果我们在不等式两边同时减去一个相同的数，不等号的方向不会改变。  \\n所以，m - 2 > n - 2。而选项 A 说的是 m - 2 < n - 2，这是错误的。  \\n因此，选项 A 是错误的。\\n\\n### 讲解二:\\n接下来，我们看第二个选项 B：\\\\(\\\\frac{m}{4} > \\\\frac{n}{4}\\\\)。  \\n题目条件是 m > n。  \\n根据不等式的性质，如果我们在不等式两边同时除以一个相同的正数，不等号的方向不会改变。  \\n因为 4 是一个正数，所以 \\\\(\\\\frac{m}{4} > \\\\frac{n}{4}\\\\) 也成立。  \\n因此，选项 B 是正确的。\\n\\n### 讲解三:\\n然后，我们看第三个选项 C：6m < 6n。  \\n题目条件是 m > n。  \\n根据不等式的性质，如果我们在不等式两边同时乘以一个相同的正数，不等号的方向不会改变。  \\n因为 6 是一个正数，所以 6m > 6n。  \\n而选项 C 说的是 6m < 6n，这是错误的。  \\n因此，选项 C 是错误的。\\n\\n### 讲解四:\\n最后，我们看第四个选项 D：-8m > -8n。  \\n题目条件是 m > n。  \\n根据不等式的性质，如果我们在不等式两边同时乘以一个相同的负数，不等号的方向会反过来。  \\n因为 -8 是一个负数，所以 -8m < -8n。  \\n而选项 D 说的是 -8m > -8n，这是错误的。  \\n因此，选项 D 是错误的。\\n\\n总结：根据以上分析，正确答案是 B。', name='Explainer')]}}\n",
      "----\n",
      "{'Supervisor': {'next': 'FINISH'}}\n",
      "----\n"
     ]
    }
   ],
   "source": [
    "#将上面那一题作为相似题喂给模型\n",
    "note, explanaton = run(problem, similar_prob['problem'], similar_prob['answer'], grade_value=\"七年级\")"
   ]
  },
  {
   "cell_type": "code",
   "execution_count": 24,
   "metadata": {},
   "outputs": [
    {
     "name": "stdout",
     "output_type": "stream",
     "text": [
      "知识点讲解:本题考查的知识点是不等式的性质，解题关键点是理解不等式两边同加、同减、同乘、同除一个数时不等号方向的变化。\n",
      "\n",
      "### 板书一:\n",
      "(1) m > n \n",
      "(2) A. m - 2 < n - 2\n",
      "    m > n \n",
      "\\(\\because m - 2 < n - 2\\)\n",
      "    m - n < 0 \n",
      "    这与m > n 矛盾\n",
      "    故 A 错误\n",
      "(3) B. \\(\\frac{m}{4} > \\frac{n}{4}\\)\n",
      "    m > n \n",
      "\\(\\because \\frac{m}{4} > \\frac{n}{4} \\) (两边同时除以正数4，不等号方向不变)\n",
      "    故 B 正确\n",
      "(4) C. 6m < 6n\n",
      "    m > n \n",
      "\\(\\because 6m < 6n\\)\n",
      "    6(m - n) < 0 \n",
      "    这与m > n 矛盾\n",
      "    故 C 错误\n",
      "(5) D. -8m > -8n\n",
      "    m > n \n",
      "\\(\\because -8m > -8n\\)\n",
      "    -8(m - n) > 0 \n",
      "    这与m > n 矛盾\n",
      "    故 D 错误\n",
      "\n",
      "故答案是B.\n"
     ]
    }
   ],
   "source": [
    "print(note)"
   ]
  },
  {
   "cell_type": "code",
   "execution_count": null,
   "metadata": {},
   "outputs": [],
   "source": []
  },
  {
   "cell_type": "code",
   "execution_count": 25,
   "metadata": {},
   "outputs": [
    {
     "name": "stdout",
     "output_type": "stream",
     "text": [
      "### 讲解一:\n",
      "我们来看第一个选项 A：m - 2 < n - 2。  \n",
      "首先，题目给出的条件是 m > n。  \n",
      "根据不等式的性质，如果我们在不等式两边同时减去一个相同的数，不等号的方向不会改变。  \n",
      "所以，m - 2 > n - 2。而选项 A 说的是 m - 2 < n - 2，这是错误的。  \n",
      "因此，选项 A 是错误的。\n",
      "\n",
      "### 讲解二:\n",
      "接下来，我们看第二个选项 B：\\(\\frac{m}{4} > \\frac{n}{4}\\)。  \n",
      "题目条件是 m > n。  \n",
      "根据不等式的性质，如果我们在不等式两边同时除以一个相同的正数，不等号的方向不会改变。  \n",
      "因为 4 是一个正数，所以 \\(\\frac{m}{4} > \\frac{n}{4}\\) 也成立。  \n",
      "因此，选项 B 是正确的。\n",
      "\n",
      "### 讲解三:\n",
      "然后，我们看第三个选项 C：6m < 6n。  \n",
      "题目条件是 m > n。  \n",
      "根据不等式的性质，如果我们在不等式两边同时乘以一个相同的正数，不等号的方向不会改变。  \n",
      "因为 6 是一个正数，所以 6m > 6n。  \n",
      "而选项 C 说的是 6m < 6n，这是错误的。  \n",
      "因此，选项 C 是错误的。\n",
      "\n",
      "### 讲解四:\n",
      "最后，我们看第四个选项 D：-8m > -8n。  \n",
      "题目条件是 m > n。  \n",
      "根据不等式的性质，如果我们在不等式两边同时乘以一个相同的负数，不等号的方向会反过来。  \n",
      "因为 -8 是一个负数，所以 -8m < -8n。  \n",
      "而选项 D 说的是 -8m > -8n，这是错误的。  \n",
      "因此，选项 D 是错误的。\n",
      "\n",
      "总结：根据以上分析，正确答案是 B。\n"
     ]
    }
   ],
   "source": [
    "print(explanaton)"
   ]
  },
  {
   "cell_type": "code",
   "execution_count": 1,
   "metadata": {},
   "outputs": [
    {
     "name": "stdout",
     "output_type": "stream",
     "text": [
      "executing\n",
      "1. 数学领域和类型: 数论\n",
      "2. 核心概念和原理: 数集分类（整数、正实数、无理数）\n",
      "3. 解题方法和策略: 数集识别与分类\n",
      "4. 问题背景和情境: 无\n",
      "5. 变量数量: 9\n",
      "6. 题目所属年级: 7{'problem': '将下列个数按有理数与无理数分类：\\n\\\\[ \\\\sqrt{7}, -0.68, \\\\sqrt{4/9}, 0, -\\\\sqrt{5}, 3.1415926, \\\\frac{\\\\pi}{2}, \\\\frac{22}{7}, \\\\sqrt[3]{9} \\\\]', 'answer': '从左往右我们来看，第一个 \\\\(\\\\sqrt{7}\\\\) 写成小数是无限不循环小数，属于无理数。-0.68 是有限小数，属于有理数。 \\\\(\\\\sqrt{4/9}\\\\) 是4/9的算数平方根，是分数，等于2/3，属于有理数。0是整数，属于有理数。-\\\\(\\\\sqrt{5}\\\\) 含有无理数 \\\\(\\\\sqrt{5}\\\\)，写成小数之后依然是无限不循环小数，属于无理数。3.1415926 是无理数 \\\\(\\\\pi\\\\) 的一部分，它是有限小数，属于有理数。 \\\\(\\\\frac{\\\\pi}{2}\\\\) 含有无理数 \\\\(\\\\pi\\\\)，写成小数以后仍然是无限不循环小数，属于无理数。 \\\\(\\\\frac{22}{7}\\\\) 是分数，属于有理数。 \\\\(\\\\sqrt[3]{9}\\\\) 写成小数之后仍然是无限不循环小数，属于无理数。'}\n",
      "{'problem': '判断正误：\\n1. 正四是64的立方根。\\n2. 二的四次方没有平方根，有立方根。\\n3. \\\\(\\\\sqrt{A} = -A \\\\) 和 \\\\( \\\\sqrt[3]{A^3} = A \\\\) 均成立吗？\\n4. 一个正数有两个立方根，它们的和为零。\\n5. 一个数的立方根一定比这个数小。', 'answer': '第一题：正四是64的立方根，显然不对。任何一个数的立方根都只有一个数字，不是又是四的立方根。\\n\\n第二题：二的四次方没有平方根，有立方根。我们知道任何数都有立方根，那它有没有平方根呢？我们要关注它的符号，而二的四次方等于16，它有平方根，所以结果应该是错误的。我们不能因为它含有负号就认为它一定是负数，这个观点是错误的。\\n\\n第三题：这两个式子均成立吗？第二个式子是我们前面刚刚推导过的三次根号A的立方等于A本身成立。第一个式子呢，我们可以发现左边是一个数的算术平方根，它不可能等于右边这个负数，所以结果是错误的。其实，A的平方它的算术平方根并不一定等于A本身，应该等于A的绝对值。\\n\\n第四题：正确。\\n\\n第五题：一个正数有两个立方根，它们的和为零，显然是错误的。如果我们把这里的立方根改成平方根，这个就正确了。\\n\\n第六题：一个数的立方根一定比这个数小。我们能不能找到一个反例呢？比如说我们从0~1之间选一个数，如0.001，它的立方根为0.1，那这个立方根就比这个数要大。'}\n",
      "{'problem': '根号二有多大呢？', 'answer': '根号二等于多少？我们可以反向思考，也即是在问多少的平方等于二呢？任何一个整数的平方都不等于二，那我们是不是可以尝试去找一个接近的整数呢？一的平方等于一，二的平方等于四，一个太小了不足，而第二个又太大了过剩，所以这里我们断定根号二是介于一和二之间的一个数，也即是根号二是等于一点几。到底等于一点几呢？我们是否可以再精确一点？那我们就从一和二之间的中间数1.50起，1.5的平方等于2.25大于二了，那我们小一点尝试一下1.4，1.4的平方等于1.96小于二，所以我们断定根号二是介于1.4和1.5之间的一个数。根号二是介于1.41和1.42之间。继续对根号二进行更精确的估值，发现根号二介于1.414和1.415之间。利用夹逼法，如果我们有足够的耐心和毅力可以一直进行下去，最后我们发现根号二的确是一个很神秘的数，它的小数位数有无限位而且小数部分是不循环的小数。我们数学上把这种类型的数叫做无限不循环小数。根号二是无限不循环小数，那根号二是我们学习过的有理数吗？我们知道有理数分为整数和分数，我们也可以把分数写成小数的形式，例如负分之一等于-0.2，2/3等于0.66循环，25/99等于0.2525循环。我们发现当有理数写成小数形式时均为有限小数或无限循环小数，而根号二是无限不循环小数，所以根号二不是有理数。'}\n",
      "{'Supervisor': {'next': 'Noter'}}\n",
      "----\n",
      "{'Noter': {'messages': [HumanMessage(content='知识点讲解: 这题涉及到了一些数集分类相关的知识点，通常使用数的性质进行分类的方法解决。 \\n\\n### 板书一:\\n(1) \\n整数集合： \\n\\\\{\\n0, -10, -\\\\sqrt{9}\\n\\\\} \\n\\n### 板书二:\\n(2) \\n正实数集合： \\n\\\\{\\n2.022\\n\\\\} \\n\\n### 板书三:\\n(3) \\n无理数集合： \\n\\\\{\\n\\\\pi, 1.1010010001\\\\ldots\\n\\\\} \\n故答案是：\\n(1) 整数集合： \\\\{ 0, -10, -\\\\sqrt{9} \\\\}；\\n(2) 正实数集合： \\\\{ 2.022 \\\\}；\\n(3) 无理数集合： \\\\{ \\\\pi, 1.1010010001\\\\ldots \\\\}。', name='Noter')]}}\n",
      "----\n",
      "{'Supervisor': {'next': 'Validator'}}\n",
      "----\n",
      "{'Validator': {'messages': [HumanMessage(content='### 使用的解题方法\\n\\n1. **整数的判断**：识别整数，例如0, -10, -√9。\\n2. **正实数的判断**：识别正实数，例如2.022。\\n3. **无理数的判断**：识别无理数，例如π, 1.1010010001⋯。\\n\\n### 检查与七年级课程标准的对比\\n\\n- 整数的判断：在七年级范围内，学生已经学习了整数的概念，因此不超纲。\\n- 正实数的判断：七年级学生已经学习了正实数的概念，因此不超纲。\\n- 无理数的判断：七年级学生已经接触了无理数的基本概念，因此不超纲。\\n\\n### 结论\\n\\n不需要修改', name='Validator')]}}\n",
      "----\n",
      "{'Supervisor': {'next': 'Explainer'}}\n",
      "----\n",
      "{'Explainer': {'messages': [HumanMessage(content='### 讲解一:\\n首先我们来看整数集合。整数包括正整数、零和负整数。根据题目给出的数，我们可以判断以下几个数属于整数：\\n- \\\\(0\\\\)：它本身就是整数。\\n- \\\\(-10\\\\)：这是一个负整数。\\n- \\\\(-\\\\sqrt{9}\\\\)：\\\\(\\\\sqrt{9}\\\\)等于3，所以\\\\(-\\\\sqrt{9}\\\\)等于-3，也是一个整数。\\n\\n所以，整数集合为：\\\\{ 0, -10, -\\\\(\\\\sqrt{9}\\\\) \\\\}。\\n\\n### 讲解二:\\n接下来是正实数集合。正实数是指大于零的数。根据题目给出的数，我们可以判断以下几个数属于正实数：\\n- \\\\(2.022\\\\)：这是一个大于零的数。\\n\\n所以，正实数集合为：\\\\{ 2.022 \\\\}。\\n\\n### 讲解三:\\n最后是无理数集合。无理数是指不能写成分数形式的小数，这些小数是无限不循环小数。根据题目给出的数，我们可以判断以下几个数属于无理数：\\n- \\\\(\\\\pi\\\\)：圆周率，是一个经典的无理数。\\n- \\\\(1.1010010001\\\\ldots\\\\)：这是一个无限不循环小数，也属于无理数。\\n\\n所以，无理数集合为：\\\\{ \\\\(\\\\pi\\\\), \\\\(1.1010010001\\\\ldots\\\\) \\\\}。\\n\\n故答案是：\\n(1) 整数集合： \\\\{ 0, -10, -\\\\(\\\\sqrt{9}\\\\) \\\\}；\\n(2) 正实数集合： \\\\{ 2.022 \\\\}；\\n(3) 无理数集合： \\\\{ \\\\(\\\\pi\\\\), \\\\(1.1010010001\\\\ldots\\\\) \\\\}。', name='Explainer')]}}\n",
      "----\n",
      "{'Supervisor': {'next': 'FINISH'}}\n",
      "----\n",
      "executing\n",
      "1. 数学领域和类型: 数学基础\n",
      "2. 核心概念和原理: 实数比较\n",
      "3. 解题方法和策略: 数轴法、直接比较法\n",
      "4. 问题背景和情境: 无\n",
      "5. 变量数量: 4\n",
      "6. 题目所属年级: 7{'problem': '负根号二的绝对值是多少？', 'answer': '负根号二到原点的距离等于根号二到原点的距离，所以负根号二的绝对值等于根号二。'}\n",
      "{'problem': '根号二的相反数是？', 'answer': '我们借助于数轴，根号二对应的点在原点的右侧，这个点关于原点的对称点对应的数是负根二，所以根号二的相反数是负根二。'}\n",
      "{'problem': '分别写出负根六和派减3.14的相反数。', 'answer': '我们知道实数A的相反数是负A，那么负根六的相反数是负的负根六，负的负根六等于根六。负的括号派减去3.14是派减3.14的相反数，根据去括号法则等于负派加上3.14，即等于3.14减派。'}\n",
      "{'Supervisor': {'next': 'Noter'}}\n",
      "----\n",
      "{'Noter': {'messages': [HumanMessage(content='知识点讲解:本题考查的知识点是实数的大小比较，解题关键点是将所有选项的实数按照数轴上的位置进行比较。\\n\\n### 板书一:\\n比较各个数在数轴上的位置：\\n-2 < -1/3 < 0 < √3\\n\\n故最小的实数是-2。\\n\\n### 板书二:\\n故答案是A。', name='Noter')]}}\n",
      "----\n",
      "{'Supervisor': {'next': 'Validator'}}\n",
      "----\n",
      "{'Validator': {'messages': [HumanMessage(content='Noter使用的解题方法是实数的大小比较。\\n\\n经查实，实数的大小比较是七年级数学课程中的内容，所以这个解题方法不超纲。\\n\\n不需要修改。', name='Validator')]}}\n",
      "----\n",
      "{'Supervisor': {'next': 'Explainer'}}\n",
      "----\n",
      "{'Explainer': {'messages': [HumanMessage(content='### 讲解一:\\n首先，我们需要比较这些数在数轴上的位置。数轴是一个数值越小越靠左，数值越大越靠右的直线。\\n\\n我们来看这些数：\\n-2, -1/3, 0, √3\\n\\n在数轴上，负数在左边，正数在右边。负数越大，数值越小。\\n\\n-2 是负数，并且是所有负数中数值最小的，所以它在最左边。\\n-1/3 也是负数，但比 -2 大，所以它在 -2 的右边。\\n0 是非负数，它在负数的右边。\\n√3 是正数，它在 0 的右边。\\n\\n排列顺序为：\\n-2 < -1/3 < 0 < √3\\n\\n因此，这些数中最小的数是-2。\\n\\n### 讲解二:\\n根据比较结果，最小的实数是 -2。因此，答案是 A。', name='Explainer')]}}\n",
      "----\n",
      "{'Supervisor': {'next': 'FINISH'}}\n",
      "----\n"
     ]
    }
   ],
   "source": [
    "import os\n",
    "from functions import image2sol\n",
    "path = \"./selected/\"\n",
    "\n",
    "dir = os.listdir(path)\n",
    "with open(\"test_output_nosim.md\", 'w') as ff:\n",
    "    for file in dir[:2]:\n",
    "        img_path = path+file\n",
    "        note, explanation, sim_p, orig_problem = await image2sol(img_path)\n",
    "        ff.write(f\"## 原题：\\n {orig_problem} \\n\\n\")\n",
    "        ff.write(f\"## 相似题：\\n {sim_p} \\n\\n\")\n",
    "        ff.write(f\"## 板书：\\n {img_path} \\n {note} \\n\\n\")\n",
    "        ff.write(f\"## 讲解：\\n {img_path} \\n {explanation} \\n\\n\")"
   ]
  },
  {
   "cell_type": "code",
   "execution_count": 3,
   "metadata": {},
   "outputs": [
    {
     "ename": "TypeError",
     "evalue": "list indices must be integers or slices, not list",
     "output_type": "error",
     "traceback": [
      "\u001b[0;31m---------------------------------------------------------------------------\u001b[0m",
      "\u001b[0;31mTypeError\u001b[0m                                 Traceback (most recent call last)",
      "Cell \u001b[0;32mIn[3], line 2\u001b[0m\n\u001b[1;32m      1\u001b[0m a \u001b[38;5;241m=\u001b[39m [\u001b[38;5;241m1\u001b[39m,\u001b[38;5;241m2\u001b[39m,\u001b[38;5;241m3\u001b[39m,\u001b[38;5;241m4\u001b[39m,\u001b[38;5;241m5\u001b[39m]\n\u001b[0;32m----> 2\u001b[0m \u001b[43ma\u001b[49m\u001b[43m[\u001b[49m\u001b[43m[\u001b[49m\u001b[38;5;241;43m1\u001b[39;49m\u001b[43m,\u001b[49m\u001b[38;5;241;43m3\u001b[39;49m\u001b[43m]\u001b[49m\u001b[43m]\u001b[49m\n",
      "\u001b[0;31mTypeError\u001b[0m: list indices must be integers or slices, not list"
     ]
    }
   ],
   "source": [
    "a = [1,2,3,4,5]\n",
    "a[[1,3]]"
   ]
  },
  {
   "cell_type": "code",
   "execution_count": 1,
   "metadata": {},
   "outputs": [
    {
     "name": "stdout",
     "output_type": "stream",
     "text": [
      "executing\n",
      "1. 数学领域和类型: 代数\n",
      "2. 核心概念和原理: 不等式组、数轴表示\n",
      "3. 解题方法和策略: 解不等式、数轴表示法\n",
      "4. 问题背景和情境: 无\n",
      "5. 变量数量: 2\n",
      "6. 题目所属年级: 8{'Supervisor': {'next': 'Noter'}}\n",
      "----\n"
     ]
    },
    {
     "name": "stderr",
     "output_type": "stream",
     "text": [
      "Python REPL can execute arbitrary code. Use with caution.\n"
     ]
    },
    {
     "name": "stdout",
     "output_type": "stream",
     "text": [
      "{'Noter': {'messages': [HumanMessage(content='本题考查的知识点是解不等式组，解题关键点是逐个解出不等式并找出公共解。\\n\\n### 板书一:\\n\\\\[\\nx + 1 > 0\\n\\\\]\\n\\\\[\\nx > -1\\n\\\\]\\n\\n### 板书二:\\n\\\\[\\n\\\\frac{x + a}{2} \\\\leq 6\\n\\\\]\\n\\\\[\\nx + a \\\\leq 12\\n\\\\]\\n\\\\[\\nx \\\\leq 12 - a\\n\\\\]\\n\\n### 板书三:\\n依题意得\\n\\\\[\\nx > -1\\n\\\\]\\n\\\\[\\nx \\\\leq 12 - a\\n\\\\]\\n\\n### 板书四:\\n根据数轴上的表示，解集为：\\n\\\\[\\n-1 < x \\\\leq 4\\n\\\\]\\n\\\\[\\n12 - a = 4\\n\\\\]\\n\\\\[\\na = 8\\n\\\\]\\n\\n故答案是A.', name='Noter')]}}\n",
      "----\n",
      "{'Supervisor': {'next': 'Validator'}}\n",
      "----\n",
      "{'Validator': {'messages': [HumanMessage(content='Noter使用了以下解题方法：\\n1. 解不等式 \\\\( x + 1 > 0 \\\\) 和 \\\\( \\\\frac{x + a}{2} \\\\leq 6 \\\\)。\\n2. 解出两个不等式的范围 \\\\( x > -1 \\\\) 和 \\\\( x \\\\leq 12 - a \\\\)。\\n3. 根据数轴上的表示找到公共解集 \\\\( -1 < x \\\\leq 4 \\\\)。\\n4. 解方程 \\\\( 12 - a = 4 \\\\) 得出 \\\\( a = 8 \\\\)。\\n\\n这些解题方法包括：\\n- 解一元一次不等式。\\n- 解不等式组。\\n- 求公共解集。\\n\\n以上所有的方法和技巧都是七年级数学课程中通常会涉及的内容，因此这些解题方法对于七年级学生来说并不超纲。\\n\\n不需要修改。', name='Validator')]}}\n",
      "----\n",
      "{'Supervisor': {'next': 'Explainer'}}\n",
      "----\n",
      "{'Explainer': {'messages': [HumanMessage(content='### 讲解一:\\n我们先来看第一个不等式 \\\\( x + 1 > 0 \\\\)。为了找到 \\\\( x \\\\) 的值，我们需要将这个不等式解出来。将1移到不等式的另一边：\\n\\\\[\\nx > -1\\n\\\\]\\n这表示 \\\\( x \\\\) 必须大于 -1。\\n\\n### 讲解二:\\n接下来我们看第二个不等式 \\\\( \\\\frac{x + a}{2} \\\\leq 6 \\\\)。我们先将2乘到不等式两边：\\n\\\\[\\nx + a \\\\leq 12\\n\\\\]\\n然后将 \\\\( a \\\\) 移到不等式的另一边：\\n\\\\[\\nx \\\\leq 12 - a\\n\\\\]\\n这表示 \\\\( x \\\\) 不能大于 \\\\( 12 - a \\\\)。\\n\\n### 讲解三:\\n现在我们有两个不等式：\\n\\\\[\\nx > -1\\n\\\\]\\n\\\\[\\nx \\\\leq 12 - a\\n\\\\]\\n为了找到这两个不等式的公共解集，我们需要在数轴上找出两个不等式的交集。\\n\\n### 讲解四:\\n根据题目中的数轴表示，解集范围是：\\n\\\\[\\n-1 < x \\\\leq 4\\n\\\\]\\n这表示 \\\\( x \\\\) 必须大于 -1 并且小于等于4。\\n\\n我们知道 \\\\( x \\\\leq 12 - a \\\\)，并且解集的上限是4，所以我们可以得到：\\n\\\\[\\n12 - a = 4\\n\\\\]\\n解这个方程，我们可以得到 \\\\( a \\\\) 的值：\\n\\\\[\\na = 8\\n\\\\]\\n\\n因此，答案是A: 8。', name='Explainer')]}}\n",
      "----\n",
      "{'Supervisor': {'next': 'FINISH'}}\n",
      "----\n"
     ]
    }
   ],
   "source": [
    "from functions import image2sol\n",
    "\n",
    "note, explanaton = await image2sol(\"./3_cropped/slide_1010.png\")"
   ]
  },
  {
   "cell_type": "code",
   "execution_count": 2,
   "metadata": {},
   "outputs": [
    {
     "name": "stdout",
     "output_type": "stream",
     "text": [
      "本题考查的知识点是解不等式组，解题关键点是逐个解出不等式并找出公共解。\n",
      "\n",
      "### 板书一:\n",
      "\\[\n",
      "x + 1 > 0\n",
      "\\]\n",
      "\\[\n",
      "x > -1\n",
      "\\]\n",
      "\n",
      "### 板书二:\n",
      "\\[\n",
      "\\frac{x + a}{2} \\leq 6\n",
      "\\]\n",
      "\\[\n",
      "x + a \\leq 12\n",
      "\\]\n",
      "\\[\n",
      "x \\leq 12 - a\n",
      "\\]\n",
      "\n",
      "### 板书三:\n",
      "依题意得\n",
      "\\[\n",
      "x > -1\n",
      "\\]\n",
      "\\[\n",
      "x \\leq 12 - a\n",
      "\\]\n",
      "\n",
      "### 板书四:\n",
      "根据数轴上的表示，解集为：\n",
      "\\[\n",
      "-1 < x \\leq 4\n",
      "\\]\n",
      "\\[\n",
      "12 - a = 4\n",
      "\\]\n",
      "\\[\n",
      "a = 8\n",
      "\\]\n",
      "\n",
      "故答案是A.\n"
     ]
    }
   ],
   "source": [
    "print(note)"
   ]
  },
  {
   "cell_type": "code",
   "execution_count": 3,
   "metadata": {},
   "outputs": [
    {
     "name": "stdout",
     "output_type": "stream",
     "text": [
      "### 讲解一:\n",
      "我们先来看第一个不等式 \\( x + 1 > 0 \\)。为了找到 \\( x \\) 的值，我们需要将这个不等式解出来。将1移到不等式的另一边：\n",
      "\\[\n",
      "x > -1\n",
      "\\]\n",
      "这表示 \\( x \\) 必须大于 -1。\n",
      "\n",
      "### 讲解二:\n",
      "接下来我们看第二个不等式 \\( \\frac{x + a}{2} \\leq 6 \\)。我们先将2乘到不等式两边：\n",
      "\\[\n",
      "x + a \\leq 12\n",
      "\\]\n",
      "然后将 \\( a \\) 移到不等式的另一边：\n",
      "\\[\n",
      "x \\leq 12 - a\n",
      "\\]\n",
      "这表示 \\( x \\) 不能大于 \\( 12 - a \\)。\n",
      "\n",
      "### 讲解三:\n",
      "现在我们有两个不等式：\n",
      "\\[\n",
      "x > -1\n",
      "\\]\n",
      "\\[\n",
      "x \\leq 12 - a\n",
      "\\]\n",
      "为了找到这两个不等式的公共解集，我们需要在数轴上找出两个不等式的交集。\n",
      "\n",
      "### 讲解四:\n",
      "根据题目中的数轴表示，解集范围是：\n",
      "\\[\n",
      "-1 < x \\leq 4\n",
      "\\]\n",
      "这表示 \\( x \\) 必须大于 -1 并且小于等于4。\n",
      "\n",
      "我们知道 \\( x \\leq 12 - a \\)，并且解集的上限是4，所以我们可以得到：\n",
      "\\[\n",
      "12 - a = 4\n",
      "\\]\n",
      "解这个方程，我们可以得到 \\( a \\) 的值：\n",
      "\\[\n",
      "a = 8\n",
      "\\]\n",
      "\n",
      "因此，答案是A: 8。\n"
     ]
    }
   ],
   "source": [
    "print(explanaton)"
   ]
  },
  {
   "cell_type": "code",
   "execution_count": null,
   "metadata": {},
   "outputs": [],
   "source": []
  }
 ],
 "metadata": {
  "kernelspec": {
   "display_name": "compute",
   "language": "python",
   "name": "python3"
  },
  "language_info": {
   "codemirror_mode": {
    "name": "ipython",
    "version": 3
   },
   "file_extension": ".py",
   "mimetype": "text/x-python",
   "name": "python",
   "nbconvert_exporter": "python",
   "pygments_lexer": "ipython3",
   "version": "3.10.14"
  }
 },
 "nbformat": 4,
 "nbformat_minor": 2
}
