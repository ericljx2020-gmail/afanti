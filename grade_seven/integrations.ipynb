{
 "cells": [
  {
   "cell_type": "code",
   "execution_count": 12,
   "metadata": {},
   "outputs": [],
   "source": [
    "from functions import search_similar\n",
    "from multiagent_func import run\n",
    "from langchain_openai import ChatOpenAI\n",
    "from langchain_core.messages import HumanMessage"
   ]
  },
  {
   "cell_type": "code",
   "execution_count": 2,
   "metadata": {},
   "outputs": [
    {
     "name": "stdout",
     "output_type": "stream",
     "text": [
      "executing\n",
      "1. 数学领域和类型: 数论\n",
      "2. 核心概念和原理: 平方根、整数估计\n",
      "3. 解题方法和策略: 近似估计、平方数比较\n",
      "4. 问题背景和情境: 无\n",
      "5. 变量数量: 1\n",
      "6. 题目所属年级: 6"
     ]
    }
   ],
   "source": [
    "# problem = \"估计与根号20最接近的一个整数是多少？\"\n",
    "# score, idx = await search_similar(problem)"
   ]
  },
  {
   "cell_type": "code",
   "execution_count": 10,
   "metadata": {},
   "outputs": [],
   "source": [
    "import base64\n",
    "\n",
    "image_path = \"./3_cropped/slide_1005.png\"\n",
    "with open(image_path, \"rb\") as f:\n",
    "    image_data = base64.b64encode(f.read()).decode(\"utf-8\")"
   ]
  },
  {
   "cell_type": "code",
   "execution_count": 18,
   "metadata": {},
   "outputs": [
    {
     "name": "stdout",
     "output_type": "stream",
     "text": [
      "2. 若 m > n, 则下列不等式正确的是 (    )\n",
      "\n",
      "A. m - 2 < n - 2\n",
      "\n",
      "B. \\(\\frac{m}{4} > \\frac{n}{4}\\)\n",
      "\n",
      "C. 6m < 6n\n",
      "\n",
      "D. -8m > -8n\n"
     ]
    }
   ],
   "source": [
    "llm = ChatOpenAI(model='gpt-4o', max_tokens=1000)\n",
    "message = HumanMessage(\n",
    "    content=[\n",
    "        {\"type\": \"text\", \"text\": \"请提取出图片中的题目，如果是选择题，请将选项也提取出来，不要输出题目以外的任何内容\"},\n",
    "        {\n",
    "            \"type\": \"image_url\",\n",
    "            \"image_url\": {\"url\": f\"data:image/jpeg;base64,{image_data}\"},\n",
    "        },\n",
    "    ],\n",
    ")\n",
    "problem = llm.invoke([message])\n",
    "print(problem.content)"
   ]
  },
  {
   "cell_type": "code",
   "execution_count": 19,
   "metadata": {},
   "outputs": [],
   "source": [
    "problem = problem.content"
   ]
  },
  {
   "cell_type": "code",
   "execution_count": 21,
   "metadata": {},
   "outputs": [
    {
     "name": "stdout",
     "output_type": "stream",
     "text": [
      "executing\n",
      "1. 数学领域和类型: 代数\n",
      "2. 核心概念和原理: 不等式\n",
      "3. 解题方法和策略: 不等式的性质（同向不等式的加减法、乘除法）\n",
      "4. 问题背景和情境: 无\n",
      "5. 变量数量: 2\n",
      "6. 题目所属年级: 7"
     ]
    }
   ],
   "source": [
    "score, idx = await search_similar(problem)"
   ]
  },
  {
   "cell_type": "code",
   "execution_count": 22,
   "metadata": {},
   "outputs": [
    {
     "data": {
      "text/plain": [
       "{'problem': '请按下暂停键认真思考：由X大于Y得ax大于AY的条件是？',\n",
       " 'answer': '观察前后两个不等式，我们发现后面的不等式是由前一个不等式两边同时乘以A得到的并且不等号方向没有发生变化，由此我们就知道乘的这个数A应该是一个正数，所以正确答案是AA大于零。'}"
      ]
     },
     "execution_count": 22,
     "metadata": {},
     "output_type": "execute_result"
    }
   ],
   "source": [
    "import json\n",
    "with open(\"problem_set_g7.json\", 'r') as f:\n",
    "    lookup_tab = json.load(f)\n",
    "similar_prob = lookup_tab[idx]\n",
    "similar_prob"
   ]
  },
  {
   "cell_type": "code",
   "execution_count": 23,
   "metadata": {},
   "outputs": [
    {
     "name": "stdout",
     "output_type": "stream",
     "text": [
      "{'Supervisor': {'next': 'Noter'}}\n",
      "----\n",
      "{'Noter': {'messages': [HumanMessage(content='知识点讲解:本题考查的知识点是不等式的性质，解题关键点是理解不等式两边同加、同减、同乘、同除一个数时不等号方向的变化。\\n\\n### 板书一:\\n(1) m > n \\n(2) A. m - 2 < n - 2\\n    m > n \\n\\\\(\\\\because m - 2 < n - 2\\\\)\\n    m - n < 0 \\n    这与m > n 矛盾\\n    故 A 错误\\n(3) B. \\\\(\\\\frac{m}{4} > \\\\frac{n}{4}\\\\)\\n    m > n \\n\\\\(\\\\because \\\\frac{m}{4} > \\\\frac{n}{4} \\\\) (两边同时除以正数4，不等号方向不变)\\n    故 B 正确\\n(4) C. 6m < 6n\\n    m > n \\n\\\\(\\\\because 6m < 6n\\\\)\\n    6(m - n) < 0 \\n    这与m > n 矛盾\\n    故 C 错误\\n(5) D. -8m > -8n\\n    m > n \\n\\\\(\\\\because -8m > -8n\\\\)\\n    -8(m - n) > 0 \\n    这与m > n 矛盾\\n    故 D 错误\\n\\n故答案是B.', name='Noter')]}}\n",
      "----\n",
      "{'Supervisor': {'next': 'Validator'}}\n",
      "----\n",
      "{'Validator': {'messages': [HumanMessage(content='### Noter使用的解题方法\\n1. 不等式的基本性质：\\n    - 不等式两边同时加、减同一个数，不等号方向不变。\\n    - 不等式两边同时乘、除以同一个正数，不等号方向不变。\\n    - 不等式两边同时乘、除以同一个负数，不等号方向相反。\\n\\n### 检查是否超纲\\n这些解题方法都在七年级数学课程标准的范围内，不涉及超纲内容。\\n\\n不需要修改。', name='Validator')]}}\n",
      "----\n",
      "{'Supervisor': {'next': 'Explainer'}}\n",
      "----\n",
      "{'Explainer': {'messages': [HumanMessage(content='### 讲解一:\\n我们来看第一个选项 A：m - 2 < n - 2。  \\n首先，题目给出的条件是 m > n。  \\n根据不等式的性质，如果我们在不等式两边同时减去一个相同的数，不等号的方向不会改变。  \\n所以，m - 2 > n - 2。而选项 A 说的是 m - 2 < n - 2，这是错误的。  \\n因此，选项 A 是错误的。\\n\\n### 讲解二:\\n接下来，我们看第二个选项 B：\\\\(\\\\frac{m}{4} > \\\\frac{n}{4}\\\\)。  \\n题目条件是 m > n。  \\n根据不等式的性质，如果我们在不等式两边同时除以一个相同的正数，不等号的方向不会改变。  \\n因为 4 是一个正数，所以 \\\\(\\\\frac{m}{4} > \\\\frac{n}{4}\\\\) 也成立。  \\n因此，选项 B 是正确的。\\n\\n### 讲解三:\\n然后，我们看第三个选项 C：6m < 6n。  \\n题目条件是 m > n。  \\n根据不等式的性质，如果我们在不等式两边同时乘以一个相同的正数，不等号的方向不会改变。  \\n因为 6 是一个正数，所以 6m > 6n。  \\n而选项 C 说的是 6m < 6n，这是错误的。  \\n因此，选项 C 是错误的。\\n\\n### 讲解四:\\n最后，我们看第四个选项 D：-8m > -8n。  \\n题目条件是 m > n。  \\n根据不等式的性质，如果我们在不等式两边同时乘以一个相同的负数，不等号的方向会反过来。  \\n因为 -8 是一个负数，所以 -8m < -8n。  \\n而选项 D 说的是 -8m > -8n，这是错误的。  \\n因此，选项 D 是错误的。\\n\\n总结：根据以上分析，正确答案是 B。', name='Explainer')]}}\n",
      "----\n",
      "{'Supervisor': {'next': 'FINISH'}}\n",
      "----\n"
     ]
    }
   ],
   "source": [
    "#将上面那一题作为相似题喂给模型\n",
    "note, explanaton = run(problem, similar_prob['problem'], similar_prob['answer'], grade_value=\"七年级\")"
   ]
  },
  {
   "cell_type": "code",
   "execution_count": 24,
   "metadata": {},
   "outputs": [
    {
     "name": "stdout",
     "output_type": "stream",
     "text": [
      "知识点讲解:本题考查的知识点是不等式的性质，解题关键点是理解不等式两边同加、同减、同乘、同除一个数时不等号方向的变化。\n",
      "\n",
      "### 板书一:\n",
      "(1) m > n \n",
      "(2) A. m - 2 < n - 2\n",
      "    m > n \n",
      "\\(\\because m - 2 < n - 2\\)\n",
      "    m - n < 0 \n",
      "    这与m > n 矛盾\n",
      "    故 A 错误\n",
      "(3) B. \\(\\frac{m}{4} > \\frac{n}{4}\\)\n",
      "    m > n \n",
      "\\(\\because \\frac{m}{4} > \\frac{n}{4} \\) (两边同时除以正数4，不等号方向不变)\n",
      "    故 B 正确\n",
      "(4) C. 6m < 6n\n",
      "    m > n \n",
      "\\(\\because 6m < 6n\\)\n",
      "    6(m - n) < 0 \n",
      "    这与m > n 矛盾\n",
      "    故 C 错误\n",
      "(5) D. -8m > -8n\n",
      "    m > n \n",
      "\\(\\because -8m > -8n\\)\n",
      "    -8(m - n) > 0 \n",
      "    这与m > n 矛盾\n",
      "    故 D 错误\n",
      "\n",
      "故答案是B.\n"
     ]
    }
   ],
   "source": [
    "print(note)"
   ]
  },
  {
   "cell_type": "code",
   "execution_count": null,
   "metadata": {},
   "outputs": [],
   "source": []
  },
  {
   "cell_type": "code",
   "execution_count": 25,
   "metadata": {},
   "outputs": [
    {
     "name": "stdout",
     "output_type": "stream",
     "text": [
      "### 讲解一:\n",
      "我们来看第一个选项 A：m - 2 < n - 2。  \n",
      "首先，题目给出的条件是 m > n。  \n",
      "根据不等式的性质，如果我们在不等式两边同时减去一个相同的数，不等号的方向不会改变。  \n",
      "所以，m - 2 > n - 2。而选项 A 说的是 m - 2 < n - 2，这是错误的。  \n",
      "因此，选项 A 是错误的。\n",
      "\n",
      "### 讲解二:\n",
      "接下来，我们看第二个选项 B：\\(\\frac{m}{4} > \\frac{n}{4}\\)。  \n",
      "题目条件是 m > n。  \n",
      "根据不等式的性质，如果我们在不等式两边同时除以一个相同的正数，不等号的方向不会改变。  \n",
      "因为 4 是一个正数，所以 \\(\\frac{m}{4} > \\frac{n}{4}\\) 也成立。  \n",
      "因此，选项 B 是正确的。\n",
      "\n",
      "### 讲解三:\n",
      "然后，我们看第三个选项 C：6m < 6n。  \n",
      "题目条件是 m > n。  \n",
      "根据不等式的性质，如果我们在不等式两边同时乘以一个相同的正数，不等号的方向不会改变。  \n",
      "因为 6 是一个正数，所以 6m > 6n。  \n",
      "而选项 C 说的是 6m < 6n，这是错误的。  \n",
      "因此，选项 C 是错误的。\n",
      "\n",
      "### 讲解四:\n",
      "最后，我们看第四个选项 D：-8m > -8n。  \n",
      "题目条件是 m > n。  \n",
      "根据不等式的性质，如果我们在不等式两边同时乘以一个相同的负数，不等号的方向会反过来。  \n",
      "因为 -8 是一个负数，所以 -8m < -8n。  \n",
      "而选项 D 说的是 -8m > -8n，这是错误的。  \n",
      "因此，选项 D 是错误的。\n",
      "\n",
      "总结：根据以上分析，正确答案是 B。\n"
     ]
    }
   ],
   "source": [
    "print(explanaton)"
   ]
  },
  {
   "cell_type": "code",
   "execution_count": 1,
   "metadata": {},
   "outputs": [
    {
     "name": "stdout",
     "output_type": "stream",
     "text": [
      "executing\n",
      "1. 数学领域和类型: 代数\n",
      "2. 核心概念和原理: 不等式组、解集\n",
      "3. 解题方法和策略: 解不等式、求交集\n",
      "4. 问题背景和情境: 无\n",
      "5. 变量数量: 2\n",
      "6. 题目所属年级: 9{'problem': '若关于X的不等式组 \\\\(\\\\frac{X + 4}{3} > \\\\frac{X + 1}{2}\\\\) 且 \\\\(X + A < 0\\\\) 的解集为 \\\\(X < 2\\\\)，则A的取值范围是多少？', 'answer': '解不等式一得X小于2，解不等式二得X小于-A。而不等式组的解集为X小于2，所以利用口诀\"同小取小\"得出2小于等于-A，即A小于等于2。'}\n",
      "{'Supervisor': {'next': 'Noter'}}\n",
      "----\n",
      "{'Noter': {'messages': [HumanMessage(content='知识点讲解:本题考查的知识点是解不等式和不等式组，解题关键点是分别解出每个不等式并求出其公共解。\\n\\n### 板书一:\\n解第一个不等式：\\n\\\\[\\n6 - 2x \\\\leq 0\\n\\\\]\\n\\\\[\\n-2x \\\\leq -6\\n\\\\]\\n\\\\[\\nx \\\\geq 3\\n\\\\]\\n\\n### 板书二:\\n由题意得：\\n\\\\[\\nx \\\\leq a\\n\\\\]\\n满足不等式组有解的条件是：\\n\\\\[\\nx \\\\geq 3 \\\\quad \\\\text{且} \\\\quad x \\\\leq a\\n\\\\]\\n所以：\\n\\\\[\\n3 \\\\leq a\\n\\\\]\\n故答案是C', name='Noter')]}}\n",
      "----\n",
      "{'Supervisor': {'next': 'Validator'}}\n",
      "----\n",
      "{'Validator': {'messages': [HumanMessage(content='Noter使用了以下解题方法：\\n\\n1. 解不等式：对每个不等式分别进行处理。\\n2. 求不等式组的公共解：将两个不等式的解集求交集。\\n\\n经查实，解不等式和求不等式组的公共解在七年级的数学课程中通常是包含的，因此这些解题方法并不超纲。\\n\\n不需要修改', name='Validator')]}}\n",
      "----\n",
      "{'Supervisor': {'next': 'Explainer'}}\n",
      "----\n",
      "{'Explainer': {'messages': [HumanMessage(content='### 讲解一:\\n我们先来解第一个不等式：\\n\\\\[\\n6 - 2x \\\\leq 0\\n\\\\]\\n首先把常数项移到不等式的另一边：\\n\\\\[\\n-2x \\\\leq -6\\n\\\\]\\n接下来，我们两边同时除以-2，注意这里不等式方向会改变：\\n\\\\[\\nx \\\\geq 3\\n\\\\]\\n所以，第一个不等式的解是 \\\\(x \\\\geq 3\\\\)。\\n\\n### 讲解二:\\n现在来看第二个不等式：\\n\\\\[\\nx \\\\leq a\\n\\\\]\\n为了满足这个不等式组有解，需要两个不等式的解集有重叠部分。也就是说，我们需要 \\\\(x\\\\) 同时满足：\\n\\\\[\\nx \\\\geq 3 \\\\quad \\\\text{和} \\\\quad x \\\\leq a\\n\\\\]\\n从这两个条件中，我们可以看出：\\n\\\\[\\n3 \\\\leq a\\n\\\\]\\n所以，a 的取值范围是 \\\\(a \\\\geq 3\\\\)，满足这个条件的选项是：\\nC. \\\\(a \\\\geq 3\\\\)', name='Explainer')]}}\n",
      "----\n",
      "{'Supervisor': {'next': 'FINISH'}}\n",
      "----\n",
      "executing\n",
      "1. 数学领域和类型: 代数\n",
      "2. 核心概念和原理: 不等式\n",
      "3. 解题方法和策略: 移项、合并同类项\n",
      "4. 问题背景和情境: 无\n",
      "5. 变量数量: 1\n",
      "6. 题目所属年级: 7{'problem': '第四个-4X大于三。', 'answer': '与第三个的思考角度是一样的，需要把X系数四化为一，那怎么样化为一呢？也就是在不等号的左边要乘以四的倒数-1/4或者是直接除以四，那同时不等号的右边也要进行这样的运算。所以依据不等式性质三，不等式两边除以四，不等号的方向要改变，所以这时候得到的解是X小于-3/4。'}\n",
      "{'Supervisor': {'next': 'Noter'}}\n",
      "----\n",
      "{'Noter': {'messages': [HumanMessage(content='知识点讲解:本题考查的知识点是解一元一次不等式，解题关键点是将不等式化简并求出满足条件的整数解。\\n\\n### 板书一:\\n5x + 1 ≥ 3(x - 1)\\n\\n5x + 1 ≥ 3x - 3\\n\\n5x - 3x ≥ -3 - 1\\n\\n2x ≥ -4\\n\\nx ≥ -2\\n\\n### 板书二:\\n依题意x为负整数，解得 x = -2, -1\\n\\n故答案是 x = -2, -1', name='Noter')]}}\n",
      "----\n",
      "{'Supervisor': {'next': 'Validator'}}\n",
      "----\n",
      "{'Validator': {'messages': [HumanMessage(content='Noter使用了以下解题方法：\\n1. 解一元一次不等式。\\n2. 化简不等式。\\n3. 列出满足条件的负整数解。\\n\\n经查实，这些方法都在七年级数学的能力范围内。\\n\\n不需要修改。', name='Validator')]}}\n",
      "----\n",
      "{'Supervisor': {'next': 'Explainer'}}\n",
      "----\n",
      "{'Explainer': {'messages': [HumanMessage(content='### 讲解一:\\n首先，解这个不等式5x + 1 ≥ 3(x - 1)。我们先展开括号：\\n\\n5x + 1 ≥ 3x - 3\\n\\n然后，我们将含有x的项移到不等式的一边，不含x的项移到另一边：\\n\\n5x - 3x ≥ -3 - 1\\n\\n简化后得到：\\n\\n2x ≥ -4\\n\\n接下来，我们将不等式两边同时除以2，得到：\\n\\nx ≥ -2\\n\\n### 讲解二:\\n题目要求的是所有负整数解。负整数就是小于0的整数。\\n\\n从x ≥ -2中，我们可以得到满足条件的负整数是 -2 和 -1。\\n\\n所以答案是 x = -2, -1。', name='Explainer')]}}\n",
      "----\n",
      "{'Supervisor': {'next': 'FINISH'}}\n",
      "----\n"
     ]
    }
   ],
   "source": [
    "import os\n",
    "from functions import image2sol\n",
    "path = \"./selected/\"\n",
    "\n",
    "dir = os.listdir(path)\n",
    "with open(\"test.md\", 'w') as ff:\n",
    "    \n",
    "    for file in dir[:2]:\n",
    "        img_path = path+file\n",
    "        # try:\n",
    "        note, explanation, sim_p, orig_problem = await image2sol(img_path)\n",
    "        # except Exception as e:\n",
    "        #     print(e)\n",
    "        #     continue\n",
    "        ff.write(f\"## 原题：\\n {orig_problem} \\n\\n\")\n",
    "        ff.write(f\"## 相似题：\\n {sim_p} \\n\\n\")\n",
    "        ff.write(f\"## 板书：\\n {img_path} \\n {note} \\n\\n\")\n",
    "        ff.write(f\"## 讲解：\\n {img_path} \\n {explanation} \\n\\n\")"
   ]
  },
  {
   "cell_type": "code",
   "execution_count": 3,
   "metadata": {},
   "outputs": [
    {
     "data": {
      "text/plain": [
       "{'problem': '第四个-4X大于三。',\n",
       " 'answer': '与第三个的思考角度是一样的，需要把X系数四化为一，那怎么样化为一呢？也就是在不等号的左边要乘以四的倒数-1/4或者是直接除以四，那同时不等号的右边也要进行这样的运算。所以依据不等式性质三，不等式两边除以四，不等号的方向要改变，所以这时候得到的解是X小于-3/4。'}"
      ]
     },
     "execution_count": 3,
     "metadata": {},
     "output_type": "execute_result"
    }
   ],
   "source": [
    "import json\n",
    "with open(\"problem_set_g7.json\",'r') as f:\n",
    "    data = json.load(f)\n",
    "data[79]"
   ]
  },
  {
   "cell_type": "code",
   "execution_count": 3,
   "metadata": {},
   "outputs": [
    {
     "ename": "TypeError",
     "evalue": "list indices must be integers or slices, not list",
     "output_type": "error",
     "traceback": [
      "\u001b[0;31m---------------------------------------------------------------------------\u001b[0m",
      "\u001b[0;31mTypeError\u001b[0m                                 Traceback (most recent call last)",
      "Cell \u001b[0;32mIn[3], line 2\u001b[0m\n\u001b[1;32m      1\u001b[0m a \u001b[38;5;241m=\u001b[39m [\u001b[38;5;241m1\u001b[39m,\u001b[38;5;241m2\u001b[39m,\u001b[38;5;241m3\u001b[39m,\u001b[38;5;241m4\u001b[39m,\u001b[38;5;241m5\u001b[39m]\n\u001b[0;32m----> 2\u001b[0m \u001b[43ma\u001b[49m\u001b[43m[\u001b[49m\u001b[43m[\u001b[49m\u001b[38;5;241;43m1\u001b[39;49m\u001b[43m,\u001b[49m\u001b[38;5;241;43m3\u001b[39;49m\u001b[43m]\u001b[49m\u001b[43m]\u001b[49m\n",
      "\u001b[0;31mTypeError\u001b[0m: list indices must be integers or slices, not list"
     ]
    }
   ],
   "source": [
    "a = [1,2,3,4,5]\n",
    "a[[1,3]]"
   ]
  },
  {
   "cell_type": "code",
   "execution_count": 1,
   "metadata": {},
   "outputs": [
    {
     "name": "stdout",
     "output_type": "stream",
     "text": [
      "executing\n",
      "1. 数学领域和类型: 代数\n",
      "2. 核心概念和原理: 不等式组、数轴表示\n",
      "3. 解题方法和策略: 解不等式、数轴表示法\n",
      "4. 问题背景和情境: 无\n",
      "5. 变量数量: 2\n",
      "6. 题目所属年级: 8{'Supervisor': {'next': 'Noter'}}\n",
      "----\n"
     ]
    },
    {
     "name": "stderr",
     "output_type": "stream",
     "text": [
      "Python REPL can execute arbitrary code. Use with caution.\n"
     ]
    },
    {
     "name": "stdout",
     "output_type": "stream",
     "text": [
      "{'Noter': {'messages': [HumanMessage(content='本题考查的知识点是解不等式组，解题关键点是逐个解出不等式并找出公共解。\\n\\n### 板书一:\\n\\\\[\\nx + 1 > 0\\n\\\\]\\n\\\\[\\nx > -1\\n\\\\]\\n\\n### 板书二:\\n\\\\[\\n\\\\frac{x + a}{2} \\\\leq 6\\n\\\\]\\n\\\\[\\nx + a \\\\leq 12\\n\\\\]\\n\\\\[\\nx \\\\leq 12 - a\\n\\\\]\\n\\n### 板书三:\\n依题意得\\n\\\\[\\nx > -1\\n\\\\]\\n\\\\[\\nx \\\\leq 12 - a\\n\\\\]\\n\\n### 板书四:\\n根据数轴上的表示，解集为：\\n\\\\[\\n-1 < x \\\\leq 4\\n\\\\]\\n\\\\[\\n12 - a = 4\\n\\\\]\\n\\\\[\\na = 8\\n\\\\]\\n\\n故答案是A.', name='Noter')]}}\n",
      "----\n",
      "{'Supervisor': {'next': 'Validator'}}\n",
      "----\n",
      "{'Validator': {'messages': [HumanMessage(content='Noter使用了以下解题方法：\\n1. 解不等式 \\\\( x + 1 > 0 \\\\) 和 \\\\( \\\\frac{x + a}{2} \\\\leq 6 \\\\)。\\n2. 解出两个不等式的范围 \\\\( x > -1 \\\\) 和 \\\\( x \\\\leq 12 - a \\\\)。\\n3. 根据数轴上的表示找到公共解集 \\\\( -1 < x \\\\leq 4 \\\\)。\\n4. 解方程 \\\\( 12 - a = 4 \\\\) 得出 \\\\( a = 8 \\\\)。\\n\\n这些解题方法包括：\\n- 解一元一次不等式。\\n- 解不等式组。\\n- 求公共解集。\\n\\n以上所有的方法和技巧都是七年级数学课程中通常会涉及的内容，因此这些解题方法对于七年级学生来说并不超纲。\\n\\n不需要修改。', name='Validator')]}}\n",
      "----\n",
      "{'Supervisor': {'next': 'Explainer'}}\n",
      "----\n",
      "{'Explainer': {'messages': [HumanMessage(content='### 讲解一:\\n我们先来看第一个不等式 \\\\( x + 1 > 0 \\\\)。为了找到 \\\\( x \\\\) 的值，我们需要将这个不等式解出来。将1移到不等式的另一边：\\n\\\\[\\nx > -1\\n\\\\]\\n这表示 \\\\( x \\\\) 必须大于 -1。\\n\\n### 讲解二:\\n接下来我们看第二个不等式 \\\\( \\\\frac{x + a}{2} \\\\leq 6 \\\\)。我们先将2乘到不等式两边：\\n\\\\[\\nx + a \\\\leq 12\\n\\\\]\\n然后将 \\\\( a \\\\) 移到不等式的另一边：\\n\\\\[\\nx \\\\leq 12 - a\\n\\\\]\\n这表示 \\\\( x \\\\) 不能大于 \\\\( 12 - a \\\\)。\\n\\n### 讲解三:\\n现在我们有两个不等式：\\n\\\\[\\nx > -1\\n\\\\]\\n\\\\[\\nx \\\\leq 12 - a\\n\\\\]\\n为了找到这两个不等式的公共解集，我们需要在数轴上找出两个不等式的交集。\\n\\n### 讲解四:\\n根据题目中的数轴表示，解集范围是：\\n\\\\[\\n-1 < x \\\\leq 4\\n\\\\]\\n这表示 \\\\( x \\\\) 必须大于 -1 并且小于等于4。\\n\\n我们知道 \\\\( x \\\\leq 12 - a \\\\)，并且解集的上限是4，所以我们可以得到：\\n\\\\[\\n12 - a = 4\\n\\\\]\\n解这个方程，我们可以得到 \\\\( a \\\\) 的值：\\n\\\\[\\na = 8\\n\\\\]\\n\\n因此，答案是A: 8。', name='Explainer')]}}\n",
      "----\n",
      "{'Supervisor': {'next': 'FINISH'}}\n",
      "----\n"
     ]
    }
   ],
   "source": [
    "from functions import image2sol\n",
    "\n",
    "note, explanaton = await image2sol(\"./3_cropped/slide_1010.png\")"
   ]
  },
  {
   "cell_type": "code",
   "execution_count": 2,
   "metadata": {},
   "outputs": [
    {
     "name": "stdout",
     "output_type": "stream",
     "text": [
      "本题考查的知识点是解不等式组，解题关键点是逐个解出不等式并找出公共解。\n",
      "\n",
      "### 板书一:\n",
      "\\[\n",
      "x + 1 > 0\n",
      "\\]\n",
      "\\[\n",
      "x > -1\n",
      "\\]\n",
      "\n",
      "### 板书二:\n",
      "\\[\n",
      "\\frac{x + a}{2} \\leq 6\n",
      "\\]\n",
      "\\[\n",
      "x + a \\leq 12\n",
      "\\]\n",
      "\\[\n",
      "x \\leq 12 - a\n",
      "\\]\n",
      "\n",
      "### 板书三:\n",
      "依题意得\n",
      "\\[\n",
      "x > -1\n",
      "\\]\n",
      "\\[\n",
      "x \\leq 12 - a\n",
      "\\]\n",
      "\n",
      "### 板书四:\n",
      "根据数轴上的表示，解集为：\n",
      "\\[\n",
      "-1 < x \\leq 4\n",
      "\\]\n",
      "\\[\n",
      "12 - a = 4\n",
      "\\]\n",
      "\\[\n",
      "a = 8\n",
      "\\]\n",
      "\n",
      "故答案是A.\n"
     ]
    }
   ],
   "source": [
    "print(note)"
   ]
  },
  {
   "cell_type": "code",
   "execution_count": 3,
   "metadata": {},
   "outputs": [
    {
     "name": "stdout",
     "output_type": "stream",
     "text": [
      "### 讲解一:\n",
      "我们先来看第一个不等式 \\( x + 1 > 0 \\)。为了找到 \\( x \\) 的值，我们需要将这个不等式解出来。将1移到不等式的另一边：\n",
      "\\[\n",
      "x > -1\n",
      "\\]\n",
      "这表示 \\( x \\) 必须大于 -1。\n",
      "\n",
      "### 讲解二:\n",
      "接下来我们看第二个不等式 \\( \\frac{x + a}{2} \\leq 6 \\)。我们先将2乘到不等式两边：\n",
      "\\[\n",
      "x + a \\leq 12\n",
      "\\]\n",
      "然后将 \\( a \\) 移到不等式的另一边：\n",
      "\\[\n",
      "x \\leq 12 - a\n",
      "\\]\n",
      "这表示 \\( x \\) 不能大于 \\( 12 - a \\)。\n",
      "\n",
      "### 讲解三:\n",
      "现在我们有两个不等式：\n",
      "\\[\n",
      "x > -1\n",
      "\\]\n",
      "\\[\n",
      "x \\leq 12 - a\n",
      "\\]\n",
      "为了找到这两个不等式的公共解集，我们需要在数轴上找出两个不等式的交集。\n",
      "\n",
      "### 讲解四:\n",
      "根据题目中的数轴表示，解集范围是：\n",
      "\\[\n",
      "-1 < x \\leq 4\n",
      "\\]\n",
      "这表示 \\( x \\) 必须大于 -1 并且小于等于4。\n",
      "\n",
      "我们知道 \\( x \\leq 12 - a \\)，并且解集的上限是4，所以我们可以得到：\n",
      "\\[\n",
      "12 - a = 4\n",
      "\\]\n",
      "解这个方程，我们可以得到 \\( a \\) 的值：\n",
      "\\[\n",
      "a = 8\n",
      "\\]\n",
      "\n",
      "因此，答案是A: 8。\n"
     ]
    }
   ],
   "source": [
    "print(explanaton)"
   ]
  },
  {
   "cell_type": "code",
   "execution_count": null,
   "metadata": {},
   "outputs": [],
   "source": []
  }
 ],
 "metadata": {
  "kernelspec": {
   "display_name": "compute",
   "language": "python",
   "name": "python3"
  },
  "language_info": {
   "codemirror_mode": {
    "name": "ipython",
    "version": 3
   },
   "file_extension": ".py",
   "mimetype": "text/x-python",
   "name": "python",
   "nbconvert_exporter": "python",
   "pygments_lexer": "ipython3",
   "version": "3.10.14"
  }
 },
 "nbformat": 4,
 "nbformat_minor": 2
}
