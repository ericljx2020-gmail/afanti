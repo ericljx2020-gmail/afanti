{
 "cells": [
  {
   "cell_type": "code",
   "execution_count": 12,
   "metadata": {},
   "outputs": [],
   "source": [
    "from functions import search_similar\n",
    "from multiagent_func import run\n",
    "from langchain_openai import ChatOpenAI\n",
    "from langchain_core.messages import HumanMessage"
   ]
  },
  {
   "cell_type": "code",
   "execution_count": 2,
   "metadata": {},
   "outputs": [
    {
     "name": "stdout",
     "output_type": "stream",
     "text": [
      "executing\n",
      "1. 数学领域和类型: 数论\n",
      "2. 核心概念和原理: 平方根、整数估计\n",
      "3. 解题方法和策略: 近似估计、平方数比较\n",
      "4. 问题背景和情境: 无\n",
      "5. 变量数量: 1\n",
      "6. 题目所属年级: 6"
     ]
    }
   ],
   "source": [
    "# problem = \"估计与根号20最接近的一个整数是多少？\"\n",
    "# score, idx = await search_similar(problem)"
   ]
  },
  {
   "cell_type": "code",
   "execution_count": 10,
   "metadata": {},
   "outputs": [],
   "source": [
    "import base64\n",
    "\n",
    "image_path = \"./3_cropped/slide_1005.png\"\n",
    "with open(image_path, \"rb\") as f:\n",
    "    image_data = base64.b64encode(f.read()).decode(\"utf-8\")"
   ]
  },
  {
   "cell_type": "code",
   "execution_count": 18,
   "metadata": {},
   "outputs": [
    {
     "name": "stdout",
     "output_type": "stream",
     "text": [
      "2. 若 m > n, 则下列不等式正确的是 (    )\n",
      "\n",
      "A. m - 2 < n - 2\n",
      "\n",
      "B. \\(\\frac{m}{4} > \\frac{n}{4}\\)\n",
      "\n",
      "C. 6m < 6n\n",
      "\n",
      "D. -8m > -8n\n"
     ]
    }
   ],
   "source": [
    "llm = ChatOpenAI(model='gpt-4o', max_tokens=1000)\n",
    "message = HumanMessage(\n",
    "    content=[\n",
    "        {\"type\": \"text\", \"text\": \"请提取出图片中的题目，如果是选择题，请将选项也提取出来，不要输出题目以外的任何内容\"},\n",
    "        {\n",
    "            \"type\": \"image_url\",\n",
    "            \"image_url\": {\"url\": f\"data:image/jpeg;base64,{image_data}\"},\n",
    "        },\n",
    "    ],\n",
    ")\n",
    "problem = llm.invoke([message])\n",
    "print(problem.content)"
   ]
  },
  {
   "cell_type": "code",
   "execution_count": 19,
   "metadata": {},
   "outputs": [],
   "source": [
    "problem = problem.content"
   ]
  },
  {
   "cell_type": "code",
   "execution_count": 21,
   "metadata": {},
   "outputs": [
    {
     "name": "stdout",
     "output_type": "stream",
     "text": [
      "executing\n",
      "1. 数学领域和类型: 代数\n",
      "2. 核心概念和原理: 不等式\n",
      "3. 解题方法和策略: 不等式的性质（同向不等式的加减法、乘除法）\n",
      "4. 问题背景和情境: 无\n",
      "5. 变量数量: 2\n",
      "6. 题目所属年级: 7"
     ]
    }
   ],
   "source": [
    "score, idx = await search_similar(problem)"
   ]
  },
  {
   "cell_type": "code",
   "execution_count": 22,
   "metadata": {},
   "outputs": [
    {
     "data": {
      "text/plain": [
       "{'problem': '请按下暂停键认真思考：由X大于Y得ax大于AY的条件是？',\n",
       " 'answer': '观察前后两个不等式，我们发现后面的不等式是由前一个不等式两边同时乘以A得到的并且不等号方向没有发生变化，由此我们就知道乘的这个数A应该是一个正数，所以正确答案是AA大于零。'}"
      ]
     },
     "execution_count": 22,
     "metadata": {},
     "output_type": "execute_result"
    }
   ],
   "source": [
    "import json\n",
    "with open(\"problem_set_g7.json\", 'r') as f:\n",
    "    lookup_tab = json.load(f)\n",
    "similar_prob = lookup_tab[idx]\n",
    "similar_prob"
   ]
  },
  {
   "cell_type": "code",
   "execution_count": 23,
   "metadata": {},
   "outputs": [
    {
     "name": "stdout",
     "output_type": "stream",
     "text": [
      "{'Supervisor': {'next': 'Noter'}}\n",
      "----\n",
      "{'Noter': {'messages': [HumanMessage(content='知识点讲解:本题考查的知识点是不等式的性质，解题关键点是理解不等式两边同加、同减、同乘、同除一个数时不等号方向的变化。\\n\\n### 板书一:\\n(1) m > n \\n(2) A. m - 2 < n - 2\\n    m > n \\n\\\\(\\\\because m - 2 < n - 2\\\\)\\n    m - n < 0 \\n    这与m > n 矛盾\\n    故 A 错误\\n(3) B. \\\\(\\\\frac{m}{4} > \\\\frac{n}{4}\\\\)\\n    m > n \\n\\\\(\\\\because \\\\frac{m}{4} > \\\\frac{n}{4} \\\\) (两边同时除以正数4，不等号方向不变)\\n    故 B 正确\\n(4) C. 6m < 6n\\n    m > n \\n\\\\(\\\\because 6m < 6n\\\\)\\n    6(m - n) < 0 \\n    这与m > n 矛盾\\n    故 C 错误\\n(5) D. -8m > -8n\\n    m > n \\n\\\\(\\\\because -8m > -8n\\\\)\\n    -8(m - n) > 0 \\n    这与m > n 矛盾\\n    故 D 错误\\n\\n故答案是B.', name='Noter')]}}\n",
      "----\n",
      "{'Supervisor': {'next': 'Validator'}}\n",
      "----\n",
      "{'Validator': {'messages': [HumanMessage(content='### Noter使用的解题方法\\n1. 不等式的基本性质：\\n    - 不等式两边同时加、减同一个数，不等号方向不变。\\n    - 不等式两边同时乘、除以同一个正数，不等号方向不变。\\n    - 不等式两边同时乘、除以同一个负数，不等号方向相反。\\n\\n### 检查是否超纲\\n这些解题方法都在七年级数学课程标准的范围内，不涉及超纲内容。\\n\\n不需要修改。', name='Validator')]}}\n",
      "----\n",
      "{'Supervisor': {'next': 'Explainer'}}\n",
      "----\n",
      "{'Explainer': {'messages': [HumanMessage(content='### 讲解一:\\n我们来看第一个选项 A：m - 2 < n - 2。  \\n首先，题目给出的条件是 m > n。  \\n根据不等式的性质，如果我们在不等式两边同时减去一个相同的数，不等号的方向不会改变。  \\n所以，m - 2 > n - 2。而选项 A 说的是 m - 2 < n - 2，这是错误的。  \\n因此，选项 A 是错误的。\\n\\n### 讲解二:\\n接下来，我们看第二个选项 B：\\\\(\\\\frac{m}{4} > \\\\frac{n}{4}\\\\)。  \\n题目条件是 m > n。  \\n根据不等式的性质，如果我们在不等式两边同时除以一个相同的正数，不等号的方向不会改变。  \\n因为 4 是一个正数，所以 \\\\(\\\\frac{m}{4} > \\\\frac{n}{4}\\\\) 也成立。  \\n因此，选项 B 是正确的。\\n\\n### 讲解三:\\n然后，我们看第三个选项 C：6m < 6n。  \\n题目条件是 m > n。  \\n根据不等式的性质，如果我们在不等式两边同时乘以一个相同的正数，不等号的方向不会改变。  \\n因为 6 是一个正数，所以 6m > 6n。  \\n而选项 C 说的是 6m < 6n，这是错误的。  \\n因此，选项 C 是错误的。\\n\\n### 讲解四:\\n最后，我们看第四个选项 D：-8m > -8n。  \\n题目条件是 m > n。  \\n根据不等式的性质，如果我们在不等式两边同时乘以一个相同的负数，不等号的方向会反过来。  \\n因为 -8 是一个负数，所以 -8m < -8n。  \\n而选项 D 说的是 -8m > -8n，这是错误的。  \\n因此，选项 D 是错误的。\\n\\n总结：根据以上分析，正确答案是 B。', name='Explainer')]}}\n",
      "----\n",
      "{'Supervisor': {'next': 'FINISH'}}\n",
      "----\n"
     ]
    }
   ],
   "source": [
    "#将上面那一题作为相似题喂给模型\n",
    "note, explanaton = run(problem, similar_prob['problem'], similar_prob['answer'], grade_value=\"七年级\")"
   ]
  },
  {
   "cell_type": "code",
   "execution_count": 24,
   "metadata": {},
   "outputs": [
    {
     "name": "stdout",
     "output_type": "stream",
     "text": [
      "知识点讲解:本题考查的知识点是不等式的性质，解题关键点是理解不等式两边同加、同减、同乘、同除一个数时不等号方向的变化。\n",
      "\n",
      "### 板书一:\n",
      "(1) m > n \n",
      "(2) A. m - 2 < n - 2\n",
      "    m > n \n",
      "\\(\\because m - 2 < n - 2\\)\n",
      "    m - n < 0 \n",
      "    这与m > n 矛盾\n",
      "    故 A 错误\n",
      "(3) B. \\(\\frac{m}{4} > \\frac{n}{4}\\)\n",
      "    m > n \n",
      "\\(\\because \\frac{m}{4} > \\frac{n}{4} \\) (两边同时除以正数4，不等号方向不变)\n",
      "    故 B 正确\n",
      "(4) C. 6m < 6n\n",
      "    m > n \n",
      "\\(\\because 6m < 6n\\)\n",
      "    6(m - n) < 0 \n",
      "    这与m > n 矛盾\n",
      "    故 C 错误\n",
      "(5) D. -8m > -8n\n",
      "    m > n \n",
      "\\(\\because -8m > -8n\\)\n",
      "    -8(m - n) > 0 \n",
      "    这与m > n 矛盾\n",
      "    故 D 错误\n",
      "\n",
      "故答案是B.\n"
     ]
    }
   ],
   "source": [
    "print(note)"
   ]
  },
  {
   "cell_type": "code",
   "execution_count": null,
   "metadata": {},
   "outputs": [],
   "source": []
  },
  {
   "cell_type": "code",
   "execution_count": 25,
   "metadata": {},
   "outputs": [
    {
     "name": "stdout",
     "output_type": "stream",
     "text": [
      "### 讲解一:\n",
      "我们来看第一个选项 A：m - 2 < n - 2。  \n",
      "首先，题目给出的条件是 m > n。  \n",
      "根据不等式的性质，如果我们在不等式两边同时减去一个相同的数，不等号的方向不会改变。  \n",
      "所以，m - 2 > n - 2。而选项 A 说的是 m - 2 < n - 2，这是错误的。  \n",
      "因此，选项 A 是错误的。\n",
      "\n",
      "### 讲解二:\n",
      "接下来，我们看第二个选项 B：\\(\\frac{m}{4} > \\frac{n}{4}\\)。  \n",
      "题目条件是 m > n。  \n",
      "根据不等式的性质，如果我们在不等式两边同时除以一个相同的正数，不等号的方向不会改变。  \n",
      "因为 4 是一个正数，所以 \\(\\frac{m}{4} > \\frac{n}{4}\\) 也成立。  \n",
      "因此，选项 B 是正确的。\n",
      "\n",
      "### 讲解三:\n",
      "然后，我们看第三个选项 C：6m < 6n。  \n",
      "题目条件是 m > n。  \n",
      "根据不等式的性质，如果我们在不等式两边同时乘以一个相同的正数，不等号的方向不会改变。  \n",
      "因为 6 是一个正数，所以 6m > 6n。  \n",
      "而选项 C 说的是 6m < 6n，这是错误的。  \n",
      "因此，选项 C 是错误的。\n",
      "\n",
      "### 讲解四:\n",
      "最后，我们看第四个选项 D：-8m > -8n。  \n",
      "题目条件是 m > n。  \n",
      "根据不等式的性质，如果我们在不等式两边同时乘以一个相同的负数，不等号的方向会反过来。  \n",
      "因为 -8 是一个负数，所以 -8m < -8n。  \n",
      "而选项 D 说的是 -8m > -8n，这是错误的。  \n",
      "因此，选项 D 是错误的。\n",
      "\n",
      "总结：根据以上分析，正确答案是 B。\n"
     ]
    }
   ],
   "source": [
    "print(explanaton)"
   ]
  },
  {
   "cell_type": "code",
   "execution_count": 2,
   "metadata": {},
   "outputs": [
    {
     "name": "stdout",
     "output_type": "stream",
     "text": [
      "executing\n",
      "1. 数学领域和类型: 数论\n",
      "2. 核心概念和原理: 数集分类（整数、正实数、无理数）\n",
      "3. 解题方法和策略: 数字分类\n",
      "4. 问题背景和情境: 无\n",
      "5. 变量数量: 9\n",
      "6. 题目所属年级: 7{'problem': '将下列个数按有理数与无理数分类：\\n\\\\[ \\\\sqrt{7}, -0.68, \\\\sqrt{4/9}, 0, -\\\\sqrt{5}, 3.1415926, \\\\frac{\\\\pi}{2}, \\\\frac{22}{7}, \\\\sqrt[3]{9} \\\\]', 'answer': '从左往右我们来看，第一个 \\\\(\\\\sqrt{7}\\\\) 写成小数是无限不循环小数，属于无理数。-0.68 是有限小数，属于有理数。 \\\\(\\\\sqrt{4/9}\\\\) 是4/9的算数平方根，是分数，等于2/3，属于有理数。0是整数，属于有理数。-\\\\(\\\\sqrt{5}\\\\) 含有无理数 \\\\(\\\\sqrt{5}\\\\)，写成小数之后依然是无限不循环小数，属于无理数。3.1415926 是无理数 \\\\(\\\\pi\\\\) 的一部分，它是有限小数，属于有理数。 \\\\(\\\\frac{\\\\pi}{2}\\\\) 含有无理数 \\\\(\\\\pi\\\\)，写成小数以后仍然是无限不循环小数，属于无理数。 \\\\(\\\\frac{22}{7}\\\\) 是分数，属于有理数。 \\\\(\\\\sqrt[3]{9}\\\\) 写成小数之后仍然是无限不循环小数，属于无理数。'}\n",
      "{'Supervisor': {'next': 'Noter'}}\n",
      "----\n",
      "{'Noter': {'messages': [HumanMessage(content='知识点讲解: 本题考查的知识点是数的分类，解题关键点是判断数的类型并填入相应的集合。\\n\\n### 板书一:\\n(1) 整数集合：\\n\\\\[\\n\\\\{-\\\\sqrt{9}, -10\\\\}\\n\\\\]\\n\\n### 板书二:\\n(2) 正实数集合：\\n\\\\[\\n\\\\{2.022\\\\}\\n\\\\]\\n\\n### 板书三:\\n(3) 无理数集合：\\n\\\\[\\n\\\\{\\\\pi, -1.1010010001\\\\ldots\\\\}\\n\\\\]\\n故答案是：  \\n(1) 整数集合：\\\\{-\\\\sqrt{9}, -10\\\\}；  \\n(2) 正实数集合：\\\\{2.022\\\\}；  \\n(3) 无理数集合：\\\\{\\\\pi, -1.1010010001\\\\ldots\\\\}。', name='Noter')]}}\n",
      "----\n",
      "{'Supervisor': {'next': 'Validator'}}\n",
      "----\n",
      "{'Validator': {'messages': [HumanMessage(content='### 解题方法：\\n1. 整数的判断：直接判断给定数是否为整数，包括负整数。\\n2. 正实数的判断：判断数是否大于零且为有理数。\\n3. 无理数的判断：判断数是否为无限不循环小数或包含无理数常量。\\n\\n### 检查：\\n1. 板书一中的整数集合中，-√9 被判断为整数。这是正确的，因为 -√9 = -3。\\n2. 板书二中的正实数集合中，2.022 被正确分类为正实数。\\n3. 板书三中的无理数集合中，π 和 -1.1010010001… 被正确分类为无理数。\\n\\n### 结论：\\n所用的解题方法均在七年级的能力范围内。\\n\\n不需要修改。', name='Validator')]}}\n",
      "----\n",
      "{'Supervisor': {'next': 'Explainer'}}\n",
      "----\n",
      "{'Explainer': {'messages': [HumanMessage(content='### 讲解一:\\n首先，我们来看整数集合。整数是指没有小数部分的数，包括正整数、零和负整数。在这些数中：\\n- \\\\(-\\\\sqrt{9}\\\\) 等于 \\\\(-3\\\\)，这是一个负整数。\\n- \\\\(-10\\\\) 也是一个负整数。\\n所以整数集合是 \\\\(\\\\{-\\\\sqrt{9}, -10\\\\}\\\\)。\\n\\n### 讲解二:\\n接下来，我们来看正实数集合。正实数是指大于零的数。在这些数中：\\n- \\\\(2.022\\\\) 是一个大于零的数，属于正实数。\\n所以正实数集合是 \\\\(\\\\{2.022\\\\}\\\\)。\\n\\n### 讲解三:\\n最后，我们来看无理数集合。无理数是指不能写成两个整数的比的数，通常是无限不循环小数。在这些数中：\\n- \\\\(\\\\pi\\\\) 是一个著名的无理数。\\n- \\\\(-1.1010010001\\\\ldots\\\\) 是一个无限不循环小数，也属于无理数。\\n所以无理数集合是 \\\\(\\\\{\\\\pi, -1.1010010001\\\\ldots\\\\}\\\\)。\\n\\n总结一下：\\n(1) 整数集合：\\\\(\\\\{-\\\\sqrt{9}, -10\\\\}\\\\)；\\n(2) 正实数集合：\\\\(\\\\{2.022\\\\}\\\\)；\\n(3) 无理数集合：\\\\(\\\\{\\\\pi, -1.1010010001\\\\ldots\\\\}\\\\)。', name='Explainer')]}}\n",
      "----\n",
      "{'Supervisor': {'next': 'FINISH'}}\n",
      "----\n",
      "executing\n",
      "1. 数学领域和类型: 数学基础\n",
      "2. 核心概念和原理: 实数比较\n",
      "3. 解题方法和策略: 数值比较\n",
      "4. 问题背景和情境: 无\n",
      "5. 变量数量: 4\n",
      "6. 题目所属年级: 5{'problem': '分别写出负根六和派减3.14的相反数。', 'answer': '我们知道实数A的相反数是负A，那么负根六的相反数是负的负根六，负的负根六等于根六。负的括号派减去3.14是派减3.14的相反数，根据去括号法则等于负派加上3.14，即等于3.14减派。'}\n",
      "{'Supervisor': {'next': 'Noter'}}\n",
      "----\n",
      "{'Noter': {'messages': [HumanMessage(content='知识点讲解:本题考查的知识点是实数的大小比较，解题关键点是通过比较实数的大小确定最小的实数。\\n\\n### 板书一:\\n\\n依题意得实数有：\\n-1/3, -2, 0, √3\\n\\n比较这四个实数的大小：\\n-2 < -1/3 < 0 < √3\\n\\n所以，最小的实数是-2\\n\\n故答案是A', name='Noter')]}}\n",
      "----\n",
      "{'Supervisor': {'next': 'Validator'}}\n",
      "----\n",
      "{'Validator': {'messages': [HumanMessage(content='Noter使用了以下解题方法：\\n1. 实数大小比较\\n\\n经查实，实数的大小比较在七年级课程标准中是可以接受的内容，因此不超纲。\\n\\n不需要修改', name='Validator')]}}\n",
      "----\n",
      "{'Supervisor': {'next': 'Explainer'}}\n",
      "----\n",
      "{'Explainer': {'messages': [HumanMessage(content='### 讲解一:\\n\\n首先，我们来看一下题目给出的四个选项：\\n- -1/3\\n- -2\\n- 0\\n- √3\\n\\n我们需要找到这四个实数中最小的那个。\\n\\n比较这四个数的大小：\\n1. -2 是负数，且是这四个数中最小的，因为它比其余所有数都要小。\\n2. -1/3 也是负数，但比 -2 要大。\\n3. 0 是非负数，显然比 -2 和 -1/3 都大。\\n4. √3 是正数，比 0 还要大。\\n\\n由此可见，这四个数的大小关系是：\\n-2 < -1/3 < 0 < √3\\n\\n所以，最小的实数是 -2。\\n\\n答案选 A。', name='Explainer')]}}\n",
      "----\n",
      "{'Supervisor': {'next': 'FINISH'}}\n",
      "----\n"
     ]
    }
   ],
   "source": [
    "import os\n",
    "from functions import image2sol\n",
    "path = \"./selected/\"\n",
    "\n",
    "dir = os.listdir(path)\n",
    "with open(\"test_output.md\", 'w') as ff:\n",
    "    for file in dir[:2]:\n",
    "        img_path = path+file\n",
    "        note, explanation, sim_p = await image2sol(img_path)\n",
    "        ff.write(f\"## 相似题：\\n {sim_p['problem']} \\n\\n ## 讲解：\\n {sim_p['answer']}\\n\\n\")\n",
    "        ff.write(f\"## 板书：\\n {img_path} \\n {note} \\n\\n\")\n",
    "        ff.write(f\"## 讲解：\\n {img_path} \\n {explanation} \\n\\n\")"
   ]
  },
  {
   "cell_type": "code",
   "execution_count": 1,
   "metadata": {},
   "outputs": [
    {
     "name": "stdout",
     "output_type": "stream",
     "text": [
      "executing\n",
      "1. 数学领域和类型: 代数\n",
      "2. 核心概念和原理: 不等式组、数轴表示\n",
      "3. 解题方法和策略: 解不等式、数轴表示法\n",
      "4. 问题背景和情境: 无\n",
      "5. 变量数量: 2\n",
      "6. 题目所属年级: 8{'Supervisor': {'next': 'Noter'}}\n",
      "----\n"
     ]
    },
    {
     "name": "stderr",
     "output_type": "stream",
     "text": [
      "Python REPL can execute arbitrary code. Use with caution.\n"
     ]
    },
    {
     "name": "stdout",
     "output_type": "stream",
     "text": [
      "{'Noter': {'messages': [HumanMessage(content='本题考查的知识点是解不等式组，解题关键点是逐个解出不等式并找出公共解。\\n\\n### 板书一:\\n\\\\[\\nx + 1 > 0\\n\\\\]\\n\\\\[\\nx > -1\\n\\\\]\\n\\n### 板书二:\\n\\\\[\\n\\\\frac{x + a}{2} \\\\leq 6\\n\\\\]\\n\\\\[\\nx + a \\\\leq 12\\n\\\\]\\n\\\\[\\nx \\\\leq 12 - a\\n\\\\]\\n\\n### 板书三:\\n依题意得\\n\\\\[\\nx > -1\\n\\\\]\\n\\\\[\\nx \\\\leq 12 - a\\n\\\\]\\n\\n### 板书四:\\n根据数轴上的表示，解集为：\\n\\\\[\\n-1 < x \\\\leq 4\\n\\\\]\\n\\\\[\\n12 - a = 4\\n\\\\]\\n\\\\[\\na = 8\\n\\\\]\\n\\n故答案是A.', name='Noter')]}}\n",
      "----\n",
      "{'Supervisor': {'next': 'Validator'}}\n",
      "----\n",
      "{'Validator': {'messages': [HumanMessage(content='Noter使用了以下解题方法：\\n1. 解不等式 \\\\( x + 1 > 0 \\\\) 和 \\\\( \\\\frac{x + a}{2} \\\\leq 6 \\\\)。\\n2. 解出两个不等式的范围 \\\\( x > -1 \\\\) 和 \\\\( x \\\\leq 12 - a \\\\)。\\n3. 根据数轴上的表示找到公共解集 \\\\( -1 < x \\\\leq 4 \\\\)。\\n4. 解方程 \\\\( 12 - a = 4 \\\\) 得出 \\\\( a = 8 \\\\)。\\n\\n这些解题方法包括：\\n- 解一元一次不等式。\\n- 解不等式组。\\n- 求公共解集。\\n\\n以上所有的方法和技巧都是七年级数学课程中通常会涉及的内容，因此这些解题方法对于七年级学生来说并不超纲。\\n\\n不需要修改。', name='Validator')]}}\n",
      "----\n",
      "{'Supervisor': {'next': 'Explainer'}}\n",
      "----\n",
      "{'Explainer': {'messages': [HumanMessage(content='### 讲解一:\\n我们先来看第一个不等式 \\\\( x + 1 > 0 \\\\)。为了找到 \\\\( x \\\\) 的值，我们需要将这个不等式解出来。将1移到不等式的另一边：\\n\\\\[\\nx > -1\\n\\\\]\\n这表示 \\\\( x \\\\) 必须大于 -1。\\n\\n### 讲解二:\\n接下来我们看第二个不等式 \\\\( \\\\frac{x + a}{2} \\\\leq 6 \\\\)。我们先将2乘到不等式两边：\\n\\\\[\\nx + a \\\\leq 12\\n\\\\]\\n然后将 \\\\( a \\\\) 移到不等式的另一边：\\n\\\\[\\nx \\\\leq 12 - a\\n\\\\]\\n这表示 \\\\( x \\\\) 不能大于 \\\\( 12 - a \\\\)。\\n\\n### 讲解三:\\n现在我们有两个不等式：\\n\\\\[\\nx > -1\\n\\\\]\\n\\\\[\\nx \\\\leq 12 - a\\n\\\\]\\n为了找到这两个不等式的公共解集，我们需要在数轴上找出两个不等式的交集。\\n\\n### 讲解四:\\n根据题目中的数轴表示，解集范围是：\\n\\\\[\\n-1 < x \\\\leq 4\\n\\\\]\\n这表示 \\\\( x \\\\) 必须大于 -1 并且小于等于4。\\n\\n我们知道 \\\\( x \\\\leq 12 - a \\\\)，并且解集的上限是4，所以我们可以得到：\\n\\\\[\\n12 - a = 4\\n\\\\]\\n解这个方程，我们可以得到 \\\\( a \\\\) 的值：\\n\\\\[\\na = 8\\n\\\\]\\n\\n因此，答案是A: 8。', name='Explainer')]}}\n",
      "----\n",
      "{'Supervisor': {'next': 'FINISH'}}\n",
      "----\n"
     ]
    }
   ],
   "source": [
    "from functions import image2sol\n",
    "\n",
    "note, explanaton = await image2sol(\"./3_cropped/slide_1010.png\")"
   ]
  },
  {
   "cell_type": "code",
   "execution_count": 2,
   "metadata": {},
   "outputs": [
    {
     "name": "stdout",
     "output_type": "stream",
     "text": [
      "本题考查的知识点是解不等式组，解题关键点是逐个解出不等式并找出公共解。\n",
      "\n",
      "### 板书一:\n",
      "\\[\n",
      "x + 1 > 0\n",
      "\\]\n",
      "\\[\n",
      "x > -1\n",
      "\\]\n",
      "\n",
      "### 板书二:\n",
      "\\[\n",
      "\\frac{x + a}{2} \\leq 6\n",
      "\\]\n",
      "\\[\n",
      "x + a \\leq 12\n",
      "\\]\n",
      "\\[\n",
      "x \\leq 12 - a\n",
      "\\]\n",
      "\n",
      "### 板书三:\n",
      "依题意得\n",
      "\\[\n",
      "x > -1\n",
      "\\]\n",
      "\\[\n",
      "x \\leq 12 - a\n",
      "\\]\n",
      "\n",
      "### 板书四:\n",
      "根据数轴上的表示，解集为：\n",
      "\\[\n",
      "-1 < x \\leq 4\n",
      "\\]\n",
      "\\[\n",
      "12 - a = 4\n",
      "\\]\n",
      "\\[\n",
      "a = 8\n",
      "\\]\n",
      "\n",
      "故答案是A.\n"
     ]
    }
   ],
   "source": [
    "print(note)"
   ]
  },
  {
   "cell_type": "code",
   "execution_count": 3,
   "metadata": {},
   "outputs": [
    {
     "name": "stdout",
     "output_type": "stream",
     "text": [
      "### 讲解一:\n",
      "我们先来看第一个不等式 \\( x + 1 > 0 \\)。为了找到 \\( x \\) 的值，我们需要将这个不等式解出来。将1移到不等式的另一边：\n",
      "\\[\n",
      "x > -1\n",
      "\\]\n",
      "这表示 \\( x \\) 必须大于 -1。\n",
      "\n",
      "### 讲解二:\n",
      "接下来我们看第二个不等式 \\( \\frac{x + a}{2} \\leq 6 \\)。我们先将2乘到不等式两边：\n",
      "\\[\n",
      "x + a \\leq 12\n",
      "\\]\n",
      "然后将 \\( a \\) 移到不等式的另一边：\n",
      "\\[\n",
      "x \\leq 12 - a\n",
      "\\]\n",
      "这表示 \\( x \\) 不能大于 \\( 12 - a \\)。\n",
      "\n",
      "### 讲解三:\n",
      "现在我们有两个不等式：\n",
      "\\[\n",
      "x > -1\n",
      "\\]\n",
      "\\[\n",
      "x \\leq 12 - a\n",
      "\\]\n",
      "为了找到这两个不等式的公共解集，我们需要在数轴上找出两个不等式的交集。\n",
      "\n",
      "### 讲解四:\n",
      "根据题目中的数轴表示，解集范围是：\n",
      "\\[\n",
      "-1 < x \\leq 4\n",
      "\\]\n",
      "这表示 \\( x \\) 必须大于 -1 并且小于等于4。\n",
      "\n",
      "我们知道 \\( x \\leq 12 - a \\)，并且解集的上限是4，所以我们可以得到：\n",
      "\\[\n",
      "12 - a = 4\n",
      "\\]\n",
      "解这个方程，我们可以得到 \\( a \\) 的值：\n",
      "\\[\n",
      "a = 8\n",
      "\\]\n",
      "\n",
      "因此，答案是A: 8。\n"
     ]
    }
   ],
   "source": [
    "print(explanaton)"
   ]
  },
  {
   "cell_type": "code",
   "execution_count": null,
   "metadata": {},
   "outputs": [],
   "source": []
  }
 ],
 "metadata": {
  "kernelspec": {
   "display_name": "compute",
   "language": "python",
   "name": "python3"
  },
  "language_info": {
   "codemirror_mode": {
    "name": "ipython",
    "version": 3
   },
   "file_extension": ".py",
   "mimetype": "text/x-python",
   "name": "python",
   "nbconvert_exporter": "python",
   "pygments_lexer": "ipython3",
   "version": "3.10.14"
  }
 },
 "nbformat": 4,
 "nbformat_minor": 2
}
