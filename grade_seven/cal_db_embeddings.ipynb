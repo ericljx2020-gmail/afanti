{
 "cells": [
  {
   "cell_type": "code",
   "execution_count": null,
   "metadata": {},
   "outputs": [],
   "source": [
    "import json\n",
    "from langchain_openai import OpenAIEmbeddings\n",
    "from functions import inference"
   ]
  },
  {
   "cell_type": "code",
   "execution_count": null,
   "metadata": {},
   "outputs": [],
   "source": [
    "with open(\"problem_set_g7.json\", \"r\") as f:\n",
    "    data = json.load(f)"
   ]
  },
  {
   "cell_type": "code",
   "execution_count": null,
   "metadata": {},
   "outputs": [],
   "source": [
    "n = len(data)\n",
    "similar_score = [[0 for _ in range(n)] for _ in range(n)]\n",
    "embedding_model = OpenAIEmbeddings(model='text-embedding-3-large')"
   ]
  },
  {
   "cell_type": "code",
   "execution_count": null,
   "metadata": {},
   "outputs": [],
   "source": [
    "extract_prompt = r\"\"\"\n",
    "    请从以下数学题目中提取关键信息。请返回以下格式的信息：\n",
    "\n",
    "    1. 数学领域和类型（如代数、几何、微积分、统计等）\n",
    "    2. 核心概念和原理（列出题目所需要的数学概念，如比例、相似、函数性质等）\n",
    "    3. 解题方法和策略（列出用到特定的解题技巧，如配方法、换元法、归纳法等）\n",
    "    4. 问题背景和情境（指出题目问题情境，如工程问题、经济问题、自然现象解释）\n",
    "    5. 变量数量（题目所用到变量的数量，一定不要输出变量具体是什么）\n",
    "    6. 题目所属年级（列出这道题最可能出现在哪一年级的试卷上）\n",
    "\n",
    "    示例题目：\n",
    "    求解方程 2x + 3 = 7\n",
    "\n",
    "    示例输出：\n",
    "    1. 数学领域和类型: 代数\n",
    "    2. 核心概念和原理: 方程\n",
    "    3. 解题方法和策略: 移项\n",
    "    4. 问题背景和情境: 无\n",
    "    5. 变量数量: 1\n",
    "    6. 题目所属年级: 4\n",
    "\n",
    "    现在请处理以下题目：\n",
    "    {problem}\n",
    "\"\"\""
   ]
  },
  {
   "cell_type": "code",
   "execution_count": null,
   "metadata": {},
   "outputs": [],
   "source": [
    "problems = []\n",
    "for item in data:\n",
    "    problems.append(item['problem'])\n",
    "len(problems)"
   ]
  },
  {
   "cell_type": "code",
   "execution_count": null,
   "metadata": {},
   "outputs": [],
   "source": [
    "import re\n",
    "problems_emb = []\n",
    "cache = {}\n",
    "for problem in problems:\n",
    "    attribs = []\n",
    "    embedds = []\n",
    "    temp = await inference({\"problem\": problem}, extract_prompt)\n",
    "    pattern = r'\\d+\\.\\s.*?:\\s*(.*)'\n",
    "    matches_p1 = re.findall(pattern, temp)\n",
    "    for i, match in enumerate(matches_p1, 1):\n",
    "        attribs.append(match)\n",
    "    for att in attribs:\n",
    "        if att in cache:\n",
    "            embedds.append(cache.get(att))\n",
    "        else:\n",
    "            eb = embedding_model.embed_query(att)\n",
    "            embedds.append(eb)\n",
    "            cache[att] = eb\n",
    "    problems_emb.append(embedds)"
   ]
  },
  {
   "cell_type": "code",
   "execution_count": null,
   "metadata": {},
   "outputs": [],
   "source": [
    "len(problems_emb)"
   ]
  },
  {
   "cell_type": "code",
   "execution_count": null,
   "metadata": {},
   "outputs": [],
   "source": [
    "with open(\"problems_emb.json\", \"w\", encoding='utf-8') as f:\n",
    "    json.dump(problems_emb, f, ensure_ascii=False, indent=4)"
   ]
  },
  {
   "cell_type": "code",
   "execution_count": null,
   "metadata": {},
   "outputs": [],
   "source": [
    "problem_q = \"估计与根号20最接近的一个整数是多少？\"\n",
    "q_emb = []\n",
    "q_att = []\n",
    "temp = await inference({\"problem\": problem_q}, extract_prompt)\n",
    "pattern = r'\\d+\\.\\s.*?:\\s*(.*)'\n",
    "matches_p1 = re.findall(pattern, temp)\n",
    "\n",
    "for i, match in enumerate(matches_p1, 1):\n",
    "    q_att.append(match)\n",
    "    q_emb.append(embedding_model.embed_query(match))\n",
    "q_emb"
   ]
  },
  {
   "cell_type": "code",
   "execution_count": null,
   "metadata": {},
   "outputs": [],
   "source": [
    "import torch\n",
    "q_emb = torch.tensor(q_emb)"
   ]
  },
  {
   "cell_type": "code",
   "execution_count": null,
   "metadata": {},
   "outputs": [],
   "source": [
    "problems_emb = torch.tensor(problems_emb)\n",
    "problems_emb.shape"
   ]
  },
  {
   "cell_type": "code",
   "execution_count": null,
   "metadata": {},
   "outputs": [],
   "source": [
    "weights = [0.4, 0.2, 0.15, 0.05, 0.05, 0.15]\n",
    "record = []\n",
    "for i in range(problems_emb.shape[0]):\n",
    "    saved_problem = problems_emb[i]\n",
    "    similar_score = 0\n",
    "    for j in range(q_emb.shape[0]):\n",
    "        similar_score += torch.dot(q_emb[j], saved_problem[j]) * weights[j]\n",
    "    record.append(similar_score)\n",
    "record"
   ]
  },
  {
   "cell_type": "code",
   "execution_count": null,
   "metadata": {},
   "outputs": [],
   "source": [
    "t = record.index(max(record))"
   ]
  },
  {
   "cell_type": "code",
   "execution_count": null,
   "metadata": {},
   "outputs": [],
   "source": [
    "problems[t]"
   ]
  },
  {
   "cell_type": "code",
   "execution_count": 1,
   "metadata": {},
   "outputs": [
    {
     "name": "stdout",
     "output_type": "stream",
     "text": [
      "executing\n",
      "1. 数学领域和类型: 数论\n",
      "2. 核心概念和原理: 平方根、整数估计\n",
      "3. 解题方法和策略: 近似估计、平方数比较\n",
      "4. 问题背景和情境: 无\n",
      "5. 变量数量: 1\n",
      "6. 题目所属年级: 6"
     ]
    },
    {
     "data": {
      "text/plain": [
       "(tensor(0.9501), 15)"
      ]
     },
     "execution_count": 1,
     "metadata": {},
     "output_type": "execute_result"
    }
   ],
   "source": [
    "from functions import search_similar\n",
    "await search_similar(\"估计与根号20最接近的一个整数是多少？\")"
   ]
  },
  {
   "cell_type": "code",
   "execution_count": 3,
   "metadata": {},
   "outputs": [
    {
     "data": {
      "text/plain": [
       "{'problem': '估计与根号十最接近的一个整数是多少？',\n",
       " 'answer': '根号十是介于三和四之间的一个数，那这道题的意思是要你分析根号十是更靠近于三呢还是更靠近于四呢？所以本题的关键就是需要对根号十做更精确一些的估值。好我们从3.5开始，3.5的平方等于12.25比十大了，所以根号十是小于3.5，也即是最接近根号十的整数是三。'}"
      ]
     },
     "execution_count": 3,
     "metadata": {},
     "output_type": "execute_result"
    }
   ],
   "source": [
    "import json\n",
    "with open(\"problem_set_g7.json\", 'r') as f:\n",
    "    data = json.load(f)\n",
    "data[15]"
   ]
  },
  {
   "cell_type": "code",
   "execution_count": null,
   "metadata": {},
   "outputs": [],
   "source": []
  }
 ],
 "metadata": {
  "kernelspec": {
   "display_name": "compute",
   "language": "python",
   "name": "python3"
  },
  "language_info": {
   "codemirror_mode": {
    "name": "ipython",
    "version": 3
   },
   "file_extension": ".py",
   "mimetype": "text/x-python",
   "name": "python",
   "nbconvert_exporter": "python",
   "pygments_lexer": "ipython3",
   "version": "3.10.14"
  }
 },
 "nbformat": 4,
 "nbformat_minor": 2
}
