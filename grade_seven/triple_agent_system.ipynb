{
 "cells": [
  {
   "cell_type": "code",
   "execution_count": 1,
   "metadata": {},
   "outputs": [],
   "source": [
    "import getpass\n",
    "import os\n",
    "\n",
    "def _set_if_undefined(var: str):\n",
    "    if not os.environ.get(var):\n",
    "        os.environ[var] = getpass.getpass(f\"please provide your {var}\")\n",
    "\n",
    "_set_if_undefined(\"OPENAI_API_KEY\")"
   ]
  },
  {
   "cell_type": "code",
   "execution_count": 2,
   "metadata": {},
   "outputs": [],
   "source": [
    "from langchain_core.messages import (\n",
    "    BaseMessage,\n",
    "    HumanMessage,\n",
    "    ToolMessage,\n",
    ")\n",
    "from langchain_core.prompts import ChatPromptTemplate, MessagesPlaceholder\n",
    "\n",
    "from langgraph.graph import END, StateGraph, START\n",
    "from langchain.agents import AgentExecutor, create_openai_tools_agent\n",
    "from langchain_openai import ChatOpenAI\n",
    "from typing import Annotated"
   ]
  },
  {
   "cell_type": "code",
   "execution_count": 3,
   "metadata": {},
   "outputs": [],
   "source": [
    "from templates import *\n",
    "from langchain_experimental.tools import PythonREPLTool"
   ]
  },
  {
   "cell_type": "code",
   "execution_count": 4,
   "metadata": {},
   "outputs": [],
   "source": [
    "python_repl_tool = PythonREPLTool()"
   ]
  },
  {
   "cell_type": "code",
   "execution_count": 14,
   "metadata": {},
   "outputs": [],
   "source": [
    "def create_agent(llm: ChatOpenAI, tools: list, system_prompt: str):\n",
    "    \"\"\"Creating an Agent\"\"\"\n",
    "    prompt = ChatPromptTemplate.from_messages(\n",
    "        [\n",
    "            (\n",
    "                \"system\",\n",
    "                system_prompt,\n",
    "            ),\n",
    "            MessagesPlaceholder(variable_name='messages'),\n",
    "            MessagesPlaceholder(variable_name='agent_scratchpad')\n",
    "        ]\n",
    "    )\n",
    "    agent = create_openai_tools_agent(llm, tools, prompt)\n",
    "    executor = AgentExecutor(agent=agent, tools=tools)\n",
    "    return executor"
   ]
  },
  {
   "cell_type": "code",
   "execution_count": 6,
   "metadata": {},
   "outputs": [],
   "source": [
    "def agent_node(state, agent, name, log):\n",
    "    result = agent.invoke(state)\n",
    "    log[name] = result['output']\n",
    "    return {\"messages\": [HumanMessage(content=result['output'], name=name)]}"
   ]
  },
  {
   "cell_type": "code",
   "execution_count": 7,
   "metadata": {},
   "outputs": [],
   "source": [
    "from langchain_core.output_parsers.openai_functions import JsonOutputFunctionsParser\n",
    "\n",
    "members = [\"Extractor\", \"Validator\", \"Generator\"]\n",
    "system_prompt = (\n",
    "    \"你是一名监督员，负责管理以下成员之间的对话：{members}。\"\n",
    "    \"根据以下用户请求，指定下一个需要行动的成员。每个成员将执行一个任务,\"\n",
    "    \"你的任务是安排Extractor, Validator, 和Generator之间的工作，让他们合作教学视频中提取出完整题目及老师解析\"\n",
    "    \"按照Extractor-Validator-Generator的顺序工作，Extractor进行初筛，Validator对于Extractor提取的每一道题进行评价，Generator根据Validator对于题目的评价决定是否保留当前题目，并输出最终满足要求的题目\"\n",
    "    \"每一步反馈他们的结果和状态。任务完成后，请回复“FINISH”。\"\n",
    ")\n",
    "\n",
    "options = [\"FINISH\"] + members\n",
    "\n",
    "function_def = {\n",
    "    \"name\": \"route\",\n",
    "    \"description\": \"选择下一步该由谁来执行\",\n",
    "    \"parameters\": {\n",
    "        \"title\": \"routeSchema\",\n",
    "        \"type\": \"object\",\n",
    "        \"properties\": {\n",
    "            \"next\": {\n",
    "                \"title\": \"Next\",\n",
    "                \"anyOf\": [\n",
    "                    {\"enum\": options},\n",
    "                ],\n",
    "            }\n",
    "        },\n",
    "        \"required\": ['next']\n",
    "    }\n",
    "}"
   ]
  },
  {
   "cell_type": "code",
   "execution_count": 12,
   "metadata": {},
   "outputs": [],
   "source": [
    "prompt = ChatPromptTemplate.from_messages(\n",
    "    [\n",
    "        (\"system\", system_prompt),\n",
    "        MessagesPlaceholder(variable_name='messages'),\n",
    "        (\n",
    "            \"system\",\n",
    "            \"请根据Extractor-Validator-Generator，的顺序选择下一个执行的人\"\n",
    "            \"当Generator执行完，输出“FINISH” \"\n",
    "            \"请从以下选项中选一个：{options}\",\n",
    "        ),\n",
    "    ]\n",
    ").partial(options=str(options), members=\", \".join(members))\n",
    "\n",
    "llm = ChatOpenAI(model=\"gpt-4o\", max_tokens=1000)\n",
    "\n",
    "supervisor_chain = (\n",
    "    prompt\n",
    "    | llm.bind_functions(functions=[function_def], function_call=\"route\")\n",
    "    | JsonOutputFunctionsParser()\n",
    ")"
   ]
  },
  {
   "cell_type": "code",
   "execution_count": 20,
   "metadata": {},
   "outputs": [],
   "source": [
    "import functools\n",
    "import operator\n",
    "from typing import Sequence, TypedDict, Annotated\n",
    "\n",
    "class AgentState(TypedDict):\n",
    "    messages: Annotated[Sequence[BaseMessage], operator.add]\n",
    "    next: str\n",
    "log = {}\n",
    "\n",
    "extractor_agent = create_agent(llm, [python_repl_tool], extract_template)\n",
    "extractor_node = functools.partial(agent_node, agent=extractor_agent, name='Extractor', log=log)\n",
    "\n",
    "validator_agent = create_agent(llm, [python_repl_tool], validator_template)\n",
    "validator_node = functools.partial(agent_node, agent=validator_agent, name=\"Validator\", log=log)\n",
    "\n",
    "generator_agent = create_agent(llm, [python_repl_tool], generator_template)\n",
    "generator_node = functools.partial(agent_node, agent=generator_agent, name=\"Generator\", log=log)\n",
    "\n",
    "\n",
    "def supervisor_node(state, log):\n",
    "    result = supervisor_chain.invoke(state)\n",
    "    log[\"Supervisor\"] = result\n",
    "    return result\n",
    "\n",
    "workflow = StateGraph(AgentState)\n",
    "workflow.add_node(\"Extractor\", extractor_node)\n",
    "workflow.add_node(\"Validator\", validator_node)\n",
    "workflow.add_node(\"Generator\", generator_node)\n",
    "workflow.add_node(\"Supervisor\", functools.partial(supervisor_node, log=log))"
   ]
  },
  {
   "cell_type": "code",
   "execution_count": 21,
   "metadata": {},
   "outputs": [],
   "source": [
    "for member in members:\n",
    "    workflow.add_edge(member, \"Supervisor\")\n",
    "\n",
    "conditional_map = {k:k for k in members}\n",
    "conditional_map[\"FINISH\"] = END\n",
    "workflow.add_conditional_edges(\"Supervisor\", lambda x : x['next'], conditional_map)\n",
    "workflow.add_edge(START, \"Supervisor\")\n",
    "\n",
    "graph = workflow.compile()"
   ]
  },
  {
   "cell_type": "code",
   "execution_count": 22,
   "metadata": {},
   "outputs": [
    {
     "data": {
      "image/jpeg": "[encoded data removed]",
      "text/plain": [
       "<IPython.core.display.Image object>"
      ]
     },
     "metadata": {},
     "output_type": "display_data"
    }
   ],
   "source": [
    "from IPython.display import Image, display\n",
    "\n",
    "try:\n",
    "    display(Image(graph.get_graph(xray=True).draw_mermaid_png()))\n",
    "except Exception:\n",
    "    pass"
   ]
  },
  {
   "cell_type": "code",
   "execution_count": 23,
   "metadata": {},
   "outputs": [
    {
     "data": {
      "text/plain": [
       "'同学们大家好首先让我们先来了解本节课的学习目标主要包括一巩固平行线的判定方法二会用判定方法判断两条直线是否平行并解决较复杂的问题三学会写几何推理过程让我们先来回顾一下学过的知识大家想一想判定两条直线平行的方法有哪些我们在平行线这一节学习过可以用平行线的定义或平行公理的推论来判断两条直线是否平行但是这两种方法有一定的局限性上节课我们又重点研究了平行线的这三种判定方法可以通过同位角相等或者内错角相等或者同旁内角互补来判断两条直线是否平行这三种判定方法也是本章的重点之一今天我们将通过几道例题继续研究这三种判定方法让我们先来看看第一道例题如图当角一等于角二时求证ab平行于CD如何证明呢请大家按下暂停键先认真思考一下相信很多同学都已经想到了证明方法要判断ab与CD是否平行只需要看角一和角三这对同位角是否相等已知条件告诉我们角一等于角二而角二和角三又是一对对顶角这样我们可以很容易地得出角一和角三相等从而证明出ab平行于CD证明过程可以这样书写因为角一等于角二已知又因为角二等于角三对顶角相等所以角一等于角三所以ab平行于CD同位角相等两直线平行当然这道题的方法并不唯一我们也可以证明角二和角四这对同位角相等或者角三和角四这对内错角相等或者角三和角五相加等于180度由同旁内角互补证明出ab平行于CD希望同学们可以熟练掌握这三种判定方法让我们来继续看例二在同一平面内如果两条直线都垂直于同一条直线那么这两条直线平行吗这道题和例一有一个明显的区别这是一道文字证明题所以我们先把这些文字转化成我们熟悉的几何语言包括符号语言和图形语言我们想证明如果B垂直于AC垂直于A那么B平行于C吗请同学们按下暂停键先认真思考一下我们先标出这道题可能会用到的角要证明B是否平行于C我们只需要证明角一和角二这对同位角是否相等或者角一和角三这对内错角是否相等或者角一和角四这对同旁内角是否互补我们知道垂直总是能和直角联系在一起所以有已知的B垂直于AC垂直于A可以得到角一角二角三角四都是90度从而这三种思路都是可行的我们选取第一种思路写出证明过程因为B垂直于AC垂直于A已知所以角一等于角二等于90度垂直的定义所以B平行于C同位角相等两直线平行这道题可以得到我们初中阶段一个重要的结论垂直于同一条直线的两条直线平行这个结论我们以后也会常常用到希望同学们能牢牢记住同学们的前两道例题掌握的怎么样让我们继续看例三如图已知角一和角D互娱C垂直于DE求证ab平行于CD请同学们先按下暂停键认真思考一下这道例三同学们考虑的怎么样了让我们来认真的分析一下同样是证明平行我们可以参考前两道例题的证明方法争取做到融会贯通要证明ab是否平行于CD我们观察到有很多的同位角内错角或者同旁内角可供选择比如可以证明角一和角C这对内错角是否相等或者角D和角BED这对内错角是否相等但是这两对角好像不能很轻易的证明出来这个时候我们需要再认真的分析一下已知条件题目中说到角一和角D互余也就是说角一和角D相加等于90度其中条件C垂直于DE也就是角cad等于90度我们需要在图中标记出这几个角这样就可以看出角AED和角D这对同旁内角相加刚好等于180度从而由同旁内角互补两直线平行可以证明出ab平行于CD这道题的分析过程有几个地方需要大家注意首先我们做几何题的第一步应该是标题也就是像这样把题中的条件标在图上把符号语言转化成图形语言可以帮助我们更直观地分析条件第二是分析的方法我们既可以先从条件出发也可以先从结论出发像刚刚老师的分析是从结论出发的我们先分析如果想证明ab平行于CD我们需要哪些条件但是思路受到了阻碍所以我们继续结合条件出发所以无论是从哪里开始分析都是相辅相成的希望同学们能学会这样的分析方法这道题的过程可以这样来书写因为角一与角D互余所以角一加角D等于90度互余的定义因为CE垂直于D所以角cad等于90度垂直的定义所以角cad加角一加角D等于180度即角D加角D等于180度所以ab平行于CD同旁内角互补两直线平行当然这道题还有其他的方法同学们也可以继续探索让我们来看最后一道例题大家试试用刚刚的分析方法是否可以又快又好地证明出结论已知如图角ABC等于角abc BF d分别平分角ABC与角ABC且角一等于角三求证ab平行于DC请同学们按下暂停键先认真思考一下这道题大家是否证明出了结论让我们来一起看看请大家先把已知条件标在图上我们试试先从结论出发想证明ab与DC是否平行这个时候会出现一个问题平行线的三种判定方法的前提是两条直线被第三条直线所截判断形成的同位角内错角和同旁内角是否相等或互补但是这道题中ab和CD这两条直线的斜线有四条分别是直线DA直线DE直线FB和直线CB这四条直线与ABDC形成的同位角内错角和同旁内角有很多对那到底该选取哪一对角呢这个时候我们需要再继续分析已知条件题目中说角ABC等于角ADCBSD分别平分这两个角那么综合这两个条件可以得到角一和角二相等又结合题中的角一等于角三我们可以得到角二等于角三角二和角三刚好是ABCD被直线D所截得的内错角所以内错角相等两直线平行就可以得出结论这道题的过程可以这样来书写因为角ABC等于角ABC所以12角ABC等于12角ABC又因为BF de分别平分角ABC与角ADC所以角一等于12角ABC角二等于12角ABC角平分线的定义所以角一等于角二等量代换因为角一等于角三已知所以角二等于角三等量代换所以ab平行于DC内错角相等两直线平行最后让我们来一起做一下小结本节课我们通过四道例题巩固了平行线的三种判定方法并了解了如何从条件或结论出发分析题目以及如何写几何推理过程希望大家的几何能力可以逐渐提高同学们我们下节课再见'"
      ]
     },
     "execution_count": 23,
     "metadata": {},
     "output_type": "execute_result"
    }
   ],
   "source": [
    "import json\n",
    "with open(\"grade_7x_subtitle.json\", 'r') as f:\n",
    "    data = json.load(f)\n",
    "data[5]"
   ]
  },
  {
   "cell_type": "code",
   "execution_count": 25,
   "metadata": {},
   "outputs": [
    {
     "name": "stdout",
     "output_type": "stream",
     "text": [
      "{'Supervisor': {'next': 'Extractor'}}\n",
      "----\n",
      "{'Extractor': {'messages': [HumanMessage(content='### 原题一：\\n求解这个二元一次方程组。观察这个方程组，它比我们之前见到的较复杂了些。\\n\\n### 讲解一：\\n回想我们以前见到的二元一次方程组，它们都是等号左边是指含有未知数的项，等号右边是只有一个数的常数项。这种形式我们称其为二元一次方程组的标准形式。之前使用消元法求解二元一次方程组都是在标准形式下进行的。\\n\\n现在我们题目中等号的右侧出现了未知数N，显然它并不符合标准形式。如果想继续使用消元法求解方程组，我们可以先将方程进行变形。对于第一个等式，我们可以先将两侧的括号去掉，再通过移项合并同类项得到第一个等式的标准形式：\\n\\\\[ 4M - N = 5 \\\\]\\n\\n对于方程组中的第二个等式，虽然它已经符合了等号左边是指含有未知数的项，等号右边是只有一个数的常数项，但是我们更倾向于使用整数系数的未知数。因此我们可以将方程的左右两侧同时乘以分母的最小公倍数六，通过变形得到：\\n\\\\[ 3M + 2N = 12 \\\\]\\n\\n达到使未知数的系数为整数的效果。这样新得到的方程组：\\n\\\\[ 4M - N = 5 \\\\]\\n\\\\[ 3M + 2N = 12 \\\\]\\n\\n这个方程组的解就是原方程组的解。将这种较复杂的二元一次方程组通过变形得到标准形式进行求解的参考格式可以为且原方程组可化为：\\n\\\\[ 4M - N = 5 \\\\]\\n即为一式，\\n\\\\[ 3M + 2N = 12 \\\\]\\n即为二式。\\n\\n再将2×1式再加上二式得到：\\n\\\\[ M = 2 \\\\]\\n\\n代入一式得：\\n\\\\[ N = 3 \\\\]\\n\\n元方程组的解是：\\n\\\\[ M = 2, N = 3 \\\\]\\n\\n回顾这道题给我们的启发，我们可以加深记忆，解较复杂的二元一次方程组时，一般先要化简方程为标准形式且系数都化为整数，然后再进行求解。\\n\\n### 原题二：\\n求解这个二元一次方程组。\\n\\n### 讲解二：\\n请你按下暂停键先观察方程组，尝试做一做。我们要先将方程组化简。对于第一个等式，观察分母3、4、12，考虑两侧同时乘以12进行化简。对于第二个方程，观察分母6、2、3，考虑等号两边同时乘以6进行化简。\\n\\n用这种方法的参考格式为且原方程组可化简为：\\n\\\\[ 8U + 9A = 17 \\\\]\\n即为一式，\\n\\\\[ U - 3V = 2 \\\\]\\n即为二式。\\n\\n通过观察我们可以使用加减消元法进行求解。将二式乘以三，再与一式相加消去未知数V，得到一个关于U的一元一次方程，得到U的值为1。再代入二式中求得V的值是1。\\n\\n所以这个方程组的解是：\\n\\\\[ U = 1, V = 1 \\\\]\\n\\n### 原题三：\\n根据题意列二元一次方程组：\\n\\\\[ X + Y - 2 = 0 \\\\]\\n\\\\[ 2X - 3Y + 5 = 0 \\\\]\\n\\n### 讲解三：\\n先将方程组调整为左边只含有未知数，右边只含有常数项的标准形式，然后再考虑使用加减消元法求解。这样优先求得Y的值为9/5，还可以继续求解未知数X的值。再代入X + 5Y中求得这个多项式的值为46/5。\\n\\n有的同学会说，对于这道题目可以不求X的值就能直接求得X + 5Y的值。想一想这种方法怎么做呢？\\n\\n想要不求未知数X的值能直接求得X + 5Y的值，就要先观察X + 5Y可以表示为X + Y再加上4Y，而刚刚我们已经整理得到了一式X + Y = 2。将一', name='Extractor')]}}\n",
      "----\n",
      "{'Supervisor': {'next': 'Validator'}}\n",
      "----\n",
      "{'Validator': {'messages': [HumanMessage(content='### 分析过程一：\\n1. **原题一：**\\n   - **问题**：求解一个较复杂的二元一次方程组。\\n   - **要点**：\\n     - 将方程组转化为标准形式。\\n     - 使用消元法进行求解。\\n   - **完整性**：题目包含了理解和解决问题所需的信息。\\n   - **逻辑一致性**：讲解一步步将方程转化为标准形式，然后使用消元法解出结果，逻辑顺序合理。\\n   - **匹配性**：讲解直接解决了所述问题。\\n\\n2. **讲解一：**\\n   - **步骤**：\\n     1. 将方程组转化为标准形式：\\n        - 4M - N = 5\\n        - 3M + 2N = 12\\n     2. 用消元法解方程：\\n        - 将2×1式再加上二式得到M的值。\\n        - 代入一式求得N的值。\\n     - **完整性**：讲解提供了完整且逻辑的分步骤解决方案。\\n     - **逻辑一致性**：步骤相互衔接，正确求解方程组并得出正确的解。\\n     - **匹配性**：讲解与问题直接对应，并提供了正确的解决方案。\\n   - **结论**：符合要求。\\n\\n### 分析过程二：\\n1. **原题二：**\\n   - **问题**：求解一个二元一次方程组。\\n   - **要点**：\\n     - 将方程组化简。\\n     - 使用加减消元法进行求解。\\n   - **完整性**：题目包含了解决问题所需的信息。\\n   - **逻辑一致性**：讲解一步步将方程化简为标准形式，然后使用加减消元法解出结果，逻辑顺序合理。\\n   - **匹配性**：讲解直接解决了所述问题。\\n\\n2. **讲解二：**\\n   - **步骤**：\\n     1. 将方程组化简：\\n        - 8U + 9A = 17\\n        - U - 3V = 2\\n     2. 用加减消元法解方程：\\n        - 将二式乘以三，再与一式相加消去V，求得U的值。\\n        - 代入二式求得V的值。\\n     - **完整性**：讲解提供了完整且逻辑的分步骤解决方案。\\n     - **逻辑一致性**：步骤相互衔接，正确求解方程组并得出正确的解。\\n     - **匹配性**：讲解与问题直接对应，并提供了正确的解决方案。\\n   - **结论**：符合要求。\\n\\n### 分析过程三：\\n1. **原题三：**\\n   - **问题**：根据题意列二元一次方程组，并求解。\\n   - **要点**：\\n     - 调整方程组为标准形式。\\n     - 使用加减消元法进行求解。\\n   - **完整性**：题目包含了解决问题所需的信息。\\n   - **逻辑一致性**：讲解分步骤调整方程组为标准形式，然后使用加减消元法解出结果，逻辑顺序合理。\\n   - **匹配性**：讲解直接解决了所述问题。\\n\\n2. **讲解三：**\\n   - **步骤**：\\n     1. 调整方程组为标准形式：\\n        - X + Y - 2 = 0\\n        - 2X - 3Y + 5 = 0\\n     2. 用加减消元法解方程：\\n        - 优先求得Y的值。\\n        - 继续求解X的值。\\n        - 代入X + 5Y中求得多项式的值。\\n     3. 使用整体代入法直接求出X + 5Y的值。\\n     - **完整性**：讲解提供了完整且逻辑的分步骤解决方案。\\n     - **逻辑一致性**：步骤相互衔接，正确求解方程组并得出正确的解。\\n     - **匹配性**：讲解与问题直接对应，并提供了正确的解决方案。\\n   - **结论**：符合要求。\\n\\n综上所述，所有问题和讲解都符合要求。', name='Validator')]}}\n",
      "----\n",
      "{'Supervisor': {'next': 'Generator'}}\n",
      "----\n",
      "{'Generator': {'messages': [HumanMessage(content='### 原题一：\\n求解这个二元一次方程组。观察这个方程组，它比我们之前见到的较复杂了些。\\n\\n### 讲解一：\\n回想我们以前见到的二元一次方程组，它们都是等号左边是指含有未知数的项，等号右边是只有一个数的常数项。这种形式我们称其为二元一次方程组的标准形式。之前使用消元法求解二元一次方程组都是在标准形式下进行的。\\n\\n现在我们题目中等号的右侧出现了未知数N，显然它并不符合标准形式。如果想继续使用消元法求解方程组，我们可以先将方程进行变形。对于第一个等式，我们可以先将两侧的括号去掉，再通过移项合并同类项得到第一个等式的标准形式：\\n\\\\[ 4M - N = 5 \\\\]\\n\\n对于方程组中的第二个等式，虽然它已经符合了等号左边是指含有未知数的项，等号右边是只有一个数的常数项，但是我们更倾向于使用整数系数的未知数。因此我们可以将方程的左右两侧同时乘以分母的最小公倍数六，通过变形得到：\\n\\\\[ 3M + 2N = 12 \\\\]\\n\\n达到使未知数的系数为整数的效果。这样新得到的方程组：\\n\\\\[ 4M - N = 5 \\\\]\\n\\\\[ 3M + 2N = 12 \\\\]\\n\\n这个方程组的解就是原方程组的解。将这种较复杂的二元一次方程组通过变形得到标准形式进行求解的参考格式可以为且原方程组可化为：\\n\\\\[ 4M - N = 5 \\\\]\\n即为一式，\\n\\\\[ 3M + 2N = 12 \\\\]\\n即为二式。\\n\\n再将2×1式再加上二式得到：\\n\\\\[ M = 2 \\\\]\\n\\n代入一式得：\\n\\\\[ N = 3 \\\\]\\n\\n元方程组的解是：\\n\\\\[ M = 2, N = 3 \\\\]\\n\\n回顾这道题给我们的启发，我们可以加深记忆，解较复杂的二元一次方程组时，一般先要化简方程为标准形式且系数都化为整数，然后再进行求解。\\n\\n### 原题二：\\n求解这个二元一次方程组。\\n\\n### 讲解二：\\n请你按下暂停键先观察方程组，尝试做一做。我们要先将方程组化简。对于第一个等式，观察分母3、4、12，考虑两侧同时乘以12进行化简。对于第二个方程，观察分母6、2、3，考虑等号两边同时乘以6进行化简。\\n\\n用这种方法的参考格式为且原方程组可化简为：\\n\\\\[ 8U + 9A = 17 \\\\]\\n即为一式，\\n\\\\[ U - 3V = 2 \\\\]\\n即为二式。\\n\\n通过观察我们可以使用加减消元法进行求解。将二式乘以三，再与一式相加消去未知数V，得到一个关于U的一元一次方程，得到U的值为1。再代入二式中求得V的值是1。\\n\\n所以这个方程组的解是：\\n\\\\[ U = 1, V = 1 \\\\]\\n\\n### 原题三：\\n根据题意列二元一次方程组：\\n\\\\[ X + Y - 2 = 0 \\\\]\\n\\\\[ 2X - 3Y + 5 = 0 \\\\]\\n\\n### 讲解三：\\n先将方程组调整为左边只含有未知数，右边只含有常数项的标准形式，然后再考虑使用加减消元法求解。这样优先求得Y的值为9/5，还可以继续求解未知数X的值。再代入X + 5Y中求得这个多项式的值为46/5。\\n\\n有的同学会说，对于这道题目可以不求X的值就能直接求得X + 5Y的值。想一想这种方法怎么做呢？\\n\\n想要不求未知数X的值能直接求得X + 5Y的值，就要先观察X + 5Y可以表示为X + Y再加上4Y，而刚刚我们已经整理得到了一式X + Y = 2。将一', name='Generator')]}}\n",
      "----\n",
      "{'Supervisor': {'next': 'FINISH'}}\n",
      "----\n"
     ]
    }
   ],
   "source": [
    "for s in graph.stream(\n",
    "    {\n",
    "        \"messages\": [\n",
    "            HumanMessage(content=data[25])\n",
    "        ]\n",
    "    }\n",
    "):\n",
    "    if \"__end__\" not in s:\n",
    "        print(s)\n",
    "        print(\"----\")"
   ]
  },
  {
   "cell_type": "code",
   "execution_count": null,
   "metadata": {},
   "outputs": [],
   "source": []
  }
 ],
 "metadata": {
  "kernelspec": {
   "display_name": "compute",
   "language": "python",
   "name": "python3"
  },
  "language_info": {
   "codemirror_mode": {
    "name": "ipython",
    "version": 3
   },
   "file_extension": ".py",
   "mimetype": "text/x-python",
   "name": "python",
   "nbconvert_exporter": "python",
   "pygments_lexer": "ipython3",
   "version": "3.10.14"
  }
 },
 "nbformat": 4,
 "nbformat_minor": 2
}
