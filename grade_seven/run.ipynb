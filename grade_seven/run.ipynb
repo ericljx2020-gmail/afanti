{
 "cells": [
  {
   "cell_type": "code",
   "execution_count": 1,
   "metadata": {},
   "outputs": [],
   "source": [
    "import re\n",
    "import json"
   ]
  },
  {
   "cell_type": "code",
   "execution_count": 2,
   "metadata": {},
   "outputs": [],
   "source": [
    "from templates import extract_template"
   ]
  },
  {
   "cell_type": "code",
   "execution_count": 3,
   "metadata": {},
   "outputs": [],
   "source": [
    "with open(\"grade_7x_subtitle.json\", 'r') as f:\n",
    "    subtitles = json.load(f)"
   ]
  },
  {
   "cell_type": "code",
   "execution_count": 4,
   "metadata": {},
   "outputs": [],
   "source": [
    "from langchain_core.messages import (\n",
    "    BaseMessage,\n",
    "    HumanMessage,\n",
    "    ToolMessage,\n",
    ")\n",
    "from langchain_core.prompts import ChatPromptTemplate, MessagesPlaceholder\n",
    "\n",
    "from langgraph.graph import END, StateGraph, START\n",
    "from langchain.agents import AgentExecutor, create_openai_tools_agent\n",
    "from langchain_openai import ChatOpenAI\n",
    "from typing import Annotated"
   ]
  },
  {
   "cell_type": "code",
   "execution_count": 5,
   "metadata": {},
   "outputs": [],
   "source": [
    "from templates import *\n",
    "from langchain_experimental.tools import PythonREPLTool\n",
    "from langchain.tools import BaseTool, StructuredTool, tool"
   ]
  },
  {
   "cell_type": "code",
   "execution_count": 17,
   "metadata": {},
   "outputs": [],
   "source": [
    "def create_agent(llm, tools, system_message: str):\n",
    "    \"\"\"Create an agent.\"\"\"\n",
    "    prompt = ChatPromptTemplate.from_messages(\n",
    "        [\n",
    "            (\n",
    "                \"system\",\n",
    "                \" {system_message}\",\n",
    "            ),\n",
    "            MessagesPlaceholder(variable_name=\"messages\"),\n",
    "        ]\n",
    "    )\n",
    "    prompt = prompt.partial(system_message=system_message)\n",
    "    # prompt = prompt.partial(tool_names=\", \".join([tool.name for tool in tools]))\n",
    "    return prompt | llm.bind_tools(tools)"
   ]
  },
  {
   "cell_type": "code",
   "execution_count": 7,
   "metadata": {},
   "outputs": [],
   "source": [
    "@tool\n",
    "def clean_up_response(\n",
    "    answer: Annotated[str, \"The problems and explanation pair for you to split them into separate pairs\"],\n",
    "):\n",
    "    \"\"\"Use this tool to extract problems-explanation pair from llm's response and store them in a list for clarity\"\"\"\n",
    "    problem_explanation = []\n",
    "    pattern = r\"###\\s*原题\\s*：?([\\s\\S]*?)###\\s*讲解\\s*：?([\\s\\S]*?)(?=###|$)\"\n",
    "    matches = re.findall(pattern, answer)\n",
    "\n",
    "    for i, match in enumerate(matches, 1):\n",
    "        original, explanation = match\n",
    "        problem_explanation.append([original, explanation])\n",
    "    return problem_explanation"
   ]
  },
  {
   "cell_type": "code",
   "execution_count": 8,
   "metadata": {},
   "outputs": [],
   "source": [
    "import operator\n",
    "from langchain_core.messages import AIMessage\n",
    "\n",
    "from langchain_openai import ChatOpenAI\n",
    "from typing import Annotated, Sequence, TypedDict\n",
    "\n",
    "\n",
    "class AgentState(TypedDict):\n",
    "    messages: Annotated[Sequence[BaseMessage], operator.add]\n",
    "    sender: str"
   ]
  },
  {
   "cell_type": "code",
   "execution_count": 9,
   "metadata": {},
   "outputs": [],
   "source": [
    "def agent_node(state, agent, name):\n",
    "    result = agent.invoke(state)\n",
    "\n",
    "    if isinstance(result, ToolMessage):\n",
    "        pass\n",
    "    else:\n",
    "        result =  AIMessage(**result.dict(exclude={\"type\", \"name\"}), name=name)\n",
    "    return {\n",
    "        'messages': [result],\n",
    "        'sender': name,\n",
    "    }"
   ]
  },
  {
   "cell_type": "code",
   "execution_count": 21,
   "metadata": {},
   "outputs": [],
   "source": [
    "import functools\n",
    "llm = ChatOpenAI(model=\"gpt-4o\")\n",
    "\n",
    "extract_template = extract_template.format(subtitle=subtitles[22])\n",
    "extractor_agent = create_agent(llm, [clean_up_response], system_message=extract_template)\n",
    "extractor_node = functools.partial(agent_node, agent=extractor_agent, name=\"Extractor\")\n",
    "\n",
    "validator_agent = create_agent(llm, [clean_up_response], system_message=\"请逐一检查Extractor提取出的题目是否完整，判断根据现有条件是否可能有解，输出所有有解的题目和解答，保留格式\")\n",
    "validator_node = functools.partial(agent_node, agent=validator_agent, name=\"Validator\")"
   ]
  },
  {
   "cell_type": "code",
   "execution_count": 19,
   "metadata": {},
   "outputs": [],
   "source": [
    "from langgraph.prebuilt import ToolNode\n",
    "\n",
    "tools = [clean_up_response]\n",
    "tool_node = ToolNode(tools)"
   ]
  },
  {
   "cell_type": "code",
   "execution_count": 20,
   "metadata": {},
   "outputs": [],
   "source": [
    "from typing import Literal\n",
    "\n",
    "def router(state) -> Literal[\"call_tool\", \"__end__\", \"continue\"]:\n",
    "    messages = state['messages']\n",
    "    last_message = messages[-1]\n",
    "    if last_message.tool_calls:\n",
    "        return \"call_tool\"\n",
    "    if \"FINISH\" in last_message.content:\n",
    "        return \"__end__\"\n",
    "    return \"continue\""
   ]
  },
  {
   "cell_type": "code",
   "execution_count": 23,
   "metadata": {},
   "outputs": [],
   "source": [
    "workflow = StateGraph(AgentState)\n",
    "\n",
    "workflow.add_node(\"Extractor\", extractor_node)\n",
    "workflow.add_node(\"Validator\", validator_node)\n",
    "# workflow.add_node(\"call_tool\", tool_node)\n",
    "\n",
    "workflow.add_edge(\"Extractor\", \"Validator\")\n",
    "workflow.add_edge(\"Validator\", END)\n",
    "workflow.add_edge(START, \"Extractor\")\n",
    "\n",
    "graph = workflow.compile()"
   ]
  },
  {
   "cell_type": "code",
   "execution_count": 24,
   "metadata": {},
   "outputs": [
    {
     "data": {
      "image/jpeg": "[encoded data removed]",
      "text/plain": [
       "<IPython.core.display.Image object>"
      ]
     },
     "metadata": {},
     "output_type": "display_data"
    }
   ],
   "source": [
    "from IPython.display import Image, display\n",
    "\n",
    "try:\n",
    "    display(Image(graph.get_graph(xray=True).draw_mermaid_png()))\n",
    "except Exception:\n",
    "    # This requires some extra dependencies and is optional\n",
    "    pass"
   ]
  },
  {
   "cell_type": "code",
   "execution_count": 25,
   "metadata": {},
   "outputs": [
    {
     "name": "stdout",
     "output_type": "stream",
     "text": [
      "{'Extractor': {'messages': [AIMessage(content='### 原题：\\n引力学校篮球联赛中每场比赛都要分出胜负每队胜一场得二分一场得一分某队在十场比赛中得到16分那么这个对胜负场应分别是多少呢。\\n\\n### 讲解：\\n依据引力的问题你能列一元一次方程吗？因为这个队伍参加十场比赛，所以设胜X场，则十减X场。又由于共得16分，所以2X加十减X等于16。那你能不能根据题目直接设两个未知数使列方程变得容易呢？设这个队胜X场，负Y场。根据题意可以得：\\n\\n\\\\[ X + Y = 10 \\\\]\\n\\\\[ 2X + Y = 16 \\\\]\\n\\n请大家观察这两个方程与一元一次方程有什么不同呢？它们有什么特点呢？每个方程都含有两个未知数，并含有未知数的项的次数都是一。像这样的方程称之为二元一次方程。类比一元一次方程的概念，我们得到二元一次方程的概念：含有两个未知数，并且含有未知数的项的次数都是一的方程叫做二元一次方程。特别注意含有未知数的项的次数都是一，即方程两边都是整式。\\n\\n同学们，利用二元一次方程的概念请大家完成例一。\\n\\n由于方程是关于XY的二元一次方程，所以XY是未知数。所以含有X或Y的项的次数应为一。因此M加二应该等于一，所以M等于一。N减一应该等于一，所以N应该等于二。\\n\\n同学们，利用二元一次方程的概念请大家完成下面一个巩固练习。\\n\\n因为同样是关于XY的二元一次方程，所以第一项MXY的次数为二，所以此项应该没有，所以M等于零。含Y的项的次数应该是一，所以N加五等于一，所以N等于四。', response_metadata={'token_usage': {'completion_tokens': 450, 'prompt_tokens': 2014, 'total_tokens': 2464}, 'model_name': 'gpt-4o-2024-05-13', 'system_fingerprint': 'fp_18cc0f1fa0', 'finish_reason': 'stop', 'logprobs': None}, name='Extractor', id='run-01354e5b-e9f7-4f46-a420-adcff76218c0-0', usage_metadata={'input_tokens': 2014, 'output_tokens': 450, 'total_tokens': 2464})], 'sender': 'Extractor'}}\n",
      "----\n",
      "{'Validator': {'messages': [AIMessage(content='', additional_kwargs={'tool_calls': [{'id': 'call_67HejozeT74JPA8mfaoKcTKW', 'function': {'arguments': '{\"answer\":\"引力学校篮球联赛中每场比赛都要分出胜负每队胜一场得二分一场得一分某队在十场比赛中得到16分那么这个对胜负场应分别是多少呢。\\\\n\\\\n依据引力的问题你能列一元一次方程吗？因为这个队伍参加十场比赛，所以设胜X场，则十减X场。又由于共得16分，所以2X加十减X等于16。那你能不能根据题目直接设两个未知数使列方程变得容易呢？设这个队胜X场，负Y场。根据题意可以得：\\\\n\\\\nX + Y = 10\\\\n2X + Y = 16\\\\n\\\\n请大家观察这两个方程与一元一次方程有什么不同呢？它们有什么特点呢？每个方程都含有两个未知数，并含有未知数的项的次数都是一。像这样的方程称之为二元一次方程。类比一元一次方程的概念，我们得到二元一次方程的概念：含有两个未知数，并且含有未知数的项的次数都是一的方程叫做二元一次方程。特别注意含有未知数的项的次数都是一，即方程两边都是整式。\\\\n\\\\n同学们，利用二元一次方程的概念请大家完成例一。\\\\n\\\\n由于方程是关于XY的二元一次方程，所以XY是未知数。所以含有X或Y的项的次数应为一。因此M加二应该等于一，所以M等于一。N减一应该等于一，所以N应该等于二。\\\\n\\\\n同学们，利用二元一次方程的概念请大家完成下面一个巩固练习。\\\\n\\\\n因为同样是关于XY的二元一次方程，所以第一项MXY的次数为二，所以此项应该没有，所以M等于零。含Y的项的次数应该是一，所以N加五等于一，所以N等于四。\"}', 'name': 'clean_up_response'}, 'type': 'function'}]}, response_metadata={'token_usage': {'completion_tokens': 463, 'prompt_tokens': 557, 'total_tokens': 1020}, 'model_name': 'gpt-4o-2024-05-13', 'system_fingerprint': 'fp_c4e5b6fa31', 'finish_reason': 'tool_calls', 'logprobs': None}, name='Validator', id='run-91c0c883-4e4e-4d48-b054-b185631a7169-0', tool_calls=[{'name': 'clean_up_response', 'args': {'answer': '引力学校篮球联赛中每场比赛都要分出胜负每队胜一场得二分一场得一分某队在十场比赛中得到16分那么这个对胜负场应分别是多少呢。\\n\\n依据引力的问题你能列一元一次方程吗？因为这个队伍参加十场比赛，所以设胜X场，则十减X场。又由于共得16分，所以2X加十减X等于16。那你能不能根据题目直接设两个未知数使列方程变得容易呢？设这个队胜X场，负Y场。根据题意可以得：\\n\\nX + Y = 10\\n2X + Y = 16\\n\\n请大家观察这两个方程与一元一次方程有什么不同呢？它们有什么特点呢？每个方程都含有两个未知数，并含有未知数的项的次数都是一。像这样的方程称之为二元一次方程。类比一元一次方程的概念，我们得到二元一次方程的概念：含有两个未知数，并且含有未知数的项的次数都是一的方程叫做二元一次方程。特别注意含有未知数的项的次数都是一，即方程两边都是整式。\\n\\n同学们，利用二元一次方程的概念请大家完成例一。\\n\\n由于方程是关于XY的二元一次方程，所以XY是未知数。所以含有X或Y的项的次数应为一。因此M加二应该等于一，所以M等于一。N减一应该等于一，所以N应该等于二。\\n\\n同学们，利用二元一次方程的概念请大家完成下面一个巩固练习。\\n\\n因为同样是关于XY的二元一次方程，所以第一项MXY的次数为二，所以此项应该没有，所以M等于零。含Y的项的次数应该是一，所以N加五等于一，所以N等于四。'}, 'id': 'call_67HejozeT74JPA8mfaoKcTKW'}], usage_metadata={'input_tokens': 557, 'output_tokens': 463, 'total_tokens': 1020})], 'sender': 'Validator'}}\n",
      "----\n"
     ]
    }
   ],
   "source": [
    "events = graph.stream(\n",
    "    {\n",
    "        \"messages\": [\n",
    "            HumanMessage(\n",
    "                content=\"请提取\"\n",
    "            )\n",
    "        ],\n",
    "    },\n",
    "    # Maximum number of steps to take in the graph\n",
    "    {\"recursion_limit\": 150},\n",
    ")\n",
    "for s in events:\n",
    "    print(s)\n",
    "    print(\"----\")"
   ]
  },
  {
   "cell_type": "code",
   "execution_count": null,
   "metadata": {},
   "outputs": [],
   "source": []
  }
 ],
 "metadata": {
  "kernelspec": {
   "display_name": "compute",
   "language": "python",
   "name": "python3"
  },
  "language_info": {
   "codemirror_mode": {
    "name": "ipython",
    "version": 3
   },
   "file_extension": ".py",
   "mimetype": "text/x-python",
   "name": "python",
   "nbconvert_exporter": "python",
   "pygments_lexer": "ipython3",
   "version": "3.10.14"
  }
 },
 "nbformat": 4,
 "nbformat_minor": 2
}
