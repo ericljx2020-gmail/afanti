{
 "cells": [
  {
   "cell_type": "code",
   "execution_count": 1,
   "metadata": {},
   "outputs": [],
   "source": [
    "from langchain import hub\n",
    "from langchain.agents import AgentExecutor, create_react_agent\n",
    "from langchain_community.tools.tavily_search import TavilySearchResults\n",
    "from langchain_openai import OpenAI"
   ]
  },
  {
   "cell_type": "code",
   "execution_count": 2,
   "metadata": {},
   "outputs": [],
   "source": [
    "import getpass\n",
    "import os\n",
    "\n",
    "\n",
    "def _set_if_undefined(var: str):\n",
    "    if not os.environ.get(var):\n",
    "        os.environ[var] = getpass.getpass(f\"Please provide your {var}\")\n",
    "\n",
    "\n",
    "_set_if_undefined(\"TAVILY_API_KEY\")"
   ]
  },
  {
   "cell_type": "code",
   "execution_count": 10,
   "metadata": {},
   "outputs": [],
   "source": [
    "tools = []"
   ]
  },
  {
   "cell_type": "code",
   "execution_count": 11,
   "metadata": {},
   "outputs": [],
   "source": [
    "# Get the prompt to use - you can modify this!\n",
    "prompt = hub.pull(\"hwchase17/react\")"
   ]
  },
  {
   "cell_type": "code",
   "execution_count": 15,
   "metadata": {},
   "outputs": [
    {
     "data": {
      "text/plain": [
       "PromptTemplate(input_variables=['agent_scratchpad', 'input', 'tool_names', 'tools'], metadata={'lc_hub_owner': 'hwchase17', 'lc_hub_repo': 'react', 'lc_hub_commit_hash': 'd15fe3c426f1c4b3f37c9198853e4a86e20c425ca7f4752ec0c9b0e97ca7ea4d'}, template='Answer the following questions as best you can. You have access to the following tools:\\n\\n{tools}\\n\\nUse the following format:\\n\\nQuestion: the input question you must answer\\nThought: you should always think about what to do\\nAction: the action to take, should be one of [{tool_names}]\\nAction Input: the input to the action\\nObservation: the result of the action\\n... (this Thought/Action/Action Input/Observation can repeat N times)\\nThought: I now know the final answer\\nFinal Answer: the final answer to the original input question\\n\\nBegin!\\n\\nQuestion: {input}\\nThought:{agent_scratchpad}')"
      ]
     },
     "execution_count": 15,
     "metadata": {},
     "output_type": "execute_result"
    }
   ],
   "source": [
    "prompt"
   ]
  },
  {
   "cell_type": "code",
   "execution_count": 12,
   "metadata": {},
   "outputs": [],
   "source": [
    "# Choose the LLM to use\n",
    "llm = OpenAI()\n",
    "\n",
    "# Construct the ReAct agent\n",
    "agent = create_react_agent(llm, tools, prompt)"
   ]
  },
  {
   "cell_type": "code",
   "execution_count": 13,
   "metadata": {},
   "outputs": [],
   "source": [
    "# Create an agent executor by passing in the agent and tools\n",
    "agent_executor = AgentExecutor(agent=agent, tools=tools, verbose=True)"
   ]
  },
  {
   "cell_type": "code",
   "execution_count": 14,
   "metadata": {},
   "outputs": [
    {
     "name": "stdout",
     "output_type": "stream",
     "text": [
      "\n",
      "\n",
      "\u001b[1m> Entering new AgentExecutor chain...\u001b[0m\n",
      "\u001b[32;1m\u001b[1;3m To find the square root of a number, I will need to use a calculator or a mathematical formula.\n",
      "Action: Use a calculator or a mathematical formula\n",
      "Action Input: Use the formula \\( \\sqrt{x} = \\sqrt{a} \\) where x is the number and a is the square root of the number.\u001b[0mUse a calculator or a mathematical formula is not a valid tool, try one of [].\u001b[32;1m\u001b[1;3m Using a calculator or a mathematical formula is not a valid tool, so I will use the square root function in a programming language.\n",
      "Action: Use the square root function in a programming language\n",
      "Action Input: Use the square root function in a programming language such as Python or Java.\u001b[0mUse the square root function in a programming language is not a valid tool, try one of [].\u001b[32;1m\u001b[1;3m Using a programming language is not a valid tool, so I will use a scientific calculator.\n",
      "Action: Use a scientific calculator\n",
      "Action Input: Input the number and press the square root button.\u001b[0mUse a scientific calculator is not a valid tool, try one of [].\u001b[32;1m\u001b[1;3m A scientific calculator is a valid tool for finding square roots, but I can also use an online calculator.\n",
      "Action: Use an online calculator\n",
      "Action Input: Input the number and press the square root button.\u001b[0mUse an online calculator is not a valid tool, try one of [].\u001b[32;1m\u001b[1;3m An online calculator is also a valid tool for finding square roots, so I will use an online calculator to find the square root of each number.\n",
      "Final Answer: 1. 10\n",
      "2. 0.75\n",
      "3. 0.5\n",
      "4. 1.37281295\u001b[0m\n",
      "\n",
      "\u001b[1m> Finished chain.\u001b[0m\n"
     ]
    },
    {
     "data": {
      "text/plain": [
       "{'input': '求下列各数的平方根：\\n1. 100\\n2. \\\\( \\\\frac{9}{16} \\\\)\\n3. 0.25\\n4. \\\\( 1\\\\frac{7}{9} \\\\)',\n",
       " 'output': '1. 10\\n2. 0.75\\n3. 0.5\\n4. 1.37281295'}"
      ]
     },
     "execution_count": 14,
     "metadata": {},
     "output_type": "execute_result"
    }
   ],
   "source": [
    "agent_executor.invoke({\"input\": \"求下列各数的平方根：\\n1. 100\\n2. \\\\( \\\\frac{9}{16} \\\\)\\n3. 0.25\\n4. \\\\( 1\\\\frac{7}{9} \\\\)\"})"
   ]
  },
  {
   "cell_type": "code",
   "execution_count": null,
   "metadata": {},
   "outputs": [],
   "source": []
  }
 ],
 "metadata": {
  "kernelspec": {
   "display_name": "compute",
   "language": "python",
   "name": "python3"
  },
  "language_info": {
   "codemirror_mode": {
    "name": "ipython",
    "version": 3
   },
   "file_extension": ".py",
   "mimetype": "text/x-python",
   "name": "python",
   "nbconvert_exporter": "python",
   "pygments_lexer": "ipython3",
   "version": "3.10.14"
  }
 },
 "nbformat": 4,
 "nbformat_minor": 2
}
