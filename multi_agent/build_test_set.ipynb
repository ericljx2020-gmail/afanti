{
 "cells": [
  {
   "cell_type": "code",
   "execution_count": null,
   "metadata": {},
   "outputs": [],
   "source": [
    "from subtitle_process import fetch_subtitle\n",
    "import getpass\n",
    "import os\n",
    "import json\n",
    "import re\n",
    "from templates import *\n",
    "from functions import inference\n",
    "\n",
    "from langchain.prompts import PromptTemplate"
   ]
  },
  {
   "cell_type": "code",
   "execution_count": null,
   "metadata": {},
   "outputs": [],
   "source": [
    "# 设置临时环境变量\n",
    "def _set_env(var: str):\n",
    "    if not os.environ.get(var):\n",
    "        os.environ[var] = getpass.getpass(f\"{var}: \")\n",
    "\n",
    "\n",
    "_set_env(\"bilibili_ssid\")"
   ]
  },
  {
   "cell_type": "code",
   "execution_count": null,
   "metadata": {},
   "outputs": [],
   "source": [
    "with open(\"url.json\", 'r') as file:\n",
    "    data = json.load(file)\n",
    "\n",
    "with open(\"subtitle.json\", 'r') as f:\n",
    "    subtitles = json.load(f)\n",
    "\n",
    "if len(subtitles) == 0:\n",
    "    subtitles = []\n",
    "    for bv in data:\n",
    "        subtitles.append(fetch_subtitle(bv))\n",
    "# subtitles"
   ]
  },
  {
   "cell_type": "code",
   "execution_count": null,
   "metadata": {},
   "outputs": [],
   "source": [
    "def extract_question_explanations(responses):\n",
    "    questions_and_explanations = []\n",
    "    for response in responses:\n",
    "        pattern = re.compile(r\"### 原题：\\n(.+?)\\n\\n### 讲解：\\n(.+?)\\n\\n### 相似题一：\\n(.+?)\\n\\n### 相似题一讲解：\\n(.+?)(?:\\n\\n|$)\", re.DOTALL)\n",
    "        matches = pattern.findall(response)\n",
    "\n",
    "        for match in matches:\n",
    "            questions_and_explanations.append({\n",
    "                \"original_question\": match[0].strip(),\n",
    "                \"original_explanation\": match[1].strip(),\n",
    "                \"similar_question_1\": match[2].strip(),\n",
    "                \"similar_explanation_1\": match[3].strip(),\n",
    "            })\n",
    "\n",
    "    with open('problem_set.json', 'w', encoding='utf-8') as f:\n",
    "        json.dump(questions_and_explanations, f, ensure_ascii=False, indent=4)\n",
    "\n",
    "\n",
    "async def subtitle2raw(subtitle):\n",
    "    # 从subtitle里面获取题目，解析，相似题目，相似题目解析\n",
    "    \n",
    "    raw_output = await inference({\"subtitle\": subtitle}, template_sub_1_similar)\n",
    "    return raw_output\n",
    "\n",
    "    "
   ]
  },
  {
   "cell_type": "code",
   "execution_count": null,
   "metadata": {},
   "outputs": [],
   "source": [
    "problem_set = []\n",
    "for subtitle in subtitles:\n",
    "    ps = await subtitle2raw(subtitle)\n",
    "    problem_set.append(ps)"
   ]
  },
  {
   "cell_type": "code",
   "execution_count": null,
   "metadata": {},
   "outputs": [],
   "source": [
    "extract_question_explanations(problem_set)"
   ]
  },
  {
   "cell_type": "code",
   "execution_count": null,
   "metadata": {},
   "outputs": [],
   "source": []
  }
 ],
 "metadata": {
  "kernelspec": {
   "display_name": "compute",
   "language": "python",
   "name": "python3"
  },
  "language_info": {
   "codemirror_mode": {
    "name": "ipython",
    "version": 3
   },
   "file_extension": ".py",
   "mimetype": "text/x-python",
   "name": "python",
   "nbconvert_exporter": "python",
   "pygments_lexer": "ipython3",
   "version": "3.10.14"
  }
 },
 "nbformat": 4,
 "nbformat_minor": 2
}
