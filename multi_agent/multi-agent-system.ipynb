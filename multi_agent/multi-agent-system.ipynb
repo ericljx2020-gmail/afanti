{
 "cells": [
  {
   "cell_type": "code",
   "execution_count": 2,
   "metadata": {},
   "outputs": [],
   "source": [
    "import getpass\n",
    "import os\n",
    "\n",
    "\n",
    "def _set_if_undefined(var: str):\n",
    "    if not os.environ.get(var):\n",
    "        os.environ[var] = getpass.getpass(f\"Please provide your {var}\")\n",
    "\n",
    "\n",
    "_set_if_undefined(\"OPENAI_API_KEY\")"
   ]
  },
  {
   "cell_type": "code",
   "execution_count": 3,
   "metadata": {},
   "outputs": [],
   "source": [
    "from langchain_core.messages import (\n",
    "    BaseMessage,\n",
    "    HumanMessage,\n",
    "    ToolMessage,\n",
    ")\n",
    "from langchain_core.prompts import ChatPromptTemplate, MessagesPlaceholder\n",
    "\n",
    "from langgraph.graph import END, StateGraph, START\n",
    "from langchain.agents import AgentExecutor, create_openai_tools_agent\n",
    "from langchain_openai import ChatOpenAI\n",
    "from typing import Annotated"
   ]
  },
  {
   "cell_type": "code",
   "execution_count": 4,
   "metadata": {},
   "outputs": [],
   "source": [
    "from templates import *\n",
    "from langchain_experimental.tools import PythonREPLTool"
   ]
  },
  {
   "cell_type": "code",
   "execution_count": 5,
   "metadata": {},
   "outputs": [],
   "source": [
    "python_repl_tool = PythonREPLTool()"
   ]
  },
  {
   "cell_type": "code",
   "execution_count": 6,
   "metadata": {},
   "outputs": [],
   "source": [
    "def create_agent(llm: ChatOpenAI, tools: list, system_prompt: str):\n",
    "    \"\"\"Creating an Agent\"\"\"\n",
    "    prompt = ChatPromptTemplate.from_messages(\n",
    "        [\n",
    "            (\n",
    "                \"system\",\n",
    "                system_prompt,\n",
    "            ),\n",
    "            MessagesPlaceholder(variable_name='messages'),\n",
    "            MessagesPlaceholder(variable_name='agent_scratchpad')\n",
    "        ]\n",
    "    )\n",
    "    agent = create_openai_tools_agent(llm, tools, prompt)\n",
    "    executor = AgentExecutor(agent=agent, tools=tools)\n",
    "    return executor"
   ]
  },
  {
   "cell_type": "code",
   "execution_count": 7,
   "metadata": {},
   "outputs": [],
   "source": [
    "def agent_node(state, agent, name, log):\n",
    "    result = agent.invoke(state)\n",
    "    log[name] = result[\"output\"]\n",
    "    return {\"messages\": [HumanMessage(content=result[\"output\"], name=name)]}"
   ]
  },
  {
   "cell_type": "markdown",
   "metadata": {},
   "source": [
    "### Create Agent Supervisor\n",
    "\n",
    "It will use function calling to choose the next worker node OR finish processing."
   ]
  },
  {
   "cell_type": "code",
   "execution_count": 8,
   "metadata": {},
   "outputs": [],
   "source": [
    "from langchain_core.output_parsers.openai_functions import JsonOutputFunctionsParser\n",
    "\n",
    "members = [\"Noter\", \"Explainer\", \"Validator\"]\n",
    "system_prompt = (\n",
    "    \"你是一名监督员，负责管理以下成员之间的对话：{members}。\"\n",
    "    \"根据以下用户请求，指定下一个需要行动的成员。每个成员将执行一个任务,\"\n",
    "    \"你的任务是检查Noter的解题板书中用到的知识点对于一个一年级学生来说是否超纲\"\n",
    "    \"如果超纲应该将修改建议返回给Noter让其根据修改建议重新生成不包含超纲内容的解题板书\"\n",
    "    \"当Noter返回的内容符合标准时，请将Noter的板书传递给Explainer，并让其学习相似题目中\"\n",
    "    \"老师的讲解风格以及讲题思路，生成题目解析\"\n",
    "    \"每一步反馈他们的结果和状态。任务完成后，请回复“FINISH”。\"\n",
    ")\n",
    "\n",
    "options = [\"FINISH\"] + members\n",
    "\n",
    "function_def = {\n",
    "    \"name\" : \"route\",\n",
    "    \"description\": \"选择下一步应该由谁来执行\",\n",
    "    \"parameters\": {\n",
    "        \"title\": \"routeSchema\",\n",
    "        \"type\": \"object\",\n",
    "        \"properties\": {\n",
    "            \"next\": {\n",
    "                \"title\": \"Next\",\n",
    "                \"anyOf\": [\n",
    "                    {\"enum\": options},\n",
    "                ],\n",
    "            }\n",
    "        },\n",
    "        \"required\": [\"next\"],\n",
    "    }\n",
    "}\n",
    "\n",
    "prompt = ChatPromptTemplate.from_messages(\n",
    "    [\n",
    "        (\"system\", system_prompt),\n",
    "        MessagesPlaceholder(variable_name=\"messages\"),\n",
    "        (\n",
    "            \"system\",\n",
    "            \"根据以上内容，下一步应该轮到谁了？\"\n",
    "            \"或者我们是否已经得到不错的讲解，可以“完成”了呢？\"\n",
    "            \"请从以下选项中选一个：{options}\",\n",
    "        ),\n",
    "    ]\n",
    ").partial(options=str(options), members=\", \".join(members))\n",
    "\n",
    "llm = ChatOpenAI(model=\"gpt-4o\", max_tokens=1000)\n",
    "\n",
    "supervisor_chain = (\n",
    "    prompt\n",
    "    | llm.bind_functions(functions=[function_def], function_call=\"route\")\n",
    "    | JsonOutputFunctionsParser()\n",
    ")"
   ]
  },
  {
   "cell_type": "code",
   "execution_count": 13,
   "metadata": {},
   "outputs": [],
   "source": [
    "validate_prompt = \"你的任务是检查Noter的解题板书中用到的知识点对于一个小学一年级学生来说是否超纲,如果超纲应该将修改建议返回给Noter让其根据修改建议重新生成不包含超纲内容的解题板书\""
   ]
  },
  {
   "cell_type": "code",
   "execution_count": 14,
   "metadata": {},
   "outputs": [],
   "source": [
    "import functools\n",
    "import operator\n",
    "from typing import Sequence, TypedDict\n",
    "\n",
    "from langgraph.graph import END, StateGraph, START\n",
    "\n",
    "class AgentState(TypedDict):\n",
    "    messages: Annotated[Sequence[BaseMessage], operator.add]\n",
    "    next: str\n",
    "log = {}\n",
    "\n",
    "noter_agent = create_agent(llm, [python_repl_tool], template_note)\n",
    "noter_node = functools.partial(agent_node, agent=noter_agent, name=\"Noter\", log=log)\n",
    "\n",
    "explainer_agent = create_agent(llm, [python_repl_tool], template_expl)\n",
    "explainer_node = functools.partial(agent_node, agent=explainer_agent, name=\"Explainer\", log=log)\n",
    "\n",
    "validator_agent = create_agent(llm, [python_repl_tool], validate_prompt)\n",
    "validator_node = functools.partial(agent_node, agent=validator_agent, name=\"Validator\", log=log)\n",
    "\n",
    "\n",
    "def supervisor_node(state, log):\n",
    "    result = supervisor_chain.invoke(state)\n",
    "    log[\"Supervisor\"] = result\n",
    "    return result\n",
    "\n",
    "workflow = StateGraph(AgentState)\n",
    "workflow.add_node(\"Noter\", noter_node)\n",
    "workflow.add_node(\"Explainer\", explainer_node)\n",
    "workflow.add_node(\"Validator\", validator_node)\n",
    "workflow.add_node(\"Supervisor\", functools.partial(supervisor_node, log=log))"
   ]
  },
  {
   "cell_type": "code",
   "execution_count": 15,
   "metadata": {},
   "outputs": [],
   "source": [
    "for member in members:\n",
    "    workflow.add_edge(member, \"Supervisor\")\n",
    "\n",
    "conditional_map = {k:k for k in members}\n",
    "conditional_map['FINISH'] = END\n",
    "workflow.add_conditional_edges(\"Supervisor\", lambda x: x[\"next\"], conditional_map)\n",
    "workflow.add_edge(START, \"Supervisor\")\n",
    "\n",
    "graph = workflow.compile()"
   ]
  },
  {
   "cell_type": "code",
   "execution_count": 33,
   "metadata": {},
   "outputs": [
    {
     "data": {
      "image/jpeg": "[encoded data removed]",
      "text/plain": [
       "<IPython.core.display.Image object>"
      ]
     },
     "metadata": {},
     "output_type": "display_data"
    }
   ],
   "source": [
    "from IPython.display import Image, display\n",
    "\n",
    "try:\n",
    "    display(Image(graph.get_graph(xray=True).draw_mermaid_png()))\n",
    "except Exception:\n",
    "    # This requires some extra dependencies and is optional\n",
    "    pass"
   ]
  },
  {
   "cell_type": "code",
   "execution_count": 16,
   "metadata": {},
   "outputs": [
    {
     "name": "stdout",
     "output_type": "stream",
     "text": [
      "{'Supervisor': {'next': 'Noter'}}\n",
      "----\n",
      "{'Noter': {'messages': [HumanMessage(content='知识点讲解:本题考查的知识点是方程的应用，解题关键点是设未知数并根据题意列出方程进行求解。\\n\\n###板书一:\\n设第一届冬奥会参加人数为$x$人\\n\\n依题意得：\\n$2892 = 12x - 204$\\n\\n###板书二:\\n解方程：\\n$12x - 204 = 2892$\\n$12x = 2892 + 204$\\n$12x = 3096$\\n$x = \\\\frac{3096}{12}$\\n$x = 258$\\n\\n故答案是258人。', name='Noter')]}}\n",
      "----\n",
      "{'Supervisor': {'next': 'Validator'}}\n",
      "----\n",
      "{'Validator': {'messages': [HumanMessage(content='这个解题过程涉及到设未知数和解方程的知识点，这对于小学一年级的学生来说是超纲的。小学一年级的学生通常还没有学习方程的概念。我们可以使用更简单的加减法和乘除法来解决这个问题。\\n\\n### 修改建议:\\n用更简单的加减法和乘除法来解决问题，避免使用方程。\\n\\n### 修改后的板书:\\n1. 先算出2892人比第一届冬奥会的12倍少了多少人。\\n   \\\\[\\n   2892 + 204 = 3096\\n   \\\\]\\n\\n2. 然后求第一届冬奥会的参加人数。\\n   \\\\[\\n   \\\\frac{3096}{12} = 258\\n   \\\\]\\n\\n所以，第一届冬奥会参加的人数是258人。', name='Validator')]}}\n",
      "----\n",
      "{'Supervisor': {'next': 'Noter'}}\n",
      "----\n",
      "{'Noter': {'messages': [HumanMessage(content='知识点讲解:本题考查的知识点是加减法和乘除法的应用，解题关键点是根据题意进行加法与除法运算来求解。\\n\\n###板书一:\\n先算出2892人比第一届冬奥会的12倍少了多少人：\\n$2892 + 204 = 3096$\\n\\n###板书二:\\n然后求第一届冬奥会的参加人数：\\n$\\\\frac{3096}{12} = 258$\\n\\n故答案是258人。', name='Noter')]}}\n",
      "----\n",
      "{'Supervisor': {'next': 'Explainer'}}\n",
      "----\n",
      "{'Explainer': {'messages': [HumanMessage(content='###讲解一:\\n首先，我们要找到2892人比第一届冬奥会的12倍少了多少人。题目中说少了204人，所以我们可以将2892人加上204人，这样就得到了第一届冬奥会的12倍人数。\\n\\\\[\\n2892 + 204 = 3096\\n\\\\]\\n所以，第一届冬奥会的12倍人数是3096人。\\n\\n###讲解二:\\n接下来，我们要找到第一届冬奥会的实际人数。因为3096人是第一届冬奥会的12倍，所以我们用3096除以12就能得到第一届冬奥会的参加人数。\\n\\\\[\\n\\\\frac{3096}{12} = 258\\n\\\\]\\n所以，第一届冬奥会参加的人数是258人。', name='Explainer')]}}\n",
      "----\n",
      "{'Supervisor': {'next': 'Validator'}}\n",
      "----\n",
      "{'Validator': {'messages': [HumanMessage(content='这个解题过程将复杂的方程简化为加减法和除法，非常适合小学一年级的学生理解和掌握。以下是完整的解题过程：\\n\\n### 知识点讲解:\\n本题考查的知识点是加减法和乘除法的应用，解题关键点是根据题意进行加法与除法运算来求解。\\n\\n### 板书一:\\n1. 先算出2892人比第一届冬奥会的12倍少了多少人：\\n   \\\\[\\n   2892 + 204 = 3096\\n   \\\\]\\n   解释：因为2892人比第一届冬奥会的12倍少了204人，所以我们加上204就得到了第一届冬奥会的12倍人数。\\n\\n### 板书二:\\n2. 然后求第一届冬奥会的参加人数：\\n   \\\\[\\n   \\\\frac{3096}{12} = 258\\n   \\\\]\\n   解释：因为3096人是第一届冬奥会的12倍，所以用3096除以12就得到第一届冬奥会的实际参加人数。\\n\\n### 结论:\\n故答案是258人。', name='Validator')]}}\n",
      "----\n",
      "{'Supervisor': {'next': 'FINISH'}}\n",
      "----\n"
     ]
    }
   ],
   "source": [
    "for s in graph.stream(\n",
    "    {\n",
    "        \"messages\": [\n",
    "            HumanMessage(content=\"2022年参加北京冬奥会的总人数为2892人，比第一届夏蒙尼冬奥会的12倍少204人，参加第一届冬奥会人数是多少人？\")\n",
    "        ]\n",
    "    }\n",
    "):\n",
    "    if \"__end__\" not in s:\n",
    "        print(s)\n",
    "        print(\"----\")"
   ]
  },
  {
   "cell_type": "code",
   "execution_count": 34,
   "metadata": {},
   "outputs": [
    {
     "name": "stdout",
     "output_type": "stream",
     "text": [
      "<bound method Runnable.astream_log of CompiledStateGraph(nodes={'__start__': PregelNode(config={'tags': ['langsmith:hidden']}, channels=['__start__'], triggers=['__start__'], writers=[ChannelWrite<messages,next>(recurse=True, writes=[ChannelWriteEntry(channel='messages', value=<object object at 0x103e2e080>, skip_none=False, mapper=_get_state_key(recurse=False)), ChannelWriteEntry(channel='next', value=<object object at 0x103e2e080>, skip_none=False, mapper=_get_state_key(recurse=False))], require_at_least_one_of=['messages', 'next']), ChannelWrite<start:Supervisor>(recurse=True, writes=[ChannelWriteEntry(channel='start:Supervisor', value='__start__', skip_none=False, mapper=None)], require_at_least_one_of=None)]), 'Noter': PregelNode(config={'tags': []}, channels={'messages': 'messages', 'next': 'next'}, triggers=['branch:Supervisor:condition:Noter'], mapper=functools.partial(<function _coerce_state at 0x10bee2e60>, <class '__main__.AgentState'>), writers=[ChannelWrite<Noter,messages,next>(recurse=True, writes=[ChannelWriteEntry(channel='Noter', value='Noter', skip_none=False, mapper=None), ChannelWriteEntry(channel='messages', value=<object object at 0x103e2e080>, skip_none=False, mapper=_get_state_key(recurse=False)), ChannelWriteEntry(channel='next', value=<object object at 0x103e2e080>, skip_none=False, mapper=_get_state_key(recurse=False))], require_at_least_one_of=['messages', 'next'])]), 'Explainer': PregelNode(config={'tags': []}, channels={'messages': 'messages', 'next': 'next'}, triggers=['branch:Supervisor:condition:Explainer'], mapper=functools.partial(<function _coerce_state at 0x10bee2e60>, <class '__main__.AgentState'>), writers=[ChannelWrite<Explainer,messages,next>(recurse=True, writes=[ChannelWriteEntry(channel='Explainer', value='Explainer', skip_none=False, mapper=None), ChannelWriteEntry(channel='messages', value=<object object at 0x103e2e080>, skip_none=False, mapper=_get_state_key(recurse=False)), ChannelWriteEntry(channel='next', value=<object object at 0x103e2e080>, skip_none=False, mapper=_get_state_key(recurse=False))], require_at_least_one_of=['messages', 'next'])]), 'Supervisor': PregelNode(config={'tags': []}, channels={'messages': 'messages', 'next': 'next'}, triggers=['start:Supervisor', 'Explainer', 'Noter'], mapper=functools.partial(<function _coerce_state at 0x10bee2e60>, <class '__main__.AgentState'>), writers=[ChannelWrite<Supervisor,messages,next>(recurse=True, writes=[ChannelWriteEntry(channel='Supervisor', value='Supervisor', skip_none=False, mapper=None), ChannelWriteEntry(channel='messages', value=<object object at 0x103e2e080>, skip_none=False, mapper=_get_state_key(recurse=False)), ChannelWriteEntry(channel='next', value=<object object at 0x103e2e080>, skip_none=False, mapper=_get_state_key(recurse=False))], require_at_least_one_of=['messages', 'next']), _route(recurse=True, _is_channel_writer=True)])}, channels={'messages': <langgraph.channels.binop.BinaryOperatorAggregate object at 0x120ad9390>, 'next': <langgraph.channels.last_value.LastValue object at 0x120ad9c30>, '__start__': <langgraph.channels.ephemeral_value.EphemeralValue object at 0x1410e53c0>, 'Noter': <langgraph.channels.ephemeral_value.EphemeralValue object at 0x1410bb310>, 'Explainer': <langgraph.channels.ephemeral_value.EphemeralValue object at 0x1410bb0a0>, 'Supervisor': <langgraph.channels.ephemeral_value.EphemeralValue object at 0x1410f6920>, 'start:Supervisor': <langgraph.channels.ephemeral_value.EphemeralValue object at 0x1410b95d0>, 'branch:Supervisor:condition:Noter': <langgraph.channels.ephemeral_value.EphemeralValue object at 0x111ecc070>, 'branch:Supervisor:condition:Explainer': <langgraph.channels.ephemeral_value.EphemeralValue object at 0x120ad91e0>}, auto_validate=False, stream_mode='updates', output_channels=['messages', 'next'], stream_channels=['messages', 'next'], input_channels='__start__', builder=<langgraph.graph.state.StateGraph object at 0x146edfd60>)>\n"
     ]
    }
   ],
   "source": [
    "print(graph.astream_log)"
   ]
  },
  {
   "cell_type": "code",
   "execution_count": 19,
   "metadata": {},
   "outputs": [
    {
     "name": "stdout",
     "output_type": "stream",
     "text": [
      "记录日志:\n",
      "Supervisor: {'next': 'FINISH'}\n",
      "Noter: 知识点讲解:本题考查的知识点是方程的解法，解题关键点是设未知数并列方程求解。\n",
      "\n",
      "###板书一:\n",
      "设第一届冬奥会的人数为$x$人\n",
      "\n",
      "依题意得:\n",
      "2892 = 12x - 204\n",
      "\n",
      "###板书二:\n",
      "12x = 2892 + 204\n",
      "12x = 3096\n",
      "x = 3096 ÷ 12\n",
      "x = 258\n",
      "\n",
      "故答案是258人。\n",
      "Explainer: ###讲解一:\n",
      "首先，我们需要设第一届冬奥会的人数为 $x$ 人。根据题意，2022年参加北京冬奥会的总人数是2892人，这个数字比第一届冬奥会的人数的12倍少204人。我们可以将这个关系用一个方程表示出来：\n",
      "\n",
      "\\[ 2892 = 12x - 204 \\]\n",
      "\n",
      "这是我们需要解的方程。\n",
      "\n",
      "###讲解二:\n",
      "接下来我们要解这个方程。首先我们将方程的右边增加204，以消去常数项，得到：\n",
      "\n",
      "\\[ 12x = 2892 + 204 \\]\n",
      "\\[ 12x = 3096 \\]\n",
      "\n",
      "然后，我们将方程的两边同时除以12，以解出 $x$：\n",
      "\n",
      "\\[ x = \\frac{3096}{12} \\]\n",
      "\\[ x = 258 \\]\n",
      "\n",
      "所以，参加第一届冬奥会的人数是258人。\n"
     ]
    }
   ],
   "source": [
    "print(\"记录日志:\")\n",
    "for agent, output in log.items():\n",
    "    print(f\"{agent}: {output}\")"
   ]
  },
  {
   "cell_type": "code",
   "execution_count": null,
   "metadata": {},
   "outputs": [],
   "source": []
  }
 ],
 "metadata": {
  "kernelspec": {
   "display_name": "compute",
   "language": "python",
   "name": "python3"
  },
  "language_info": {
   "codemirror_mode": {
    "name": "ipython",
    "version": 3
   },
   "file_extension": ".py",
   "mimetype": "text/x-python",
   "name": "python",
   "nbconvert_exporter": "python",
   "pygments_lexer": "ipython3",
   "version": "3.10.14"
  }
 },
 "nbformat": 4,
 "nbformat_minor": 2
}
